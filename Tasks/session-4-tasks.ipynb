{
 "cells": [
  {
   "cell_type": "markdown",
   "id": "3b423dc4-d0a3-46ef-a8e1-97a2a93f7a2a",
   "metadata": {},
   "source": [
    "##### Question 1"
   ]
  },
  {
   "cell_type": "code",
   "execution_count": 1,
   "id": "0f23c87d-55da-4f88-9341-c6dc764f5d79",
   "metadata": {},
   "outputs": [
    {
     "name": "stdout",
     "output_type": "stream",
     "text": [
      "[['M', 'y'], ['na', 'me'], ['i', 's'], ['Kh', 'an']]\n"
     ]
    }
   ],
   "source": [
    "list1 = [\"M\", \"na\", \"i\", \"Kh\"]\n",
    "list2 = [\"y\", \"me\", \"s\", \"an\"]\n",
    "\n",
    "combined_list = []\n",
    "\n",
    "max_length = max(len(list1), len(list2))\n",
    "for i in range(max_length):\n",
    "    item1 = list1[i] if i < len(list1) else None\n",
    "    item2 = list2[i] if i < len(list2) else None\n",
    "    \n",
    "    combined_list.append([item1, item2])\n",
    "\n",
    "print(combined_list)"
   ]
  },
  {
   "cell_type": "markdown",
   "id": "6e6fdb17-1686-4284-b734-7ab46d5c9522",
   "metadata": {},
   "source": [
    "##### Question 2"
   ]
  },
  {
   "cell_type": "code",
   "execution_count": 3,
   "id": "1ef27eed-d3e9-44b1-a53a-faaf288a1fe6",
   "metadata": {},
   "outputs": [
    {
     "name": "stdout",
     "output_type": "stream",
     "text": [
      "[10, 20, [300, 400, [5000, 6000, 7000], 500], 30, 40]\n"
     ]
    }
   ],
   "source": [
    "list1 = [10, 20, [300, 400, [5000, 6000], 500], 30, 40]\n",
    "\n",
    "inner_list = list1[2][2]\n",
    "\n",
    "\n",
    "index_6000 = inner_list.index(6000)\n",
    "inner_list.insert(index_6000 + 1, 7000)\n",
    "\n",
    "print(list1)\n"
   ]
  },
  {
   "cell_type": "markdown",
   "id": "65eb9029-5bbc-4df7-a4f2-5d54e42b66ed",
   "metadata": {},
   "source": [
    "##### Question 3"
   ]
  },
  {
   "cell_type": "code",
   "execution_count": 4,
   "id": "9c396e98-a72c-4e07-806c-e203b46e3612",
   "metadata": {},
   "outputs": [
    {
     "name": "stdout",
     "output_type": "stream",
     "text": [
      "Jelly Belly-10\n",
      "Kit Kat-20\n",
      "Double Bubble-34\n",
      "Milky Way-74\n",
      "Three Musketeers-32\n"
     ]
    }
   ],
   "source": [
    "candy_list = ['Jelly Belly', 'Kit Kat', 'Double Bubble', 'Milky Way', 'Three Musketeers']\n",
    "no_of_items = [10, 20, 34, 74, 32]\n",
    "\n",
    "\n",
    "for candy, count in zip(candy_list, no_of_items):\n",
    "    print(f\"{candy}-{count}\")\n"
   ]
  },
  {
   "cell_type": "markdown",
   "id": "35aeabcb-94d8-4490-9124-35c0df37d621",
   "metadata": {},
   "source": [
    "##### Question 4"
   ]
  },
  {
   "cell_type": "code",
   "execution_count": 5,
   "id": "03c874e6-3b85-4f2b-8d45-4a6fd996a938",
   "metadata": {},
   "outputs": [
    {
     "name": "stdout",
     "output_type": "stream",
     "text": [
      "[1, 3, 6, 10, 15, 21]\n"
     ]
    }
   ],
   "source": [
    "list1 = [1, 2, 3, 4, 5, 6]\n",
    "running_sum = []\n",
    "total = 0\n",
    "for num in list1:\n",
    "    total += num\n",
    "    running_sum.append(total)\n",
    "print(running_sum)\n"
   ]
  },
  {
   "cell_type": "markdown",
   "id": "dd2bac82-d733-411c-8489-19901263c25a",
   "metadata": {},
   "source": [
    "##### Question 5"
   ]
  },
  {
   "cell_type": "code",
   "execution_count": 6,
   "id": "3cf30cea-d4e9-41b9-b73f-8f92ffc520f8",
   "metadata": {},
   "outputs": [
    {
     "name": "stdout",
     "output_type": "stream",
     "text": [
      "[22, 20, 16, 10, 23]\n"
     ]
    }
   ],
   "source": [
    "lst = [2, 4, 6, 10, 1]\n",
    "result = [sum(x for x in lst if x >= num) for num in lst]\n",
    "print(result)\n"
   ]
  },
  {
   "cell_type": "markdown",
   "id": "b1c43abe-9087-4aae-badb-a40418ec8de0",
   "metadata": {},
   "source": [
    "##### Question 6"
   ]
  },
  {
   "cell_type": "code",
   "execution_count": 7,
   "id": "38bb54d9-2146-4f9f-a8cc-82d64a945805",
   "metadata": {},
   "outputs": [
    {
     "name": "stdout",
     "output_type": "stream",
     "text": [
      "[34, 67, 89]\n"
     ]
    }
   ],
   "source": [
    "num1 = [23, 45, 67, 78, 89, 34]\n",
    "num2 = [34, 89, 55, 56, 39, 67]\n",
    "common = sorted(set(num1).intersection(num2))\n",
    "print(common)"
   ]
  },
  {
   "cell_type": "markdown",
   "id": "3f821a80-76a7-4b66-bf8a-d9601c9b76a1",
   "metadata": {},
   "source": [
    "##### Question 7"
   ]
  },
  {
   "cell_type": "code",
   "execution_count": 10,
   "id": "be11f31d-e965-4923-967a-8e03c56ddbec",
   "metadata": {},
   "outputs": [
    {
     "name": "stdout",
     "output_type": "stream",
     "text": [
      "['098d', '1', 'kls', '1ac21', '23fg', '456']\n"
     ]
    }
   ],
   "source": [
    "import math\n",
    "\n",
    "lst = ['1ac21', '23fg', '456', '098d', '1', 'kls']\n",
    "def product_of_digits(s):\n",
    "    digits = [int(ch) for ch in s if ch.isdigit()]\n",
    "    return math.prod(digits) if digits else 1\n",
    "\n",
    "sorted_list = sorted(lst, key=product_of_digits)\n",
    "print(sorted_list)\n"
   ]
  },
  {
   "cell_type": "markdown",
   "id": "c78d70e9-b096-479b-b70a-1af972fb4e6d",
   "metadata": {},
   "source": [
    "##### Question 8"
   ]
  },
  {
   "cell_type": "code",
   "execution_count": 11,
   "id": "88360762-6b72-4fa8-8d20-03c3a8853b81",
   "metadata": {},
   "outputs": [
    {
     "name": "stdout",
     "output_type": "stream",
     "text": [
      "['CampusX', 'is', 'a', 'channel', 'for', 'data-science', 'aspirants.']\n"
     ]
    }
   ],
   "source": [
    "input_list = ['CampusX is a channel', 'for data-science', 'aspirants.']\n",
    "result = [word for sentence in input_list for word in sentence.split()]\n",
    "print(result)\n"
   ]
  },
  {
   "cell_type": "markdown",
   "id": "b8a32e22-810d-48f1-893f-16f334c45b89",
   "metadata": {},
   "source": [
    "##### Question 9"
   ]
  },
  {
   "cell_type": "code",
   "execution_count": 12,
   "id": "3f435e25-8ee0-4003-89b6-a5f037ed80fc",
   "metadata": {},
   "outputs": [
    {
     "name": "stdout",
     "output_type": "stream",
     "text": [
      "campux is best channel\n"
     ]
    }
   ],
   "source": [
    "matrix = [['c', 'a', 'm', 'p', 'u', 'x'], ['i', 's'], ['b', 'e', 's', 't'], ['c', 'h', 'a', 'n', 'n', 'e', 'l']]\n",
    "result = ' '.join([''.join(row) for row in matrix])\n",
    "print(result)\n"
   ]
  },
  {
   "cell_type": "markdown",
   "id": "e4aa4b6f-8830-443b-8c3a-1b9323483127",
   "metadata": {},
   "source": [
    "##### Question 10"
   ]
  },
  {
   "cell_type": "code",
   "execution_count": 13,
   "id": "cc911364-6740-459b-b13f-3dbde409ae03",
   "metadata": {},
   "outputs": [
    {
     "name": "stdout",
     "output_type": "stream",
     "text": [
      "['campusx Is', 'best For', 'data Scientist']\n"
     ]
    }
   ],
   "source": [
    "import re\n",
    "input_list = ['campusxIs', 'bestFor', 'dataScientist']\n",
    "result = [re.sub(r'([a-z])([A-Z])', r'\\1 \\2', s) for s in input_list]\n",
    "print(result)"
   ]
  },
  {
   "cell_type": "markdown",
   "id": "ddd5e428-9698-4e1c-985f-5ad34a70b204",
   "metadata": {},
   "source": [
    "##### Question 11"
   ]
  },
  {
   "cell_type": "code",
   "execution_count": 14,
   "id": "87441a05-4c4c-41f8-81e3-5085d32157be",
   "metadata": {},
   "outputs": [
    {
     "name": "stdout",
     "output_type": "stream",
     "text": [
      "[1, 2, 3, 4, 5, 7, 8]\n"
     ]
    }
   ],
   "source": [
    "list1 = [1, 2, 3, 4, 5, 1]\n",
    "list2 = [2, 3, 5, 7, 8]\n",
    "result = list(sorted(set(list1 + list2)))\n",
    "print(result)\n"
   ]
  },
  {
   "cell_type": "markdown",
   "id": "a543bb1a-5b4e-4327-9da8-c21014c90666",
   "metadata": {},
   "source": [
    "##### Question 12"
   ]
  },
  {
   "cell_type": "code",
   "execution_count": 15,
   "id": "4f549f20-1dae-4210-a253-da247b3a6d7c",
   "metadata": {},
   "outputs": [
    {
     "name": "stdout",
     "output_type": "stream",
     "text": [
      "[3, 6, 9]\n"
     ]
    }
   ],
   "source": [
    "matrix = [[1, 2, 3], [4, 5, 6], [7, 8, 9]]\n",
    "result = [max(row) for row in matrix]\n",
    "print(result)\n"
   ]
  },
  {
   "cell_type": "markdown",
   "id": "42bce9e4-2726-4121-a7d6-076eb164c433",
   "metadata": {},
   "source": [
    "##### Question 13"
   ]
  },
  {
   "cell_type": "code",
   "execution_count": 17,
   "id": "ba5b7b9e-a849-40fa-bb46-f53744c06959",
   "metadata": {},
   "outputs": [
    {
     "name": "stdout",
     "output_type": "stream",
     "text": [
      "[[0, 1, 2], [3, 4, 5], [6, 7, 8]]\n"
     ]
    }
   ],
   "source": [
    "matrix = [[i + j for j in range(3)] for i in range(0, 9, 3)]\n",
    "print(matrix)"
   ]
  },
  {
   "cell_type": "markdown",
   "id": "a2ea7149-88d9-4d24-88f7-2341152abb57",
   "metadata": {},
   "source": [
    "##### Question 14"
   ]
  },
  {
   "cell_type": "code",
   "execution_count": 18,
   "id": "62ff80d5-1e1a-4f1b-87f3-0c613874b4a9",
   "metadata": {},
   "outputs": [
    {
     "name": "stdout",
     "output_type": "stream",
     "text": [
      "[1, 4, 7]\n",
      "[2, 5, 8]\n",
      "[3, 6, 9]\n"
     ]
    }
   ],
   "source": [
    "matrix = [\n",
    "    [1, 2, 3],\n",
    "    [4, 5, 6],\n",
    "    [7, 8, 9]\n",
    "]\n",
    "transpose = [[row[i] for row in matrix] for i in range(len(matrix[0]))]\n",
    "for row in transpose:\n",
    "    print(row)\n"
   ]
  },
  {
   "cell_type": "markdown",
   "id": "20cbbd87-21af-493d-982e-9770dea807c0",
   "metadata": {},
   "source": [
    "##### Question 15"
   ]
  },
  {
   "cell_type": "code",
   "execution_count": 19,
   "id": "384f36fa-e640-4bae-92d5-714d890b95ac",
   "metadata": {},
   "outputs": [
    {
     "name": "stdout",
     "output_type": "stream",
     "text": [
      "[1, 2, 3, 4, 5, 6, 7, 8, 9]\n"
     ]
    }
   ],
   "source": [
    "matrix = [\n",
    "    [1, 2, 3],\n",
    "    [4, 5, 6],\n",
    "    [7, 8, 9]\n",
    "]\n",
    "flat = [item for row in matrix for item in row]\n",
    "print(flat)\n"
   ]
  }
 ],
 "metadata": {
  "kernelspec": {
   "display_name": "Python 3 (ipykernel)",
   "language": "python",
   "name": "python3"
  },
  "language_info": {
   "codemirror_mode": {
    "name": "ipython",
    "version": 3
   },
   "file_extension": ".py",
   "mimetype": "text/x-python",
   "name": "python",
   "nbconvert_exporter": "python",
   "pygments_lexer": "ipython3",
   "version": "3.11.3"
  }
 },
 "nbformat": 4,
 "nbformat_minor": 5
}
