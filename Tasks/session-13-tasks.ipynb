{
 "cells": [
  {
   "cell_type": "code",
   "execution_count": 2,
   "id": "a2f2e7ee",
   "metadata": {},
   "outputs": [],
   "source": [
    "# Question 1 : Create a null vector of size 10 but the fifth value which is 1."
   ]
  },
  {
   "cell_type": "code",
   "execution_count": 3,
   "id": "10577139",
   "metadata": {},
   "outputs": [],
   "source": [
    "import numpy as np"
   ]
  },
  {
   "cell_type": "code",
   "execution_count": 7,
   "id": "77ec12fd",
   "metadata": {},
   "outputs": [
    {
     "name": "stdout",
     "output_type": "stream",
     "text": [
      "[0. 0. 0. 0. 1. 0. 0. 0. 0. 0.]\n"
     ]
    }
   ],
   "source": [
    "vector = np.zeros(10)\n",
    "vector[4] =1\n",
    "print(vector)\n"
   ]
  },
  {
   "cell_type": "code",
   "execution_count": 9,
   "id": "d12c25ca",
   "metadata": {},
   "outputs": [],
   "source": [
    "# Ques2:  Ask user to input two numbers a, b. Write a program to generate a random array of shape (a, b) and print the array and avg of the array."
   ]
  },
  {
   "cell_type": "code",
   "execution_count": 10,
   "id": "1ae4094b",
   "metadata": {},
   "outputs": [
    {
     "name": "stdout",
     "output_type": "stream",
     "text": [
      "[[0.29007544 0.24477272 0.66750815 0.0981207 ]\n",
      " [0.95037007 0.52527046 0.86815056 0.46316896]\n",
      " [0.14487213 0.58114234 0.2598336  0.56561099]]\n"
     ]
    }
   ],
   "source": [
    "a = int(input(\"Enter the first number\"))\n",
    "b = int(input(\"Enter the second number\"))\n",
    "array = np.random.rand(a,b)\n",
    "print(array)\n",
    "average =  np.mean(array)"
   ]
  },
  {
   "cell_type": "code",
   "execution_count": 11,
   "id": "ef10fd86",
   "metadata": {},
   "outputs": [],
   "source": [
    "# Ques3:Write a function to create a 2d array with 1 on the border and 0 inside. Take 2-D array shape as (a,b) as parameter to function."
   ]
  },
  {
   "cell_type": "code",
   "execution_count": 12,
   "id": "746379dd",
   "metadata": {},
   "outputs": [
    {
     "name": "stdout",
     "output_type": "stream",
     "text": [
      "2D array with 1 on the border and 0 inside:\n",
      "[[1 1 1 1 1 1]\n",
      " [1 0 0 0 0 1]\n",
      " [1 0 0 0 0 1]\n",
      " [1 0 0 0 0 1]\n",
      " [1 1 1 1 1 1]]\n"
     ]
    }
   ],
   "source": [
    "def border_array(a, b):\n",
    "    array = np.ones((a, b), dtype=int)\n",
    "    array[1:-1, 1:-1] = 0\n",
    "    return array\n",
    "\n",
    "# Example usage:\n",
    "a = 5\n",
    "b = 6\n",
    "result = border_array(a, b)\n",
    "print(\"2D array with 1 on the border and 0 inside:\")\n",
    "print(result)\n"
   ]
  },
  {
   "cell_type": "code",
   "execution_count": 16,
   "id": "556b0b43",
   "metadata": {},
   "outputs": [
    {
     "name": "stdout",
     "output_type": "stream",
     "text": [
      "[0.89686278 0.5509803  0.79499925 0.44217655 0.28982185 0.93430678\n",
      " 0.19542652 0.86935122 0.58765989 0.0773828 ]\n"
     ]
    }
   ],
   "source": [
    "# Question 4 :  Create a vector of size 10 with values ranging from 0 to 1, both excluded\n",
    "vector = np.random.uniform(low=0.00001, high=0.99999, size=10)\n",
    "print(vector)"
   ]
  },
  {
   "cell_type": "code",
   "execution_count": 19,
   "id": "299d0216",
   "metadata": {},
   "outputs": [],
   "source": [
    "#Question 5 : Can you create a identity mattrix of shape (3,4). If yes write code for it.\n",
    "# NO "
   ]
  },
  {
   "cell_type": "code",
   "execution_count": 21,
   "id": "cdc42d27",
   "metadata": {},
   "outputs": [
    {
     "name": "stdout",
     "output_type": "stream",
     "text": [
      "[[0 1 2 3 4]\n",
      " [0 1 2 3 4]\n",
      " [0 1 2 3 4]\n",
      " [0 1 2 3 4]\n",
      " [0 1 2 3 4]]\n"
     ]
    }
   ],
   "source": [
    "#Question 6 : Create a 5x5 matrix with row values ranging from 0 to 4.\n",
    "matrix = np.tile(np.arange(5), (5, 1))\n",
    "print(matrix)"
   ]
  },
  {
   "cell_type": "code",
   "execution_count": 24,
   "id": "d17d3c39",
   "metadata": {},
   "outputs": [
    {
     "name": "stdout",
     "output_type": "stream",
     "text": [
      "[[99 56]\n",
      " [81 98]\n",
      " [69 43]\n",
      " [82 54]\n",
      " [27  6]\n",
      " [37 45]\n",
      " [58  5]\n",
      " [13 93]\n",
      " [26 12]\n",
      " [11 34]]\n",
      "[2 3]\n",
      "[110 123  78  94  25  54  56  90  25  32]\n"
     ]
    }
   ],
   "source": [
    "# Question 7: Consider a random integer (in range 1 to 100) vector with shape (10,2) representing coordinates, and coordinates of a point as array is given. Create an array of distance of each point in the random vectros from the given point. Distance array should be interger type.\n",
    "coordinates = np.random.randint(1,101, size = (10,2))\n",
    "point = np.array([2,3]) \n",
    "distances = np.linalg.norm(coordinates - point, axis=1)\n",
    "distance_array = distances.astype(int)\n",
    "print(coordinates)\n",
    "print(point)\n",
    "print(distance_array)"
   ]
  },
  {
   "cell_type": "code",
   "execution_count": 25,
   "id": "fb4a3191",
   "metadata": {},
   "outputs": [
    {
     "name": "stdout",
     "output_type": "stream",
     "text": [
      "Index of the 100th element: (np.int64(1), np.int64(5), np.int64(3))\n"
     ]
    }
   ],
   "source": [
    "# Question 8 : Consider a (6,7,8) shape array, what is the index (x,y,z) of the 100th element?\n",
    "shape = (6, 7, 8)\n",
    "flat_index = 99\n",
    "\n",
    "index = np.unravel_index(flat_index, shape)\n",
    "print(\"Index of the 100th element:\", index)\n"
   ]
  },
  {
   "cell_type": "code",
   "execution_count": 28,
   "id": "45882c03",
   "metadata": {},
   "outputs": [
    {
     "name": "stdout",
     "output_type": "stream",
     "text": [
      "[ 32.   2.  23. 432.  43.   3. 543.   6.   5.   4.   3.   2.   1.]\n"
     ]
    }
   ],
   "source": [
    "# Question 9 : You are given a space separated list of numbers. Your task is to print a reversed NumPy array with the element type float.\n",
    "\n",
    "# Input Format:\n",
    "\n",
    "# A single line of input containing space separated numbers.\n",
    "\n",
    "# Output Format:\n",
    "\n",
    "# Print the reverse NumPy array with type float.\n",
    "\n",
    "# Example 1:\n",
    "\n",
    "# Input:\n",
    "\n",
    "# 1 2 3 4 -8 -10\n",
    "# Output:\n",
    "\n",
    "# [-10.  -8.   4.   3.   2.   1.]\n",
    "\n",
    "\n",
    "\n",
    "\n",
    "\n",
    "input_str = input()\n",
    "\n",
    "\n",
    "arr = np.array(input_str.split(), dtype=float)\n",
    "\n",
    "\n",
    "reversed_arr = arr[::-1]\n",
    "\n",
    "\n",
    "print(reversed_arr)\n"
   ]
  },
  {
   "cell_type": "code",
   "execution_count": 30,
   "id": "6e5dfca2",
   "metadata": {},
   "outputs": [
    {
     "name": "stdout",
     "output_type": "stream",
     "text": [
      "elements_count : 4\n"
     ]
    }
   ],
   "source": [
    "# Ques10: Count the number of elements of a numpy array.\n",
    "\n",
    "arr = np.array([1,2,3,4])\n",
    "\n",
    "elements_count = arr.size\n",
    "\n",
    "print(\"elements_count :\", elements_count)\n"
   ]
  },
  {
   "cell_type": "code",
   "execution_count": 31,
   "id": "52415f7f",
   "metadata": {},
   "outputs": [],
   "source": [
    "# Ques11 : Softmax function\n",
    "# Create a Python function to calculate the Softmax of the given numpy 1D array. The function only accepts the numpy 1D array, otherwise raise error.\n",
    "def softmax(x):\n",
    "    if not isinstance(x, np.ndarray) or x.ndim != 1:\n",
    "        raise ValueError(\"Input must be a 1D NumPy array.\")\n",
    "\n",
    "    # For numerical stability, subtract max value\n",
    "    e_x = np.exp(x - np.max(x))\n",
    "    return e_x / np.sum(e_x)\n"
   ]
  },
  {
   "cell_type": "code",
   "execution_count": 32,
   "id": "9c0f5284",
   "metadata": {},
   "outputs": [
    {
     "name": "stdout",
     "output_type": "stream",
     "text": [
      "[2.43733248e-01 2.56112114e-22 1.41628283e-17 7.56266752e-01\n",
      " 5.05514197e-22 1.50974911e-22]\n",
      "[4.57181033e-26 1.16249922e-20 7.73872594e-05 2.60358426e-05\n",
      " 1.39571531e-10 9.99896577e-01]\n"
     ]
    }
   ],
   "source": [
    "# Example 1\n",
    "arr1 = np.array([86.03331084, 37.7285648, 48.64908087, 87.16563062, 38.40852563, 37.20006318])\n",
    "print(softmax(arr1))\n",
    "\n",
    "# Example 2\n",
    "arr2 = np.array([33.17344305, 45.61961654, 82.05405781, 80.9647098, 68.82830233, 91.52064278])\n",
    "print(softmax(arr2))\n"
   ]
  },
  {
   "cell_type": "code",
   "execution_count": 34,
   "id": "639b2d9c",
   "metadata": {},
   "outputs": [],
   "source": [
    "# Question 12: Vertical stack\n",
    "# Write a python function that accepts infinite number of numpy arrays and do the vertical stack to them. Then return that new array as result. The function only accepts the numpy array, otherwise raise error.\n",
    "\n",
    "# Example 1:\n",
    "\n",
    "# Input:\n",
    "\n",
    "# a= [[0 1 2 3 4]\n",
    "#  [5 6 7 8 9]]\n",
    "\n",
    "# b= [[1 1 1 1 1]\n",
    "#  [1 1 1 1 1]]\n",
    "\n",
    "def vertical_stack(*arrays):\n",
    "    for array in arrays:\n",
    "        if not isinstance(array , np.ndarray):\n",
    "            raise valueError(\"All arrays must be numpy arrays\")\n",
    "            \n",
    "        return np.vstack(arrays)\n"
   ]
  },
  {
   "cell_type": "code",
   "execution_count": 35,
   "id": "0d3fa413",
   "metadata": {},
   "outputs": [
    {
     "name": "stdout",
     "output_type": "stream",
     "text": [
      "[[0.         1.         2.         3.         4.        ]\n",
      " [5.         6.         7.         8.         9.        ]\n",
      " [1.         1.         1.         1.         1.        ]\n",
      " [1.         1.         1.         1.         1.        ]\n",
      " [0.10117373 0.1677244  0.73764059 0.83166097 0.48985695]\n",
      " [0.44581567 0.13502419 0.55692335 0.16479622 0.61193593]]\n"
     ]
    }
   ],
   "source": [
    "a = np.array([[0, 1, 2, 3, 4],\n",
    "              [5, 6, 7, 8, 9]])\n",
    "\n",
    "b = np.array([[1, 1, 1, 1, 1],\n",
    "              [1, 1, 1, 1, 1]])\n",
    "\n",
    "c = np.array([[0.10117373, 0.1677244,  0.73764059, 0.83166097, 0.48985695],\n",
    "              [0.44581567, 0.13502419, 0.55692335, 0.16479622, 0.61193593]])\n",
    "\n",
    "result = vertical_stack(a, b, c)\n",
    "print(result)\n"
   ]
  },
  {
   "cell_type": "code",
   "execution_count": 36,
   "id": "8fb32892",
   "metadata": {},
   "outputs": [],
   "source": [
    "# Ques 13:Create a python function named date_array that accepts two dates as string format and returns a numpy array of dates between those 2 dates. The function only accept 2 strings, otherwise raise error. The date format should be like this only: 2022-12-6. The end date should be included and for simplicity, choose dates from a same year.\n",
    "import numpy as np\n",
    "from datetime import datetime\n",
    "\n",
    "def date_array(start, end):\n",
    "    if not (isinstance(start, str) and isinstance(end, str)):\n",
    "        raise ValueError(\"Both start and end dates must be strings.\")\n",
    "    try:\n",
    "        start_date = datetime.strptime(start, \"%Y-%m-%d\")\n",
    "        end_date = datetime.strptime(end, \"%Y-%m-%d\")\n",
    "    except ValueError:\n",
    "        raise ValueError(\"Date format must be 'YYYY-MM-DD', e.g., '2022-12-6'\")\n",
    "    if start_date.year != end_date.year:\n",
    "        raise ValueError(\"Dates must be from the same year.\")\n",
    "    \n",
    "    dates = np.arange(start_date, end_date + np.timedelta64(1, 'D'), dtype='datetime64[D]')\n",
    "    \n",
    "    return dates.astype(str)\n"
   ]
  },
  {
   "cell_type": "code",
   "execution_count": 37,
   "id": "665e5d9d",
   "metadata": {},
   "outputs": [
    {
     "name": "stdout",
     "output_type": "stream",
     "text": [
      "['2020-09-15' '2020-09-16' '2020-09-17' '2020-09-18' '2020-09-19'\n",
      " '2020-09-20' '2020-09-21' '2020-09-22' '2020-09-23' '2020-09-24'\n",
      " '2020-09-25']\n"
     ]
    }
   ],
   "source": [
    "result = date_array(start='2020-09-15', end='2020-09-25')\n",
    "print(result)\n"
   ]
  },
  {
   "cell_type": "code",
   "execution_count": 40,
   "id": "7e8b6cc1",
   "metadata": {},
   "outputs": [
    {
     "name": "stdout",
     "output_type": "stream",
     "text": [
      "[[1 2 3]\n",
      " [4 5 6]\n",
      " [7 8 9]]\n",
      "[[-1.  0.  1.]\n",
      " [-1.  0.  1.]\n",
      " [-1.  0.  1.]]\n"
     ]
    }
   ],
   "source": [
    "# Ques 14:  Subtract the mean of each row from a matrix.\n",
    "matrix = np.arange(1,10).reshape(3,3)\n",
    "print(matrix)\n",
    "result = matrix- matrix.mean(axis=1 , keepdims=True)\n",
    "print(result)"
   ]
  },
  {
   "cell_type": "code",
   "execution_count": 45,
   "id": "6c348bcd",
   "metadata": {},
   "outputs": [
    {
     "name": "stdout",
     "output_type": "stream",
     "text": [
      "Array after swapping column 1 and column 2:\n",
      " [[2 1 3]\n",
      " [5 4 6]\n",
      " [8 7 9]]\n"
     ]
    }
   ],
   "source": [
    "# Ques 15: Swap column-1 of array with column-2 in the array.\n",
    "arr = np.array([[1, 2, 3],\n",
    "                [4, 5, 6],\n",
    "                [7, 8, 9]])\n",
    "arr[:, [0, 1]] = arr[:, [1, 0]]\n",
    "\n",
    "print(\"Array after swapping column 1 and column 2:\\n\", arr)\n"
   ]
  },
  {
   "cell_type": "code",
   "execution_count": 48,
   "id": "e653192e",
   "metadata": {},
   "outputs": [
    {
     "name": "stdout",
     "output_type": "stream",
     "text": [
      "Modified array: [-1  2 -1  4 -1  6 -1  8 -1 10]\n"
     ]
    }
   ],
   "source": [
    "# Ques 16:  Replace odd elements in arrays with -1.\n",
    "import numpy as np\n",
    "arr = np.arange(1,11)\n",
    "arr[arr % 2 != 0] = -1\n",
    "\n",
    "print(\"Modified array:\", arr)"
   ]
  },
  {
   "cell_type": "code",
   "execution_count": 49,
   "id": "9a830e73",
   "metadata": {},
   "outputs": [
    {
     "name": "stdout",
     "output_type": "stream",
     "text": [
      "[6 3 1 7 8]\n"
     ]
    }
   ],
   "source": [
    "# Ques 17: Given two arrays of same shape make an array of max out of two arrays. (Numpy way)\n",
    "a=np.array([6,3,1,5,8])\n",
    "b=np.array([3,2,1,7,2])\n",
    "\n",
    "Result = np.maximum(a,b)\n",
    "print(Result)"
   ]
  },
  {
   "cell_type": "code",
   "execution_count": 50,
   "id": "59e80b82",
   "metadata": {},
   "outputs": [
    {
     "name": "stdout",
     "output_type": "stream",
     "text": [
      "Alternate columns:\n",
      " [[2939 6680 2684]\n",
      " [4066  327  851]\n",
      " [5997 2315 9615]\n",
      " [7821 9138 4885]\n",
      " [7715 9105 3182]\n",
      " [8842 2705 3800]\n",
      " [4132 7844 7526]\n",
      " [2749 6900 7515]]\n"
     ]
    }
   ],
   "source": [
    "# Ques 18: \n",
    "import numpy as np\n",
    "\n",
    "arr1 = np.array([\n",
    "    [2939, 1694, 6680, 8865, 2684],\n",
    "    [4066, 4573,  327, 6525,  851],\n",
    "    [5997, 7481, 2315, 5863, 9615],\n",
    "    [7821, 1225, 9138, 1114, 4885],\n",
    "    [7715, 8046, 9105, 3935, 3182],\n",
    "    [8842, 4836, 2705, 3751, 3800],\n",
    "    [4132, 1400, 7844, 9471, 7526],\n",
    "    [2749, 2624, 6900, 1576, 7515]\n",
    "])\n",
    "\n",
    "alternate_columns = arr1[:, ::2]  \n",
    "print(\"Alternate columns:\\n\", alternate_columns)\n"
   ]
  },
  {
   "cell_type": "code",
   "execution_count": 51,
   "id": "87a2c32b",
   "metadata": {},
   "outputs": [
    {
     "name": "stdout",
     "output_type": "stream",
     "text": [
      "Normalized array:\n",
      " [[0.28122308 0.14717916 0.68400086 0.91925065 0.2537683 ]\n",
      " [0.40256245 0.45714901 0.         0.66731266 0.05641688]\n",
      " [0.61046512 0.77024117 0.21403962 0.5960379  1.        ]\n",
      " [0.80684755 0.09668389 0.94864341 0.08473299 0.49074074]\n",
      " [0.79543497 0.83107235 0.94509044 0.38845823 0.30738587]\n",
      " [0.91677433 0.48546512 0.25602929 0.36864772 0.37392334]\n",
      " [0.40966839 0.11552541 0.80932386 0.98449612 0.77508613]\n",
      " [0.26076658 0.24730835 0.70768734 0.13447459 0.77390181]]\n"
     ]
    }
   ],
   "source": [
    "X_min = arr1.min()\n",
    "X_max = arr1.max()\n",
    "\n",
    "normalized_arr = (arr1 - X_min) / (X_max - X_min)\n",
    "print(\"Normalized array:\\n\", normalized_arr)\n"
   ]
  },
  {
   "cell_type": "code",
   "execution_count": 53,
   "id": "9bb7f780",
   "metadata": {},
   "outputs": [],
   "source": [
    "# Ques 19:  Write a function which will accept 2 arguments.\n",
    "# First: A 1D numpy array arr\n",
    "\n",
    "# Second: An integer n {Please make sure n<=len(arr)}\n",
    "\n",
    "# Output: The output should be the nth largest item out of the array\n",
    "\n",
    "# Example1 : arr=(12,34,40,7,1,0) and n=3, the output should be 12\n",
    "# Example2 : arr=(12,34,40,7,1,0) and n=1, the output should be 40\n",
    "\n",
    "\n",
    "def nth_largest(arr, n):\n",
    "    if not isinstance(arr, np.ndarray) or arr.ndim != 1:\n",
    "        raise ValueError(\"First argument must be a 1D NumPy array.\")\n",
    "    if not isinstance(n, int) or n < 1 or n > len(arr):\n",
    "        raise ValueError(\"Second argument must be an integer between 1 and the length of the array.\")\n",
    "    \n",
    "    sorted_arr = np.sort(arr)[::-1]  \n",
    "    return sorted_arr[n - 1]\n"
   ]
  },
  {
   "cell_type": "code",
   "execution_count": 55,
   "id": "be50b255",
   "metadata": {},
   "outputs": [
    {
     "name": "stdout",
     "output_type": "stream",
     "text": [
      "12\n",
      "40\n"
     ]
    }
   ],
   "source": [
    "arr = np.array([12, 34, 40, 7, 1, 0])\n",
    "\n",
    "print(nth_largest(arr, 3))  \n",
    "print(nth_largest(arr, 1))\n"
   ]
  },
  {
   "cell_type": "code",
   "execution_count": null,
   "id": "12fb3892",
   "metadata": {},
   "outputs": [],
   "source": []
  }
 ],
 "metadata": {
  "kernelspec": {
   "display_name": "Python 3",
   "language": "python",
   "name": "python3"
  },
  "language_info": {
   "codemirror_mode": {
    "name": "ipython",
    "version": 3
   },
   "file_extension": ".py",
   "mimetype": "text/x-python",
   "name": "python",
   "nbconvert_exporter": "python",
   "pygments_lexer": "ipython3",
   "version": "3.11.3"
  }
 },
 "nbformat": 4,
 "nbformat_minor": 5
}
