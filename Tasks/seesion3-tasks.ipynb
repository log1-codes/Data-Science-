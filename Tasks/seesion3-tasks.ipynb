{
 "cells": [
  {
   "cell_type": "markdown",
   "id": "789e7367-e446-4690-bea3-c39d01a14952",
   "metadata": {},
   "source": [
    "#### Question1 "
   ]
  },
  {
   "cell_type": "code",
   "execution_count": 13,
   "id": "68d05825-ded7-43e0-ba27-89aa918ee46e",
   "metadata": {},
   "outputs": [
    {
     "name": "stdout",
     "output_type": "stream",
     "text": [
      "5 4 3 2 1 \n",
      "4 3 2 1 \n",
      "3 2 1 \n",
      "2 1 \n",
      "1 \n"
     ]
    }
   ],
   "source": [
    "n= 5 \n",
    "for i in range (n , 0 ,-1):\n",
    "    for j in range(i , 0 ,-1):\n",
    "        print(j , end= ' ')\n",
    "\n",
    "    print()"
   ]
  },
  {
   "cell_type": "markdown",
   "id": "ac76e252-1cd3-44e6-8771-0c8cdbe19ec0",
   "metadata": {},
   "source": [
    "#### Question2"
   ]
  },
  {
   "cell_type": "code",
   "execution_count": 16,
   "id": "49b9782b-714a-4317-9692-7f97304adb87",
   "metadata": {},
   "outputs": [
    {
     "name": "stdout",
     "output_type": "stream",
     "text": [
      "* \n",
      "* * \n",
      "* * * \n",
      "* * * * \n",
      "* * * * * \n",
      "* * * * \n",
      "* * * \n",
      "* * \n",
      "* \n"
     ]
    }
   ],
   "source": [
    "n = 5\n",
    "\n",
    "# Loop for the increasing part\n",
    "for i in range(1, n + 1):\n",
    "    print('* ' * i)\n",
    "\n",
    "# Loop for the decreasing part\n",
    "for i in range(n - 1, 0, -1):\n",
    "    print('* ' * i)"
   ]
  },
  {
   "cell_type": "markdown",
   "id": "44b46564-33b8-4087-9a2a-f9e274a3015a",
   "metadata": {},
   "source": [
    "#### Question3"
   ]
  },
  {
   "cell_type": "code",
   "execution_count": 18,
   "id": "78bda816-d9e4-48be-a005-52895030e14b",
   "metadata": {},
   "outputs": [
    {
     "name": "stdout",
     "output_type": "stream",
     "text": [
      "  * \n",
      " * * * \n",
      "* * * * * \n"
     ]
    }
   ],
   "source": [
    "n = 3\n",
    "\n",
    "# Loop for each row\n",
    "for i in range(n):\n",
    "    # Print leading spaces\n",
    "    print(' ' * (n - i - 1), end='')\n",
    "    # Print asterisks\n",
    "    print('* ' * (2 * i + 1))"
   ]
  },
  {
   "cell_type": "markdown",
   "id": "74da8a06-0c57-418e-adfd-346daf2be30e",
   "metadata": {},
   "source": [
    "#### Question 4 "
   ]
  },
  {
   "cell_type": "code",
   "execution_count": 22,
   "id": "01b1b26f-0fdc-44e8-a20b-29010417d0c0",
   "metadata": {},
   "outputs": [
    {
     "name": "stdout",
     "output_type": "stream",
     "text": [
      "1 \n",
      "2 1 \n",
      "3 2 1 \n",
      "4 3 2 1 \n",
      "5 4 3 2 1 \n"
     ]
    }
   ],
   "source": [
    "n= 5 \n",
    "for i in range(1, n+1):\n",
    "    for j in range(i, 0,-1):\n",
    "        print(j ,end=' ')\n",
    "\n",
    "    print()"
   ]
  },
  {
   "cell_type": "markdown",
   "id": "414f3f86-5e4c-469f-abff-f1505af47f15",
   "metadata": {},
   "source": [
    "#### Question5"
   ]
  },
  {
   "cell_type": "code",
   "execution_count": 23,
   "id": "68f6c8ee-0d97-4cce-b9de-dd7293d814c2",
   "metadata": {},
   "outputs": [
    {
     "name": "stdin",
     "output_type": "stream",
     "text": [
      "Enter the value of x: 4\n",
      "Enter the value of n:  5\n"
     ]
    },
    {
     "name": "stdout",
     "output_type": "stream",
     "text": [
      "sum of series is :  299.1333333333333\n"
     ]
    }
   ],
   "source": [
    "def calculate_series(x ,n):\n",
    "    total_sum = 1\n",
    "    for i in range(2, n+1 ):\n",
    "        total_sum += (x**i)/i \n",
    "\n",
    "    return total_sum\n",
    "\n",
    "x = float(input('Enter the value of x:'))\n",
    "n = int(input('Enter the value of n: '))\n",
    "\n",
    "result = calculate_series( x ,n)\n",
    "\n",
    "print('sum of series is : ', result) "
   ]
  },
  {
   "cell_type": "markdown",
   "id": "b99f2f9a-b916-4cc4-8d41-2ac3034cdd18",
   "metadata": {},
   "source": [
    "#### Question 6"
   ]
  },
  {
   "cell_type": "code",
   "execution_count": 28,
   "id": "1381abb9-13b6-4ef5-aeb8-25808976c42b",
   "metadata": {},
   "outputs": [
    {
     "name": "stdout",
     "output_type": "stream",
     "text": [
      "Approximation of ln(7) ≈ 1.9459093534137661\n"
     ]
    }
   ],
   "source": [
    "def ln_clever(x, terms=20):\n",
    "    if x <= 0:\n",
    "        raise ValueError(\"ln(x) is undefined for x <= 0\")\n",
    "    z = (x - 1) / (x + 1)\n",
    "    result = 0\n",
    "    for n in range(terms):\n",
    "        term = (z ** (2 * n + 1)) / (2 * n + 1)\n",
    "        result += term\n",
    "    return 2 * result\n",
    "\n",
    "# Example usage\n",
    "x = 7\n",
    "print(f\"Approximation of ln({x}) ≈ {ln_clever(x)}\")\n"
   ]
  },
  {
   "cell_type": "markdown",
   "id": "8ffa474a-13ab-4064-a2d1-0a1b62e19279",
   "metadata": {},
   "source": [
    "#### Question 7"
   ]
  },
  {
   "cell_type": "code",
   "execution_count": 30,
   "id": "2ac30200-e1e1-48e7-a475-eb85c0d9e92d",
   "metadata": {},
   "outputs": [
    {
     "name": "stdin",
     "output_type": "stream",
     "text": [
      "Enter the value of n:  5\n"
     ]
    },
    {
     "name": "stdout",
     "output_type": "stream",
     "text": [
      "2+22+222+2222+22222\n",
      "Sum of above series is: 24690\n"
     ]
    }
   ],
   "source": [
    "def calculate_series_sum(n):\n",
    "    total_sum = 0\n",
    "    series_terms = []  # To store the terms of the series for display\n",
    "\n",
    "    for i in range(1, n + 1):\n",
    "        term = int('2' * i)  \n",
    "        series_terms.append(str(term)) \n",
    "        total_sum += term \n",
    "\n",
    "    return total_sum, series_terms\n",
    "\n",
    "\n",
    "n = int(input(\"Enter the value of n: \"))\n",
    "\n",
    "\n",
    "result_sum, terms = calculate_series_sum(n)\n",
    "\n",
    "\n",
    "series_output = '+'.join(terms)\n",
    "print(f\"{series_output}\")\n",
    "print(f\"Sum of above series is: {result_sum}\")"
   ]
  },
  {
   "cell_type": "markdown",
   "id": "109ed3b6-0feb-4adc-9c54-6023446812d4",
   "metadata": {},
   "source": [
    "#### Question8"
   ]
  },
  {
   "cell_type": "code",
   "execution_count": null,
   "id": "776738d7-ccec-4ff0-a0d3-70c85e5473e7",
   "metadata": {},
   "outputs": [],
   "source": []
  },
  {
   "cell_type": "markdown",
   "id": "bf7c73e9-f193-4d48-9c3f-e2b94b8e3a54",
   "metadata": {},
   "source": [
    "#### Question 9 "
   ]
  },
  {
   "cell_type": "code",
   "execution_count": 32,
   "id": "3ba7fb39-a026-4292-b9b9-b3c3fa471bcb",
   "metadata": {},
   "outputs": [
    {
     "name": "stdin",
     "output_type": "stream",
     "text": [
      "Enter a decimal number:  5\n"
     ]
    },
    {
     "name": "stdout",
     "output_type": "stream",
     "text": [
      "The binary equivalent is: 101\n"
     ]
    }
   ],
   "source": [
    "decimal_number = int(input(\"Enter a decimal number: \"))\n",
    "binary_number = \"\"\n",
    "\n",
    "\n",
    "if decimal_number == 0:\n",
    "    binary_number = \"0\"\n",
    "else:\n",
    "    while decimal_number > 0:\n",
    "        remainder = decimal_number % 2  \n",
    "        binary_number = str(remainder) + binary_number  \n",
    "        decimal_number = decimal_number // 2  \n",
    "\n",
    "print(f\"The binary equivalent is: {binary_number}\")"
   ]
  },
  {
   "cell_type": "markdown",
   "id": "f5a116a3-ac84-4bc5-a4fe-539fbfa5f270",
   "metadata": {},
   "source": [
    "#### Question 10"
   ]
  },
  {
   "cell_type": "code",
   "execution_count": null,
   "id": "f65ca588-cc36-4d38-8a20-68905a66b839",
   "metadata": {},
   "outputs": [],
   "source": [
    "def calculate_hcf(a, b):\n",
    "    while b:\n",
    "        a, b = b, a % b\n",
    "    return a\n",
    "\n",
    "\n",
    "def calculate_lcm(a, b, hcf):\n",
    "    return (a * b) // hcf\n",
    "\n",
    "num1 = int(input(\"Enter the first number: \"))\n",
    "num2 = int(input(\"Enter the second number: \"))\n",
    "\n",
    "\n",
    "hcf = calculate_hcf(num1, num2)\n",
    "\n",
    "\n",
    "lcm = calculate_lcm(num1, num2, hcf)\n",
    "\n",
    "print(f\"HCF of {num1} and {num2} is: {hcf}\")\n",
    "print(f\"LCM of {num1} and {num2} is: {lcm}\")"
   ]
  },
  {
   "cell_type": "markdown",
   "id": "b77abe8e-8e87-4263-8cd1-5dc2cb57b7c5",
   "metadata": {},
   "source": [
    "#### Question 11 "
   ]
  },
  {
   "cell_type": "code",
   "execution_count": 37,
   "id": "b28bd227-73dc-4cf0-9026-0004f76e7923",
   "metadata": {},
   "outputs": [
    {
     "name": "stdin",
     "output_type": "stream",
     "text": [
      "Enter the string :  data science mentorship program\n"
     ]
    },
    {
     "name": "stdout",
     "output_type": "stream",
     "text": [
      "['data', 'science', 'mentorship', 'program']\n",
      "DSMP\n"
     ]
    }
   ],
   "source": [
    "input_String = input('Enter the string :')\n",
    "words = input_String.split()\n",
    "print (words)\n",
    "short_form = ''.join(word[0].upper() for word in words)\n",
    "print(short_form)"
   ]
  },
  {
   "cell_type": "markdown",
   "id": "cea2d5bd-a428-4a48-815c-c55d124bb8d9",
   "metadata": {},
   "source": [
    "#### Question12"
   ]
  },
  {
   "cell_type": "code",
   "execution_count": 39,
   "id": "6ca669ea-6719-48fd-a9e4-2b0921b7fa4f",
   "metadata": {},
   "outputs": [
    {
     "name": "stdin",
     "output_type": "stream",
     "text": [
      "Enter the first string:  campusx\n",
      "Enter the second string:  data\n"
     ]
    },
    {
     "name": "stdout",
     "output_type": "stream",
     "text": [
      "camdatapusx\n"
     ]
    }
   ],
   "source": [
    "first_string = input(\"Enter the first string: \")\n",
    "second_string = input(\"Enter the second string: \")\n",
    "midpoint = len(first_string) // 2\n",
    "new_string = first_string[:midpoint] + second_string + first_string[midpoint:]\n",
    "print(new_string)"
   ]
  },
  {
   "cell_type": "markdown",
   "id": "f17782cd-a20b-4d32-b400-c57a41067649",
   "metadata": {},
   "source": [
    "#### Question13"
   ]
  },
  {
   "cell_type": "code",
   "execution_count": 41,
   "id": "5109b5ed-65a1-4e52-9ca6-c68837a11d46",
   "metadata": {},
   "outputs": [
    {
     "name": "stdin",
     "output_type": "stream",
     "text": [
      "Enter a string:  aNuRaGsInGh\n"
     ]
    },
    {
     "name": "stdout",
     "output_type": "stream",
     "text": [
      "auasnhNRGIG\n"
     ]
    }
   ],
   "source": [
    "input_string = input(\"Enter a string: \")\n",
    "lowercase_letters = []\n",
    "uppercase_letters = []\n",
    "\n",
    "for char in input_string:\n",
    "    if char.islower():\n",
    "        lowercase_letters.append(char) \n",
    "    elif char.isupper():\n",
    "        uppercase_letters.append(char)\n",
    "result_string = ''.join(lowercase_letters) + ''.join(uppercase_letters)\n",
    "\n",
    "print(result_string)"
   ]
  },
  {
   "cell_type": "markdown",
   "id": "9b89059b-91f2-48ed-b0db-2d9b725836e0",
   "metadata": {},
   "source": [
    "#### Question14"
   ]
  },
  {
   "cell_type": "code",
   "execution_count": 42,
   "id": "3730dbba-badf-46a2-82b2-2779082de425",
   "metadata": {},
   "outputs": [
    {
     "name": "stdin",
     "output_type": "stream",
     "text": [
      "Enter an alphanumeric string:  hel123O4every093\n"
     ]
    },
    {
     "name": "stdout",
     "output_type": "stream",
     "text": [
      "Sum: 22\n",
      "Avg: 3.14\n"
     ]
    }
   ],
   "source": [
    "input_string = input(\"Enter an alphanumeric string: \")\n",
    "digit_sum = 0\n",
    "digit_count = 0\n",
    "\n",
    "\n",
    "for char in input_string:\n",
    "    if char.isdigit():  \n",
    "        digit_sum += int(char)  \n",
    "        digit_count += 1  \n",
    "\n",
    "average = digit_sum / digit_count if digit_count > 0 else 0\n",
    "\n",
    "print(f\"Sum: {digit_sum}\")\n",
    "print(f\"Avg: {average:.2f}\")"
   ]
  },
  {
   "cell_type": "markdown",
   "id": "5a0f514d-00b8-4ab1-99e5-b18371b9b2d0",
   "metadata": {},
   "source": [
    "#### Question15"
   ]
  },
  {
   "cell_type": "code",
   "execution_count": 43,
   "id": "bb44ee29-c85e-4424-ac6b-c883e2d20b23",
   "metadata": {},
   "outputs": [
    {
     "name": "stdout",
     "output_type": "stream",
     "text": [
      "2510\n"
     ]
    }
   ],
   "source": [
    "str1 = 'I am 25 years and 10 months old'\n",
    "\n",
    "\n",
    "result = ''\n",
    "\n",
    "\n",
    "for char in str1:\n",
    "    if char.isdigit(): \n",
    "        result += char\n",
    "\n",
    "# Print the output\n",
    "print(result)"
   ]
  },
  {
   "cell_type": "markdown",
   "id": "28d91869-b31d-4244-86a0-1b58737eacf9",
   "metadata": {},
   "source": [
    "#### Question16"
   ]
  },
  {
   "cell_type": "code",
   "execution_count": 44,
   "id": "dc7bf579-8674-4b79-b926-16e184dcb60c",
   "metadata": {},
   "outputs": [
    {
     "name": "stdout",
     "output_type": "stream",
     "text": [
      "The entered string is symmetrical.\n"
     ]
    }
   ],
   "source": [
    "def is_symmetrical(string):\n",
    "    n = len(string)\n",
    "    mid = n // 2\n",
    "\n",
    "    \n",
    "    if n % 2 != 0:\n",
    "        first_half = string[:mid]\n",
    "        second_half = string[mid + 1:]\n",
    "    else:\n",
    "        first_half = string[:mid]\n",
    "        second_half = string[mid:]\n",
    "\n",
    "    \n",
    "    if first_half == second_half:\n",
    "        return \"The entered string is symmetrical.\"\n",
    "    else:\n",
    "        return \"The entered string is not symmetrical.\"\n",
    "\n",
    "input_string = \"khokho\"\n",
    "output = is_symmetrical(input_string)\n",
    "print(output)"
   ]
  },
  {
   "cell_type": "markdown",
   "id": "9c96f305-9f6e-436c-8396-f3f50c6a2bcc",
   "metadata": {},
   "source": [
    "#### Question17"
   ]
  },
  {
   "cell_type": "code",
   "execution_count": 47,
   "id": "1b1da4a0-e808-44d4-a1d1-560e114b8a78",
   "metadata": {},
   "outputs": [
    {
     "name": "stdout",
     "output_type": "stream",
     "text": [
      "laxmi is name my\n"
     ]
    }
   ],
   "source": [
    "def reverse_words(input_string):\n",
    "    words = input_string.split()\n",
    "    reversed_words = words[::-1]\n",
    "    result = ' '.join(reversed_words)\n",
    "    return result\n",
    "\n",
    "\n",
    "\n",
    "input_string = \"my name is laxmi\"\n",
    "output = reverse_words(input_string)\n",
    "print(output) "
   ]
  },
  {
   "cell_type": "markdown",
   "id": "34cf0051-8a1c-4fbf-bea5-0c6e1a631146",
   "metadata": {},
   "source": [
    "#### Question18"
   ]
  },
  {
   "cell_type": "code",
   "execution_count": 48,
   "id": "c2804a10-39c1-4787-9dea-28c3df01b0a8",
   "metadata": {},
   "outputs": [
    {
     "name": "stdout",
     "output_type": "stream",
     "text": [
      "['apple', 'fruits']\n"
     ]
    }
   ],
   "source": [
    "def uncommon_words(A, B):\n",
    "    words_A = A.split()\n",
    "    words_B = B.split()\n",
    "    word_count = {}\n",
    "    for word in words_A:\n",
    "        word_count[word] = word_count.get(word, 0) + 1\n",
    "    \n",
    "\n",
    "    for word in words_B:\n",
    "        word_count[word] = word_count.get(word, 0) + 1\n",
    "    \n",
    "    \n",
    "    uncommon = [word for word in word_count if word_count[word] == 1]\n",
    "    \n",
    "    return uncommon\n",
    "\n",
    "\n",
    "A = \"apple banana mango\"\n",
    "B = \"banana fruits mango\"\n",
    "output = uncommon_words(A, B)\n",
    "print(output)  "
   ]
  },
  {
   "cell_type": "markdown",
   "id": "bd8a7dd0-c01c-4f08-845f-ef22b6467f1b",
   "metadata": {},
   "source": [
    "#### Question19"
   ]
  },
  {
   "cell_type": "code",
   "execution_count": 49,
   "id": "adedfa4a-4403-4b9c-acc9-e3e30cff3765",
   "metadata": {},
   "outputs": [
    {
     "name": "stdout",
     "output_type": "stream",
     "text": [
      "Location of the word is 6.\n"
     ]
    }
   ],
   "source": [
    "def find_word_location(sentence, word):\n",
    "    words = sentence.split()\n",
    "    position = 0\n",
    "    for current_word in words:\n",
    "        if current_word == word:\n",
    "            return position \n",
    "        position += 1\n",
    "    \n",
    "    return -1 \n",
    "\n",
    "\n",
    "sentence = \"We can learn data science through campusx mentorship program.\"\n",
    "word = \"campusx\"\n",
    "location = find_word_location(sentence, word)\n",
    "\n",
    "if location != -1:\n",
    "    print(f\"Location of the word is {location}.\")\n",
    "else:\n",
    "    print(\"The word is not found in the sentence.\")"
   ]
  },
  {
   "cell_type": "markdown",
   "id": "e1c88a9c-d713-4916-b4d4-f407e617e15d",
   "metadata": {},
   "source": [
    "#### Question20"
   ]
  },
  {
   "cell_type": "code",
   "execution_count": 50,
   "id": "0eb25896-6492-4e24-b132-71802c84257e",
   "metadata": {},
   "outputs": [
    {
     "name": "stdin",
     "output_type": "stream",
     "text": [
      "Enter a string:  anurag singh is anurag\n"
     ]
    },
    {
     "name": "stdout",
     "output_type": "stream",
     "text": [
      "String after removing duplicates: anurg sih\n"
     ]
    }
   ],
   "source": [
    "def remove_duplicates(input_string):\n",
    "    seen = set()\n",
    "    result = []\n",
    "    for char in input_string:\n",
    "        if char not in seen:\n",
    "            seen.add(char)  \n",
    "            result.append(char) \n",
    "\n",
    "    \n",
    "    return ''.join(result)\n",
    "\n",
    "\n",
    "user_input = input(\"Enter a string: \")\n",
    "output = remove_duplicates(user_input)\n",
    "print(\"String after removing duplicates:\", output)"
   ]
  },
  {
   "cell_type": "code",
   "execution_count": null,
   "id": "6fbcd196-728d-43f9-8f95-165870d40bb2",
   "metadata": {},
   "outputs": [],
   "source": []
  }
 ],
 "metadata": {
  "kernelspec": {
   "display_name": "Python 3 (ipykernel)",
   "language": "python",
   "name": "python3"
  },
  "language_info": {
   "codemirror_mode": {
    "name": "ipython",
    "version": 3
   },
   "file_extension": ".py",
   "mimetype": "text/x-python",
   "name": "python",
   "nbconvert_exporter": "python",
   "pygments_lexer": "ipython3",
   "version": "3.11.3"
  }
 },
 "nbformat": 4,
 "nbformat_minor": 5
}
