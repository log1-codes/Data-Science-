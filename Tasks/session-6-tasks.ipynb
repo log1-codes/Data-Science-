{
 "cells": [
  {
   "cell_type": "markdown",
   "id": "808424fa-edde-47e1-bafa-17cf67ba9adb",
   "metadata": {},
   "source": [
    "#### Question1 "
   ]
  },
  {
   "cell_type": "code",
   "execution_count": 1,
   "id": "f135d114-6a5e-4344-9e4b-afc0b4a2672a",
   "metadata": {},
   "outputs": [
    {
     "name": "stdout",
     "output_type": "stream",
     "text": [
      "[1, 2, 3, 4, 5, 6]\n"
     ]
    }
   ],
   "source": [
    "def unique_elements(input_list):\n",
    "    unique_list = [] \n",
    "    seen = set()\n",
    "    for item in input_list:\n",
    "        if item not in seen:\n",
    "            seen.add(item)\n",
    "            unique_list.append(item)\n",
    "    return unique_list\n",
    "\n",
    "input_Data = [1,2,3,3,3,4,3,2,4,5,6]\n",
    "output_Data = unique_elements(input_Data)\n",
    "print(output_Data)"
   ]
  },
  {
   "cell_type": "markdown",
   "id": "4ef2d16c-564e-4370-a349-07fba1ed78aa",
   "metadata": {},
   "source": [
    "#### Question2 "
   ]
  },
  {
   "cell_type": "code",
   "execution_count": 2,
   "id": "d2a865ec-3239-4b9a-b832-d3202fe9f5d6",
   "metadata": {},
   "outputs": [
    {
     "name": "stdout",
     "output_type": "stream",
     "text": [
      "black-green-red-white-yellow\n"
     ]
    }
   ],
   "source": [
    "def sort_unhyphenated_words(hyphenated_string):\n",
    "    words = hyphenated_string.split('-')\n",
    "    sorted_Words = sorted(words)\n",
    "    sorted_unhyphenated_string = '-'.join(sorted_Words)\n",
    "    return sorted_unhyphenated_string\n",
    "\n",
    "input_Data= \"green-red-yellow-black-white\"\n",
    "output_Data = sort_unhyphenated_words(input_Data)\n",
    "print(output_Data)"
   ]
  },
  {
   "cell_type": "markdown",
   "id": "6a83de6a-c415-449c-a60a-76c4e5bbf2f9",
   "metadata": {},
   "source": [
    "#### Question 3"
   ]
  },
  {
   "cell_type": "code",
   "execution_count": 6,
   "id": "0c838313-9b97-4b12-8156-e1289bce0de6",
   "metadata": {},
   "outputs": [
    {
     "name": "stdout",
     "output_type": "stream",
     "text": [
      "No. of Upper case characters : 9\n",
      "No. of Lower case characters : 47\n"
     ]
    }
   ],
   "source": [
    "def count_case_characters(input_string):\n",
    "    upper_case_count = 0\n",
    "    lower_case_count = 0\n",
    "    \n",
    "    for char in input_string:\n",
    "        if char.isupper():\n",
    "            upper_case_count += 1\n",
    "        elif char.islower():\n",
    "            lower_case_count += 1\n",
    "            \n",
    "    return upper_case_count, lower_case_count\n",
    "\n",
    "# Example usage\n",
    "sample_string = 'CampusX is an Online Mentorship Program fOr EnginEering studentS.'\n",
    "upper_count, lower_count = count_case_characters(sample_string)\n",
    "print(f'No. of Upper case characters : {upper_count}')\n",
    "print(f'No. of Lower case characters : {lower_count}')"
   ]
  },
  {
   "cell_type": "markdown",
   "id": "54932e84-ecd3-4892-9f4a-b8d2a384c4de",
   "metadata": {},
   "source": [
    "#### Question 4"
   ]
  },
  {
   "cell_type": "code",
   "execution_count": 7,
   "id": "d89e78fd-8060-4971-9d86-2e9c16bde959",
   "metadata": {},
   "outputs": [
    {
     "name": "stdout",
     "output_type": "stream",
     "text": [
      "Even numbers: [2, 4, 6, 8]\n"
     ]
    }
   ],
   "source": [
    "numbers = [1, 2, 3, 4, 5, 6, 7, 8, 9]\n",
    "even_numbers = [num for num in numbers if num % 2 == 0]\n",
    "print(\"Even numbers:\", even_numbers)\n"
   ]
  },
  {
   "cell_type": "markdown",
   "id": "aae172aa-d6e5-49a6-8d64-90bd3ab36b4c",
   "metadata": {},
   "source": [
    "#### Question 5"
   ]
  },
  {
   "cell_type": "code",
   "execution_count": 9,
   "id": "e58e8ccb-bbde-40b2-9a28-e41d6db8cc5d",
   "metadata": {},
   "outputs": [
    {
     "name": "stdout",
     "output_type": "stream",
     "text": [
      "6 is perfect: True\n",
      "28 is perfect: True\n",
      "496 is perfect: True\n",
      "8128 is perfect: True\n",
      "12 is perfect: False\n",
      "97 is perfect: False\n"
     ]
    }
   ],
   "source": [
    "def is_perfect_num(n):\n",
    "\n",
    "    divisors =[i for i in range(1,n+1) if n%i ==0]\n",
    "    total = sum(divisors)\n",
    "\n",
    "    return n== total//2 \n",
    "\n",
    "test_numbers = [6,28,496, 8128,12,97] \n",
    "for num in test_numbers:\n",
    "    print(f\"{num} is perfect: {is_perfect_num(num)}\")"
   ]
  },
  {
   "cell_type": "markdown",
   "id": "67334c75-129c-46c9-894a-712b65851f21",
   "metadata": {},
   "source": [
    "#### Question 6"
   ]
  },
  {
   "cell_type": "code",
   "execution_count": 11,
   "id": "a565f71f-bb5c-4e7e-a7f2-804037840b2a",
   "metadata": {},
   "outputs": [
    {
     "name": "stdout",
     "output_type": "stream",
     "text": [
      "Concatenated Dictionary: {1: 10, 2: 20, 3: 30, 4: 40, 5: 50, 6: 60}\n"
     ]
    }
   ],
   "source": [
    "def concatenate_dicts(*dicts):\n",
    "    result = {}\n",
    "    for d in dicts:\n",
    "        result.update(d)\n",
    "    return result\n",
    "\n",
    "dic1 = {1: 10, 2: 20}\n",
    "dic2 = {3: 30, 4: 40}\n",
    "dic3 = {5: 50, 6: 60}\n",
    "\n",
    "combined_dict = concatenate_dicts(dic1, dic2, dic3)\n",
    "print(\"Concatenated Dictionary:\", combined_dict)\n"
   ]
  },
  {
   "cell_type": "markdown",
   "id": "c373b9d8-d3d2-451c-acc1-f2eb836f49df",
   "metadata": {},
   "source": [
    "#### Question 7"
   ]
  },
  {
   "cell_type": "code",
   "execution_count": 13,
   "id": "128ffa6e-8f0d-48d6-af33-6622cec3e3fe",
   "metadata": {},
   "outputs": [
    {
     "name": "stdout",
     "output_type": "stream",
     "text": [
      "you --> 2\n"
     ]
    }
   ],
   "source": [
    "from collections import Counter\n",
    "def most_frequent_word(text):\n",
    "    words = text.split()\n",
    "    word_counts = Counter(words)\n",
    "    most_common = word_counts.most_common(1)[0] \n",
    "    return f\"{most_common[0]} --> {most_common[1]}\"\n",
    "\n",
    "input_text = 'hello how are you i am fine thank you'\n",
    "print(most_frequent_word(input_text))"
   ]
  },
  {
   "cell_type": "markdown",
   "id": "7f850773-cf95-4e7b-bcca-4fff9e5e59b1",
   "metadata": {},
   "source": [
    "#### Question 8 "
   ]
  },
  {
   "cell_type": "code",
   "execution_count": 15,
   "id": "3bb1d292-f0c5-48b2-a2c4-ac07bd6229ee",
   "metadata": {},
   "outputs": [
    {
     "name": "stdout",
     "output_type": "stream",
     "text": [
      "{'11-20': 2, '21-30': 1, '31-40': 2, '41-50': 3}\n"
     ]
    }
   ],
   "source": [
    "from collections import defaultdict\n",
    "\n",
    "def histogram_bin_10(numbers):\n",
    "    histogram = defaultdict(int)\n",
    "    \n",
    "    for num in numbers:\n",
    "        lower = (num - 1) // 10 * 10 + 1\n",
    "        upper = lower + 9\n",
    "        key = f\"{lower}-{upper}\"\n",
    "        histogram[key] += 1\n",
    "\n",
    "    sorted_histogram = dict(sorted(histogram.items(), key=lambda x: int(x[0].split('-')[0])))\n",
    "    print(sorted_histogram)\n",
    "\n",
    "numbers = [13, 42, 15, 37, 22, 39, 41, 50]\n",
    "histogram_bin_10(numbers)\n"
   ]
  },
  {
   "cell_type": "markdown",
   "id": "8964f9cf-d9f5-45aa-a2a2-7dcc319dc8fd",
   "metadata": {},
   "source": [
    "#### Question 9"
   ]
  },
  {
   "cell_type": "code",
   "execution_count": 16,
   "id": "fb47b9fd-6eec-4e5e-8122-60355088a01e",
   "metadata": {},
   "outputs": [
    {
     "name": "stdout",
     "output_type": "stream",
     "text": [
      "Nearest to (0, 0) is (1, 1)\n"
     ]
    }
   ],
   "source": [
    "import math\n",
    "\n",
    "def find_nearest(coordinates, query_point):\n",
    "    min_distance = float('inf')\n",
    "    nearest_point = None\n",
    "\n",
    "    for point in coordinates:\n",
    "        distance = math.sqrt((point[0] - query_point[0])**2 + (point[1] - query_point[1])**2)\n",
    "        if distance < min_distance:\n",
    "            min_distance = distance\n",
    "            nearest_point = point\n",
    "\n",
    "    print(f\"Nearest to {query_point} is {nearest_point}\")\n",
    "\n",
    "coordinates = [(1, 1), (2, 2), (3, 3), (4, 4)]\n",
    "query_point = (0, 0)\n",
    "find_nearest(coordinates, query_point)"
   ]
  },
  {
   "cell_type": "markdown",
   "id": "a72a912f-fc71-4e20-b734-a61a914d4dbf",
   "metadata": {},
   "source": [
    "#### Question 10"
   ]
  },
  {
   "cell_type": "code",
   "execution_count": 17,
   "id": "4d1486ea-559f-4563-bfb2-c5e0034de4c4",
   "metadata": {},
   "outputs": [
    {
     "name": "stdout",
     "output_type": "stream",
     "text": [
      "Vocabulary: ['fun', 'i', 'is', 'learning', 'love', 'new', 'programming', 'things']\n",
      "Bag of Words Matrix:\n",
      "[0, 1, 0, 0, 1, 0, 1, 0]\n",
      "[1, 0, 1, 0, 0, 0, 1, 0]\n",
      "[0, 1, 0, 1, 1, 1, 0, 1]\n"
     ]
    }
   ],
   "source": [
    "def bag_of_words_manual(text_list):\n",
    "    vocabulary = set()\n",
    "    tokenized_texts = []\n",
    "\n",
    "    for text in text_list:\n",
    "        words = text.lower().split()\n",
    "        tokenized_texts.append(words)\n",
    "        vocabulary.update(words)\n",
    "\n",
    "    \n",
    "    vocabulary = sorted(vocabulary)\n",
    "\n",
    "   \n",
    "    bow_matrix = []\n",
    "    for words in tokenized_texts:\n",
    "        word_counts = [words.count(word) for word in vocabulary]\n",
    "        bow_matrix.append(word_counts)\n",
    "\n",
    "    \n",
    "    print(\"Vocabulary:\", vocabulary)\n",
    "    print(\"Bag of Words Matrix:\")\n",
    "    for row in bow_matrix:\n",
    "        print(row)\n",
    "\n",
    "\n",
    "texts = [\n",
    "    \"I love programming\",\n",
    "    \"Programming is fun\",\n",
    "    \"I love learning new things\"\n",
    "]\n",
    "\n",
    "bag_of_words_manual(texts)\n"
   ]
  },
  {
   "cell_type": "markdown",
   "id": "7a8c9980-e39a-414e-9d2b-1c13c95089af",
   "metadata": {},
   "source": [
    "#### Question 11 "
   ]
  },
  {
   "cell_type": "code",
   "execution_count": 18,
   "id": "e28d4ee4-5989-40e8-a5a6-a702198299e8",
   "metadata": {},
   "outputs": [
    {
     "name": "stdout",
     "output_type": "stream",
     "text": [
      "Result of adding three lists: [12, 15, 18]\n"
     ]
    }
   ],
   "source": [
    "list1 = [1, 2, 3]\n",
    "list2 = [4, 5, 6]\n",
    "list3 = [7, 8, 9]\n",
    "result = list(map(lambda x, y, z: x + y + z, list1, list2, list3))\n",
    "print(\"Result of adding three lists:\", result)\n"
   ]
  },
  {
   "cell_type": "markdown",
   "id": "01717340-fa9c-4e4a-b037-889c95f9cda9",
   "metadata": {},
   "source": [
    "#### Question 12"
   ]
  },
  {
   "cell_type": "code",
   "execution_count": 19,
   "id": "155ac774-9551-48e0-8324-ae1e410c4e14",
   "metadata": {},
   "outputs": [
    {
     "name": "stdout",
     "output_type": "stream",
     "text": [
      "Result: [1, 3, 16, 125]\n"
     ]
    }
   ],
   "source": [
    "base_numbers = [2, 3, 4, 5]\n",
    "result = list(map(lambda base, index: base ** index, base_numbers, range(len(base_numbers))))\n",
    "print(\"Result:\", result)"
   ]
  },
  {
   "cell_type": "markdown",
   "id": "5bca44ad-50bf-4b5f-a573-eba3427453a8",
   "metadata": {},
   "source": [
    "#### Question13 "
   ]
  },
  {
   "cell_type": "code",
   "execution_count": 20,
   "id": "45966c99-8720-4fda-aeac-84115c00b64f",
   "metadata": {},
   "outputs": [
    {
     "name": "stdout",
     "output_type": "stream",
     "text": [
      "String without vowels: Hll Wrld\n"
     ]
    }
   ],
   "source": [
    "def filter_vowels(input_string):\n",
    "    vowels = 'aeiou'\n",
    "    filtered_string = list(filter(lambda char: char.lower() not in vowels, input_string))\n",
    "    \n",
    "    return ''.join(filtered_string)\n",
    "input_string = \"Hello World\"\n",
    "result = filter_vowels(input_string)\n",
    "\n",
    "print(\"String without vowels:\", result)\n"
   ]
  },
  {
   "cell_type": "markdown",
   "id": "c06019a7-925e-4081-a33f-093011369d00",
   "metadata": {},
   "source": [
    "#### Question 14 "
   ]
  },
  {
   "cell_type": "code",
   "execution_count": 21,
   "id": "89bda706-6edd-464a-a75d-1a738bf268e8",
   "metadata": {},
   "outputs": [
    {
     "name": "stdout",
     "output_type": "stream",
     "text": [
      "Flattened list: [1, 2, 3, 4, 5, 6]\n"
     ]
    }
   ],
   "source": [
    "from functools import reduce\n",
    "\n",
    "def flatten_2d_to_1d(two_d_list):\n",
    "    return reduce(lambda x, y: x + y, two_d_list)\n",
    "\n",
    "\n",
    "two_d_list = [[1, 2], [3, 4], [5, 6]]\n",
    "result = flatten_2d_to_1d(two_d_list)\n",
    "\n",
    "print(\"Flattened list:\", result)\n"
   ]
  },
  {
   "cell_type": "markdown",
   "id": "de5dfdba-d275-4e30-82c7-ad2ccab5d98f",
   "metadata": {},
   "source": [
    "#### Question 15 "
   ]
  },
  {
   "cell_type": "code",
   "execution_count": 22,
   "id": "7f7eaf37-1da6-4ed4-bb94-edd47fd40e2c",
   "metadata": {},
   "outputs": [
    {
     "name": "stdout",
     "output_type": "stream",
     "text": [
      "Highly-skilled employees: ['Neha Singh', 'Abhinav Sharma']\n"
     ]
    }
   ],
   "source": [
    "employees = [\n",
    "    {'fname': 'Nitish', 'lname': 'Singh', 'age': 33, 'grade': 'skilled'},\n",
    "    {'fname': 'Ankit', 'lname': 'Verma', 'age': 34, 'grade': 'semi-skilled'},\n",
    "    {'fname': 'Neha', 'lname': 'Singh', 'age': 35, 'grade': 'highly-skilled'},\n",
    "    {'fname': 'Anurag', 'lname': 'Kumar', 'age': 30, 'grade': 'skilled'},\n",
    "    {'fname': 'Abhinav', 'lname': 'Sharma', 'age': 37, 'grade': 'highly-skilled'}\n",
    "]\n",
    "\n",
    "highly_skilled_employees = list(\n",
    "    map(lambda emp: f\"{emp['fname']} {emp['lname']}\", \n",
    "        filter(lambda emp: emp['grade'] == 'highly-skilled', employees))\n",
    ")\n",
    "\n",
    "print(\"Highly-skilled employees:\", highly_skilled_employees)\n"
   ]
  },
  {
   "cell_type": "code",
   "execution_count": null,
   "id": "682aa35d-cbb8-4e25-b8a0-37c195a03f10",
   "metadata": {},
   "outputs": [],
   "source": []
  }
 ],
 "metadata": {
  "kernelspec": {
   "display_name": "Python 3 (ipykernel)",
   "language": "python",
   "name": "python3"
  },
  "language_info": {
   "codemirror_mode": {
    "name": "ipython",
    "version": 3
   },
   "file_extension": ".py",
   "mimetype": "text/x-python",
   "name": "python",
   "nbconvert_exporter": "python",
   "pygments_lexer": "ipython3",
   "version": "3.11.3"
  }
 },
 "nbformat": 4,
 "nbformat_minor": 5
}
