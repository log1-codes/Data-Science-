{
 "cells": [
  {
   "cell_type": "markdown",
   "id": "ee86671b-c4d1-4d3a-af2e-9636fe158512",
   "metadata": {},
   "source": [
    "# Lists in Python"
   ]
  },
  {
   "cell_type": "code",
   "execution_count": 1,
   "id": "0a565498-caf1-4377-ac6d-af0392fd872d",
   "metadata": {},
   "outputs": [],
   "source": [
    "#list is a data type where you can store multiple items under 1 name. More technicallly , list acts like dynamic array which means you can add more item on the fly "
   ]
  },
  {
   "cell_type": "code",
   "execution_count": 2,
   "id": "09080745-b8a1-4c64-82e9-1c981ed9b318",
   "metadata": {},
   "outputs": [],
   "source": [
    "#Array vs list \n",
    "    #fixed memory size\n",
    "    #convinience --> hetrogenous\n",
    "    #speed of execution\n",
    "    #memory"
   ]
  },
  {
   "cell_type": "code",
   "execution_count": 3,
   "id": "ddad4b55-5d73-4477-9ec3-51add6fec47e",
   "metadata": {},
   "outputs": [],
   "source": [
    "#charactersticks of list \n",
    "    #ordered\n",
    "    #changable/mutable\n",
    "    #hetrogeneous\n",
    "    #can have duplicates\n",
    "    #are dynamic\n",
    "    #can be nested\n",
    "    #items can be accessed \n",
    "    #can contain any kind of objects in python"
   ]
  },
  {
   "cell_type": "code",
   "execution_count": 4,
   "id": "88d4c5f0-348e-4132-9a4f-074fd7f9acda",
   "metadata": {},
   "outputs": [
    {
     "name": "stdout",
     "output_type": "stream",
     "text": [
      "140737147036488\n"
     ]
    }
   ],
   "source": [
    "a =2 \n",
    "print(id(a))"
   ]
  },
  {
   "cell_type": "code",
   "execution_count": 5,
   "id": "bdc7f2c1-e0a1-4c6d-ad47-d03ab2c6ca20",
   "metadata": {},
   "outputs": [
    {
     "name": "stdout",
     "output_type": "stream",
     "text": [
      "2719723171584\n",
      "140737147036456\n",
      "140737147036488\n",
      "140737147036520\n",
      "140737147036456\n",
      "140737147036488\n",
      "140737147036520\n"
     ]
    }
   ],
   "source": [
    "L =[1,2,3]\n",
    "print(id(L))\n",
    "print(id(L[0]))\n",
    "print(id(L[1]))\n",
    "print(id(L[2]))\n",
    "print(id(1))\n",
    "print(id(2))\n",
    "print(id(3))"
   ]
  },
  {
   "cell_type": "markdown",
   "id": "575b0f23-2d23-4306-b650-98c39398c7f7",
   "metadata": {},
   "source": [
    "# Creating a List "
   ]
  },
  {
   "cell_type": "code",
   "execution_count": 6,
   "id": "0101eb44-3bfb-48b6-90ce-3a4cc59a94bc",
   "metadata": {},
   "outputs": [
    {
     "name": "stdout",
     "output_type": "stream",
     "text": [
      "[]\n",
      "[1, 2, 3, 4, 5]\n",
      "[1, 2, 3, 4, [1, 2, 3]]\n",
      "[[[1, 2], [3, 4]], [[5, 6], [7, 8]]]\n",
      "[1, True, 5.6, (5+6j), 'Hello']\n",
      "['H', 'e', 'l', 'l', 'o']\n"
     ]
    }
   ],
   "source": [
    "# Empty\n",
    "print([])\n",
    "#1D \n",
    "print([1,2,3,4,5])\n",
    "#2D\n",
    "print([1,2,3,4,[1,2,3]]) #hetrogenous\n",
    "#3D\n",
    "print([[[1,2],[3,4]],[[5,6],[7,8]]])#3D List (homogeneous ) because in one list all other items are also list \n",
    "#Hetrogenous List\n",
    "print([1,True,5.6,5+6j,'Hello'])\n",
    "#Using type conversion\n",
    "print(list('Hello'))"
   ]
  },
  {
   "cell_type": "markdown",
   "id": "a5cd9234-f0f8-456d-bdf2-6e71874a3ce4",
   "metadata": {},
   "source": [
    "# Accessing Items from List "
   ]
  },
  {
   "cell_type": "code",
   "execution_count": 7,
   "id": "dbf5ba8e-b3c3-48c9-9e90-2962dffbf33d",
   "metadata": {},
   "outputs": [
    {
     "name": "stdout",
     "output_type": "stream",
     "text": [
      "1\n"
     ]
    },
    {
     "ename": "IndexError",
     "evalue": "list index out of range",
     "output_type": "error",
     "traceback": [
      "\u001b[1;31m---------------------------------------------------------------------------\u001b[0m",
      "\u001b[1;31mIndexError\u001b[0m                                Traceback (most recent call last)",
      "Cell \u001b[1;32mIn[7], line 7\u001b[0m\n\u001b[0;32m      3\u001b[0m L1 \u001b[38;5;241m=\u001b[39m[\u001b[38;5;241m1\u001b[39m,\u001b[38;5;241m2\u001b[39m,\u001b[38;5;241m3\u001b[39m,\u001b[38;5;241m4\u001b[39m,\u001b[38;5;241m5\u001b[39m]\n\u001b[0;32m      6\u001b[0m \u001b[38;5;28mprint\u001b[39m(L[\u001b[38;5;241m0\u001b[39m]) \u001b[38;5;66;03m# positive indexing (left se right jata hai and zero se start hota hai)\u001b[39;00m\n\u001b[1;32m----> 7\u001b[0m \u001b[38;5;28mprint\u001b[39m(\u001b[43mL\u001b[49m\u001b[43m[\u001b[49m\u001b[38;5;241;43m3\u001b[39;49m\u001b[43m]\u001b[49m)\n\u001b[0;32m      8\u001b[0m \u001b[38;5;28mprint\u001b[39m(L[\u001b[38;5;241m-\u001b[39m\u001b[38;5;241m1\u001b[39m])\u001b[38;5;66;03m# negative indexing (right se left jata hai and -1 se start hota hai)\u001b[39;00m\n\u001b[0;32m     11\u001b[0m L2 \u001b[38;5;241m=\u001b[39m[\u001b[38;5;241m1\u001b[39m,\u001b[38;5;241m2\u001b[39m,\u001b[38;5;241m3\u001b[39m,[\u001b[38;5;241m4\u001b[39m,\u001b[38;5;241m5\u001b[39m]]\n",
      "\u001b[1;31mIndexError\u001b[0m: list index out of range"
     ]
    }
   ],
   "source": [
    "#indexing \n",
    "\n",
    "L1 =[1,2,3,4,5]\n",
    "\n",
    "\n",
    "print(L[0]) # positive indexing (left se right jata hai and zero se start hota hai)\n",
    "print(L[3])\n",
    "print(L[-1])# negative indexing (right se left jata hai and -1 se start hota hai)\n",
    "\n",
    "\n",
    "L2 =[1,2,3,[4,5]]\n",
    "print(L2[-1])\n",
    "print(L2[-1][-2])\n",
    "print(L2[3][0])\n",
    "\n",
    "\n",
    "L3 =  [[[1,2],[3,4]],[[5,6],[7,8]]]\n",
    "print(L3[0])\n",
    "print(L3[0][0])\n",
    "print(L3[0][0][0])\n",
    "print(L3[0][1][0])\n",
    "print(L3[0][0][1])\n",
    "\n",
    "#slicing \n",
    "L4 = [1,2,3,4,5,6]\n",
    "print(L4[0:3])\n",
    "print(L4[-3:])\n",
    "print(L4[0::2])\n",
    "print(L4[-5:-2:2])\n",
    "print(L[::-1]) # reversing the list "
   ]
  },
  {
   "cell_type": "markdown",
   "id": "2eaf8bf1-dbea-4b5d-ac0d-506c8341f82f",
   "metadata": {},
   "source": [
    "# Adding items to a list"
   ]
  },
  {
   "cell_type": "code",
   "execution_count": 1,
   "id": "a072d5d3-c707-4651-ad69-c7d8e43c5c54",
   "metadata": {},
   "outputs": [
    {
     "name": "stdout",
     "output_type": "stream",
     "text": [
      "[1, 2, 3, 4, 5, 'p', 8]\n"
     ]
    }
   ],
   "source": [
    "#append\n",
    "L =[1,2,3,4,5]\n",
    "L.append('p')\n",
    "L.append(8)\n",
    "print(L)"
   ]
  },
  {
   "cell_type": "code",
   "execution_count": 2,
   "id": "89bf9591-8fcc-4535-9ceb-141a0129c051",
   "metadata": {},
   "outputs": [
    {
     "name": "stdout",
     "output_type": "stream",
     "text": [
      "[1, 2, 3, 4, 5, 6, 7, 8]\n"
     ]
    }
   ],
   "source": [
    "#extend\n",
    "L = [1]\n",
    "L.extend([2,3,4,5,6,7,8])\n",
    "print(L)"
   ]
  },
  {
   "cell_type": "code",
   "execution_count": 3,
   "id": "4659a2a5-e4d0-401b-a43b-fd4add6bef54",
   "metadata": {},
   "outputs": [
    {
     "name": "stdout",
     "output_type": "stream",
     "text": [
      "[1, 2, 3, 4, 5, [6, 7, 8]]\n"
     ]
    }
   ],
   "source": [
    "L =[1,2,3,4,5]\n",
    "L.append([6,7,8])\n",
    "print(L)"
   ]
  },
  {
   "cell_type": "code",
   "execution_count": 4,
   "id": "1a568fb4-ae0c-45c5-9297-dba8a6f9d86f",
   "metadata": {},
   "outputs": [
    {
     "name": "stdout",
     "output_type": "stream",
     "text": [
      "[1, 2, 3, 4, 5, 'd', 'e', 'h', 'l', 'i']\n"
     ]
    }
   ],
   "source": [
    "L =[1,2,3,4,5]\n",
    "L.extend('dehli')\n",
    "print(L)"
   ]
  },
  {
   "cell_type": "code",
   "execution_count": 5,
   "id": "3ed5a5f8-0228-4ca5-8922-5355f1e6ee07",
   "metadata": {},
   "outputs": [
    {
     "name": "stdout",
     "output_type": "stream",
     "text": [
      "[1, 100, 2, 3, 4, 5, 6]\n"
     ]
    }
   ],
   "source": [
    "#insert\n",
    "L =[1,2,3,4,5,6]\n",
    "L.insert(1,100)\n",
    "print(L)"
   ]
  },
  {
   "cell_type": "markdown",
   "id": "0f0ae3dc-0647-48f5-a161-0e4513940ead",
   "metadata": {},
   "source": [
    "# Edit exsiting items in the list "
   ]
  },
  {
   "cell_type": "code",
   "execution_count": 6,
   "id": "bb10fd8b-7bf6-4c4f-b3ba-fde085c974f3",
   "metadata": {},
   "outputs": [
    {
     "name": "stdout",
     "output_type": "stream",
     "text": [
      "[1, 2, 3, 4, 500]\n"
     ]
    }
   ],
   "source": [
    "#editing with indexing\n",
    "L =[1,2,3,4,5]\n",
    "L[-1] = 500\n",
    "print(L)"
   ]
  },
  {
   "cell_type": "code",
   "execution_count": 7,
   "id": "fc8467e8-0776-4038-b2b9-d0d6dafbdb4e",
   "metadata": {},
   "outputs": [
    {
     "name": "stdout",
     "output_type": "stream",
     "text": [
      "[1, 200, 300, 400, 500]\n"
     ]
    }
   ],
   "source": [
    "#editing with slicing\n",
    "L[1:4] = [200,300,400]\n",
    "print(L)"
   ]
  },
  {
   "cell_type": "markdown",
   "id": "fcdf2280-b98b-4e50-9a40-0bb87a8263ec",
   "metadata": {},
   "source": [
    "# Deleting items from the list "
   ]
  },
  {
   "cell_type": "code",
   "execution_count": 10,
   "id": "b792f24c-7b94-4767-9af1-58ec776978b8",
   "metadata": {},
   "outputs": [
    {
     "name": "stdout",
     "output_type": "stream",
     "text": [
      "[1, 2, 3, 4, 5]\n",
      "[1, 4]\n"
     ]
    }
   ],
   "source": [
    "# del\n",
    "L =[1,2,3,4,5]\n",
    "print(L)\n",
    "# del L\n",
    "# print(L) # L has been deleted \n",
    "\n",
    "#indexing\n",
    "del(L[-1])\n",
    "\n",
    "#slicing \n",
    "del(L[1:3])\n",
    "print(L)"
   ]
  },
  {
   "cell_type": "code",
   "execution_count": 11,
   "id": "d22bde9c-b635-419f-ac76-04405b3f6e86",
   "metadata": {},
   "outputs": [
    {
     "name": "stdout",
     "output_type": "stream",
     "text": [
      "[1, 2, 3, 4]\n"
     ]
    }
   ],
   "source": [
    "# remove\n",
    "L=[1,2,3,4,5]\n",
    "L.remove(5) # deletes the valuewise\n",
    "print(L)"
   ]
  },
  {
   "cell_type": "code",
   "execution_count": 12,
   "id": "825a22bc-ee2f-4ad0-8eab-a70fe9e810a2",
   "metadata": {},
   "outputs": [
    {
     "name": "stdout",
     "output_type": "stream",
     "text": [
      "[2, 3, 4]\n"
     ]
    }
   ],
   "source": [
    "# pop\n",
    "L=[1,2,3,4,5]\n",
    "L.pop(0) # remove item using the index\n",
    "L.pop() #delets the last item ([2, 3, 4])\n",
    "print(L)"
   ]
  },
  {
   "cell_type": "code",
   "execution_count": 13,
   "id": "f2d369e0-0a8a-4059-8a17-c79fe98c15b0",
   "metadata": {},
   "outputs": [
    {
     "name": "stdout",
     "output_type": "stream",
     "text": [
      "[]\n"
     ]
    }
   ],
   "source": [
    "#clear\n",
    "L = [1,2,3,4,5,6,7]\n",
    "L.clear() #makes the list empty\n",
    "print(L)"
   ]
  },
  {
   "cell_type": "code",
   "execution_count": null,
   "id": "2fa3f4e8-319e-4c78-af5a-a35bda47c6e8",
   "metadata": {},
   "outputs": [],
   "source": [
    "# Operations on Lists \n",
    "    # aithmetic \n",
    "    # membership\n",
    "    # loop"
   ]
  },
  {
   "cell_type": "code",
   "execution_count": 14,
   "id": "a34a89f1-6af3-4f09-b3d5-762d8e24b616",
   "metadata": {},
   "outputs": [
    {
     "name": "stdout",
     "output_type": "stream",
     "text": [
      "[1, 2, 3, 4, 5, 6, 7, 8]\n"
     ]
    }
   ],
   "source": [
    "l1 = [1,2,3,4]\n",
    "l2 =[5,6,7,8]\n",
    "print(l1+l2) # merge"
   ]
  },
  {
   "cell_type": "code",
   "execution_count": 15,
   "id": "c2144abc-20d1-4a1a-895c-b51dbe3fc36d",
   "metadata": {},
   "outputs": [
    {
     "name": "stdout",
     "output_type": "stream",
     "text": [
      "[1, 2, 3, 4, 1, 2, 3, 4, 1, 2, 3, 4]\n"
     ]
    }
   ],
   "source": [
    "#multiplication\n",
    "print(l1*3)"
   ]
  },
  {
   "cell_type": "code",
   "execution_count": 16,
   "id": "5fa7053c-76ec-4c40-b9c1-237304ffe4fa",
   "metadata": {},
   "outputs": [
    {
     "name": "stdout",
     "output_type": "stream",
     "text": [
      "True\n",
      "False\n",
      "True\n",
      "False\n"
     ]
    }
   ],
   "source": [
    "L1 =[1,2,3,4,5]\n",
    "L2=[1,2,3,4,[5,6]]\n",
    "print( 5 in L1)\n",
    "print(50 in L1)\n",
    "print(50 not in L1)\n",
    "print(5 in L2)"
   ]
  },
  {
   "cell_type": "code",
   "execution_count": 17,
   "id": "1aef8734-fe2e-472a-b81e-009c5c99b462",
   "metadata": {},
   "outputs": [
    {
     "name": "stdout",
     "output_type": "stream",
     "text": [
      "1\n",
      "2\n",
      "3\n",
      "4\n",
      "5\n",
      "----------------------\n",
      "1\n",
      "2\n",
      "3\n",
      "4\n",
      "[5, 6]\n"
     ]
    }
   ],
   "source": [
    "#loooops\n",
    "L1 =[1,2,3,4,5]\n",
    "L2=[1,2,3,4,[5,6]]\n",
    "\n",
    "for i in L1:\n",
    "    print(i)\n",
    "print('----------------------')\n",
    "for i in L2:\n",
    "    print(i)"
   ]
  },
  {
   "cell_type": "markdown",
   "id": "201200cd-9c7b-4626-9511-c7dd39613b44",
   "metadata": {},
   "source": [
    "# list functions"
   ]
  },
  {
   "cell_type": "code",
   "execution_count": 18,
   "id": "95f190f3-7860-479b-99b6-c58521ed6d77",
   "metadata": {},
   "outputs": [
    {
     "name": "stdout",
     "output_type": "stream",
     "text": [
      "8\n",
      "0\n",
      "9\n",
      "[0, 1, 2, 3, 4, 6, 7, 9]\n",
      "[9, 7, 6, 4, 3, 2, 1, 0]\n"
     ]
    }
   ],
   "source": [
    "#len/min/max/sorted\n",
    "L = [2,1,3,4,0,6,7,9]\n",
    "print(len(L))\n",
    "print(min(L)) # works on homogenous data in list\n",
    "print(max(L))  # works on homogenous data in list\n",
    "print(sorted(L)) #sorts the items in the list of ascending order\n",
    "print(sorted(L , reverse = True)) #sorts the items of the list in descending order"
   ]
  },
  {
   "cell_type": "code",
   "execution_count": 19,
   "id": "ddd5b666-c751-4d91-8b31-e72f3d8e6776",
   "metadata": {},
   "outputs": [
    {
     "data": {
      "text/plain": [
       "2"
      ]
     },
     "execution_count": 19,
     "metadata": {},
     "output_type": "execute_result"
    }
   ],
   "source": [
    "#count \n",
    "L = [1,2,3,2,1,3,2,4]\n",
    "L.count(14)\n",
    "L.count(1)\n",
    "L.count(3)"
   ]
  },
  {
   "cell_type": "code",
   "execution_count": 20,
   "id": "9cd1ebd8-4546-4af3-b905-6d03fa17d05c",
   "metadata": {},
   "outputs": [
    {
     "data": {
      "text/plain": [
       "0"
      ]
     },
     "execution_count": 20,
     "metadata": {},
     "output_type": "execute_result"
    }
   ],
   "source": [
    "# index\n",
    "L =[1,2,1,3,4,1,5] \n",
    "L.index(5)\n",
    "L.index(1) #sabse pahla occurence batata hai"
   ]
  },
  {
   "cell_type": "code",
   "execution_count": 21,
   "id": "9dec26e6-7809-4098-9220-0a4d4eb6d78b",
   "metadata": {},
   "outputs": [
    {
     "name": "stdout",
     "output_type": "stream",
     "text": [
      "[5, 1, 4, 3, 1, 2, 1]\n"
     ]
    }
   ],
   "source": [
    "#reverse\n",
    "L =[1,2,1,3,4,1,5] \n",
    "L.reverse() #it permanently reverses the list\n",
    "print(L)"
   ]
  },
  {
   "cell_type": "code",
   "execution_count": 8,
   "id": "5926257f-1b74-432b-b1b9-2a4ca395b70e",
   "metadata": {},
   "outputs": [
    {
     "name": "stdout",
     "output_type": "stream",
     "text": [
      "[2, 1, 5, 7, 0]\n",
      "[0, 1, 2, 5, 7]\n",
      "[2, 1, 5, 7, 0]\n",
      "[0, 1, 2, 5, 7]\n"
     ]
    }
   ],
   "source": [
    "#sort vs sorted \n",
    "#sorted --> do not make changes permanently \n",
    "#sort --> make the permanent changes\n",
    "L= [2,1,5,7,0] \n",
    "print(L)\n",
    "print(sorted(L))\n",
    "print(L)\n",
    "L.sort()\n",
    "print(L)"
   ]
  },
  {
   "cell_type": "code",
   "execution_count": 9,
   "id": "f6ad6444-a123-4ae7-9b2a-0a368a760b57",
   "metadata": {},
   "outputs": [
    {
     "name": "stdout",
     "output_type": "stream",
     "text": [
      "[2, 1, 5, 7, 0]\n",
      "2719722551424\n",
      "[2, 1, 5, 7, 0]\n",
      "2719723159680\n"
     ]
    }
   ],
   "source": [
    "#copy (makes copy in the memory itself)\n",
    "L= [2,1,5,7,0]\n",
    "print(L)\n",
    "print(id(L))\n",
    "L1 = L.copy()\n",
    "print(L1)\n",
    "print(id(L1))"
   ]
  },
  {
   "cell_type": "markdown",
   "id": "66be13f0-a2fd-4530-99af-c391c9ec765d",
   "metadata": {},
   "source": [
    "# List Comprehension "
   ]
  },
  {
   "cell_type": "markdown",
   "id": "e3338e95-c0c2-4059-ba75-55a970b23096",
   "metadata": {},
   "source": [
    "##### List Comprehension provides a concise way of creating lists\n",
    "##### newList = [express for item in iterable if condition == True]"
   ]
  },
  {
   "cell_type": "markdown",
   "id": "63485b39-0d5d-48b4-9085-bd9ddba6fb77",
   "metadata": {},
   "source": [
    "## Advantages of this \n",
    "  #####  More time efficient and space-efficient than loops.\n",
    "  ##### Require Fewer lines of code.\n",
    "  ##### Transforms iterative statements into a formula "
   ]
  },
  {
   "cell_type": "code",
   "execution_count": 10,
   "id": "b2b00c09-32c4-4f8e-8d81-7180140c4836",
   "metadata": {},
   "outputs": [
    {
     "name": "stdout",
     "output_type": "stream",
     "text": [
      "[1, 2, 3, 4, 5, 6, 7, 8, 9, 10]\n"
     ]
    }
   ],
   "source": [
    "# add 1 to 10 numbers in the list \n",
    "L =[] \n",
    "for i in range(1,11):\n",
    "    L.append(i)\n",
    "\n",
    "print(L)"
   ]
  },
  {
   "cell_type": "code",
   "execution_count": 13,
   "id": "b8de3e5d-e6b7-4658-a51d-ba052c2d2a72",
   "metadata": {},
   "outputs": [
    {
     "name": "stdout",
     "output_type": "stream",
     "text": [
      "[1, 2, 3, 4, 5, 6, 7, 8, 9, 10]\n"
     ]
    }
   ],
   "source": [
    "# using comprehension\n",
    "\n",
    "L =[i for i in range(1,11)]\n",
    "print(L)"
   ]
  },
  {
   "cell_type": "code",
   "execution_count": 20,
   "id": "a69ce8e4-8210-4cbb-929c-9fef80e359fa",
   "metadata": {},
   "outputs": [
    {
     "data": {
      "text/plain": [
       "[-6, -9, -12]"
      ]
     },
     "execution_count": 20,
     "metadata": {},
     "output_type": "execute_result"
    }
   ],
   "source": [
    "# scalar multiplication on a vector \n",
    "v =[2,3,4]\n",
    "s = -3 \n",
    "# output should be [-6,-9,-12]\n",
    "# print(v*s) #made the list empty\n",
    "x=[]\n",
    "# for i in v:\n",
    "# print(x)\n",
    "\n",
    "#     x.append(i*s)\n",
    "[s*i for i in v]"
   ]
  },
  {
   "cell_type": "markdown",
   "id": "41162f76-e19b-4bf4-afb6-0d0ed3d73dd5",
   "metadata": {},
   "source": [
    "# add sqaures\n",
    "\n",
    "L =[1,2,3,4,5]\n",
    "[i**2 for i in L]"
   ]
  },
  {
   "cell_type": "code",
   "execution_count": 23,
   "id": "302641d9-d34e-4a9d-be88-3e367649ca27",
   "metadata": {},
   "outputs": [
    {
     "data": {
      "text/plain": [
       "[5, 10, 15, 20, 25, 30, 35, 40, 45, 50]"
      ]
     },
     "execution_count": 23,
     "metadata": {},
     "output_type": "execute_result"
    }
   ],
   "source": [
    "# print all numbers divisible by 5 in range of 1 to 50\n",
    "[i for i in range(1,51) if i%5==0]"
   ]
  },
  {
   "cell_type": "code",
   "execution_count": 22,
   "id": "3c41e249-3937-48ac-98e7-a18c5067dfa8",
   "metadata": {},
   "outputs": [
    {
     "data": {
      "text/plain": [
       "['python', 'php']"
      ]
     },
     "execution_count": 22,
     "metadata": {},
     "output_type": "execute_result"
    }
   ],
   "source": [
    "#find languages that starts with letter p\n",
    "languages = ['java','python','php','c','javascript']\n",
    "[language  for language  in languages if language.startswith('p')]"
   ]
  },
  {
   "cell_type": "code",
   "execution_count": 23,
   "id": "9b744c86-bc59-4a3b-8eb8-22ce3cdd90ca",
   "metadata": {},
   "outputs": [
    {
     "data": {
      "text/plain": [
       "['apple']"
      ]
     },
     "execution_count": 23,
     "metadata": {},
     "output_type": "execute_result"
    }
   ],
   "source": [
    "# Nested if with List Comprehension\n",
    "basket = ['apple','guava','cherry','banana']\n",
    "my_fruits = ['apple','kiwi','grapes','banana']\n",
    "\n",
    "# add new list from my_fruits and items if the fruit exists in basket and also starts with 'a'\n",
    "[fruit for fruit in my_fruits if fruit in basket if fruit.startswith('a')]"
   ]
  },
  {
   "cell_type": "code",
   "execution_count": 26,
   "id": "bf127e6a-e9c0-4b26-afd8-f2896174df64",
   "metadata": {},
   "outputs": [
    {
     "data": {
      "text/plain": [
       "[[1, 2, 3], [2, 4, 6], [3, 6, 9]]"
      ]
     },
     "execution_count": 26,
     "metadata": {},
     "output_type": "execute_result"
    }
   ],
   "source": [
    "# Print a (3,3) matrix using list comprehension -> Nested List comprehension\n",
    "[[i*j for i in range(1,4)] for j in range(1,4)]"
   ]
  },
  {
   "cell_type": "code",
   "execution_count": 27,
   "id": "b8d5f29e-cf95-4678-8697-33dc7d9285e4",
   "metadata": {},
   "outputs": [
    {
     "data": {
      "text/plain": [
       "[5, 6, 7, 8, 10, 12, 14, 16, 15, 18, 21, 24, 20, 24, 28, 32]"
      ]
     },
     "execution_count": 27,
     "metadata": {},
     "output_type": "execute_result"
    }
   ],
   "source": [
    "# cartesian products -> List comprehension on 2 lists together\n",
    "L1 = [1,2,3,4]\n",
    "L2 = [5,6,7,8]\n",
    "[i*j for i in L1 for j in L2]"
   ]
  },
  {
   "cell_type": "markdown",
   "id": "07768ce4-693a-41a1-81ee-cdce7b65db8d",
   "metadata": {},
   "source": [
    "# 2 Ways to traverse a list "
   ]
  },
  {
   "cell_type": "markdown",
   "id": "736b6615-2bdd-43ed-a97d-bda75aa89f90",
   "metadata": {},
   "source": [
    "#### itemwise\n",
    "#### indexwise"
   ]
  },
  {
   "cell_type": "code",
   "execution_count": 27,
   "id": "1fa2f449-f8aa-4dc7-aa1d-dd2b9862c86f",
   "metadata": {},
   "outputs": [
    {
     "name": "stdout",
     "output_type": "stream",
     "text": [
      "1\n",
      "2\n",
      "3\n",
      "4\n"
     ]
    }
   ],
   "source": [
    "# itemwise\n",
    "L = [1,2,3,4]\n",
    "\n",
    "for i in L:\n",
    "  print(i)"
   ]
  },
  {
   "cell_type": "code",
   "execution_count": 29,
   "id": "4f2a2d39-d9c0-4b90-9d9c-9c37625dfc10",
   "metadata": {},
   "outputs": [
    {
     "name": "stdout",
     "output_type": "stream",
     "text": [
      "1\n",
      "2\n",
      "3\n",
      "4\n"
     ]
    }
   ],
   "source": [
    "# indexwise\n",
    "L = [1,2,3,4]\n",
    "\n",
    "for i in range(0,len(L)):\n",
    "  print(L[i])\n"
   ]
  },
  {
   "cell_type": "markdown",
   "id": "1f317c96-9719-4ac8-9908-751dfce1395e",
   "metadata": {},
   "source": [
    "# Zip"
   ]
  },
  {
   "cell_type": "markdown",
   "id": "c59158e2-b0fb-4cc8-879b-bb47cef4db31",
   "metadata": {},
   "source": [
    "#### The zip() function returns a zip object, which is an iterator of tuples where the first item in each passed iterator is paired together, and then the second item in each passed iterator are paired together."
   ]
  },
  {
   "cell_type": "markdown",
   "id": "756612f5-78aa-4d5d-bf4e-0fd229ce3e6b",
   "metadata": {},
   "source": [
    "#### If the passed iterators have different lengths, the iterator with the least items decides the length of the new iterator."
   ]
  },
  {
   "cell_type": "code",
   "execution_count": 33,
   "id": "e0e608f7-6688-42ab-b6d4-622d59b56d57",
   "metadata": {},
   "outputs": [
    {
     "data": {
      "text/plain": [
       "[0, 0, 0, 0]"
      ]
     },
     "execution_count": 33,
     "metadata": {},
     "output_type": "execute_result"
    }
   ],
   "source": [
    "# write a function  to add items of 2 lists indexwise \n",
    "L1 = [1,2,3,4]\n",
    "L2 = [-1,-2,-3,-4]\n",
    "# list(zip(L1,L2))\n",
    "[i+j for i , j in zip(L1,L2)]"
   ]
  },
  {
   "cell_type": "code",
   "execution_count": 35,
   "id": "a289fabe-7983-4e45-bb49-774274915668",
   "metadata": {},
   "outputs": [
    {
     "name": "stdout",
     "output_type": "stream",
     "text": [
      "[1, 2, <built-in function print>, <class 'type'>, <bound method Kernel.raw_input of <ipykernel.ipkernel.IPythonKernel object at 0x000002793A995310>>]\n"
     ]
    }
   ],
   "source": [
    "l =[1,2,print,type,input]\n",
    "print(l)"
   ]
  },
  {
   "cell_type": "markdown",
   "id": "b1a14d04-5791-42d7-8bbe-f6b0d9506e59",
   "metadata": {},
   "source": [
    "# Disdavantages of list "
   ]
  },
  {
   "cell_type": "markdown",
   "id": "444aee5a-24fe-4a86-9d01-8eed64e73ff6",
   "metadata": {},
   "source": [
    "#### slow\n",
    "#### risky\n",
    "#### eats up more memory "
   ]
  },
  {
   "cell_type": "markdown",
   "id": "664df2e7-0fa8-4e42-9d1a-a9cfd9721102",
   "metadata": {},
   "source": [
    "# List Programs"
   ]
  },
  {
   "cell_type": "code",
   "execution_count": 28,
   "id": "a9f9d7bc-975a-4961-8658-ac928b325cf5",
   "metadata": {},
   "outputs": [],
   "source": [
    "# Create 2 lists from a given list where \n",
    "# 1st list will contain all the odd numbers from the original list and\n",
    "# the 2nd one will contain all the even numbers \n",
    "\n",
    "L = [1,2,3,4,5,6]"
   ]
  },
  {
   "cell_type": "code",
   "execution_count": null,
   "id": "c18ebd67-9e99-4b42-b93e-d7a0de69b755",
   "metadata": {},
   "outputs": [],
   "source": []
  }
 ],
 "metadata": {
  "kernelspec": {
   "display_name": "Python 3 (ipykernel)",
   "language": "python",
   "name": "python3"
  },
  "language_info": {
   "codemirror_mode": {
    "name": "ipython",
    "version": 3
   },
   "file_extension": ".py",
   "mimetype": "text/x-python",
   "name": "python",
   "nbconvert_exporter": "python",
   "pygments_lexer": "ipython3",
   "version": "3.11.3"
  }
 },
 "nbformat": 4,
 "nbformat_minor": 5
}
