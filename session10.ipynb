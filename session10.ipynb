{
 "cells": [
  {
   "cell_type": "code",
   "execution_count": 1,
   "id": "9686f071",
   "metadata": {},
   "outputs": [
    {
     "name": "stdout",
     "output_type": "stream",
     "text": [
      "hello all good\n"
     ]
    }
   ],
   "source": [
    "print(\"hello all good\")"
   ]
  },
  {
   "cell_type": "code",
   "execution_count": 2,
   "id": "a96bf33b",
   "metadata": {},
   "outputs": [],
   "source": [
    "#with --> it closes the file automatically after the uses\n",
    "with open('sample.txt' , 'w') as f:\n",
    "    f.write(\"Anurag SIngh thakur\")"
   ]
  },
  {
   "cell_type": "code",
   "execution_count": 3,
   "id": "e7a8a7df",
   "metadata": {},
   "outputs": [
    {
     "ename": "ValueError",
     "evalue": "I/O operation on closed file.",
     "output_type": "error",
     "traceback": [
      "\u001b[1;31m---------------------------------------------------------------------------\u001b[0m",
      "\u001b[1;31mValueError\u001b[0m                                Traceback (most recent call last)",
      "Cell \u001b[1;32mIn[3], line 1\u001b[0m\n\u001b[1;32m----> 1\u001b[0m \u001b[43mf\u001b[49m\u001b[38;5;241;43m.\u001b[39;49m\u001b[43mwrite\u001b[49m\u001b[43m(\u001b[49m\u001b[38;5;124;43m\"\u001b[39;49m\u001b[38;5;124;43mhello\u001b[39;49m\u001b[38;5;124;43m\"\u001b[39;49m\u001b[43m)\u001b[49m\n",
      "\u001b[1;31mValueError\u001b[0m: I/O operation on closed file."
     ]
    }
   ],
   "source": [
    "f.write(\"hello\")"
   ]
  },
  {
   "cell_type": "code",
   "execution_count": 4,
   "id": "48a0c775",
   "metadata": {},
   "outputs": [
    {
     "name": "stdout",
     "output_type": "stream",
     "text": [
      "Anurag SIngh thakur\n"
     ]
    }
   ],
   "source": [
    "# try f.read() now \n",
    "with open('sample.txt' , 'r') as f:\n",
    "    print(f.read())\n"
   ]
  },
  {
   "cell_type": "code",
   "execution_count": 5,
   "id": "0151857f",
   "metadata": {},
   "outputs": [
    {
     "name": "stdout",
     "output_type": "stream",
     "text": [
      "Anurag SIn\n",
      "gh thakur\n"
     ]
    }
   ],
   "source": [
    "#moving within a file --> 10 characters then 10 char\n",
    "# benefit :: we can load any larger file than RAM in chunks \n",
    "with open('sample.txt' ,'r') as f:\n",
    "    print(f.read(10))\n",
    "    print(f.read(10))"
   ]
  },
  {
   "cell_type": "code",
   "execution_count": 6,
   "id": "f7433f96",
   "metadata": {},
   "outputs": [],
   "source": [
    "#trying loading a larger file \n",
    "big_L = ['hello Duniya' for i in range(10000)]\n",
    "\n",
    "with open('big.txt' , 'w') as f:\n",
    "    f.writelines(big_L)"
   ]
  },
  {
   "cell_type": "code",
   "execution_count": 7,
   "id": "286c7e3f",
   "metadata": {},
   "outputs": [
    {
     "name": "stdout",
     "output_type": "stream",
     "text": [
      "yahello Du****o Duniyahe****yahello Du****o Duniyahe****yahello Du****o Duniyahe****yahello Du****o Duniyahe****yahello Du****o Duniyahe****yahello Du****o Duniyahe****yahello Du****o Duniyahe****yahello Du****o Duniyahe****yahello Du****o Duniyahe****yahello Du****o Duniyahe****yahello Du****o Duniyahe****yahello Du****o Duniyahe****yahello Du****o Duniyahe****yahello Du****o Duniyahe****yahello Du****o Duniyahe****yahello Du****o Duniyahe****yahello Du****o Duniyahe****yahello Du****o Duniyahe****yahello Du****o Duniyahe****yahello Du****o Duniyahe****yahello Du****o Duniyahe****yahello Du****o Duniyahe****yahello Du****o Duniyahe****yahello Du****o Duniyahe****yahello Du****o Duniyahe****yahello Du****o Duniyahe****yahello Du****o Duniyahe****yahello Du****o Duniyahe****yahello Du****o Duniyahe****yahello Du****o Duniyahe****yahello Du****o Duniyahe****yahello Du****o Duniyahe****yahello Du****o Duniyahe****yahello Du****o Duniyahe****yahello Du****o Duniyahe****yahello Du****o Duniyahe****yahello Du****o Duniyahe****yahello Du****o Duniyahe****yahello Du****o Duniyahe****yahello Du****o Duniyahe****yahello Du****o Duniyahe****yahello Du****o Duniyahe****yahello Du****o Duniyahe****yahello Du****o Duniyahe****yahello Du****o Duniyahe****yahello Du****o Duniyahe****yahello Du****o Duniyahe****yahello Du****o Duniyahe****yahello Du****o Duniyahe****yahello Du****o Duniyahe****yahello Du****o Duniyahe****yahello Du****o Duniyahe****yahello Du****o Duniyahe****yahello Du****o Duniyahe****yahello Du****o Duniyahe****yahello Du****o Duniyahe****yahello Du****o Duniyahe****yahello Du****o Duniyahe****yahello Du****o Duniyahe****yahello Du****o Duniyahe****yahello Du****o Duniyahe****yahello Du****o Duniyahe****yahello Du****o Duniyahe****yahello Du****o Duniyahe****yahello Du****o Duniyahe****yahello Du****o Duniyahe****yahello Du****o Duniyahe****yahello Du****o Duniyahe****yahello Du****o Duniyahe****yahello Du****o Duniyahe****yahello Du****o Duniyahe****yahello Du****o Duniyahe****yahello Du****o Duniyahe****yahello Du****o Duniyahe****yahello Du****o Duniyahe****yahello Du****o Duniyahe****yahello Du****o Duniyahe****yahello Du****o Duniyahe****yahello Du****o Duniyahe****yahello Du****o Duniyahe****yahello Du****o Duniyahe****yahello Du****o Duniyahe****yahello Du****o Duniyahe****yahello Du****o Duniyahe****yahello Du****o Duniyahe****yahello Du****o Duniyahe****yahello Du****o Duniyahe****yahello Du****o Duniyahe****yahello Du****o Duniyahe****yahello Du****o Duniyahe****yahello Du****o Duniyahe****yahello Du****o Duniyahe****yahello Du****o Duniyahe****yahello Du****o Duniyahe****yahello Du****o Duniyahe****yahello Du****o Duniyahe****yahello Du****o Duniyahe****yahello Du****o Duniyahe****yahello Du****o Duniyahe****yahello Du****o Duniyahe****yahello Du****o Duniyahe****yahello Du****o Duniyahe****yahello Du****o Duniyahe****yahello Du****o Duniyahe****yahello Du****o Duniyahe****yahello Du****o Duniyahe****yahello Du****o Duniyahe****yahello Du****o Duniyahe****yahello Du****o Duniyahe****yahello Du****o Duniyahe****yahello Du****o Duniyahe****yahello Du****o Duniyahe****yahello Du****o Duniyahe****yahello Du****o Duniyahe****yahello Du****o Duniyahe****yahello Du****o Duniyahe****yahello Du****o Duniyahe****yahello Du****o Duniyahe****yahello Du****o Duniyahe****yahello Du****o Duniyahe****yahello Du****o Duniyahe****yahello Du****o Duniyahe****yahello Du****o Duniyahe****yahello Du****o Duniyahe****yahello Du****o Duniyahe****yahello Du****o Duniyahe****yahello Du****o Duniyahe****yahello Du****o Duniyahe****yahello Du****o Duniyahe****yahello Du****o Duniyahe****yahello Du****o Duniyahe****yahello Du****o Duniyahe****yahello Du****o Duniyahe****yahello Du****o Duniyahe****yahello Du****o Duniyahe****yahello Du****o Duniyahe****yahello Du****o Duniyahe****yahello Du****o Duniyahe****yahello Du****o Duniyahe****yahello Du****o Duniyahe****yahello Du****o Duniyahe****yahello Du****o Duniyahe****yahello Du****o Duniyahe****yahello Du****o Duniyahe****yahello Du****o Duniyahe****yahello Du****o Duniyahe****yahello Du****o Duniyahe****yahello Du****o Duniyahe****yahello Du****o Duniyahe****yahello Du****o Duniyahe****yahello Du****o Duniyahe****yahello Du****o Duniyahe****yahello Du****o Duniyahe****yahello Du****o Duniyahe****yahello Du****o Duniyahe****yahello Du****o Duniyahe****yahello Du****o Duniyahe****yahello Du****o Duniyahe****yahello Du****o Duniyahe****yahello Du****o Duniyahe****yahello Du****o Duniyahe****yahello Du****o Duniyahe****yahello Du****o Duniyahe****yahello Du****o Duniyahe****yahello Du****o Duniyahe****yahello Du****o Duniyahe****yahello Du****o Duniyahe****yahello Du****o Duniyahe****yahello Du****o Duniyahe****yahello Du****o Duniyahe****yahello Du****o Duniyahe****yahello Du****o Duniyahe****yahello Du****o Duniyahe****yahello Du****o Duniyahe****yahello Du****o Duniyahe****yahello Du****o Duniyahe****yahello Du****o Duniyahe****yahello Du****o Duniyahe****yahello Du****o Duniyahe****yahello Du****o Duniyahe****yahello Du****o Duniyahe****yahello Du****o Duniyahe****yahello Du****o Duniyahe****yahello Du****o Duniyahe****yahello Du****o Duniyahe****yahello Du****o Duniyahe****yahello Du****o Duniyahe****yahello Du****o Duniyahe****yahello Du****o Duniyahe****yahello Du****o Duniyahe****yahello Du****o Duniyahe****yahello Du****o Duniyahe****yahello Du****o Duniyahe****yahello Du****o Duniyahe****yahello Du****o Duniyahe****yahello Du****o Duniyahe****yahello Du****o Duniyahe****yahello Du****o Duniyahe****yahello Du****o Duniyahe****yahello Du****o Duniyahe****yahello Du****o Duniyahe****yahello Du****o Duniyahe****yahello Du****o Duniyahe****yahello Du****o Duniyahe****yahello Du****o Duniyahe****yahello Du****o Duniyahe****yahello Du****o Duniyahe****yahello Du****o Duniyahe****yahello Du****o Duniyahe****yahello Du****o Duniyahe****yahello Du****o Duniyahe****yahello Du****o Duniyahe****yahello Du****o Duniyahe****yahello Du****o Duniyahe****yahello Du****o Duniyahe****yahello Du****o Duniyahe****yahello Du****o Duniyahe****yahello Du****o Duniyahe****yahello Du****o Duniyahe****yahello Du****o Duniyahe****yahello Du****o Duniyahe****yahello Du****o Duniyahe****yahello Du****o Duniyahe****yahello Du****o Duniyahe****yahello Du****o Duniyahe****yahello Du****o Duniyahe****yahello Du****o Duniyahe****yahello Du****o Duniyahe****yahello Du****o Duniyahe****yahello Du****o Duniyahe****yahello Du****o Duniyahe****yahello Du****o Duniyahe****yahello Du****o Duniyahe****yahello Du****o Duniyahe****yahello Du****o Duniyahe****yahello Du****o Duniyahe****yahello Du****o Duniyahe****yahello Du****o Duniyahe****yahello Du****o Duniyahe****yahello Du****o Duniyahe****yahello Du****o Duniyahe****yahello Du****o Duniyahe****yahello Du****o Duniyahe****yahello Du****o Duniyahe****yahello Du****o Duniyahe****yahello Du****o Duniyahe****yahello Du****o Duniyahe****yahello Du****o Duniyahe****yahello Du****o Duniyahe****yahello Du****o Duniyahe****yahello Du****o Duniyahe****yahello Du****o Duniyahe****yahello Du****o Duniyahe****yahello Du****o Duniyahe****yahello Du****o Duniyahe****yahello Du****o Duniyahe****yahello Du****o Duniyahe****yahello Du****o Duniyahe****yahello Du****o Duniyahe****yahello Du****o Duniyahe****yahello Du****o Duniyahe****yahello Du****o Duniyahe****yahello Du****o Duniyahe****yahello Du****o Duniyahe****yahello Du****o Duniyahe****yahello Du****o Duniyahe****yahello Du****o Duniyahe****yahello Du****o Duniyahe****yahello Du****o Duniyahe****yahello Du****o Duniyahe****yahello Du****o Duniyahe****yahello Du****o Duniyahe****yahello Du****o Duniyahe****yahello Du****o Duniyahe****yahello Du****o Duniyahe****yahello Du****o Duniyahe****yahello Du****o Duniyahe****yahello Du****o Duniyahe****yahello Du****o Duniyahe****yahello Du****o Duniyahe****yahello Du****o Duniyahe****yahello Du****o Duniyahe****yahello Du****o Duniyahe****yahello Du****o Duniyahe****yahello Du****o Duniyahe****yahello Du****o Duniyahe****yahello Du****o Duniyahe****yahello Du****o Duniyahe****yahello Du****o Duniyahe****yahello Du****o Duniyahe****yahello Du****o Duniyahe****yahello Du****o Duniyahe****yahello Du****o Duniyahe****yahello Du****o Duniyahe****yahello Du****o Duniyahe****yahello Du****o Duniyahe****yahello Du****o Duniyahe****yahello Du****o Duniyahe****yahello Du****o Duniyahe****yahello Du****o Duniyahe****yahello Du****o Duniyahe****yahello Du****o Duniyahe****yahello Du****o Duniyahe****yahello Du****o Duniyahe****yahello Du****o Duniyahe****yahello Du****o Duniyahe****yahello Du****o Duniyahe****yahello Du****o Duniyahe****yahello Du****o Duniyahe****yahello Du****o Duniyahe****yahello Du****o Duniyahe****yahello Du****o Duniyahe****yahello Du****o Duniyahe****yahello Du****o Duniyahe****yahello Du****o Duniyahe****yahello Du****o Duniyahe****yahello Du****o Duniyahe****yahello Du****o Duniyahe****yahello Du****o Duniyahe****yahello Du****o Duniyahe****yahello Du****o Duniyahe****yahello Du****o Duniyahe****yahello Du****o Duniyahe****yahello Du****o Duniyahe****yahello Du****o Duniyahe****yahello Du****o Duniyahe****yahello Du****o Duniyahe****yahello Du****o Duniyahe****yahello Du****o Duniyahe****yahello Du****o Duniyahe****yahello Du****o Duniyahe****yahello Du****o Duniyahe****yahello Du****o Duniyahe****yahello Du****o Duniyahe****yahello Du****o Duniyahe****yahello Du****o Duniyahe****yahello Du****o Duniyahe****yahello Du****o Duniyahe****yahello Du****o Duniyahe****yahello Du****o Duniyahe****yahello Du****o Duniyahe****yahello Du****o Duniyahe****yahello Du****o Duniyahe****yahello Du****o Duniyahe****yahello Du****o Duniyahe****yahello Du****o Duniyahe****yahello Du****o Duniyahe****yahello Du****o Duniyahe****yahello Du****o Duniyahe****yahello Du****o Duniyahe****yahello Du****o Duniyahe****yahello Du****o Duniyahe****yahello Du****o Duniyahe****yahello Du****o Duniyahe****yahello Du****o Duniyahe****yahello Du****o Duniyahe****yahello Du****o Duniyahe****yahello Du****o Duniyahe****yahello Du****o Duniyahe****yahello Du****o Duniyahe****yahello Du****o Duniyahe****yahello Du****o Duniyahe****yahello Du****o Duniyahe****yahello Du****o Duniyahe****yahello Du****o Duniyahe****yahello Du****o Duniyahe****yahello Du****o Duniyahe****yahello Du****o Duniyahe****yahello Du****o Duniyahe****yahello Du****o Duniyahe****yahello Du****o Duniyahe****yahello Du****o Duniyahe****yahello Du****o Duniyahe****yahello Du****o Duniyahe****yahello Du****o Duniyahe****yahello Du****o Duniyahe****yahello Du****o Duniyahe****yahello Du****o Duniyahe****yahello Du****o Duniyahe****yahello Du****o Duniyahe****yahello Du****o Duniyahe****yahello Du****o Duniyahe****yahello Du****o Duniyahe****yahello Du****o Duniyahe****yahello Du****o Duniyahe****yahello Du****o Duniyahe****yahello Du****o Duniyahe****yahello Du****o Duniyahe****yahello Du****o Duniyahe****yahello Du****o Duniyahe****yahello Du****o Duniyahe****yahello Du****o Duniyahe****yahello Du****o Duniyahe****yahello Du****o Duniyahe****yahello Du****o Duniyahe****yahello Du****o Duniyahe****yahello Du****o Duniyahe****yahello Du****o Duniyahe****yahello Du****o Duniyahe****yahello Du****o Duniyahe****yahello Du****o Duniyahe****yahello Du****o Duniyahe****yahello Du****o Duniyahe****yahello Du****o Duniyahe****yahello Du****o Duniyahe****yahello Du****o Duniyahe****yahello Du****o Duniyahe****yahello Du****o Duniyahe****yahello Du****o Duniyahe****yahello Du****o Duniyahe****yahello Du****o Duniyahe****yahello Du****o Duniyahe****yahello Du****o Duniyahe****yahello Du****o Duniyahe****yahello Du****o Duniyahe****yahello Du****o Duniyahe****yahello Du****o Duniyahe****yahello Du****o Duniyahe****yahello Du****o Duniyahe****yahello Du****o Duniyahe****yahello Du****o Duniyahe****yahello Du****o Duniyahe****yahello Du****o Duniyahe****yahello Du****o Duniyahe****yahello Du****o Duniyahe****yahello Du****o Duniyahe****yahello Du****o Duniyahe****yahello Du****o Duniyahe****yahello Du****o Duniyahe****yahello Du****o Duniyahe****yahello Du****o Duniyahe****yahello Du****o Duniyahe****yahello Du****o Duniyahe****yahello Du****o Duniyahe****yahello Du****o Duniyahe****yahello Du****o Duniyahe****yahello Du****o Duniyahe****yahello Du****o Duniyahe****yahello Du****o Duniyahe****yahello Du****o Duniyahe****yahello Du****o Duniyahe****yahello Du****o Duniyahe****yahello Du****o Duniyahe****yahello Du****o Duniyahe****yahello Du****o Duniyahe****yahello Du****o Duniyahe****yahello Du****o Duniyahe****yahello Du****o Duniyahe****yahello Du****o Duniyahe****yahello Du****o Duniyahe****yahello Du****o Duniyahe****yahello Du****o Duniyahe****yahello Du****o Duniyahe****yahello Du****o Duniyahe****yahello Du****o Duniyahe****yahello Du****o Duniyahe****yahello Du****o Duniyahe****yahello Du****o Duniyahe****yahello Du****o Duniyahe****yahello Du****o Duniyahe****yahello Du****o Duniyahe****yahello Du****o Duniyahe****yahello Du****o Duniyahe****yahello Du****o Duniyahe****yahello Du****o Duniyahe****yahello Du****o Duniyahe****yahello Du****o Duniyahe****yahello Du****o Duniyahe****yahello Du****o Duniyahe****yahello Du****o Duniyahe****yahello Du****o Duniyahe****yahello Du****o Duniyahe****yahello Du****o Duniyahe****yahello Du****o Duniyahe****yahello Du****o Duniyahe****yahello Du****o Duniyahe****yahello Du****o Duniyahe****yahello Du****o Duniyahe****yahello Du****o Duniyahe****yahello Du****o Duniyahe****yahello Du****o Duniyahe****yahello Du****o Duniyahe****yahello Du****o Duniyahe****yahello Du****o Duniyahe****yahello Du****o Duniyahe****yahello Du****o Duniyahe****yahello Du****o Duniyahe****yahello Du****o Duniyahe****yahello Du****o Duniyahe****yahello Du****o Duniyahe****yahello Du****o Duniyahe****yahello Du****o Duniyahe****yahello Du****o Duniyahe****yahello Du****o Duniyahe****yahello Du****o Duniyahe****yahello Du****o Duniyahe****yahello Du****o Duniyahe****yahello Du****o Duniyahe****yahello Du****o Duniyahe****yahello Du****o Duniyahe****yahello Du****o Duniyahe****yahello Du****o Duniyahe****yahello Du****o Duniyahe****yahello Du****o Duniyahe****yahello Du****o Duniyahe****yahello Du****o Duniyahe****yahello Du****o Duniyahe****yahello Du****o Duniyahe****yahello Du****o Duniyahe****yahello Du****o Duniyahe****yahello Du****o Duniyahe****yahello Du****o Duniyahe****yahello Du****o Duniyahe****yahello Du****o Duniyahe****yahello Du****o Duniyahe****yahello Du****o Duniyahe****yahello Du****o Duniyahe****yahello Du****o Duniyahe****yahello Du****o Duniyahe****yahello Du****o Duniyahe****yahello Du****o Duniyahe****yahello Du****o Duniyahe****yahello Du****o Duniyahe****yahello Du****o Duniyahe****yahello Du****o Duniyahe****yahello Du****o Duniyahe****yahello Du****o Duniyahe****yahello Du****o Duniyahe****yahello Du****o Duniyahe****yahello Du****o Duniyahe****yahello Du****o Duniyahe****yahello Du****o Duniyahe****yahello Du****o Duniyahe****yahello Du****o Duniyahe****yahello Du****o Duniyahe****yahello Du****o Duniyahe****yahello Du****o Duniyahe****yahello Du****o Duniyahe****yahello Du****o Duniyahe****yahello Du****o Duniyahe****yahello Du****o Duniyahe****yahello Du****o Duniyahe****yahello Du****o Duniyahe****yahello Du****o Duniyahe****yahello Du****o Duniyahe****yahello Du****o Duniyahe****yahello Du****o Duniyahe****yahello Du****o Duniyahe****yahello Du****o Duniyahe****yahello Du****o Duniyahe****yahello Du****o Duniyahe****yahello Du****o Duniyahe****yahello Du****o Duniyahe****yahello Du****o Duniyahe****yahello Du****o Duniyahe****yahello Du****o Duniyahe****yahello Du****o Duniyahe****yahello Du****o Duniyahe****yahello Du****o Duniyahe****yahello Du****o Duniyahe****yahello Du****o Duniyahe****yahello Du****o Duniyahe****yahello Du****o Duniyahe****yahello Du****o Duniyahe****yahello Du****o Duniyahe****yahello Du****o Duniyahe****yahello Du****o Duniyahe****yahello Du****o Duniyahe****yahello Du****o Duniyahe****yahello Du****o Duniyahe****yahello Du****o Duniyahe****yahello Du****o Duniyahe****yahello Du****o Duniyahe****yahello Du****o Duniyahe****yahello Du****o Duniyahe****yahello Du****o Duniyahe****yahello Du****o Duniyahe****yahello Du****o Duniyahe****yahello Du****o Duniyahe****yahello Du****o Duniyahe****yahello Du****o Duniyahe****yahello Du****o Duniyahe****yahello Du****o Duniyahe****yahello Du****o Duniyahe****yahello Du****o Duniyahe****yahello Du****o Duniyahe****yahello Du****o Duniyahe****yahello Du****o Duniyahe****yahello Du****o Duniyahe****yahello Du****o Duniyahe****yahello Du****o Duniyahe****yahello Du****o Duniyahe****yahello Du****o Duniyahe****yahello Du****o Duniyahe****yahello Du****o Duniyahe****yahello Du****o Duniyahe****yahello Du****o Duniyahe****yahello Du****o Duniyahe****yahello Du****o Duniyahe****yahello Du****o Duniyahe****yahello Du****o Duniyahe****yahello Du****o Duniyahe****yahello Du****o Duniyahe****yahello Du****o Duniyahe****yahello Du****o Duniyahe****yahello Du****o Duniyahe****yahello Du****o Duniyahe****yahello Du****o Duniyahe****yahello Du****o Duniyahe****yahello Du****o Duniyahe****yahello Du****o Duniyahe****yahello Du****o Duniyahe****yahello Du****o Duniyahe****yahello Du****o Duniyahe****yahello Du****o Duniyahe****yahello Du****o Duniyahe****yahello Du****o Duniyahe****yahello Du****o Duniyahe****yahello Du****o Duniyahe****yahello Du****o Duniyahe****yahello Du****o Duniyahe****yahello Du****o Duniyahe****yahello Du****o Duniyahe****yahello Du****o Duniyahe****yahello Du****o Duniyahe****yahello Du****o Duniyahe****yahello Du****o Duniyahe****yahello Du****o Duniyahe****yahello Du****o Duniyahe****yahello Du****o Duniyahe****yahello Du****o Duniyahe****yahello Du****o Duniyahe****yahello Du****o Duniyahe****yahello Du****o Duniyahe****yahello Du****o Duniyahe****yahello Du****o Duniyahe****yahello Du****o Duniyahe****yahello Du****o Duniyahe****yahello Du****o Duniyahe****yahello Du****o Duniyahe****yahello Du****o Duniyahe****yahello Du****o Duniyahe****yahello Du****o Duniyahe****yahello Du****o Duniyahe****yahello Du****o Duniyahe****yahello Du****o Duniyahe****yahello Du****o Duniyahe****yahello Du****o Duniyahe****yahello Du****o Duniyahe****yahello Du****o Duniyahe****yahello Du****o Duniyahe****yahello Du****o Duniyahe****yahello Du****o Duniyahe****yahello Du****o Duniyahe****yahello Du****o Duniyahe****yahello Du****o Duniyahe****yahello Du****o Duniyahe****yahello Du****o Duniyahe****yahello Du****o Duniyahe****yahello Du****o Duniyahe****yahello Du****o Duniyahe****yahello Du****o Duniyahe****yahello Du****o Duniyahe****yahello Du****o Duniyahe****yahello Du****o Duniyahe****yahello Du****o Duniyahe****yahello Du****o Duniyahe****yahello Du****o Duniyahe****yahello Du****o Duniyahe****yahello Du****o Duniyahe****yahello Du****o Duniyahe****yahello Du****o Duniyahe****yahello Du****o Duniyahe****yahello Du****o Duniyahe****yahello Du****o Duniyahe****yahello Du****o Duniyahe****yahello Du****o Duniyahe****yahello Du****o Duniyahe****yahello Du****o Duniyahe****yahello Du****o Duniyahe****yahello Du****o Duniyahe****yahello Du****o Duniyahe****yahello Du****o Duniyahe****yahello Du****o Duniyahe****yahello Du****o Duniyahe****yahello Du****o Duniyahe****yahello Du****o Duniyahe****yahello Du****o Duniyahe****yahello Du****o Duniyahe****yahello Du****o Duniyahe****yahello Du****o Duniyahe****yahello Du****o Duniyahe****yahello Du****o Duniyahe****yahello Du****o Duniyahe****yahello Du****o Duniyahe****yahello Du****o Duniyahe****yahello Du****o Duniyahe****yahello Du****o Duniyahe****yahello Du****o Duniyahe****yahello Du****o Duniyahe****yahello Du****o Duniyahe****yahello Du****o Duniyahe****yahello Du****o Duniyahe****yahello Du****o Duniyahe****yahello Du****o Duniyahe****yahello Du****o Duniyahe****yahello Du****o Duniyahe****yahello Du****o Duniyahe****yahello Du****o Duniyahe****yahello Du****o Duniyahe****yahello Du****o Duniyahe****yahello Du****o Duniyahe****yahello Du****o Duniyahe****yahello Du****o Duniyahe****yahello Du****o Duniyahe****yahello Du****o Duniyahe****yahello Du****o Duniyahe****yahello Du****o Duniyahe****yahello Du****o Duniyahe****yahello Du****o Duniyahe****yahello Du****o Duniyahe****yahello Du****o Duniyahe****yahello Du****o Duniyahe****yahello Du****o Duniyahe****yahello Du****o Duniyahe****yahello Du****o Duniyahe****yahello Du****o Duniyahe****yahello Du****o Duniyahe****yahello Du****o Duniyahe****yahello Du****o Duniyahe****yahello Du****o Duniyahe****yahello Du****o Duniyahe****yahello Du****o Duniyahe****yahello Du****o Duniyahe****yahello Du****o Duniyahe****yahello Du****o Duniyahe****yahello Du****o Duniyahe****yahello Du****o Duniyahe****yahello Du****o Duniyahe****yahello Du****o Duniyahe****yahello Du****o Duniyahe****yahello Du****o Duniyahe****yahello Du****o Duniyahe****yahello Du****o Duniyahe****yahello Du****o Duniyahe****yahello Du****o Duniyahe****yahello Du****o Duniyahe****yahello Du****o Duniyahe****yahello Du****o Duniyahe****yahello Du****o Duniyahe****yahello Du****o Duniyahe****yahello Du****o Duniyahe****yahello Du****o Duniyahe****yahello Du****o Duniyahe****yahello Du****o Duniyahe****yahello Du****o Duniyahe****yahello Du****o Duniyahe****yahello Du****o Duniyahe****yahello Du****o Duniyahe****yahello Du****o Duniyahe****yahello Du****o Duniyahe****yahello Du****o Duniyahe****yahello Du****o Duniyahe****yahello Du****o Duniyahe****yahello Du****o Duniyahe****yahello Du****o Duniyahe****yahello Du****o Duniyahe****yahello Du****o Duniyahe****yahello Du****o Duniyahe****yahello Du****o Duniyahe****yahello Du****o Duniyahe****yahello Du****o Duniyahe****yahello Du****o Duniyahe****yahello Du****o Duniyahe****yahello Du****o Duniyahe****yahello Du****o Duniyahe****yahello Du****o Duniyahe****yahello Du****o Duniyahe****yahello Du****o Duniyahe****yahello Du****o Duniyahe****yahello Du****o Duniyahe****yahello Du****o Duniyahe****yahello Du****o Duniyahe****yahello Du****o Duniyahe****yahello Du****o Duniyahe****yahello Du****o Duniyahe****yahello Du****o Duniyahe****yahello Du****o Duniyahe****yahello Du****o Duniyahe****yahello Du****o Duniyahe****yahello Du****o Duniyahe****yahello Du****o Duniyahe****yahello Du****o Duniyahe****yahello Du****o Duniyahe****yahello Du****o Duniyahe****yahello Du****o Duniyahe****yahello Du****o Duniyahe****yahello Du****o Duniyahe****yahello Du****o Duniyahe****yahello Du****o Duniyahe****yahello Du****o Duniyahe****yahello Du****o Duniyahe****yahello Du****o Duniyahe****yahello Du****o Duniyahe****yahello Du****o Duniyahe****yahello Du****o Duniyahe****yahello Du****o Duniyahe****yahello Du****o Duniyahe****yahello Du****o Duniyahe****yahello Du****o Duniyahe****yahello Du****o Duniyahe****yahello Du****o Duniyahe****yahello Du****o Duniyahe****yahello Du****o Duniyahe****yahello Du****o Duniyahe****yahello Du****o Duniyahe****yahello Du****o Duniyahe****yahello Du****o Duniyahe****yahello Du****o Duniyahe****yahello Du****o Duniyahe****yahello Du****o Duniyahe****yahello Du****o Duniyahe****yahello Du****o Duniyahe****yahello Du****o Duniyahe****yahello Du****o Duniyahe****yahello Du****o Duniyahe****yahello Du****o Duniyahe****yahello Du****o Duniyahe****yahello Du****o Duniyahe****yahello Du****o Duniyahe****yahello Du****o Duniyahe****yahello Du****o Duniyahe****yahello Du****o Duniyahe****yahello Du****o Duniyahe****yahello Du****o Duniyahe****yahello Du****o Duniyahe****yahello Du****o Duniyahe****yahello Du****o Duniyahe****yahello Du****o Duniyahe****yahello Du****o Duniyahe****yahello Du****o Duniyahe****yahello Du****o Duniyahe****yahello Du****o Duniyahe****yahello Du****o Duniyahe****yahello Du****o Duniyahe****yahello Du****o Duniyahe****yahello Du****o Duniyahe****yahello Du****o Duniyahe****yahello Du****o Duniyahe****yahello Du****o Duniyahe****yahello Du****o Duniyahe****yahello Du****o Duniyahe****yahello Du****o Duniyahe****yahello Du****o Duniyahe****yahello Du****o Duniyahe****yahello Du****o Duniyahe****yahello Du****o Duniyahe****yahello Du****o Duniyahe****yahello Du****o Duniyahe****yahello Du****o Duniyahe****yahello Du****o Duniyahe****yahello Du****o Duniyahe****yahello Du****o Duniyahe****yahello Du****o Duniyahe****yahello Du****o Duniyahe****yahello Du****o Duniyahe****yahello Du****o Duniyahe****yahello Du****o Duniyahe****yahello Du****o Duniyahe****yahello Du****o Duniyahe****yahello Du****o Duniyahe****yahello Du****o Duniyahe****yahello Du****o Duniyahe****yahello Du****o Duniyahe****yahello Du****o Duniyahe****yahello Du****o Duniyahe****yahello Du****o Duniyahe****yahello Du****o Duniyahe****yahello Du****o Duniyahe****yahello Du****o Duniyahe****yahello Du****o Duniyahe****yahello Du****o Duniyahe****yahello Du****o Duniyahe****yahello Du****o Duniyahe****yahello Du****o Duniyahe****yahello Du****o Duniyahe****yahello Du****o Duniyahe****yahello Du****o Duniyahe****yahello Du****o Duniyahe****yahello Du****o Duniyahe****yahello Du****o Duniyahe****yahello Du****o Duniyahe****yahello Du****o Duniyahe****yahello Du****o Duniyahe****yahello Du****o Duniyahe****yahello Du****o Duniyahe****yahello Du****o Duniyahe****yahello Du****o Duniyahe****yahello Du****o Duniyahe****yahello Du****o Duniyahe****yahello Du****o Duniyahe****yahello Du****o Duniyahe****yahello Du****o Duniyahe****yahello Du****o Duniyahe****yahello Du****o Duniyahe****yahello Du****o Duniyahe****yahello Du****o Duniyahe****yahello Du****o Duniyahe****yahello Du****o Duniyahe****yahello Du****o Duniyahe****yahello Du****o Duniyahe****yahello Du****o Duniyahe****yahello Du****o Duniyahe****yahello Du****o Duniyahe****yahello Du****o Duniyahe****yahello Du****o Duniyahe****yahello Du****o Duniyahe****yahello Du****o Duniyahe****yahello Du****o Duniyahe****yahello Du****o Duniyahe****yahello Du****o Duniyahe****yahello Du****o Duniyahe****yahello Du****o Duniyahe****yahello Du****o Duniyahe****yahello Du****o Duniyahe****yahello Du****o Duniyahe****yahello Du****o Duniyahe****yahello Du****o Duniyahe****yahello Du****o Duniyahe****yahello Du****o Duniyahe****yahello Du****o Duniyahe****yahello Du****o Duniyahe****yahello Du****o Duniyahe****yahello Du****o Duniyahe****yahello Du****o Duniyahe****yahello Du****o Duniyahe****yahello Du****o Duniyahe****yahello Du****o Duniyahe****yahello Du****o Duniyahe****yahello Du****o Duniyahe****yahello Du****o Duniyahe****yahello Du****o Duniyahe****yahello Du****o Duniyahe****yahello Du****o Duniyahe****yahello Du****o Duniyahe****yahello Du****o Duniyahe****yahello Du****o Duniyahe****yahello Du****o Duniyahe****yahello Du****o Duniyahe****yahello Du****o Duniyahe****yahello Du****o Duniyahe****yahello Du****o Duniyahe****yahello Du****o Duniyahe****yahello Du****o Duniyahe****yahello Du****o Duniyahe****yahello Du****o Duniyahe****yahello Du****o Duniyahe****yahello Du****o Duniyahe****yahello Du****o Duniyahe****yahello Du****o Duniyahe****yahello Du****o Duniyahe****yahello Du****o Duniyahe****yahello Du****o Duniyahe****yahello Du****o Duniyahe****yahello Du****o Duniyahe****yahello Du****o Duniyahe****yahello Du****o Duniyahe****yahello Du****o Duniyahe****yahello Du****o Duniyahe****yahello Du****o Duniyahe****yahello Du****o Duniyahe****yahello Du****o Duniyahe****yahello Du****o Duniyahe****yahello Du****o Duniyahe****yahello Du****o Duniyahe****yahello Du****o Duniyahe****yahello Du****o Duniyahe****yahello Du****o Duniyahe****yahello Du****o Duniyahe****yahello Du****o Duniyahe****yahello Du****o Duniyahe****yahello Du****o Duniyahe****yahello Du****o Duniyahe****yahello Du****o Duniyahe****yahello Du****o Duniyahe****yahello Du****o Duniyahe****yahello Du****o Duniyahe****yahello Du****o Duniyahe****yahello Du****o Duniyahe****yahello Du****o Duniyahe****yahello Du****o Duniyahe****yahello Du****o Duniyahe****yahello Du****o Duniyahe****yahello Du****o Duniyahe****yahello Du****o Duniyahe****yahello Du****o Duniyahe****yahello Du****o Duniyahe****yahello Du****o Duniyahe****yahello Du****o Duniyahe****yahello Du****o Duniyahe****yahello Du****o Duniyahe****yahello Du****o Duniyahe****yahello Du****o Duniyahe****yahello Du****o Duniyahe****yahello Du****o Duniyahe****yahello Du****o Duniyahe****yahello Du****o Duniyahe****yahello Du****o Duniyahe****yahello Du****o Duniyahe****yahello Du****o Duniyahe****yahello Du****o Duniyahe****yahello Du****o Duniyahe****yahello Du****o Duniyahe****yahello Du****o Duniyahe****yahello Du****o Duniyahe****yahello Du****o Duniyahe****yahello Du****o Duniyahe****yahello Du****o Duniyahe****yahello Du****o Duniyahe****yahello Du****o Duniyahe****yahello Du****o Duniyahe****yahello Du****o Duniyahe****yahello Du****o Duniyahe****yahello Du****o Duniyahe****yahello Du****o Duniyahe****yahello Du****o Duniyahe****yahello Du****o Duniyahe****yahello Du****o Duniyahe****yahello Du****o Duniyahe****yahello Du****o Duniyahe****yahello Du****o Duniyahe****yahello Du****o Duniyahe****yahello Du****o Duniyahe****yahello Du****o Duniyahe****yahello Du****o Duniyahe****yahello Du****o Duniyahe****yahello Du****o Duniyahe****yahello Du****o Duniyahe****yahello Du****o Duniyahe****yahello Du****o Duniyahe****yahello Du****o Duniyahe****yahello Du****o Duniyahe****yahello Du****o Duniyahe****yahello Du****o Duniyahe****yahello Du****o Duniyahe****yahello Du****o Duniyahe****yahello Du****o Duniyahe****yahello Du****o Duniyahe****yahello Du****o Duniyahe****yahello Du****o Duniyahe****yahello Du****o Duniyahe****yahello Du****o Duniyahe****yahello Du****o Duniyahe****yahello Du****o Duniyahe****yahello Du****o Duniyahe****yahello Du****o Duniyahe****yahello Du****o Duniyahe****yahello Du****o Duniyahe****yahello Du****o Duniyahe****yahello Du****o Duniyahe****yahello Du****o Duniyahe****yahello Du****o Duniyahe****yahello Du****o Duniyahe****yahello Du****o Duniyahe****yahello Du****o Duniyahe****yahello Du****o Duniyahe****yahello Du****o Duniyahe****yahello Du****o Duniyahe****yahello Du****o Duniyahe****yahello Du****o Duniyahe****yahello Du****o Duniyahe****yahello Du****o Duniyahe****yahello Du****o Duniyahe****yahello Du****o Duniyahe****yahello Du****o Duniyahe****yahello Du****o Duniyahe****yahello Du****o Duniyahe****yahello Du****o Duniyahe****yahello Du****o Duniyahe****yahello Du****o Duniyahe****yahello Du****o Duniyahe****yahello Du****o Duniyahe****yahello Du****o Duniyahe****yahello Du****o Duniyahe****yahello Du****o Duniyahe****yahello Du****o Duniyahe****yahello Du****o Duniyahe****yahello Du****o Duniyahe****yahello Du****o Duniyahe****yahello Du****o Duniyahe****yahello Du****o Duniyahe****yahello Du****o Duniyahe****yahello Du****o Duniyahe****yahello Du****o Duniyahe****yahello Du****o Duniyahe****yahello Du****o Duniyahe****yahello Du****o Duniyahe****yahello Du****o Duniyahe****yahello Du****o Duniyahe****yahello Du****o Duniyahe****yahello Du****o Duniyahe****yahello Du****o Duniyahe****yahello Du****o Duniyahe****yahello Du****o Duniyahe****yahello Du****o Duniyahe****yahello Du****o Duniyahe****yahello Du****o Duniyahe****yahello Du****o Duniyahe****yahello Du****o Duniyahe****yahello Du****o Duniyahe****yahello Du****o Duniyahe****yahello Du****o Duniyahe****yahello Du****o Duniyahe****yahello Du****o Duniyahe****yahello Du****o Duniyahe****yahello Du****o Duniyahe****yahello Du****o Duniyahe****yahello Du****o Duniyahe****yahello Du****o Duniyahe****yahello Du****o Duniyahe****yahello Du****o Duniyahe****yahello Du****o Duniyahe****yahello Du****o Duniyahe****yahello Du****o Duniyahe****yahello Du****o Duniyahe****yahello Du****o Duniyahe****yahello Du****o Duniyahe****yahello Du****o Duniyahe****yahello Du****o Duniyahe****yahello Du****o Duniyahe****yahello Du****o Duniyahe****yahello Du****o Duniyahe****yahello Du****o Duniyahe****yahello Du****o Duniyahe****yahello Du****o Duniyahe****yahello Du****o Duniyahe****yahello Du****o Duniyahe****yahello Du****o Duniyahe****yahello Du****o Duniyahe****yahello Du****o Duniyahe****yahello Du****o Duniyahe****yahello Du****o Duniyahe****yahello Du****o Duniyahe****yahello Du****o Duniyahe****yahello Du****o Duniyahe****yahello Du****o Duniyahe****yahello Du****o Duniyahe****yahello Du****o Duniyahe****yahello Du****o Duniyahe****yahello Du****o Duniyahe****yahello Du****o Duniyahe****yahello Du****o Duniyahe****yahello Du****o Duniyahe****yahello Du****o Duniyahe****yahello Du****o Duniyahe****yahello Du****o Duniyahe****yahello Du****o Duniyahe****yahello Du****o Duniyahe****yahello Du****o Duniyahe****yahello Du****o Duniyahe****yahello Du****o Duniyahe****yahello Du****o Duniyahe****yahello Du****o Duniyahe****yahello Du****o Duniyahe****yahello Du****o Duniyahe****yahello Du****o Duniyahe****yahello Du****o Duniyahe****yahello Du****o Duniyahe****yahello Du****o Duniyahe****yahello Du****o Duniyahe****yahello Du****o Duniyahe****yahello Du****o Duniyahe****yahello Du****o Duniyahe****yahello Du****o Duniyahe****yahello Du****o Duniyahe****yahello Du****o Duniyahe****yahello Du****o Duniyahe****yahello Du****o Duniyahe****yahello Du****o Duniyahe****yahello Du****o Duniyahe****yahello Du****o Duniyahe****yahello Du****o Duniyahe****yahello Du****o Duniyahe****yahello Du****o Duniyahe****yahello Du****o Duniyahe****yahello Du****o Duniyahe****yahello Du****o Duniyahe****yahello Du****o Duniyahe****yahello Du****o Duniyahe****yahello Du****o Duniyahe****yahello Du****o Duniyahe****yahello Du****o Duniyahe****yahello Du****o Duniyahe****yahello Du****o Duniyahe****yahello Du****o Duniyahe****yahello Du****o Duniyahe****yahello Du****o Duniyahe****yahello Du****o Duniyahe****yahello Du****o Duniyahe****yahello Du****o Duniyahe****yahello Du****o Duniyahe****yahello Du****o Duniyahe****yahello Du****o Duniyahe****yahello Du****o Duniyahe****yahello Du****o Duniyahe****yahello Du****o Duniyahe****yahello Du****o Duniyahe****yahello Du****o Duniyahe****yahello Du****o Duniyahe****yahello Du****o Duniyahe****yahello Du****o Duniyahe****yahello Du****o Duniyahe****yahello Du****o Duniyahe****yahello Du****o Duniyahe****yahello Du****o Duniyahe****yahello Du****o Duniyahe****yahello Du****o Duniyahe****yahello Du****o Duniyahe****yahello Du****o Duniyahe****yahello Du****o Duniyahe****yahello Du****o Duniyahe****yahello Du****o Duniyahe****yahello Du****o Duniyahe****yahello Du****o Duniyahe****yahello Du****o Duniyahe****yahello Du****o Duniyahe****yahello Du****o Duniyahe****yahello Du****o Duniyahe****yahello Du****o Duniyahe****yahello Du****o Duniyahe****yahello Du****o Duniyahe****yahello Du****o Duniyahe****yahello Du****o Duniyahe****yahello Du****o Duniyahe****yahello Du****o Duniyahe****yahello Du****o Duniyahe****yahello Du****o Duniyahe****yahello Du****o Duniyahe****yahello Du****o Duniyahe****yahello Du****o Duniyahe****yahello Du****o Duniyahe****yahello Du****o Duniyahe****yahello Du****o Duniyahe****yahello Du****o Duniyahe****yahello Du****o Duniyahe****yahello Du****o Duniyahe****yahello Du****o Duniyahe****yahello Du****o Duniyahe****yahello Du****o Duniyahe****yahello Du****o Duniyahe****yahello Du****o Duniyahe****yahello Du****o Duniyahe****yahello Du****o Duniyahe****yahello Du****o Duniyahe****yahello Du****o Duniyahe****yahello Du****o Duniyahe****yahello Du****o Duniyahe****yahello Du****o Duniyahe****yahello Du****o Duniyahe****yahello Du****o Duniyahe****yahello Du****o Duniyahe****yahello Du****o Duniyahe****yahello Du****o Duniyahe****yahello Du****o Duniyahe****yahello Du****o Duniyahe****yahello Du****o Duniyahe****yahello Du****o Duniyahe****yahello Du****o Duniyahe****yahello Du****o Duniyahe****yahello Du****o Duniyahe****yahello Du****o Duniyahe****yahello Du****o Duniyahe****yahello Du****o Duniyahe****yahello Du****o Duniyahe****yahello Du****o Duniyahe****yahello Du****o Duniyahe****yahello Du****o Duniyahe****yahello Du****o Duniyahe****yahello Du****o Duniyahe****yahello Du****o Duniyahe****yahello Du****o Duniyahe****yahello Du****o Duniyahe****yahello Du****o Duniyahe****yahello Du****o Duniyahe****yahello Du****o Duniyahe****yahello Du****o Duniyahe****yahello Du****o Duniyahe****yahello Du****o Duniyahe****yahello Du****o Duniyahe****yahello Du****o Duniyahe****yahello Du****o Duniyahe****yahello Du****o Duniyahe****yahello Du****o Duniyahe****yahello Du****o Duniyahe****yahello Du****o Duniyahe****yahello Du****o Duniyahe****yahello Du****o Duniyahe****yahello Du****o Duniyahe****yahello Du****o Duniyahe****yahello Du****o Duniyahe****yahello Du****o Duniyahe****yahello Du****o Duniyahe****yahello Du****o Duniyahe****yahello Du****o Duniyahe****yahello Du****o Duniyahe****yahello Du****o Duniyahe****yahello Du****o Duniyahe****yahello Du****o Duniyahe****yahello Du****o Duniyahe****yahello Du****o Duniyahe****yahello Du****o Duniyahe****yahello Du****o Duniyahe****yahello Du****o Duniyahe****yahello Du****o Duniyahe****yahello Du****o Duniyahe****yahello Du****o Duniyahe****yahello Du****o Duniyahe****yahello Du****o Duniyahe****yahello Du****o Duniyahe****yahello Du****o Duniyahe****yahello Du****o Duniyahe****yahello Du****o Duniyahe****yahello Du****o Duniyahe****yahello Du****o Duniyahe****yahello Du****o Duniyahe****yahello Du****o Duniyahe****yahello Du****o Duniyahe****yahello Du****o Duniyahe****yahello Du****o Duniyahe****yahello Du****o Duniyahe****yahello Du****o Duniyahe****yahello Du****o Duniyahe****yahello Du****o Duniyahe****yahello Du****o Duniyahe****yahello Du****o Duniyahe****yahello Du****o Duniyahe****yahello Du****o Duniyahe****yahello Du****o Duniyahe****yahello Du****o Duniyahe****yahello Du****o Duniyahe****yahello Du****o Duniyahe****yahello Du****o Duniyahe****yahello Du****o Duniyahe****yahello Du****o Duniyahe****yahello Du****o Duniyahe****yahello Du****o Duniyahe****yahello Du****o Duniyahe****yahello Du****o Duniyahe****yahello Du****o Duniyahe****yahello Du****o Duniyahe****yahello Du****o Duniyahe****yahello Du****o Duniyahe****yahello Du****o Duniyahe****yahello Du****o Duniyahe****yahello Du****o Duniyahe****yahello Du****o Duniyahe****yahello Du****o Duniyahe****yahello Du****o Duniyahe****yahello Du****o Duniyahe****yahello Du****o Duniyahe****yahello Du****o Duniyahe****yahello Du****o Duniyahe****yahello Du****o Duniyahe****yahello Du****o Duniyahe****yahello Du****o Duniyahe****yahello Du****o Duniyahe****yahello Du****o Duniyahe****yahello Du****o Duniyahe****yahello Du****o Duniyahe****yahello Du****o Duniyahe****yahello Du****o Duniyahe****yahello Du****o Duniyahe****yahello Du****o Duniyahe****yahello Du****o Duniyahe****yahello Du****o Duniyahe****yahello Du****o Duniyahe****yahello Du****o Duniyahe****yahello Du****o Duniyahe****yahello Du****o Duniyahe****yahello Du****o Duniyahe****yahello Du****o Duniyahe****yahello Du****o Duniyahe****yahello Du****o Duniyahe****yahello Du****o Duniyahe****yahello Du****o Duniyahe****yahello Du****o Duniyahe****yahello Du****o Duniyahe****yahello Du****o Duniyahe****yahello Du****o Duniyahe****yahello Du****o Duniyahe****yahello Du****o Duniyahe****yahello Du****o Duniyahe****yahello Du****o Duniyahe****yahello Du****o Duniyahe****yahello Du****o Duniyahe****yahello Du****o Duniyahe****yahello Du****o Duniyahe****yahello Du****o Duniyahe****yahello Du****o Duniyahe****yahello Du****o Duniyahe****yahello Du****o Duniyahe****yahello Du****o Duniyahe****yahello Du****o Duniyahe****yahello Du****o Duniyahe****yahello Du****o Duniyahe****yahello Du****o Duniyahe****yahello Du****o Duniyahe****yahello Du****o Duniyahe****yahello Du****o Duniyahe****yahello Du****o Duniyahe****yahello Du****o Duniyahe****yahello Du****o Duniyahe****yahello Du****o Duniyahe****yahello Du****o Duniyahe****yahello Du****o Duniyahe****yahello Du****o Duniyahe****yahello Du****o Duniyahe****yahello Du****o Duniyahe****yahello Du****o Duniyahe****yahello Du****o Duniyahe****yahello Du****o Duniyahe****yahello Du****o Duniyahe****yahello Du****o Duniyahe****yahello Du****o Duniyahe****yahello Du****o Duniyahe****yahello Du****o Duniyahe****yahello Du****o Duniyahe****yahello Du****o Duniyahe****yahello Du****o Duniyahe****yahello Du****o Duniyahe****yahello Du****o Duniyahe****yahello Du****o Duniyahe****yahello Du****o Duniyahe****yahello Du****o Duniyahe****yahello Du****o Duniyahe****yahello Du****o Duniyahe****yahello Du****o Duniyahe****yahello Du****o Duniyahe****yahello Du****o Duniyahe****yahello Du****o Duniyahe****yahello Du****o Duniyahe****yahello Du****o Duniyahe****yahello Du****o Duniyahe****yahello Du****o Duniyahe****yahello Du****o Duniyahe****yahello Du****o Duniyahe****yahello Du****o Duniyahe****yahello Du****o Duniyahe****yahello Du****o Duniyahe****yahello Du****o Duniyahe****yahello Du****o Duniyahe****yahello Du****o Duniyahe****yahello Du****o Duniyahe****yahello Du****o Duniyahe****yahello Du****o Duniyahe****yahello Du****o Duniyahe****yahello Du****o Duniyahe****yahello Du****o Duniyahe****yahello Du****o Duniyahe****yahello Du****o Duniyahe****yahello Du****o Duniyahe****yahello Du****o Duniyahe****yahello Du****o Duniyahe****yahello Du****o Duniyahe****yahello Du****o Duniyahe****yahello Du****o Duniyahe****yahello Du****o Duniyahe****yahello Du****o Duniyahe****yahello Du****o Duniyahe****yahello Du****o Duniyahe****yahello Du****o Duniyahe****yahello Du****o Duniyahe****yahello Du****o Duniyahe****yahello Du****o Duniyahe****yahello Du****o Duniyahe****yahello Du****o Duniyahe****yahello Du****o Duniyahe****yahello Du****o Duniyahe****yahello Du****o Duniyahe****yahello Du****o Duniyahe****yahello Du****o Duniyahe****yahello Du****o Duniyahe****yahello Du****o Duniyahe****yahello Du****o Duniyahe****yahello Du****o Duniyahe****yahello Du****o Duniyahe****yahello Du****o Duniyahe****yahello Du****o Duniyahe****yahello Du****o Duniyahe****yahello Du****o Duniyahe****yahello Du****o Duniyahe****yahello Du****o Duniyahe****yahello Du****o Duniyahe****yahello Du****o Duniyahe****yahello Du****o Duniyahe****yahello Du****o Duniyahe****yahello Du****o Duniyahe****yahello Du****o Duniyahe****yahello Du****o Duniyahe****yahello Du****o Duniyahe****yahello Du****o Duniyahe****yahello Du****o Duniyahe****yahello Du****o Duniyahe****yahello Du****o Duniyahe****yahello Du****o Duniyahe****yahello Du****o Duniyahe****yahello Du****o Duniyahe****yahello Du****o Duniyahe****yahello Du****o Duniyahe****yahello Du****o Duniyahe****yahello Du****o Duniyahe****yahello Du****o Duniyahe****yahello Du****o Duniyahe****yahello Du****o Duniyahe****yahello Du****o Duniyahe****yahello Du****o Duniyahe****yahello Du****o Duniyahe****yahello Du****o Duniyahe****yahello Du****o Duniyahe****yahello Du****o Duniyahe****yahello Du****o Duniyahe****yahello Du****o Duniyahe****yahello Du****o Duniyahe****yahello Du****o Duniyahe****yahello Du****o Duniyahe****yahello Du****o Duniyahe****yahello Du****o Duniyahe****yahello Du****o Duniyahe****yahello Du****o Duniyahe****yahello Du****o Duniyahe****yahello Du****o Duniyahe****yahello Du****o Duniyahe****yahello Du****o Duniyahe****yahello Du****o Duniyahe****yahello Du****o Duniyahe****yahello Du****o Duniyahe****yahello Du****o Duniyahe****yahello Du****o Duniyahe****yahello Du****o Duniyahe****yahello Du****o Duniyahe****yahello Du****o Duniyahe****yahello Du****o Duniyahe****yahello Du****o Duniyahe****yahello Du****o Duniyahe****yahello Du****o Duniyahe****yahello Du****o Duniyahe****yahello Du****o Duniyahe****yahello Du****o Duniyahe****yahello Du****o Duniyahe****yahello Du****o Duniyahe****yahello Du****o Duniyahe****yahello Du****o Duniyahe****yahello Du****o Duniyahe****yahello Du****o Duniyahe****yahello Du****o Duniyahe****yahello Du****o Duniyahe****yahello Du****o Duniyahe****yahello Du****o Duniyahe****yahello Du****o Duniyahe****yahello Du****o Duniyahe****yahello Du****o Duniyahe****yahello Du****o Duniyahe****yahello Du****o Duniyahe****yahello Du****o Duniyahe****yahello Du****o Duniyahe****yahello Du****o Duniyahe****yahello Du****o Duniyahe****yahello Du****o Duniyahe****yahello Du****o Duniyahe****yahello Du****o Duniyahe****yahello Du****o Duniyahe****yahello Du****o Duniyahe****yahello Du****o Duniyahe****yahello Du****o Duniyahe****yahello Du****o Duniyahe****yahello Du****o Duniyahe****yahello Du****o Duniyahe****yahello Du****o Duniyahe****yahello Du****o Duniyahe****yahello Du****o Duniyahe****yahello Du****o Duniyahe****yahello Du****o Duniyahe****yahello Du****o Duniyahe****yahello Du****o Duniyahe****yahello Du****o Duniyahe****yahello Du****o Duniyahe****yahello Du****o Duniyahe****yahello Du****o Duniyahe****yahello Du****o Duniyahe****yahello Du****o Duniyahe****yahello Du****o Duniyahe****yahello Du****o Duniyahe****yahello Du****o Duniyahe****yahello Du****o Duniyahe****yahello Du****o Duniyahe****yahello Du****o Duniyahe****yahello Du****o Duniyahe****yahello Du****o Duniyahe****yahello Du****o Duniyahe****yahello Du****o Duniyahe****yahello Du****o Duniyahe****yahello Du****o Duniyahe****yahello Du****o Duniyahe****yahello Du****o Duniyahe****yahello Du****o Duniyahe****yahello Du****o Duniyahe****yahello Du****o Duniyahe****yahello Du****o Duniyahe****yahello Du****o Duniyahe****yahello Du****o Duniyahe****yahello Du****o Duniyahe****yahello Du****o Duniyahe****yahello Du****o Duniyahe****yahello Du****o Duniyahe****yahello Du****o Duniyahe****yahello Du****o Duniyahe****yahello Du****o Duniyahe****yahello Du****o Duniyahe****yahello Du****o Duniyahe****yahello Du****o Duniyahe****yahello Du****o Duniyahe****yahello Du****o Duniyahe****yahello Du****o Duniyahe****yahello Du****o Duniyahe****yahello Du****o Duniyahe****yahello Du****o Duniyahe****yahello Du****o Duniyahe****yahello Du****o Duniyahe****yahello Du****o Duniyahe****yahello Du****o Duniyahe****yahello Du****o Duniyahe****yahello Du****o Duniyahe****yahello Du****o Duniyahe****yahello Du****o Duniyahe****yahello Du****o Duniyahe****yahello Du****o Duniyahe****yahello Du****o Duniyahe****yahello Du****o Duniyahe****yahello Du****o Duniyahe****yahello Du****o Duniyahe****yahello Du****o Duniyahe****yahello Du****o Duniyahe****yahello Du****o Duniyahe****yahello Du****o Duniyahe****yahello Du****o Duniyahe****yahello Du****o Duniyahe****yahello Du****o Duniyahe****yahello Du****o Duniyahe****yahello Du****o Duniyahe****yahello Du****o Duniyahe****yahello Du****o Duniyahe****yahello Du****o Duniyahe****yahello Du****o Duniyahe****yahello Du****o Duniyahe****yahello Du****o Duniyahe****yahello Du****o Duniyahe****yahello Du****o Duniyahe****yahello Du****o Duniyahe****yahello Du****o Duniyahe****yahello Du****o Duniyahe****yahello Du****o Duniyahe****yahello Du****o Duniyahe****yahello Du****o Duniyahe****yahello Du****o Duniyahe****yahello Du****o Duniyahe****yahello Du****o Duniyahe****yahello Du****o Duniyahe****yahello Du****o Duniyahe****yahello Du****o Duniyahe****yahello Du****o Duniyahe****yahello Du****o Duniyahe****yahello Du****o Duniyahe****yahello Du****o Duniyahe****yahello Du****o Duniyahe****yahello Du****o Duniyahe****yahello Du****o Duniyahe****yahello Du****o Duniyahe****yahello Du****o Duniyahe****yahello Du****o Duniyahe****yahello Du****o Duniyahe****yahello Du****o Duniyahe****yahello Du****o Duniyahe****yahello Du****o Duniyahe****yahello Du****o Duniyahe****yahello Du****o Duniyahe****yahello Du****o Duniyahe****yahello Du****o Duniyahe****yahello Du****o Duniyahe****yahello Du****o Duniyahe****yahello Du****o Duniyahe****yahello Du****o Duniyahe****yahello Du****o Duniyahe****yahello Du****o Duniyahe****yahello Du****o Duniyahe****yahello Du****o Duniyahe****yahello Du****o Duniyahe****yahello Du****o Duniyahe****yahello Du****o Duniyahe****yahello Du****o Duniyahe****yahello Du****o Duniyahe****yahello Du****o Duniyahe****yahello Du****o Duniyahe****yahello Du****o Duniyahe****yahello Du****o Duniyahe****yahello Du****o Duniyahe****yahello Du****o Duniyahe****yahello Du****o Duniyahe****yahello Du****o Duniyahe****yahello Du****o Duniyahe****yahello Du****o Duniyahe****yahello Du****o Duniyahe****yahello Du****o Duniyahe****yahello Du****o Duniyahe****yahello Du****o Duniyahe****yahello Du****o Duniyahe****yahello Du****o Duniyahe****yahello Du****o Duniyahe****yahello Du****o Duniyahe****yahello Du****o Duniyahe****yahello Du****o Duniyahe****yahello Du****o Duniyahe****yahello Du****o Duniyahe****yahello Du****o Duniyahe****yahello Du****o Duniyahe****yahello Du****o Duniyahe****yahello Du****o Duniyahe****yahello Du****o Duniyahe****yahello Du****o Duniyahe****yahello Du****o Duniyahe****yahello Du****o Duniyahe****yahello Du****o Duniyahe****yahello Du****o Duniyahe****yahello Du****o Duniyahe****yahello Du****o Duniyahe****yahello Du****o Duniyahe****yahello Du****o Duniyahe****yahello Du****o Duniyahe****yahello Du****o Duniyahe****yahello Du****o Duniyahe****yahello Du****o Duniyahe****yahello Du****o Duniyahe****yahello Du****o Duniyahe****yahello Du****o Duniyahe****yahello Du****o Duniyahe****yahello Du****o Duniyahe****yahello Du****o Duniyahe****yahello Du****o Duniyahe****yahello Du****o Duniyahe****yahello Du****o Duniyahe****yahello Du****o Duniyahe****yahello Du****o Duniyahe****yahello Du****o Duniyahe****yahello Du****o Duniyahe****yahello Du****o Duniyahe****yahello Du****o Duniyahe****yahello Du****o Duniyahe****yahello Du****o Duniyahe****yahello Du****o Duniyahe****yahello Du****o Duniyahe****yahello Du****o Duniyahe****yahello Du****o Duniyahe****yahello Du****o Duniyahe****yahello Du****o Duniyahe****yahello Du****o Duniyahe****yahello Du****o Duniyahe****yahello Du****o Duniyahe****yahello Du****o Duniyahe****yahello Du****o Duniyahe****yahello Du****o Duniyahe****yahello Du****o Duniyahe****yahello Du****o Duniyahe****yahello Du****o Duniyahe****yahello Du****o Duniyahe****yahello Du****o Duniyahe****yahello Du****o Duniyahe****yahello Du****o Duniyahe****yahello Du****o Duniyahe****yahello Du****o Duniyahe****yahello Du****o Duniyahe****yahello Du****o Duniyahe****yahello Du****o Duniyahe****yahello Du****o Duniyahe****yahello Du****o Duniyahe****yahello Du****o Duniyahe****yahello Du****o Duniyahe****yahello Du****o Duniyahe****yahello Du****o Duniyahe****yahello Du****o Duniyahe****yahello Du****o Duniyahe****yahello Du****o Duniyahe****yahello Du****o Duniyahe****yahello Du****o Duniyahe****yahello Du****o Duniyahe****yahello Du****o Duniyahe****yahello Du****o Duniyahe****yahello Du****o Duniyahe****yahello Du****o Duniyahe****yahello Du****o Duniyahe****yahello Du****o Duniyahe****yahello Du****o Duniyahe****yahello Du****o Duniyahe****yahello Du****o Duniyahe****yahello Du****o Duniyahe****yahello Du****o Duniyahe****yahello Du****o Duniyahe****yahello Du****o Duniyahe****yahello Du****o Duniyahe****yahello Du****o Duniyahe****yahello Du****o Duniyahe****yahello Du****o Duniyahe****yahello Du****o Duniyahe****yahello Du****o Duniyahe****yahello Du****o Duniyahe****yahello Du****o Duniyahe****yahello Du****o Duniyahe****yahello Du****o Duniyahe****yahello Du****o Duniyahe****yahello Du****o Duniyahe****yahello Du****o Duniyahe****yahello Du****o Duniyahe****yahello Du****o Duniyahe****yahello Du****o Duniyahe****yahello Du****o Duniyahe****yahello Du****o Duniyahe****yahello Du****o Duniyahe****yahello Du****o Duniyahe****yahello Du****o Duniyahe****yahello Du****o Duniyahe****yahello Du****o Duniyahe****yahello Du****o Duniyahe****yahello Du****o Duniyahe****yahello Du****o Duniyahe****yahello Du****o Duniyahe****yahello Du****o Duniyahe****yahello Du****o Duniyahe****yahello Du****o Duniyahe****yahello Du****o Duniyahe****yahello Du****o Duniyahe****yahello Du****o Duniyahe****yahello Du****o Duniyahe****yahello Du****o Duniyahe****yahello Du****o Duniyahe****yahello Du****o Duniyahe****yahello Du****o Duniyahe****yahello Du****o Duniyahe****yahello Du****o Duniyahe****yahello Du****o Duniyahe****yahello Du****o Duniyahe****yahello Du****o Duniyahe****yahello Du****o Duniyahe****yahello Du****o Duniyahe****yahello Du****o Duniyahe****yahello Du****o Duniyahe****yahello Du****o Duniyahe****yahello Du****o Duniyahe****yahello Du****o Duniyahe****yahello Du****o Duniyahe****yahello Du****o Duniyahe****yahello Du****o Duniyahe****yahello Du****o Duniyahe****yahello Du****o Duniyahe****yahello Du****o Duniyahe****yahello Du****o Duniyahe****yahello Du****o Duniyahe****yahello Du****o Duniyahe****yahello Du****o Duniyahe****yahello Du****o Duniyahe****yahello Du****o Duniyahe****yahello Du****o Duniyahe****yahello Du****o Duniyahe****yahello Du****o Duniyahe****yahello Du****o Duniyahe****yahello Du****o Duniyahe****yahello Du****o Duniyahe****yahello Du****o Duniyahe****yahello Du****o Duniyahe****yahello Du****o Duniyahe****yahello Du****o Duniyahe****yahello Du****o Duniyahe****yahello Du****o Duniyahe****yahello Du****o Duniyahe****yahello Du****o Duniyahe****yahello Du****o Duniyahe****yahello Du****o Duniyahe****yahello Du****o Duniyahe****yahello Du****o Duniyahe****yahello Du****o Duniyahe****yahello Du****o Duniyahe****yahello Du****o Duniyahe****yahello Du****o Duniyahe****yahello Du****o Duniyahe****yahello Du****o Duniyahe****yahello Du****o Duniyahe****yahello Du****o Duniyahe****yahello Du****o Duniyahe****yahello Du****o Duniyahe****yahello Du****o Duniyahe****yahello Du****o Duniyahe****yahello Du****o Duniyahe****yahello Du****o Duniyahe****yahello Du****o Duniyahe****yahello Du****o Duniyahe****yahello Du****o Duniyahe****yahello Du****o Duniyahe****yahello Du****o Duniyahe****yahello Du****o Duniyahe****yahello Du****o Duniyahe****yahello Du****o Duniyahe****yahello Du****o Duniyahe****yahello Du****o Duniyahe****yahello Du****o Duniyahe****yahello Du****o Duniyahe****yahello Du****o Duniyahe****yahello Du****o Duniyahe****yahello Du****o Duniyahe****yahello Du****o Duniyahe****yahello Du****o Duniyahe****yahello Du****o Duniyahe****yahello Du****o Duniyahe****yahello Du****o Duniyahe****yahello Du****o Duniyahe****yahello Du****o Duniyahe****yahello Du****o Duniyahe****yahello Du****o Duniyahe****yahello Du****o Duniyahe****yahello Du****o Duniyahe****yahello Du****o Duniyahe****yahello Du****o Duniyahe****yahello Du****o Duniyahe****yahello Du****o Duniyahe****yahello Du****o Duniyahe****yahello Du****o Duniyahe****yahello Du****o Duniyahe****yahello Du****o Duniyahe****yahello Du****o Duniyahe****yahello Du****o Duniyahe****yahello Du****o Duniyahe****yahello Du****o Duniyahe****yahello Du****o Duniyahe****yahello Du****o Duniyahe****yahello Du****o Duniyahe****yahello Du****o Duniyahe****yahello Du****o Duniyahe****yahello Du****o Duniyahe****yahello Du****o Duniyahe****yahello Du****o Duniyahe****yahello Du****o Duniyahe****yahello Du****o Duniyahe****yahello Du****o Duniyahe****yahello Du****o Duniyahe****yahello Du****o Duniyahe****yahello Du****o Duniyahe****yahello Du****o Duniyahe****yahello Du****o Duniyahe****yahello Du****o Duniyahe****yahello Du****o Duniyahe****yahello Du****o Duniyahe****yahello Du****o Duniyahe****yahello Du****o Duniyahe****yahello Du****o Duniyahe****yahello Du****o Duniyahe****yahello Du****o Duniyahe****yahello Du****o Duniyahe****yahello Du****o Duniyahe****yahello Du****o Duniyahe****yahello Du****o Duniyahe****yahello Du****o Duniyahe****yahello Du****o Duniyahe****yahello Du****o Duniyahe****yahello Du****o Duniyahe****yahello Du****o Duniyahe****yahello Du****o Duniyahe****yahello Du****o Duniyahe****yahello Du****o Duniyahe****yahello Du****o Duniyahe****yahello Du****o Duniyahe****yahello Du****o Duniyahe****yahello Du****o Duniyahe****yahello Du****o Duniyahe****yahello Du****o Duniyahe****yahello Du****o Duniyahe****yahello Du****o Duniyahe****yahello Du****o Duniyahe****yahello Du****o Duniyahe****yahello Du****o Duniyahe****yahello Du****o Duniyahe****yahello Du****o Duniyahe****yahello Du****o Duniyahe****yahello Du****o Duniyahe****yahello Du****o Duniyahe****yahello Du****o Duniyahe****yahello Du****o Duniyahe****yahello Du****o Duniyahe****yahello Du****o Duniyahe****yahello Du****o Duniyahe****yahello Du****o Duniyahe****yahello Du****o Duniyahe****yahello Du****o Duniyahe****yahello Du****o Duniyahe****yahello Du****o Duniyahe****"
     ]
    }
   ],
   "source": [
    "# processing 100 characters at once !! \n",
    "\n",
    "\n",
    "with open('big.txt','r') as f :\n",
    "    chunk_size =10\n",
    "    while len(f.read(chunk_size))>0:\n",
    "        print(f.read(chunk_size) , end ='****')\n",
    "        f.read(chunk_size)"
   ]
  },
  {
   "cell_type": "code",
   "execution_count": 8,
   "id": "023ad31a",
   "metadata": {},
   "outputs": [
    {
     "name": "stdout",
     "output_type": "stream",
     "text": [
      "Anurag SIn\n",
      "10\n",
      "Anurag SIn\n"
     ]
    }
   ],
   "source": [
    "# seek and tell function \n",
    "with open('sample.txt' ,'r') as f:\n",
    "    print(f.read(10))\n",
    "    print(f.tell()) #  -->  method  used to determine the current position of the file pointer within an open file.\n",
    "    f.seek(0) #--> used to change the position of the File Handle to a given specific position.\n",
    "    print(f.read(10))"
   ]
  },
  {
   "cell_type": "code",
   "execution_count": 9,
   "id": "add14413",
   "metadata": {},
   "outputs": [],
   "source": [
    "# seek during write \n",
    "with open('sample.txt' , 'w') as f:\n",
    "    f.write('Hello')\n",
    "\n",
    "    f.seek(0)\n",
    "    f.write('Xa')"
   ]
  },
  {
   "cell_type": "code",
   "execution_count": 10,
   "id": "a328cdcb",
   "metadata": {},
   "outputs": [],
   "source": [
    "### problems with working in text mode \n",
    "    # can't work with binary files like images\n",
    "    #not good for other data types like int/float/list/tuples"
   ]
  },
  {
   "cell_type": "code",
   "execution_count": 12,
   "id": "c66d2d60",
   "metadata": {},
   "outputs": [
    {
     "ename": "UnicodeDecodeError",
     "evalue": "'charmap' codec can't decode byte 0x81 in position 358: character maps to <undefined>",
     "output_type": "error",
     "traceback": [
      "\u001b[1;31m---------------------------------------------------------------------------\u001b[0m",
      "\u001b[1;31mUnicodeDecodeError\u001b[0m                        Traceback (most recent call last)",
      "Cell \u001b[1;32mIn[12], line 3\u001b[0m\n\u001b[0;32m      1\u001b[0m \u001b[38;5;66;03m# working with binary files \u001b[39;00m\n\u001b[0;32m      2\u001b[0m \u001b[38;5;28;01mwith\u001b[39;00m \u001b[38;5;28mopen\u001b[39m(\u001b[38;5;124m'\u001b[39m\u001b[38;5;124mlangchain.jpg\u001b[39m\u001b[38;5;124m'\u001b[39m ,\u001b[38;5;124m'\u001b[39m\u001b[38;5;124mr\u001b[39m\u001b[38;5;124m'\u001b[39m) \u001b[38;5;28;01mas\u001b[39;00m f:\n\u001b[1;32m----> 3\u001b[0m     \u001b[38;5;28mprint\u001b[39m(\u001b[43mf\u001b[49m\u001b[38;5;241;43m.\u001b[39;49m\u001b[43mread\u001b[49m\u001b[43m(\u001b[49m\u001b[43m)\u001b[49m)\n",
      "File \u001b[1;32mc:\\Users\\singh\\AppData\\Local\\Programs\\Python\\Python311\\Lib\\encodings\\cp1252.py:23\u001b[0m, in \u001b[0;36mIncrementalDecoder.decode\u001b[1;34m(self, input, final)\u001b[0m\n\u001b[0;32m     22\u001b[0m \u001b[38;5;28;01mdef\u001b[39;00m\u001b[38;5;250m \u001b[39m\u001b[38;5;21mdecode\u001b[39m(\u001b[38;5;28mself\u001b[39m, \u001b[38;5;28minput\u001b[39m, final\u001b[38;5;241m=\u001b[39m\u001b[38;5;28;01mFalse\u001b[39;00m):\n\u001b[1;32m---> 23\u001b[0m     \u001b[38;5;28;01mreturn\u001b[39;00m codecs\u001b[38;5;241m.\u001b[39mcharmap_decode(\u001b[38;5;28minput\u001b[39m,\u001b[38;5;28mself\u001b[39m\u001b[38;5;241m.\u001b[39merrors,decoding_table)[\u001b[38;5;241m0\u001b[39m]\n",
      "\u001b[1;31mUnicodeDecodeError\u001b[0m: 'charmap' codec can't decode byte 0x81 in position 358: character maps to <undefined>"
     ]
    }
   ],
   "source": [
    "# working with binary files \n",
    "with open('langchain.jpg' ,'r') as f:\n",
    "    print(f.read())"
   ]
  },
  {
   "cell_type": "code",
   "execution_count": 13,
   "id": "272c14de",
   "metadata": {},
   "outputs": [],
   "source": [
    "# working with binary files \n",
    "with open('langchain.jpg' ,'rb') as f: #rb --> read binary \n",
    "    with open('langchain_copy.jpg','wb') as wf:\n",
    "       wf.write(f.read())"
   ]
  },
  {
   "cell_type": "code",
   "execution_count": null,
   "id": "631df7c0",
   "metadata": {},
   "outputs": [],
   "source": [
    "# working with large binary files\n"
   ]
  },
  {
   "cell_type": "code",
   "execution_count": null,
   "id": "d489591e",
   "metadata": {},
   "outputs": [
    {
     "ename": "TypeError",
     "evalue": "write() argument must be str, not int",
     "output_type": "error",
     "traceback": [
      "\u001b[1;31m---------------------------------------------------------------------------\u001b[0m",
      "\u001b[1;31mTypeError\u001b[0m                                 Traceback (most recent call last)",
      "Cell \u001b[1;32mIn[14], line 3\u001b[0m\n\u001b[0;32m      1\u001b[0m \u001b[38;5;66;03m# working with other data types \u001b[39;00m\n\u001b[0;32m      2\u001b[0m \u001b[38;5;28;01mwith\u001b[39;00m \u001b[38;5;28mopen\u001b[39m(\u001b[38;5;124m'\u001b[39m\u001b[38;5;124msample.txt\u001b[39m\u001b[38;5;124m'\u001b[39m,\u001b[38;5;124m'\u001b[39m\u001b[38;5;124mw\u001b[39m\u001b[38;5;124m'\u001b[39m) \u001b[38;5;28;01mas\u001b[39;00m f :\n\u001b[1;32m----> 3\u001b[0m     \u001b[43mf\u001b[49m\u001b[38;5;241;43m.\u001b[39;49m\u001b[43mwrite\u001b[49m\u001b[43m(\u001b[49m\u001b[38;5;241;43m5\u001b[39;49m\u001b[43m)\u001b[49m\n",
      "\u001b[1;31mTypeError\u001b[0m: write() argument must be str, not int"
     ]
    }
   ],
   "source": [
    "# working with other data types \n",
    "with open('sample.txt','w') as f :\n",
    "    f.write(5)"
   ]
  },
  {
   "cell_type": "code",
   "execution_count": 15,
   "id": "a679c730",
   "metadata": {},
   "outputs": [],
   "source": [
    "# working with other data types \n",
    "with open('sample.txt','w') as f :\n",
    "    f.write('5')"
   ]
  },
  {
   "cell_type": "code",
   "execution_count": 16,
   "id": "1871a9fc",
   "metadata": {},
   "outputs": [],
   "source": [
    "#no other data type works as we can see while writing 5 as integer it throw errors while in string it does not "
   ]
  },
  {
   "cell_type": "code",
   "execution_count": 17,
   "id": "99591804",
   "metadata": {},
   "outputs": [
    {
     "ename": "TypeError",
     "evalue": "can only concatenate str (not \"int\") to str",
     "output_type": "error",
     "traceback": [
      "\u001b[1;31m---------------------------------------------------------------------------\u001b[0m",
      "\u001b[1;31mTypeError\u001b[0m                                 Traceback (most recent call last)",
      "Cell \u001b[1;32mIn[17], line 3\u001b[0m\n\u001b[0;32m      1\u001b[0m \u001b[38;5;66;03m# working with other data types \u001b[39;00m\n\u001b[0;32m      2\u001b[0m \u001b[38;5;28;01mwith\u001b[39;00m \u001b[38;5;28mopen\u001b[39m(\u001b[38;5;124m'\u001b[39m\u001b[38;5;124msample.txt\u001b[39m\u001b[38;5;124m'\u001b[39m,\u001b[38;5;124m'\u001b[39m\u001b[38;5;124mr\u001b[39m\u001b[38;5;124m'\u001b[39m) \u001b[38;5;28;01mas\u001b[39;00m f :\n\u001b[1;32m----> 3\u001b[0m     \u001b[38;5;28mprint\u001b[39m(\u001b[43mf\u001b[49m\u001b[38;5;241;43m.\u001b[39;49m\u001b[43mread\u001b[49m\u001b[43m(\u001b[49m\u001b[43m)\u001b[49m\u001b[43m \u001b[49m\u001b[38;5;241;43m+\u001b[39;49m\u001b[43m \u001b[49m\u001b[38;5;241;43m5\u001b[39;49m)\n",
      "\u001b[1;31mTypeError\u001b[0m: can only concatenate str (not \"int\") to str"
     ]
    }
   ],
   "source": [
    "# working with other data types \n",
    "with open('sample.txt','r') as f :\n",
    "    print(f.read() + 5)"
   ]
  },
  {
   "cell_type": "code",
   "execution_count": 18,
   "id": "8f19c9bd",
   "metadata": {},
   "outputs": [
    {
     "name": "stdout",
     "output_type": "stream",
     "text": [
      "55\n"
     ]
    }
   ],
   "source": [
    "# working with other data types \n",
    "with open('sample.txt','r') as f :\n",
    "    print(f.read() + '5')"
   ]
  },
  {
   "cell_type": "code",
   "execution_count": 19,
   "id": "2d71b002",
   "metadata": {},
   "outputs": [],
   "source": [
    "#no other data type works as we can see while reading 5 as integer it throw errors while in string it does not "
   ]
  },
  {
   "cell_type": "code",
   "execution_count": 20,
   "id": "89788885",
   "metadata": {},
   "outputs": [
    {
     "ename": "TypeError",
     "evalue": "write() argument must be str, not dict",
     "output_type": "error",
     "traceback": [
      "\u001b[1;31m---------------------------------------------------------------------------\u001b[0m",
      "\u001b[1;31mTypeError\u001b[0m                                 Traceback (most recent call last)",
      "Cell \u001b[1;32mIn[20], line 8\u001b[0m\n\u001b[0;32m      2\u001b[0m d \u001b[38;5;241m=\u001b[39m{ \n\u001b[0;32m      3\u001b[0m     \u001b[38;5;124m'\u001b[39m\u001b[38;5;124mname\u001b[39m\u001b[38;5;124m'\u001b[39m :\u001b[38;5;124m'\u001b[39m\u001b[38;5;124manurag\u001b[39m\u001b[38;5;124m'\u001b[39m,\n\u001b[0;32m      4\u001b[0m     \u001b[38;5;124m'\u001b[39m\u001b[38;5;124mage\u001b[39m\u001b[38;5;124m'\u001b[39m :\u001b[38;5;241m33\u001b[39m , \n\u001b[0;32m      5\u001b[0m     \u001b[38;5;124m'\u001b[39m\u001b[38;5;124mgender\u001b[39m\u001b[38;5;124m'\u001b[39m :\u001b[38;5;124m'\u001b[39m\u001b[38;5;124mmale\u001b[39m\u001b[38;5;124m'\u001b[39m\n\u001b[0;32m      6\u001b[0m }\n\u001b[0;32m      7\u001b[0m \u001b[38;5;28;01mwith\u001b[39;00m \u001b[38;5;28mopen\u001b[39m(\u001b[38;5;124m'\u001b[39m\u001b[38;5;124msample.txt\u001b[39m\u001b[38;5;124m'\u001b[39m,\u001b[38;5;124m'\u001b[39m\u001b[38;5;124mw\u001b[39m\u001b[38;5;124m'\u001b[39m) \u001b[38;5;28;01mas\u001b[39;00m f:\n\u001b[1;32m----> 8\u001b[0m     \u001b[43mf\u001b[49m\u001b[38;5;241;43m.\u001b[39;49m\u001b[43mwrite\u001b[49m\u001b[43m(\u001b[49m\u001b[43md\u001b[49m\u001b[43m)\u001b[49m\n",
      "\u001b[1;31mTypeError\u001b[0m: write() argument must be str, not dict"
     ]
    }
   ],
   "source": [
    "# more complex dataType\n",
    "d ={ \n",
    "    'name' :'anurag',\n",
    "    'age' :33 , \n",
    "    'gender' :'male'\n",
    "}\n",
    "with open('sample.txt','w') as f:\n",
    "    f.write(d)"
   ]
  },
  {
   "cell_type": "code",
   "execution_count": 21,
   "id": "09b2dc12",
   "metadata": {},
   "outputs": [],
   "source": [
    "# more complex dataType\n",
    "d ={ \n",
    "    'name' :'anurag',\n",
    "    'age' :33 , \n",
    "    'gender' :'male'\n",
    "}\n",
    "with open('sample.txt','w') as f:\n",
    "    f.write(str(d))"
   ]
  },
  {
   "cell_type": "code",
   "execution_count": 25,
   "id": "a5223581",
   "metadata": {},
   "outputs": [
    {
     "name": "stdout",
     "output_type": "stream",
     "text": [
      "{'name': 'anurag', 'age': 33, 'gender': 'male'}\n",
      "<class 'str'>\n",
      "{}\n"
     ]
    }
   ],
   "source": [
    "with open('sample.txt','r') as f:\n",
    "    print(f.read())\n",
    "    print(type(f.read())) # type is   string \n",
    "    print(dict(f.read()))"
   ]
  },
  {
   "cell_type": "markdown",
   "id": "5acce3aa",
   "metadata": {},
   "source": [
    "Serialization and Deserialization"
   ]
  },
  {
   "cell_type": "markdown",
   "id": "b49f9fb5",
   "metadata": {},
   "source": [
    "Serialization - process of convertion python data types to JSON"
   ]
  },
  {
   "cell_type": "markdown",
   "id": "c85dd040",
   "metadata": {},
   "source": [
    "Deserialization -process of converting JSON to python data types"
   ]
  },
  {
   "cell_type": "code",
   "execution_count": 28,
   "id": "4028c3be",
   "metadata": {},
   "outputs": [],
   "source": [
    "# serialization using json module \n",
    "# list\n",
    "\n",
    "import json\n",
    "L =[1,2,3,4]\n",
    "with open('demo.json','w') as f: #f --> known as file handeler object\n",
    "    json.dump(L ,f)"
   ]
  },
  {
   "cell_type": "code",
   "execution_count": 32,
   "id": "2a447c37",
   "metadata": {},
   "outputs": [],
   "source": [
    "# dict \n",
    "d = {\n",
    "    'name':'anurag',\n",
    "    'age' : 19,\n",
    "    'gender':'male'\n",
    "}\n",
    "\n",
    "with open('demo.json' , 'w') as f:\n",
    "    json.dump(d ,f, indent=4) #indent is use to write properly in JSON format "
   ]
  },
  {
   "cell_type": "code",
   "execution_count": 39,
   "id": "ebd3d01b",
   "metadata": {},
   "outputs": [
    {
     "name": "stdout",
     "output_type": "stream",
     "text": [
      "{'name': 'anurag', 'age': 19, 'gender': 'male'}\n",
      "<class 'dict'>\n"
     ]
    }
   ],
   "source": [
    "# deserialization \n",
    "import json \n",
    "with open('demo.json' ,'r' ) as f:\n",
    "    d = json.load(f)\n",
    "    print(d)\n",
    "    print(type(d))"
   ]
  },
  {
   "cell_type": "code",
   "execution_count": 41,
   "id": "7db6bd0c",
   "metadata": {},
   "outputs": [],
   "source": [
    "# serialize and deserialize tuple \n",
    "import json \n",
    "t = (1,2,3,4,5,6)\n",
    "with open('demo.json' ,'w') as f:\n",
    "    json.dump(t,f)"
   ]
  },
  {
   "cell_type": "code",
   "execution_count": 44,
   "id": "7d7cf965",
   "metadata": {},
   "outputs": [],
   "source": [
    "# serialize and deserialize a nested dict \n",
    "\n",
    "d = {\n",
    "'student' :'nitish',\n",
    "'marks' :[23,14,24,45,56]\n",
    "\n",
    "}\n",
    "with open('demo.json', 'w' ) as f:\n",
    "    json.dump(d,f , indent= 4)"
   ]
  },
  {
   "cell_type": "code",
   "execution_count": 45,
   "id": "3874d997",
   "metadata": {},
   "outputs": [],
   "source": [
    "# serializing and deserializing custom objects "
   ]
  },
  {
   "cell_type": "code",
   "execution_count": 46,
   "id": "defe78e2",
   "metadata": {},
   "outputs": [],
   "source": [
    "class Person :\n",
    "\n",
    "    def __init__(self , fname ,lname , age,gender):\n",
    "        self.fname = fname\n",
    "        self.lname = lname\n",
    "        self.age = age\n",
    "        self.gender = gender \n",
    "\n",
    "        #format to printed in \n",
    "        #--> Nitish singh age --> 33 gender -> male"
   ]
  },
  {
   "cell_type": "code",
   "execution_count": 47,
   "id": "37d54004",
   "metadata": {},
   "outputs": [],
   "source": [
    "person = Person('Nitish' ,'Singh' , 33 ,'male')"
   ]
  },
  {
   "cell_type": "code",
   "execution_count": 48,
   "id": "5e0fead6",
   "metadata": {},
   "outputs": [
    {
     "ename": "TypeError",
     "evalue": "Object of type Person is not JSON serializable",
     "output_type": "error",
     "traceback": [
      "\u001b[1;31m---------------------------------------------------------------------------\u001b[0m",
      "\u001b[1;31mTypeError\u001b[0m                                 Traceback (most recent call last)",
      "Cell \u001b[1;32mIn[48], line 4\u001b[0m\n\u001b[0;32m      2\u001b[0m \u001b[38;5;28;01mimport\u001b[39;00m\u001b[38;5;250m \u001b[39m\u001b[38;5;21;01mjson\u001b[39;00m \n\u001b[0;32m      3\u001b[0m \u001b[38;5;28;01mwith\u001b[39;00m \u001b[38;5;28mopen\u001b[39m(\u001b[38;5;124m'\u001b[39m\u001b[38;5;124mdemo.json\u001b[39m\u001b[38;5;124m'\u001b[39m ,\u001b[38;5;124m'\u001b[39m\u001b[38;5;124mw\u001b[39m\u001b[38;5;124m'\u001b[39m) \u001b[38;5;28;01mas\u001b[39;00m f :\n\u001b[1;32m----> 4\u001b[0m     \u001b[43mjson\u001b[49m\u001b[38;5;241;43m.\u001b[39;49m\u001b[43mdump\u001b[49m\u001b[43m(\u001b[49m\u001b[43mperson\u001b[49m\u001b[43m \u001b[49m\u001b[43m,\u001b[49m\u001b[43m \u001b[49m\u001b[43mf\u001b[49m\u001b[43m)\u001b[49m\n",
      "File \u001b[1;32mc:\\Users\\singh\\AppData\\Local\\Programs\\Python\\Python311\\Lib\\json\\__init__.py:179\u001b[0m, in \u001b[0;36mdump\u001b[1;34m(obj, fp, skipkeys, ensure_ascii, check_circular, allow_nan, cls, indent, separators, default, sort_keys, **kw)\u001b[0m\n\u001b[0;32m    173\u001b[0m     iterable \u001b[38;5;241m=\u001b[39m \u001b[38;5;28mcls\u001b[39m(skipkeys\u001b[38;5;241m=\u001b[39mskipkeys, ensure_ascii\u001b[38;5;241m=\u001b[39mensure_ascii,\n\u001b[0;32m    174\u001b[0m         check_circular\u001b[38;5;241m=\u001b[39mcheck_circular, allow_nan\u001b[38;5;241m=\u001b[39mallow_nan, indent\u001b[38;5;241m=\u001b[39mindent,\n\u001b[0;32m    175\u001b[0m         separators\u001b[38;5;241m=\u001b[39mseparators,\n\u001b[0;32m    176\u001b[0m         default\u001b[38;5;241m=\u001b[39mdefault, sort_keys\u001b[38;5;241m=\u001b[39msort_keys, \u001b[38;5;241m*\u001b[39m\u001b[38;5;241m*\u001b[39mkw)\u001b[38;5;241m.\u001b[39miterencode(obj)\n\u001b[0;32m    177\u001b[0m \u001b[38;5;66;03m# could accelerate with writelines in some versions of Python, at\u001b[39;00m\n\u001b[0;32m    178\u001b[0m \u001b[38;5;66;03m# a debuggability cost\u001b[39;00m\n\u001b[1;32m--> 179\u001b[0m \u001b[43m\u001b[49m\u001b[38;5;28;43;01mfor\u001b[39;49;00m\u001b[43m \u001b[49m\u001b[43mchunk\u001b[49m\u001b[43m \u001b[49m\u001b[38;5;129;43;01min\u001b[39;49;00m\u001b[43m \u001b[49m\u001b[43miterable\u001b[49m\u001b[43m:\u001b[49m\n\u001b[0;32m    180\u001b[0m \u001b[43m    \u001b[49m\u001b[43mfp\u001b[49m\u001b[38;5;241;43m.\u001b[39;49m\u001b[43mwrite\u001b[49m\u001b[43m(\u001b[49m\u001b[43mchunk\u001b[49m\u001b[43m)\u001b[49m\n",
      "File \u001b[1;32mc:\\Users\\singh\\AppData\\Local\\Programs\\Python\\Python311\\Lib\\json\\encoder.py:439\u001b[0m, in \u001b[0;36m_make_iterencode.<locals>._iterencode\u001b[1;34m(o, _current_indent_level)\u001b[0m\n\u001b[0;32m    437\u001b[0m         \u001b[38;5;28;01mraise\u001b[39;00m \u001b[38;5;167;01mValueError\u001b[39;00m(\u001b[38;5;124m\"\u001b[39m\u001b[38;5;124mCircular reference detected\u001b[39m\u001b[38;5;124m\"\u001b[39m)\n\u001b[0;32m    438\u001b[0m     markers[markerid] \u001b[38;5;241m=\u001b[39m o\n\u001b[1;32m--> 439\u001b[0m o \u001b[38;5;241m=\u001b[39m \u001b[43m_default\u001b[49m\u001b[43m(\u001b[49m\u001b[43mo\u001b[49m\u001b[43m)\u001b[49m\n\u001b[0;32m    440\u001b[0m \u001b[38;5;28;01myield from\u001b[39;00m _iterencode(o, _current_indent_level)\n\u001b[0;32m    441\u001b[0m \u001b[38;5;28;01mif\u001b[39;00m markers \u001b[38;5;129;01mis\u001b[39;00m \u001b[38;5;129;01mnot\u001b[39;00m \u001b[38;5;28;01mNone\u001b[39;00m:\n",
      "File \u001b[1;32mc:\\Users\\singh\\AppData\\Local\\Programs\\Python\\Python311\\Lib\\json\\encoder.py:180\u001b[0m, in \u001b[0;36mJSONEncoder.default\u001b[1;34m(self, o)\u001b[0m\n\u001b[0;32m    161\u001b[0m \u001b[38;5;28;01mdef\u001b[39;00m\u001b[38;5;250m \u001b[39m\u001b[38;5;21mdefault\u001b[39m(\u001b[38;5;28mself\u001b[39m, o):\n\u001b[0;32m    162\u001b[0m \u001b[38;5;250m    \u001b[39m\u001b[38;5;124;03m\"\"\"Implement this method in a subclass such that it returns\u001b[39;00m\n\u001b[0;32m    163\u001b[0m \u001b[38;5;124;03m    a serializable object for ``o``, or calls the base implementation\u001b[39;00m\n\u001b[0;32m    164\u001b[0m \u001b[38;5;124;03m    (to raise a ``TypeError``).\u001b[39;00m\n\u001b[1;32m   (...)\u001b[0m\n\u001b[0;32m    178\u001b[0m \n\u001b[0;32m    179\u001b[0m \u001b[38;5;124;03m    \"\"\"\u001b[39;00m\n\u001b[1;32m--> 180\u001b[0m     \u001b[38;5;28;01mraise\u001b[39;00m \u001b[38;5;167;01mTypeError\u001b[39;00m(\u001b[38;5;124mf\u001b[39m\u001b[38;5;124m'\u001b[39m\u001b[38;5;124mObject of type \u001b[39m\u001b[38;5;132;01m{\u001b[39;00mo\u001b[38;5;241m.\u001b[39m\u001b[38;5;18m__class__\u001b[39m\u001b[38;5;241m.\u001b[39m\u001b[38;5;18m__name__\u001b[39m\u001b[38;5;132;01m}\u001b[39;00m\u001b[38;5;124m \u001b[39m\u001b[38;5;124m'\u001b[39m\n\u001b[0;32m    181\u001b[0m                     \u001b[38;5;124mf\u001b[39m\u001b[38;5;124m'\u001b[39m\u001b[38;5;124mis not JSON serializable\u001b[39m\u001b[38;5;124m'\u001b[39m)\n",
      "\u001b[1;31mTypeError\u001b[0m: Object of type Person is not JSON serializable"
     ]
    }
   ],
   "source": [
    "# As a string \n",
    "import json \n",
    "with open('demo.json' ,'w') as f :\n",
    "    json.dump(person , f)"
   ]
  },
  {
   "cell_type": "code",
   "execution_count": 50,
   "id": "1a321686",
   "metadata": {},
   "outputs": [],
   "source": [
    "# As a string \n",
    "import json\n",
    "# function is to tell how the data should be shown\n",
    "def show_object(person):\n",
    "    if isinstance(person , Person):\n",
    "       return \"{} {} age -> {} gender ->{}\".format(person.fname ,person.lname , person.age , person.gender ) \n",
    "\n",
    "with open('demo.json' ,'w') as f :\n",
    "    json.dump(person , f , default=show_object)"
   ]
  },
  {
   "cell_type": "code",
   "execution_count": 53,
   "id": "d8eef0f7",
   "metadata": {},
   "outputs": [],
   "source": [
    "# As a dictionary \n",
    "import json\n",
    "# function is to tell how the data should be shown\n",
    "def show_object(person):\n",
    "    if isinstance(person , Person):\n",
    "       return {\n",
    "        'name' :person.fname + ' ' +person.lname,\n",
    "        'age':person.age,\n",
    "        'gender':person.gender\n",
    "       }\n",
    "\n",
    "with open('demo.json' ,'w') as f :\n",
    "    json.dump(person , f , default=show_object , indent=4)"
   ]
  },
  {
   "cell_type": "code",
   "execution_count": 56,
   "id": "4abea80c",
   "metadata": {},
   "outputs": [
    {
     "name": "stdout",
     "output_type": "stream",
     "text": [
      "{'name': 'Nitish Singh', 'age': 33, 'gender': 'male'}\n",
      "<class 'dict'>\n"
     ]
    }
   ],
   "source": [
    "# deserialize\n",
    "import json\n",
    "with open('demo.json' , 'r') as f :\n",
    "   d = json.load(f)\n",
    "   print(d)\n",
    "   print(type(d))"
   ]
  },
  {
   "cell_type": "markdown",
   "id": "4f831982",
   "metadata": {},
   "source": [
    "Pickling \n",
    "\n",
    "Pickling is a process whereby a Python object hierachy is converted into a byte stream ,and unpickling is the inverse operation , whereby a byte stream ( from a binary file or bytes-like object) is converted back into an object hierarchy"
   ]
  },
  {
   "cell_type": "code",
   "execution_count": 63,
   "id": "7e34c43f",
   "metadata": {},
   "outputs": [],
   "source": [
    "class Person:\n",
    "\n",
    "    def __init__(self , name , age):\n",
    "        self.name= name \n",
    "        self.age = age \n",
    "\n",
    "        def display_info(self):\n",
    "            print('hi my name is' , self.name ,'and i am ' ,self.age ,'years old')"
   ]
  },
  {
   "cell_type": "code",
   "execution_count": 64,
   "id": "3894abf6",
   "metadata": {},
   "outputs": [],
   "source": [
    "p = Person('anurag' , 19)"
   ]
  },
  {
   "cell_type": "code",
   "execution_count": 65,
   "id": "3dced04b",
   "metadata": {},
   "outputs": [],
   "source": [
    "# pickle dump \n",
    "\n",
    "import pickle \n",
    "with open('person.pkl' , 'wb') as f:\n",
    "    pickle.dump(p , f)"
   ]
  },
  {
   "cell_type": "code",
   "execution_count": 66,
   "id": "814fb226",
   "metadata": {},
   "outputs": [
    {
     "ename": "AttributeError",
     "evalue": "'Person' object has no attribute 'display_info'",
     "output_type": "error",
     "traceback": [
      "\u001b[1;31m---------------------------------------------------------------------------\u001b[0m",
      "\u001b[1;31mAttributeError\u001b[0m                            Traceback (most recent call last)",
      "Cell \u001b[1;32mIn[66], line 6\u001b[0m\n\u001b[0;32m      3\u001b[0m \u001b[38;5;28;01mwith\u001b[39;00m \u001b[38;5;28mopen\u001b[39m(\u001b[38;5;124m'\u001b[39m\u001b[38;5;124mperson.pkl\u001b[39m\u001b[38;5;124m'\u001b[39m ,\u001b[38;5;124m'\u001b[39m\u001b[38;5;124mrb\u001b[39m\u001b[38;5;124m'\u001b[39m) \u001b[38;5;28;01mas\u001b[39;00m f:\n\u001b[0;32m      4\u001b[0m     p \u001b[38;5;241m=\u001b[39m pickle\u001b[38;5;241m.\u001b[39mload(f)\n\u001b[1;32m----> 6\u001b[0m \u001b[43mp\u001b[49m\u001b[38;5;241;43m.\u001b[39;49m\u001b[43mdisplay_info\u001b[49m()\n",
      "\u001b[1;31mAttributeError\u001b[0m: 'Person' object has no attribute 'display_info'"
     ]
    }
   ],
   "source": [
    "# pickle load\n",
    "import pickle\n",
    "with open('person.pkl' ,'rb') as f:\n",
    "    p = pickle.load(f)\n",
    "\n",
    "p.display_info()"
   ]
  },
  {
   "cell_type": "code",
   "execution_count": 68,
   "id": "378182a1",
   "metadata": {},
   "outputs": [],
   "source": [
    "# Pickle VS JSON\n",
    "\n",
    "# pickle lets the user to store data in binary format and json lets the user to store data in a human readable text format "
   ]
  },
  {
   "cell_type": "code",
   "execution_count": null,
   "id": "2fe86353",
   "metadata": {},
   "outputs": [],
   "source": []
  }
 ],
 "metadata": {
  "kernelspec": {
   "display_name": "Python 3",
   "language": "python",
   "name": "python3"
  },
  "language_info": {
   "codemirror_mode": {
    "name": "ipython",
    "version": 3
   },
   "file_extension": ".py",
   "mimetype": "text/x-python",
   "name": "python",
   "nbconvert_exporter": "python",
   "pygments_lexer": "ipython3",
   "version": "3.11.3"
  }
 },
 "nbformat": 4,
 "nbformat_minor": 5
}
