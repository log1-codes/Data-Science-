{
 "cells": [
  {
   "cell_type": "markdown",
   "id": "88d67def-cfda-4622-bf11-5835d7a4f297",
   "metadata": {},
   "source": [
    "## TUPLES"
   ]
  },
  {
   "cell_type": "markdown",
   "id": "77ff3939-a7c8-41b1-bf86-c81c12273bed",
   "metadata": {},
   "source": [
    "### Creating Tuples"
   ]
  },
  {
   "cell_type": "code",
   "execution_count": 2,
   "id": "6736acda-d0f2-4d34-b7de-3666b1146f88",
   "metadata": {},
   "outputs": [
    {
     "name": "stdout",
     "output_type": "stream",
     "text": [
      "()\n",
      "<class 'tuple'>\n",
      "(1, 2, 3, 4)\n",
      "(1, 2.5, True, [1, 2, 3, 4])\n",
      "(1, 2, 3, (4, 5))\n",
      "('h', 'e', 'l', 'l', 'o')\n"
     ]
    }
   ],
   "source": [
    "# empty\n",
    "t1 = ()\n",
    "print(t1)\n",
    "#create a tuple with a single item \n",
    "t2 =('hello' ,) # for single item tuple the last comma is so mandatory\n",
    "print(type(t2))\n",
    "#homo \n",
    "t3 =(1,2,3,4)\n",
    "print(t3)\n",
    "#hetro \n",
    "t4 = (1 ,2.5 , True ,[1,2,3,4])\n",
    "print(t4)\n",
    "t5 = (1,2,3,(4,5))\n",
    "print(t5)\n",
    "#using type conversion\n",
    "t6 = tuple('hello')\n",
    "\n",
    "print(t6)"
   ]
  },
  {
   "cell_type": "markdown",
   "id": "b6216191-ccbc-48e2-ba94-0397e2802f77",
   "metadata": {},
   "source": [
    "## Accessing Items "
   ]
  },
  {
   "cell_type": "markdown",
   "id": "9c593d09-132f-42c7-af8b-88d6c2779479",
   "metadata": {},
   "source": [
    "##### Indexing\n",
    "##### Slicing"
   ]
  },
  {
   "cell_type": "code",
   "execution_count": 9,
   "id": "90075ebb-0263-4013-9289-71a2f770eed9",
   "metadata": {},
   "outputs": [
    {
     "data": {
      "text/plain": [
       "(1, 2, 3, 4)"
      ]
     },
     "execution_count": 9,
     "metadata": {},
     "output_type": "execute_result"
    }
   ],
   "source": [
    "t3"
   ]
  },
  {
   "cell_type": "code",
   "execution_count": 13,
   "id": "0f421b20-08e9-4955-b68c-3dd9d6b6ead3",
   "metadata": {},
   "outputs": [
    {
     "name": "stdout",
     "output_type": "stream",
     "text": [
      "1\n",
      "4\n"
     ]
    }
   ],
   "source": [
    "print(t3[0])\n",
    "print(t3[-1])"
   ]
  },
  {
   "cell_type": "code",
   "execution_count": 17,
   "id": "7bb9970a-c2cf-4d92-9867-b51c02474f29",
   "metadata": {},
   "outputs": [
    {
     "name": "stdout",
     "output_type": "stream",
     "text": [
      "(1, 2, 3, 4)\n",
      "(1, 3)\n",
      "(2, 3)\n"
     ]
    }
   ],
   "source": [
    "print(t3[0:4])\n",
    "print(t3[0:4:2])\n",
    "print(t3[-3:-1])\n"
   ]
  },
  {
   "cell_type": "code",
   "execution_count": 18,
   "id": "942e542e-3607-4a5a-b1a0-a8e66fb3f0eb",
   "metadata": {},
   "outputs": [
    {
     "name": "stdout",
     "output_type": "stream",
     "text": [
      "(4, 3, 2, 1)\n"
     ]
    }
   ],
   "source": [
    "print(t3[::-1])  # tuple reverse"
   ]
  },
  {
   "cell_type": "code",
   "execution_count": 22,
   "id": "d961c0bd-2f81-49f9-a147-6f2f83ea79f1",
   "metadata": {},
   "outputs": [
    {
     "data": {
      "text/plain": [
       "4"
      ]
     },
     "execution_count": 22,
     "metadata": {},
     "output_type": "execute_result"
    }
   ],
   "source": [
    "t5[-1][0] # accessing 2D tuple"
   ]
  },
  {
   "cell_type": "markdown",
   "id": "f4f6fb1b-c828-467f-bf65-3eee47e80192",
   "metadata": {},
   "source": [
    "## Editing Items "
   ]
  },
  {
   "cell_type": "code",
   "execution_count": 25,
   "id": "226ba8b0-cc6e-4065-a8f6-14155eef057e",
   "metadata": {},
   "outputs": [
    {
     "name": "stdout",
     "output_type": "stream",
     "text": [
      "(1, 2, 3, 4)\n"
     ]
    },
    {
     "ename": "TypeError",
     "evalue": "'tuple' object does not support item assignment",
     "output_type": "error",
     "traceback": [
      "\u001b[1;31m---------------------------------------------------------------------------\u001b[0m",
      "\u001b[1;31mTypeError\u001b[0m                                 Traceback (most recent call last)",
      "Cell \u001b[1;32mIn[25], line 2\u001b[0m\n\u001b[0;32m      1\u001b[0m \u001b[38;5;28mprint\u001b[39m(t3)\n\u001b[1;32m----> 2\u001b[0m \u001b[43mt3\u001b[49m\u001b[43m[\u001b[49m\u001b[38;5;241;43m0\u001b[39;49m\u001b[43m]\u001b[49m \u001b[38;5;241m=\u001b[39m\u001b[38;5;241m100\u001b[39m\n\u001b[0;32m      3\u001b[0m \u001b[38;5;66;03m## tuples are immutable just like strings  but lists are\u001b[39;00m\n",
      "\u001b[1;31mTypeError\u001b[0m: 'tuple' object does not support item assignment"
     ]
    }
   ],
   "source": [
    "print(t3)\n",
    "t3[0] =100\n",
    "## tuples are immutable just like strings  but lists are"
   ]
  },
  {
   "cell_type": "markdown",
   "id": "5e546b58-2b33-43ae-86ef-405ee07e6bf4",
   "metadata": {},
   "source": [
    "## Adding Items"
   ]
  },
  {
   "cell_type": "code",
   "execution_count": 26,
   "id": "cce27068-a393-45e5-9730-0e65b61346b4",
   "metadata": {},
   "outputs": [
    {
     "name": "stdout",
     "output_type": "stream",
     "text": [
      "(1, 2, 3, 4)\n"
     ]
    }
   ],
   "source": [
    "print(t3) \n",
    "#not possible cause tuple are immutable"
   ]
  },
  {
   "cell_type": "markdown",
   "id": "873d7875-d1c2-4549-81c6-eba4a521bf35",
   "metadata": {},
   "source": [
    "## Deleting Items"
   ]
  },
  {
   "cell_type": "code",
   "execution_count": 27,
   "id": "9a8ffb72-874b-458d-9153-dab8817b4a95",
   "metadata": {},
   "outputs": [
    {
     "name": "stdout",
     "output_type": "stream",
     "text": [
      "(1, 2, 3, 4)\n"
     ]
    }
   ],
   "source": [
    "print(t3)"
   ]
  },
  {
   "cell_type": "code",
   "execution_count": 29,
   "id": "11121a14-e4ab-45b6-bd87-52584bd906da",
   "metadata": {},
   "outputs": [
    {
     "ename": "NameError",
     "evalue": "name 't3' is not defined",
     "output_type": "error",
     "traceback": [
      "\u001b[1;31m---------------------------------------------------------------------------\u001b[0m",
      "\u001b[1;31mNameError\u001b[0m                                 Traceback (most recent call last)",
      "Cell \u001b[1;32mIn[29], line 1\u001b[0m\n\u001b[1;32m----> 1\u001b[0m \u001b[38;5;28;01mdel\u001b[39;00m \u001b[43mt3\u001b[49m\n\u001b[0;32m      2\u001b[0m \u001b[38;5;28mprint\u001b[39m(t3) \u001b[38;5;66;03m# deleted  the complete tuple but deleting a portion or item is not possible\u001b[39;00m\n",
      "\u001b[1;31mNameError\u001b[0m: name 't3' is not defined"
     ]
    }
   ],
   "source": [
    "del t3\n",
    "print(t3) # deleted  the complete tuple but deleting a portion or item is not possible"
   ]
  },
  {
   "cell_type": "code",
   "execution_count": 30,
   "id": "35f5059f-f3da-4156-87d6-df4161163ce4",
   "metadata": {},
   "outputs": [
    {
     "name": "stdout",
     "output_type": "stream",
     "text": [
      "(1, 2, 3, (4, 5))\n"
     ]
    },
    {
     "ename": "TypeError",
     "evalue": "'tuple' object doesn't support item deletion",
     "output_type": "error",
     "traceback": [
      "\u001b[1;31m---------------------------------------------------------------------------\u001b[0m",
      "\u001b[1;31mTypeError\u001b[0m                                 Traceback (most recent call last)",
      "Cell \u001b[1;32mIn[30], line 2\u001b[0m\n\u001b[0;32m      1\u001b[0m \u001b[38;5;28mprint\u001b[39m(t5) \n\u001b[1;32m----> 2\u001b[0m \u001b[38;5;28;01mdel\u001b[39;00m(\u001b[43mt5\u001b[49m\u001b[43m[\u001b[49m\u001b[38;5;241;43m-\u001b[39;49m\u001b[38;5;241;43m1\u001b[39;49m\u001b[43m]\u001b[49m)\n",
      "\u001b[1;31mTypeError\u001b[0m: 'tuple' object doesn't support item deletion"
     ]
    }
   ],
   "source": [
    "print(t5) \n",
    "del(t5[-1])"
   ]
  },
  {
   "cell_type": "markdown",
   "id": "0a620343-b71a-4637-a045-9788ca23da58",
   "metadata": {},
   "source": [
    "##  operations on tuples"
   ]
  },
  {
   "cell_type": "code",
   "execution_count": 3,
   "id": "903fc3e2-21e3-4537-b31c-0ec39acce770",
   "metadata": {},
   "outputs": [
    {
     "name": "stdout",
     "output_type": "stream",
     "text": [
      "(1, 2, 3, 4, 5, 6, 7, 8)\n",
      "(1, 2, 3, 4, 1, 2, 3, 4, 1, 2, 3, 4)\n",
      "1\n",
      "2\n",
      "3\n",
      "4\n"
     ]
    }
   ],
   "source": [
    "# + and *\n",
    "t1 =(1,2,3,4)\n",
    "t2 =(5,6,7,8)\n",
    "print(t1+t2)\n",
    "print(t1*3)\n",
    "# membership\n",
    "1 in t1 \n",
    "1 not in t1 \n",
    "\n",
    "# iteration\n",
    "for i in t1:\n",
    "    print(i)"
   ]
  },
  {
   "cell_type": "markdown",
   "id": "666a3c53-1c4e-42be-b83d-1451780a9886",
   "metadata": {},
   "source": [
    "## Tuple functions "
   ]
  },
  {
   "cell_type": "code",
   "execution_count": 40,
   "id": "b27197e5-d4aa-49f3-98c9-8c739af23e88",
   "metadata": {},
   "outputs": [
    {
     "data": {
      "text/plain": [
       "[4, 3, 2, 1]"
      ]
     },
     "execution_count": 40,
     "metadata": {},
     "output_type": "execute_result"
    }
   ],
   "source": [
    "## len/sum/min/max/sorted\n",
    "t =(1,2,3,4)\n",
    "len(t)\n",
    "sum(t)\n",
    "min(t)\n",
    "max(t)\n",
    "sorted(t)\n",
    "sorted(t , reverse=True)#descending order\n"
   ]
  },
  {
   "cell_type": "code",
   "execution_count": 4,
   "id": "c7e00bc0-1f3e-424d-8b4c-360e75a8ba7b",
   "metadata": {},
   "outputs": [
    {
     "data": {
      "text/plain": [
       "4"
      ]
     },
     "execution_count": 4,
     "metadata": {},
     "output_type": "execute_result"
    }
   ],
   "source": [
    "# count \n",
    "t = (1,2,3,4,5,1,2,3,5,6)\n",
    "t.count(5)\n",
    "t.count(-1) # 0\n",
    "t.index(5)\n",
    "# t.index(50) # error as 50 does not exist"
   ]
  },
  {
   "cell_type": "code",
   "execution_count": 49,
   "id": "4385a5be-2deb-40d4-8622-fa9736f71a33",
   "metadata": {},
   "outputs": [
    {
     "name": "stdout",
     "output_type": "stream",
     "text": [
      "List time 28.756730318069458\n",
      "tuple time 16.365929126739502\n"
     ]
    }
   ],
   "source": [
    "# tuples are faster than lists\n",
    "import time\n",
    "L = list(range(100000000))\n",
    "t = tuple(range(100000000))\n",
    "start = time.time()\n",
    "for i in L:\n",
    "    i*5\n",
    "print('List time' , time.time()-start)\n",
    "start = time.time()\n",
    "for i in t:\n",
    "    i*5\n",
    "print('tuple time', time.time()-start)"
   ]
  },
  {
   "cell_type": "code",
   "execution_count": 51,
   "id": "1e6ce167-536a-4439-b12c-a3844d14bdf0",
   "metadata": {},
   "outputs": [
    {
     "name": "stdout",
     "output_type": "stream",
     "text": [
      "List size: 8056\n",
      "Tuple size: 8040\n"
     ]
    }
   ],
   "source": [
    "import sys\n",
    "L = list(range(1000))\n",
    "T= tuple(range(1000))\n",
    "print('List size:',sys.getsizeof(L))\n",
    "print('Tuple size:',sys.getsizeof(T))\n"
   ]
  },
  {
   "cell_type": "code",
   "execution_count": 53,
   "id": "d53a16b0-54cd-46f2-ad1e-5910e1253ef2",
   "metadata": {},
   "outputs": [
    {
     "name": "stdout",
     "output_type": "stream",
     "text": [
      "[1, 2, 3, 4]\n",
      "[1, 2, 3, 4]\n"
     ]
    }
   ],
   "source": [
    "# lists me bhut dimaag khrb hota hai debug me \n",
    "a= [1,2,3]\n",
    "b= a \n",
    "a.append(4)\n",
    "print(a)\n",
    "print(b)"
   ]
  },
  {
   "cell_type": "code",
   "execution_count": 55,
   "id": "901a127d-4f7a-4043-8794-9459d1e2df09",
   "metadata": {},
   "outputs": [
    {
     "name": "stdout",
     "output_type": "stream",
     "text": [
      "(1, 2, 3, 4, 5)\n",
      "(1, 2, 3, 4)\n"
     ]
    }
   ],
   "source": [
    "a = (1,2,3,4)\n",
    "b= a \n",
    "a = a+(5,)\n",
    "print(a) # a changed b remain same\n",
    "print(b)"
   ]
  },
  {
   "cell_type": "code",
   "execution_count": 57,
   "id": "e08a059d-f288-4ca9-8670-dea0d30ce830",
   "metadata": {},
   "outputs": [
    {
     "name": "stdout",
     "output_type": "stream",
     "text": [
      "1 2 3\n"
     ]
    }
   ],
   "source": [
    "# tuple unpacking \n",
    "a,b,c =(1,2,3)\n",
    "print(a,b,c)"
   ]
  },
  {
   "cell_type": "code",
   "execution_count": 58,
   "id": "065fc48a-c476-4cf9-8c0d-2179559c529d",
   "metadata": {},
   "outputs": [
    {
     "ename": "ValueError",
     "evalue": "too many values to unpack (expected 2)",
     "output_type": "error",
     "traceback": [
      "\u001b[1;31m---------------------------------------------------------------------------\u001b[0m",
      "\u001b[1;31mValueError\u001b[0m                                Traceback (most recent call last)",
      "Cell \u001b[1;32mIn[58], line 1\u001b[0m\n\u001b[1;32m----> 1\u001b[0m a,b \u001b[38;5;241m=\u001b[39m(\u001b[38;5;241m1\u001b[39m,\u001b[38;5;241m2\u001b[39m,\u001b[38;5;241m3\u001b[39m)\n\u001b[0;32m      2\u001b[0m \u001b[38;5;28mprint\u001b[39m(a,b)\n",
      "\u001b[1;31mValueError\u001b[0m: too many values to unpack (expected 2)"
     ]
    }
   ],
   "source": [
    "a,b =(1,2,3)\n",
    "print(a,b)"
   ]
  },
  {
   "cell_type": "code",
   "execution_count": 5,
   "id": "4cec4bf8-89ca-4488-80dc-b5b6e835aae4",
   "metadata": {},
   "outputs": [
    {
     "name": "stdout",
     "output_type": "stream",
     "text": [
      "2 1\n"
     ]
    }
   ],
   "source": [
    "# swap values without using any third variable \n",
    "a= 1 \n",
    "b= 2 \n",
    "a,b = b,a\n",
    "print(a,b) "
   ]
  },
  {
   "cell_type": "code",
   "execution_count": 60,
   "id": "8547b0c8-747e-4e1d-9ccf-6274d63a3f20",
   "metadata": {},
   "outputs": [
    {
     "name": "stdout",
     "output_type": "stream",
     "text": [
      "1 2\n",
      "[3, 4]\n"
     ]
    }
   ],
   "source": [
    "a,b,*others = (1,2,3,4)\n",
    "print(a,b)\n",
    "print(others)"
   ]
  },
  {
   "cell_type": "code",
   "execution_count": 9,
   "id": "db6f85cf-a981-4e21-8b99-fb4d21fcc5e9",
   "metadata": {},
   "outputs": [
    {
     "data": {
      "text/plain": [
       "((1, 5), (2, 6), (3, 7), (4, 8))"
      ]
     },
     "execution_count": 9,
     "metadata": {},
     "output_type": "execute_result"
    }
   ],
   "source": [
    "# zipping tuples\n",
    "a =(1,2,3,4)\n",
    "b =(5,6,7,8)\n",
    "zip(a,b)\n",
    "tuple(zip(a,b))"
   ]
  },
  {
   "cell_type": "markdown",
   "id": "12002af0-25b9-4ca2-8d52-d9395cfacaf7",
   "metadata": {},
   "source": [
    "## SETS"
   ]
  },
  {
   "cell_type": "markdown",
   "id": "431cf809-ad4c-4ca7-b4f4-43c03c2132c2",
   "metadata": {},
   "source": [
    "## Creating Sets"
   ]
  },
  {
   "cell_type": "code",
   "execution_count": 78,
   "id": "817ff087-7081-42b6-98a6-b49c2436c8a2",
   "metadata": {},
   "outputs": [
    {
     "name": "stdout",
     "output_type": "stream",
     "text": [
      "set()\n",
      "<class 'set'>\n",
      "{1, 2, 3}\n",
      "{1, 2.5, 'hello', (1, 2, 3)}\n",
      "{1, 2, 4}\n",
      "{1, 2, 3, 4}\n"
     ]
    },
    {
     "ename": "TypeError",
     "evalue": "unhashable type: 'list'",
     "output_type": "error",
     "traceback": [
      "\u001b[1;31m---------------------------------------------------------------------------\u001b[0m",
      "\u001b[1;31mTypeError\u001b[0m                                 Traceback (most recent call last)",
      "Cell \u001b[1;32mIn[78], line 23\u001b[0m\n\u001b[0;32m     21\u001b[0m \u001b[38;5;28mprint\u001b[39m(s5)\n\u001b[0;32m     22\u001b[0m \u001b[38;5;66;03m# set can't have mutable items \u001b[39;00m\n\u001b[1;32m---> 23\u001b[0m s6 \u001b[38;5;241m=\u001b[39m {\u001b[38;5;241m1\u001b[39m,\u001b[38;5;241m2\u001b[39m,\u001b[38;5;241m3\u001b[39m,[\u001b[38;5;241m4\u001b[39m,\u001b[38;5;241m5\u001b[39m,\u001b[38;5;241m6\u001b[39m]}\n\u001b[0;32m     24\u001b[0m \u001b[38;5;28mprint\u001b[39m(s6)\n",
      "\u001b[1;31mTypeError\u001b[0m: unhashable type: 'list'"
     ]
    }
   ],
   "source": [
    "# empty \n",
    "# s=  {}\n",
    "# print(s)\n",
    "# print(type(s)) # will give dictionary\n",
    "s= set()\n",
    "print(s)\n",
    "print(type(s))\n",
    "# 1D and 2D\n",
    "s1 ={1,2,3}\n",
    "print(s1)\n",
    "#s2 ={1,2,3,{4,5,6}} #will give error because can't have mutable data type inside a set and set itself is mutable\n",
    "#print(s2)\n",
    "# homo and hetro\n",
    "s3= {1,2.5 ,True,'hello',(1,2,3)} #{1, 2.5, 'hello', (1, 2, 3)} because true as 1 and set must have unique items\n",
    "print(s3)\n",
    "# using type conversion\n",
    "s4 = set([1,2,4])\n",
    "print(s4)\n",
    "# duplicates not allowed\n",
    "s5 ={1,2,3,4,2,1,3}\n",
    "print(s5)\n",
    "# set can't have mutable items \n",
    "s6 = {1,2,3,[4,5,6]}\n",
    "print(s6)"
   ]
  },
  {
   "cell_type": "code",
   "execution_count": 80,
   "id": "d4a69d13-37db-4ff7-9bcd-2c579180dc12",
   "metadata": {},
   "outputs": [
    {
     "name": "stdout",
     "output_type": "stream",
     "text": [
      "True\n"
     ]
    }
   ],
   "source": [
    "s1 = {1,2,3}\n",
    "s2 ={3,2,1}\n",
    "print(s1 == s2) #because order does not matter"
   ]
  },
  {
   "cell_type": "markdown",
   "id": "324d4315-6a50-4b17-88e5-a00eb436d6a5",
   "metadata": {},
   "source": [
    "## Accessing Items"
   ]
  },
  {
   "cell_type": "code",
   "execution_count": 82,
   "id": "d61d4310-b3cc-413d-a048-ce1aa0efce11",
   "metadata": {},
   "outputs": [
    {
     "ename": "TypeError",
     "evalue": "'set' object is not subscriptable",
     "output_type": "error",
     "traceback": [
      "\u001b[1;31m---------------------------------------------------------------------------\u001b[0m",
      "\u001b[1;31mTypeError\u001b[0m                                 Traceback (most recent call last)",
      "Cell \u001b[1;32mIn[82], line 2\u001b[0m\n\u001b[0;32m      1\u001b[0m s1 \u001b[38;5;241m=\u001b[39m {\u001b[38;5;241m1\u001b[39m,\u001b[38;5;241m2\u001b[39m,\u001b[38;5;241m3\u001b[39m,\u001b[38;5;241m4\u001b[39m}\n\u001b[1;32m----> 2\u001b[0m \u001b[43ms1\u001b[49m\u001b[43m[\u001b[49m\u001b[38;5;241;43m-\u001b[39;49m\u001b[38;5;241;43m1\u001b[39;49m\u001b[43m]\u001b[49m  \u001b[38;5;66;03m# error because set is unordered so indexing not allowed \u001b[39;00m\n\u001b[0;32m      3\u001b[0m s1[\u001b[38;5;241m-\u001b[39m\u001b[38;5;241m1\u001b[39m :\u001b[38;5;241m-\u001b[39m\u001b[38;5;241m3\u001b[39m]  \u001b[38;5;66;03m# error because set is unordered so indexing not allowed \u001b[39;00m\n",
      "\u001b[1;31mTypeError\u001b[0m: 'set' object is not subscriptable"
     ]
    }
   ],
   "source": [
    "s1 = {1,2,3,4}\n",
    "s1[-1]  # error because set is unordered so indexing not allowed \n",
    "s1[-1 :-3]  # error because set is unordered so indexing not allowed \n"
   ]
  },
  {
   "cell_type": "markdown",
   "id": "bc65aba7-5187-4f25-88a5-26e2ce70f9c1",
   "metadata": {},
   "source": [
    "## Editing Items"
   ]
  },
  {
   "cell_type": "code",
   "execution_count": 83,
   "id": "3ffe6d25-3d33-4f4e-b792-619db3dda3fb",
   "metadata": {},
   "outputs": [
    {
     "ename": "TypeError",
     "evalue": "'set' object does not support item assignment",
     "output_type": "error",
     "traceback": [
      "\u001b[1;31m---------------------------------------------------------------------------\u001b[0m",
      "\u001b[1;31mTypeError\u001b[0m                                 Traceback (most recent call last)",
      "Cell \u001b[1;32mIn[83], line 2\u001b[0m\n\u001b[0;32m      1\u001b[0m s1 \u001b[38;5;241m=\u001b[39m{\u001b[38;5;241m1\u001b[39m,\u001b[38;5;241m2\u001b[39m,\u001b[38;5;241m3\u001b[39m,\u001b[38;5;241m4\u001b[39m}\n\u001b[1;32m----> 2\u001b[0m \u001b[43ms1\u001b[49m\u001b[43m[\u001b[49m\u001b[38;5;241;43m0\u001b[39;49m\u001b[43m]\u001b[49m \u001b[38;5;241m=\u001b[39m\u001b[38;5;241m100\u001b[39m \u001b[38;5;66;03m# error \u001b[39;00m\n",
      "\u001b[1;31mTypeError\u001b[0m: 'set' object does not support item assignment"
     ]
    }
   ],
   "source": [
    "s1 ={1,2,3,4}\n",
    "s1[0] =100 # error "
   ]
  },
  {
   "cell_type": "markdown",
   "id": "c6254e12-d6ae-474c-988a-87269c01df69",
   "metadata": {},
   "source": [
    "## Adding Items "
   ]
  },
  {
   "cell_type": "code",
   "execution_count": 10,
   "id": "275ee16c-a481-43ee-a559-d1ad566c8108",
   "metadata": {},
   "outputs": [
    {
     "name": "stdout",
     "output_type": "stream",
     "text": [
      "{1, 2, 3, 4, 5}\n",
      "{1, 2, 3, 4, 5, 6, 7, 8}\n"
     ]
    }
   ],
   "source": [
    "s1 ={1,2,3,4} \n",
    "# add\n",
    "s1.add(5)\n",
    "print(s1) \n",
    "#update=--> add multiple items\n",
    "s1.update([6,7,8])\n",
    "print(s1)"
   ]
  },
  {
   "cell_type": "markdown",
   "id": "35efa6d3-a7e0-4bf2-9e8e-6e419073f248",
   "metadata": {},
   "source": [
    "## Deleting Items "
   ]
  },
  {
   "cell_type": "code",
   "execution_count": 16,
   "id": "3a172bc3-9ab5-4629-a35e-184442ed605e",
   "metadata": {},
   "outputs": [
    {
     "name": "stdout",
     "output_type": "stream",
     "text": [
      "{1, 2, 3, 4, 5}\n",
      "{1, 2, 3, 4, 5}\n"
     ]
    }
   ],
   "source": [
    "# del \n",
    "s ={1,2,3,4,5}\n",
    "print(s)\n",
    "#del s \n",
    "#print(s)\n",
    "\n",
    "# discard\n",
    "#s.discard(5)\n",
    "# s.discard(50) # will not give any error if item do not exists\n",
    "\n",
    "# remove\n",
    "#s.remove(5)\n",
    "\n",
    "# pop\n",
    "#s.pop()\n",
    "\n",
    "#s.clear()\n",
    "\n",
    "print(s)"
   ]
  },
  {
   "cell_type": "markdown",
   "id": "b3429897-544b-46e7-87ba-6e7be92e6d45",
   "metadata": {},
   "source": [
    "## Set Operation"
   ]
  },
  {
   "cell_type": "code",
   "execution_count": 26,
   "id": "5e5d9da5-5d04-41c6-bcc5-377890c35290",
   "metadata": {},
   "outputs": [
    {
     "name": "stdout",
     "output_type": "stream",
     "text": [
      "1\n",
      "2\n",
      "3\n",
      "4\n",
      "5\n"
     ]
    }
   ],
   "source": [
    "s1 = {1,2,3,4,5}\n",
    "s2 = {4,5,6,7,8}\n",
    "# s1 | s2\n",
    "# Union(|)\n",
    "# Intersection(&)\n",
    "# s1 & s2\n",
    "# Difference(-)\n",
    "#s1 - s2\n",
    "#s2 - s1\n",
    "# Symmetric Difference(^)\n",
    "#s1 ^ s2\n",
    "# Membership Test\n",
    "#1 not in s1\n",
    "# Iteration\n",
    "for i in s1:\n",
    "  print(i)"
   ]
  },
  {
   "cell_type": "markdown",
   "id": "3f89faf9-f038-4ff1-97bb-b6d913577cdd",
   "metadata": {},
   "source": [
    "## Set Functions "
   ]
  },
  {
   "cell_type": "code",
   "execution_count": 97,
   "id": "7b1afd31-9143-4c60-b08a-f06d49cfa1ba",
   "metadata": {},
   "outputs": [
    {
     "data": {
      "text/plain": [
       "[7, 5, 4, 3, 2, 1]"
      ]
     },
     "execution_count": 97,
     "metadata": {},
     "output_type": "execute_result"
    }
   ],
   "source": [
    "# len/sum/min/max/sorted\n",
    "s = {3,1,4,5,2,7}\n",
    "len(s)\n",
    "sum(s)\n",
    "min(s)\n",
    "max(s)\n",
    "sorted(s,reverse=True)"
   ]
  },
  {
   "cell_type": "code",
   "execution_count": 99,
   "id": "3245071d-a9a3-4d6f-a221-2111f0f69ca0",
   "metadata": {},
   "outputs": [
    {
     "name": "stdout",
     "output_type": "stream",
     "text": [
      "{1, 2, 3, 4, 5, 6, 7, 8}\n",
      "{4, 5, 6, 7, 8}\n"
     ]
    }
   ],
   "source": [
    "# union/update\n",
    "s1 = {1,2,3,4,5}\n",
    "s2 = {4,5,6,7,8}\n",
    "\n",
    "# s1 | s2\n",
    "s1.union(s1)\n",
    "\n",
    "s1.update(s2)\n",
    "print(s1)\n",
    "print(s2)"
   ]
  },
  {
   "cell_type": "code",
   "execution_count": 28,
   "id": "d2009656-6098-4ea8-b8e6-94978b570d20",
   "metadata": {},
   "outputs": [
    {
     "name": "stdout",
     "output_type": "stream",
     "text": [
      "{4, 5}\n",
      "{4, 5, 6, 7, 8}\n"
     ]
    }
   ],
   "source": [
    "# intersection/intersection_update\n",
    "s1 = {1,2,3,4,5}\n",
    "s2 = {4,5,6,7,8}\n",
    "\n",
    "s1.intersection(s2)\n",
    "\n",
    "s1.intersection_update(s2)\n",
    "print(s1)\n",
    "print(s2)"
   ]
  },
  {
   "cell_type": "code",
   "execution_count": 29,
   "id": "af5a8a55-86d7-4563-9213-a4e43d076142",
   "metadata": {},
   "outputs": [
    {
     "name": "stdout",
     "output_type": "stream",
     "text": [
      "{1, 2, 3}\n",
      "{4, 5, 6, 7, 8}\n"
     ]
    }
   ],
   "source": [
    "# difference/difference_update\n",
    "s1 = {1,2,3,4,5}\n",
    "s2 = {4,5,6,7,8}\n",
    "\n",
    "s1.difference(s2)\n",
    "\n",
    "s1.difference_update(s2)\n",
    "print(s1)\n",
    "print(s2)"
   ]
  },
  {
   "cell_type": "code",
   "execution_count": 102,
   "id": "af7ce833-1c3d-4193-bef2-da309f3088b0",
   "metadata": {},
   "outputs": [
    {
     "name": "stdout",
     "output_type": "stream",
     "text": [
      "{1, 2, 3, 6, 7, 8}\n",
      "{4, 5, 6, 7, 8}\n"
     ]
    }
   ],
   "source": [
    "# symmetric_difference/symmetric_difference_update\n",
    "s1 = {1,2,3,4,5}\n",
    "s2 = {4,5,6,7,8}\n",
    "\n",
    "s1.symmetric_difference(s2)\n",
    "\n",
    "s1.symmetric_difference_update(s2)\n",
    "print(s1)\n",
    "print(s2)"
   ]
  },
  {
   "cell_type": "code",
   "execution_count": 103,
   "id": "bb64348a-d6dd-43ab-b15b-7bead58c9225",
   "metadata": {},
   "outputs": [
    {
     "data": {
      "text/plain": [
       "True"
      ]
     },
     "execution_count": 103,
     "metadata": {},
     "output_type": "execute_result"
    }
   ],
   "source": [
    "# isdisjoint/issubset/issuperset\n",
    "s1 = {1,2,3,4}\n",
    "s2 = {7,8,5,6}\n",
    "\n",
    "s1.isdisjoint(s2)"
   ]
  },
  {
   "cell_type": "code",
   "execution_count": 104,
   "id": "e438bcc4-ed56-49d8-ac1c-23e70b86e1f0",
   "metadata": {},
   "outputs": [
    {
     "data": {
      "text/plain": [
       "True"
      ]
     },
     "execution_count": 104,
     "metadata": {},
     "output_type": "execute_result"
    }
   ],
   "source": [
    "s1 = {1,2,3,4,5}\n",
    "s2 = {3,4,5}\n",
    "\n",
    "s1.issuperset(s2)"
   ]
  },
  {
   "cell_type": "code",
   "execution_count": 105,
   "id": "421d09dc-784d-4e39-aba6-7ed33feea8c1",
   "metadata": {},
   "outputs": [
    {
     "name": "stdout",
     "output_type": "stream",
     "text": [
      "{1, 2, 3}\n",
      "{1, 2, 3}\n"
     ]
    }
   ],
   "source": [
    "# copy\n",
    "s1 = {1,2,3}\n",
    "s2 = s1.copy()\n",
    "\n",
    "print(s1)\n",
    "print(s2)"
   ]
  },
  {
   "cell_type": "markdown",
   "id": "96ec5ba1-a1f1-42e7-b74c-545b61203cc9",
   "metadata": {},
   "source": [
    "## Frozen set "
   ]
  },
  {
   "cell_type": "code",
   "execution_count": 1,
   "id": "a96b27d8-2ca7-4302-9fd2-6301d04383d2",
   "metadata": {},
   "outputs": [],
   "source": [
    "# immutable version of python set object "
   ]
  },
  {
   "cell_type": "code",
   "execution_count": 2,
   "id": "7d3a6f1c-30cb-4eed-b517-382b8cbfe6fc",
   "metadata": {},
   "outputs": [],
   "source": [
    "#create frozenset"
   ]
  },
  {
   "cell_type": "code",
   "execution_count": 4,
   "id": "b253ec65-0114-4a21-a84b-42a438efc2b1",
   "metadata": {},
   "outputs": [
    {
     "data": {
      "text/plain": [
       "frozenset({1, 2, 3})"
      ]
     },
     "execution_count": 4,
     "metadata": {},
     "output_type": "execute_result"
    }
   ],
   "source": [
    "fs = frozenset([1,2,3])\n",
    "fs"
   ]
  },
  {
   "cell_type": "code",
   "execution_count": 5,
   "id": "8731d573-ef3a-4703-be69-44d4ac2d4114",
   "metadata": {},
   "outputs": [
    {
     "data": {
      "text/plain": [
       "frozenset({1, 2, 3, 4, 5})"
      ]
     },
     "execution_count": 5,
     "metadata": {},
     "output_type": "execute_result"
    }
   ],
   "source": [
    "fs1 = frozenset([1,2,3])\n",
    "fs2 = frozenset([3,4,5])\n",
    "fs1 | fs2"
   ]
  },
  {
   "cell_type": "code",
   "execution_count": 30,
   "id": "dea14658-c836-4c44-9173-7d2b1b807077",
   "metadata": {},
   "outputs": [],
   "source": [
    "# what works and what does not \n",
    "#works -> all read functions\n",
    "# doesn't works --> write operations"
   ]
  },
  {
   "cell_type": "code",
   "execution_count": 8,
   "id": "4ad59a79-6302-4335-b0c0-883bbcb5e169",
   "metadata": {},
   "outputs": [
    {
     "data": {
      "text/plain": [
       "frozenset({1, 2, frozenset({3, 4})})"
      ]
     },
     "execution_count": 8,
     "metadata": {},
     "output_type": "execute_result"
    }
   ],
   "source": [
    "# 2D sets\n",
    "fs =frozenset([1,2,frozenset([3,4])])\n",
    "fs"
   ]
  },
  {
   "cell_type": "markdown",
   "id": "f6e17443-bd36-433c-bfc8-47c247203639",
   "metadata": {},
   "source": [
    "## Set Comprehension"
   ]
  },
  {
   "cell_type": "code",
   "execution_count": 13,
   "id": "02e7eafc-d8b3-4e85-b9d0-13dd0cef024c",
   "metadata": {},
   "outputs": [
    {
     "data": {
      "text/plain": [
       "{4, 16, 36, 64, 100}"
      ]
     },
     "execution_count": 13,
     "metadata": {},
     "output_type": "execute_result"
    }
   ],
   "source": [
    "#example \n",
    "{i*i for i in range(1,11) if i%2==0}"
   ]
  },
  {
   "cell_type": "markdown",
   "id": "4b9ea0ee-c072-4d28-ae88-936f9336387d",
   "metadata": {},
   "source": [
    "##  Dictionary "
   ]
  },
  {
   "cell_type": "code",
   "execution_count": 31,
   "id": "161a6b8d-0de6-4649-9a21-fcd4ad05dd77",
   "metadata": {},
   "outputs": [
    {
     "name": "stdout",
     "output_type": "stream",
     "text": [
      "{'name': 'anurag', 'gender': 'male'}\n",
      "{'name': 'nitish', 'college': 'juet', 'sem': 4, 'subjects': {'dsa': 50, 'maths': 67, 'english': 34}}\n",
      "{'name': 'singh'}\n"
     ]
    },
    {
     "ename": "TypeError",
     "evalue": "unhashable type: 'list'",
     "output_type": "error",
     "traceback": [
      "\u001b[1;31m---------------------------------------------------------------------------\u001b[0m",
      "\u001b[1;31mTypeError\u001b[0m                                 Traceback (most recent call last)",
      "Cell \u001b[1;32mIn[31], line 31\u001b[0m\n\u001b[0;32m     29\u001b[0m \u001b[38;5;28mprint\u001b[39m(d5)\n\u001b[0;32m     30\u001b[0m \u001b[38;5;66;03m#mutable items as keys \u001b[39;00m\n\u001b[1;32m---> 31\u001b[0m d6 \u001b[38;5;241m=\u001b[39m {\u001b[38;5;124m'\u001b[39m\u001b[38;5;124mname\u001b[39m\u001b[38;5;124m'\u001b[39m:\u001b[38;5;124m'\u001b[39m\u001b[38;5;124mnitish\u001b[39m\u001b[38;5;124m'\u001b[39m,[\u001b[38;5;241m1\u001b[39m,\u001b[38;5;241m2\u001b[39m,\u001b[38;5;241m3\u001b[39m]:\u001b[38;5;241m2\u001b[39m}\n\u001b[0;32m     32\u001b[0m \u001b[38;5;28mprint\u001b[39m(d6)\n",
      "\u001b[1;31mTypeError\u001b[0m: unhashable type: 'list'"
     ]
    }
   ],
   "source": [
    "#empty dictionary\n",
    "d ={}\n",
    "\n",
    "#1D dictioary \n",
    "d1 = {'name' :'anurag' , 'gender':'male'}\n",
    "print(d1)\n",
    "#with mixed keys\n",
    "d2 = {(1,2,3):1 , 'hello':'world'}\n",
    "d2\n",
    "#2D dictionary \n",
    "s ={\n",
    "    'name':'nitish',\n",
    "    'college':'juet',\n",
    "    'sem':4,\n",
    "    'subjects': {\n",
    "            'dsa' :50,\n",
    "            'maths':67,\n",
    "            'english':34\n",
    "    }\n",
    "}\n",
    "print(s)\n",
    "\n",
    "#using sequence and dict function \n",
    "d4 = dict([('name','anurag'),(2,2),(3 ,3)])\n",
    "d4\n",
    "\n",
    "#duplicate keys\n",
    "d5 = {'name':'anurag','name':'singh'}\n",
    "print(d5)\n",
    "#mutable items as keys \n",
    "d6 = {'name':'nitish',[1,2,3]:2}\n",
    "print(d6)"
   ]
  },
  {
   "cell_type": "markdown",
   "id": "481376b0-cdb7-4a25-b7d5-6ef584617455",
   "metadata": {},
   "source": [
    "## Accessing Items "
   ]
  },
  {
   "cell_type": "code",
   "execution_count": 23,
   "id": "d0ddfa7c-e50e-498e-aaad-1f63f7518eb7",
   "metadata": {},
   "outputs": [
    {
     "data": {
      "text/plain": [
       "50"
      ]
     },
     "execution_count": 23,
     "metadata": {},
     "output_type": "execute_result"
    }
   ],
   "source": [
    "my_dict ={'name':'anurag' ,'age':23}\n",
    "#[] \n",
    "my_dict['name']\n",
    "my_dict['age']\n",
    "# get\n",
    "my_dict.get('name')\n",
    "my_dict.get('age')\n",
    "# working on 2d to get the items \n",
    "s['subjects']['dsa']"
   ]
  },
  {
   "cell_type": "markdown",
   "id": "ddb73b14-d168-4aba-bd19-147a9aee9473",
   "metadata": {},
   "source": [
    "## Adding New Key Value Pair"
   ]
  },
  {
   "cell_type": "code",
   "execution_count": 8,
   "id": "68cdc293-5f95-4083-a493-3683fb2a02bc",
   "metadata": {},
   "outputs": [
    {
     "data": {
      "text/plain": [
       "{'name': 'anurag', 2: 2, 3: 3}"
      ]
     },
     "execution_count": 8,
     "metadata": {},
     "output_type": "execute_result"
    }
   ],
   "source": [
    "d4"
   ]
  },
  {
   "cell_type": "code",
   "execution_count": 27,
   "id": "ca01fe6b-daf5-4609-912b-f482252686d5",
   "metadata": {},
   "outputs": [
    {
     "data": {
      "text/plain": [
       "{'name': 'nitish',\n",
       " 'college': 'juet',\n",
       " 'sem': 4,\n",
       " 'subjects': {'dsa': 50, 'english': 34, 'data science': 75}}"
      ]
     },
     "execution_count": 27,
     "metadata": {},
     "output_type": "execute_result"
    }
   ],
   "source": [
    "d4['gender'] = 'male'\n",
    "d4\n",
    "d4['weight'] =90\n",
    "d4\n",
    "# adding new key value pair in 2d \n",
    "s\n",
    "s['subjects']['data science'] = 75\n",
    "s"
   ]
  },
  {
   "cell_type": "markdown",
   "id": "49c6d562-d4e5-4e9b-a99a-6841d5dbf894",
   "metadata": {},
   "source": [
    "## Remove Key Value Pair "
   ]
  },
  {
   "cell_type": "code",
   "execution_count": null,
   "id": "4421e2e1-e3c2-4d3d-b18d-b00a0d7fdac4",
   "metadata": {},
   "outputs": [],
   "source": [
    "d = {'name': 'nitish', 'age': 32, 3: 3, 'gender': 'male', 'weight': 72}\n",
    "# pop\n",
    "#d.pop(3)\n",
    "#print(d)\n",
    " # popitem\n",
    "#d.popitem()\n",
    "#d.popitem()\n",
    "\n",
    "#print(d)\n",
    "# d.popitem()\n",
    "# print(d)\n",
    "# del\n",
    "# del d['name']\n",
    "# print(d)\n",
    "# clear\n",
    "d.clear()\n",
    "print(d)\n",
    "# removing from 2d \n",
    "s\n",
    "del s['subjects']['data science']\n",
    "print(s)"
   ]
  },
  {
   "cell_type": "markdown",
   "id": "f82ae125-5d9f-42a8-be89-6a6b363b610d",
   "metadata": {},
   "source": [
    "# Editing Key Value Pair"
   ]
  },
  {
   "cell_type": "code",
   "execution_count": 32,
   "id": "46f3fe2a-a022-460b-8754-07c13401e7cb",
   "metadata": {},
   "outputs": [
    {
     "data": {
      "text/plain": [
       "{'name': 'nitish', 'college': 'juet', 'sem': 4, 'subjects': {'english': 34}}"
      ]
     },
     "execution_count": 32,
     "metadata": {},
     "output_type": "execute_result"
    }
   ],
   "source": [
    "s"
   ]
  },
  {
   "cell_type": "code",
   "execution_count": 39,
   "id": "d7bae89e-f3f3-4827-a1a9-64e869c8e727",
   "metadata": {},
   "outputs": [
    {
     "name": "stdout",
     "output_type": "stream",
     "text": [
      "{'name': 'nitish', 'college': 'juet', 'sem': 5, 'subjects': {'english': 34, 'data science': 75, 'dsa': 89, 'maths': 75}}\n"
     ]
    }
   ],
   "source": [
    "s['sem'] =5 \n",
    "s['subjects']['dsa'] = 89\n",
    "print(s)"
   ]
  },
  {
   "cell_type": "markdown",
   "id": "640da979-a7ea-41ab-abfd-a699833e4804",
   "metadata": {},
   "source": [
    "## Dictionary Operations"
   ]
  },
  {
   "cell_type": "markdown",
   "id": "55733e16-bb8f-4b1b-9992-3e28dae5d992",
   "metadata": {},
   "source": [
    "##### Membership \n",
    "##### Iterations"
   ]
  },
  {
   "cell_type": "code",
   "execution_count": 40,
   "id": "c1fc15ec-1761-4bcc-9e28-1baf6742a01e",
   "metadata": {},
   "outputs": [
    {
     "name": "stdout",
     "output_type": "stream",
     "text": [
      "{'name': 'nitish', 'college': 'juet', 'sem': 5, 'subjects': {'english': 34, 'data science': 75, 'dsa': 89, 'maths': 75}}\n"
     ]
    },
    {
     "data": {
      "text/plain": [
       "True"
      ]
     },
     "execution_count": 40,
     "metadata": {},
     "output_type": "execute_result"
    }
   ],
   "source": [
    "print(s)\n",
    "'name' in s "
   ]
  },
  {
   "cell_type": "code",
   "execution_count": 42,
   "id": "9ffdb3ad-c613-41a0-b966-78425b4658a0",
   "metadata": {},
   "outputs": [
    {
     "name": "stdout",
     "output_type": "stream",
     "text": [
      "name anurag\n",
      "gender male\n",
      "age 19\n"
     ]
    }
   ],
   "source": [
    "d = {'name' :'anurag' , 'gender':'male' , 'age' : 19}\n",
    "for i in d:\n",
    "    print(i ,  d[i])"
   ]
  },
  {
   "cell_type": "markdown",
   "id": "5c8436a6-9522-40b7-92b0-a28eed8f8c9b",
   "metadata": {},
   "source": [
    "## Dictionary Functions "
   ]
  },
  {
   "cell_type": "code",
   "execution_count": 43,
   "id": "05daab19-06e6-4a7d-a059-c698bd97794f",
   "metadata": {},
   "outputs": [
    {
     "name": "stdout",
     "output_type": "stream",
     "text": [
      "{'name': 'anurag', 'gender': 'male', 'age': 19}\n"
     ]
    },
    {
     "data": {
      "text/plain": [
       "['name', 'gender', 'age']"
      ]
     },
     "execution_count": 43,
     "metadata": {},
     "output_type": "execute_result"
    }
   ],
   "source": [
    "#len/sorted\n",
    "\n",
    "len(d)\n",
    "print(d)\n",
    "sorted(d, reverse = True)"
   ]
  },
  {
   "cell_type": "code",
   "execution_count": 44,
   "id": "8f8b8a5e-90ee-4e69-8637-0a1dd21214c5",
   "metadata": {},
   "outputs": [
    {
     "name": "stdout",
     "output_type": "stream",
     "text": [
      "{'name': 'anurag', 'gender': 'male', 'age': 19}\n",
      "dict_items([('name', 'anurag'), ('gender', 'male'), ('age', 19)])\n",
      "dict_keys(['name', 'gender', 'age'])\n",
      "dict_values(['anurag', 'male', 19])\n"
     ]
    }
   ],
   "source": [
    "# items/keys/values\n",
    "print(d)\n",
    "print(d.items())\n",
    "print(d.keys())\n",
    "print(d.values())"
   ]
  },
  {
   "cell_type": "code",
   "execution_count": 46,
   "id": "76ed3219-c3ce-410d-90aa-f72e5e626823",
   "metadata": {},
   "outputs": [
    {
     "name": "stdout",
     "output_type": "stream",
     "text": [
      "{1: 2, 3: 4, 4: 7, 6: 8}\n"
     ]
    }
   ],
   "source": [
    "# update\n",
    "d1 ={1:2 ,3:4 ,4:5}\n",
    "d2 ={4:7, 6:8}\n",
    "d1.update(d2)\n",
    "print(d1)"
   ]
  },
  {
   "cell_type": "markdown",
   "id": "2a7d6863-498e-4331-8fc6-241f90cd7550",
   "metadata": {},
   "source": [
    "# dictionary comprehension"
   ]
  },
  {
   "cell_type": "code",
   "execution_count": 47,
   "id": "dc620b9c-8917-4925-a2eb-779a00387750",
   "metadata": {},
   "outputs": [
    {
     "data": {
      "text/plain": [
       "{1: 1, 2: 4, 3: 9, 4: 16, 5: 25, 6: 36, 7: 49, 8: 64, 9: 81, 10: 100}"
      ]
     },
     "execution_count": 47,
     "metadata": {},
     "output_type": "execute_result"
    }
   ],
   "source": [
    "#print 1st 10 numbers and their squares \n",
    "{ i : i**2 for i in range(1,11)}"
   ]
  },
  {
   "cell_type": "code",
   "execution_count": 50,
   "id": "4bf413dc-a116-489c-8a3c-bdaa14428718",
   "metadata": {},
   "outputs": [
    {
     "data": {
      "text/plain": [
       "{'delhi': 600.0, 'mumbai': 1200.0, 'bangalore': 1800.0}"
      ]
     },
     "execution_count": 50,
     "metadata": {},
     "output_type": "execute_result"
    }
   ],
   "source": [
    "# using existing dict\n",
    "distances = {'delhi':1000,'mumbai':2000,'bangalore':3000}\n",
    "distances.items()\n",
    "{key  : value *0.6 for (key, value) in distances.items() }"
   ]
  },
  {
   "cell_type": "code",
   "execution_count": 53,
   "id": "0179ad27-73b2-402f-bfac-5c09acd2d4e5",
   "metadata": {},
   "outputs": [
    {
     "data": {
      "text/plain": [
       "{'Sunday': 30.5,\n",
       " 'Monday': 32.6,\n",
       " 'Tuesday': 31.8,\n",
       " 'Wednesday': 33.4,\n",
       " 'Thursday': 29.8,\n",
       " 'Friday': 30.2,\n",
       " 'Saturday': 29.9}"
      ]
     },
     "execution_count": 53,
     "metadata": {},
     "output_type": "execute_result"
    }
   ],
   "source": [
    "# using zip\n",
    "days = [\"Sunday\", \"Monday\",\"Tuesday\",\"Wednesday\",\"Thursday\",\"Friday\",\"Saturday\"]\n",
    "temp_C = [30.5,32.6,31.8,33.4,29.8,30.2,29.9]  \n",
    "{key :value for (key , value) in zip(days, temp_C)}"
   ]
  },
  {
   "cell_type": "code",
   "execution_count": 54,
   "id": "e0ab5053-ebcc-45bd-bfba-58801e714730",
   "metadata": {},
   "outputs": [
    {
     "data": {
      "text/plain": [
       "{'phone': 10, 'charger': 32}"
      ]
     },
     "execution_count": 54,
     "metadata": {},
     "output_type": "execute_result"
    }
   ],
   "source": [
    "# using if condition\n",
    "products = {'phone':10,'laptop':0,'charger':32,'tablet':0}\n",
    "\n",
    "{key:value for (key,value) in products.items() if value>0}"
   ]
  },
  {
   "cell_type": "code",
   "execution_count": 55,
   "id": "0d477b4c-3a5a-449a-9466-5d2ae99932d2",
   "metadata": {},
   "outputs": [
    {
     "data": {
      "text/plain": [
       "{2: {1: 2, 2: 4, 3: 6, 4: 8, 5: 10, 6: 12, 7: 14, 8: 16, 9: 18, 10: 20},\n",
       " 3: {1: 3, 2: 6, 3: 9, 4: 12, 5: 15, 6: 18, 7: 21, 8: 24, 9: 27, 10: 30},\n",
       " 4: {1: 4, 2: 8, 3: 12, 4: 16, 5: 20, 6: 24, 7: 28, 8: 32, 9: 36, 10: 40}}"
      ]
     },
     "execution_count": 55,
     "metadata": {},
     "output_type": "execute_result"
    }
   ],
   "source": [
    "# Nested Comprehension\n",
    "# print tables of number from 2 to 4\n",
    "{i:{j:i*j for j in range(1,11)} for i in range(2,5)}"
   ]
  },
  {
   "cell_type": "code",
   "execution_count": null,
   "id": "405954f7-52b4-4fb3-bc95-f28f3331e371",
   "metadata": {},
   "outputs": [],
   "source": []
  }
 ],
 "metadata": {
  "kernelspec": {
   "display_name": "Python 3 (ipykernel)",
   "language": "python",
   "name": "python3"
  },
  "language_info": {
   "codemirror_mode": {
    "name": "ipython",
    "version": 3
   },
   "file_extension": ".py",
   "mimetype": "text/x-python",
   "name": "python",
   "nbconvert_exporter": "python",
   "pygments_lexer": "ipython3",
   "version": "3.11.3"
  }
 },
 "nbformat": 4,
 "nbformat_minor": 5
}
