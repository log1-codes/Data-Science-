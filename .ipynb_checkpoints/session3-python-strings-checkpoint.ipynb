{
 "cells": [
  {
   "cell_type": "code",
   "execution_count": 6,
   "id": "10dc509c-b83d-4a88-bbf1-59e8b8e2b768",
   "metadata": {},
   "outputs": [
    {
     "name": "stdout",
     "output_type": "stream",
     "text": [
      "10 10000\n",
      "9 9090.90909090909\n",
      "8 8264.462809917353\n",
      "7 7513.148009015775\n",
      "6 6830.134553650703\n",
      "5 6209.213230591548\n",
      "4 5644.739300537771\n",
      "3 5131.5811823070635\n",
      "2 4665.07380209733\n",
      "1 4240.976183724845\n"
     ]
    }
   ],
   "source": [
    "curr_pop = 10000\n",
    "\n",
    "for i in range(10,0,-1):\n",
    "    print (i, curr_pop)\n",
    "    curr_pop = curr_pop/1.1"
   ]
  },
  {
   "cell_type": "markdown",
   "id": "ef4e28d0-119a-4085-89c6-fa863f9d64a3",
   "metadata": {},
   "source": [
    "# Sequence sum"
   ]
  },
  {
   "cell_type": "markdown",
   "id": "b1a13560-c7db-47ef-852f-d625b5e71c92",
   "metadata": {},
   "source": [
    "## 1/1!+2/2!+3/3!+...."
   ]
  },
  {
   "cell_type": "code",
   "execution_count": 15,
   "id": "43d0fc0a-f185-43c5-873e-d71c39d5562a",
   "metadata": {},
   "outputs": [
    {
     "name": "stdin",
     "output_type": "stream",
     "text": [
      "enter n =  8\n"
     ]
    },
    {
     "name": "stdout",
     "output_type": "stream",
     "text": [
      "2.7182539682539684\n"
     ]
    }
   ],
   "source": [
    "n = int(input('enter n = '))\n",
    "result =0\n",
    "fact =1\n",
    "for i in range(1, n+1):\n",
    "    fact = fact*i\n",
    "    result =result+i/fact\n",
    "print(result)"
   ]
  },
  {
   "cell_type": "markdown",
   "id": "415820e0-45bc-450a-8821-4d34440fcfc8",
   "metadata": {},
   "source": [
    "# Nested Loops"
   ]
  },
  {
   "cell_type": "code",
   "execution_count": 16,
   "id": "fb82e3b4-503c-4876-bb09-cfcc90dffb61",
   "metadata": {},
   "outputs": [
    {
     "name": "stdout",
     "output_type": "stream",
     "text": [
      "1 1\n",
      "2 2\n",
      "3 3\n",
      "4 4\n"
     ]
    }
   ],
   "source": [
    "for i in range (1,5):\n",
    "    for j in range(1,5):\n",
    "        if(i == j):\n",
    "            print(i ,j)"
   ]
  },
  {
   "cell_type": "markdown",
   "id": "5eaa734b-5952-45b9-b1db-9fa5fffde7fc",
   "metadata": {},
   "source": [
    "# Pattern 1"
   ]
  },
  {
   "cell_type": "code",
   "execution_count": 27,
   "id": "74f93398-c0a5-47fb-8a2d-494fb0913e4c",
   "metadata": {},
   "outputs": [
    {
     "name": "stdin",
     "output_type": "stream",
     "text": [
      "enter number of rows :  5\n"
     ]
    },
    {
     "name": "stdout",
     "output_type": "stream",
     "text": [
      "*\n",
      "**\n",
      "***\n",
      "****\n",
      "*****\n"
     ]
    }
   ],
   "source": [
    "num = int(input('enter number of rows : '))\n",
    "\n",
    "for i in range (1 , num+1):\n",
    "    for j in range(1 , i+1):\n",
    "        print('*' ,end='')\n",
    "    print() # for new line after the loop"
   ]
  },
  {
   "cell_type": "code",
   "execution_count": 30,
   "id": "df9d440e-3eb8-4f8e-81ae-ff3872cdc299",
   "metadata": {},
   "outputs": [],
   "source": [
    "#pattern 2\n",
    "# 1\n",
    "# 121\n",
    "# 12321\n",
    "# 1234321"
   ]
  },
  {
   "cell_type": "code",
   "execution_count": 37,
   "id": "17f0b038-8e5c-4949-9478-3bc7e3074de3",
   "metadata": {},
   "outputs": [
    {
     "name": "stdin",
     "output_type": "stream",
     "text": [
      "enter number of rows :  5\n"
     ]
    },
    {
     "name": "stdout",
     "output_type": "stream",
     "text": [
      "1\n",
      "121\n",
      "12321\n",
      "1234321\n",
      "123454321\n"
     ]
    }
   ],
   "source": [
    "rows = int(input('enter number of rows : '))\n",
    "for i in range(1,rows+1):\n",
    "    for j in range(1 , i+1):\n",
    "        print(j , end='')\n",
    "    for k in range(i-1, 0, -1):\n",
    "        print(k , end ='')\n",
    "    print()"
   ]
  },
  {
   "cell_type": "code",
   "execution_count": 1,
   "id": "6900c228-91d7-4f89-bd54-6a2f5697c075",
   "metadata": {},
   "outputs": [],
   "source": [
    "# Loop Control Statement\n",
    "#break\n",
    "#continue\n",
    "#Pass "
   ]
  },
  {
   "cell_type": "code",
   "execution_count": 3,
   "id": "57d84b53-46ee-4560-965f-7305e558e120",
   "metadata": {},
   "outputs": [
    {
     "name": "stdout",
     "output_type": "stream",
     "text": [
      "1\n",
      "2\n",
      "3\n",
      "4\n"
     ]
    }
   ],
   "source": [
    "for i in range (1,10):\n",
    "    if(i==5):\n",
    "        break\n",
    "    print(i)"
   ]
  },
  {
   "cell_type": "code",
   "execution_count": 6,
   "id": "2d2ddfbd-e3ee-4a77-a22a-0e6de430c364",
   "metadata": {},
   "outputs": [
    {
     "name": "stdin",
     "output_type": "stream",
     "text": [
      "enter the lower range 10\n",
      "enter the upper range 100\n"
     ]
    },
    {
     "name": "stdout",
     "output_type": "stream",
     "text": [
      "11\n",
      "13\n",
      "17\n",
      "19\n",
      "23\n",
      "29\n",
      "31\n",
      "37\n",
      "41\n",
      "43\n",
      "47\n",
      "53\n",
      "59\n",
      "61\n",
      "67\n",
      "71\n",
      "73\n",
      "79\n",
      "83\n",
      "89\n",
      "97\n"
     ]
    }
   ],
   "source": [
    "#prime numbers in a range\n",
    "lower = int(input('enter the lower range'))\n",
    "upper = int(input('enter the upper range'))\n",
    "for i in range(lower, upper+1):\n",
    "    for j in range (2,i):\n",
    "        if i%j ==0:\n",
    "            break\n",
    "    else:\n",
    "            print(i)"
   ]
  },
  {
   "cell_type": "code",
   "execution_count": 7,
   "id": "8e5fd3dc-298e-44a4-a6bd-c89b8bb94bdf",
   "metadata": {},
   "outputs": [],
   "source": [
    "#continue stattements"
   ]
  },
  {
   "cell_type": "code",
   "execution_count": 8,
   "id": "19fe6155-f6f2-4ef5-9257-51bb688bd308",
   "metadata": {},
   "outputs": [
    {
     "name": "stdout",
     "output_type": "stream",
     "text": [
      "1\n",
      "2\n",
      "3\n",
      "4\n",
      "6\n",
      "7\n",
      "8\n",
      "9\n"
     ]
    }
   ],
   "source": [
    "for i in range(1,10):\n",
    "    if i ==5 :\n",
    "        continue\n",
    "    print(i)"
   ]
  },
  {
   "cell_type": "code",
   "execution_count": 11,
   "id": "929f0405-0428-463d-a7b4-33de77380037",
   "metadata": {},
   "outputs": [],
   "source": [
    "for i in range (1,10):\n",
    "    pass # if you don't have the code it will help to pass the code and you can write that code later also"
   ]
  },
  {
   "cell_type": "markdown",
   "id": "cfff3f47-2e5a-4321-8d14-8f596752d11a",
   "metadata": {},
   "source": [
    "# Strings"
   ]
  },
  {
   "cell_type": "markdown",
   "id": "9ec9d7ff-b50c-4215-ba74-6d9bd9234540",
   "metadata": {},
   "source": [
    "### Strings are sequence of Characters\n",
    "\n",
    "In Python specifically, strings are a sequence of Unicode Characters\n",
    "\n",
    "Creating Strings\n",
    "Accessing Strings\n",
    "Adding Chars to Strings\n",
    "Editing Strings\n",
    "Deleting Strings\n",
    "Operations on Strings\n",
    "String Functions"
   ]
  },
  {
   "cell_type": "markdown",
   "id": "7c8fb62a-3a92-4dbb-b6ff-c32f4191b7e2",
   "metadata": {},
   "source": [
    "# Creating string"
   ]
  },
  {
   "cell_type": "code",
   "execution_count": 15,
   "id": "13552be9-6018-4893-a512-2711b48c145d",
   "metadata": {},
   "outputs": [
    {
     "name": "stdout",
     "output_type": "stream",
     "text": [
      "hello\n"
     ]
    }
   ],
   "source": [
    "s ='hello' \n",
    "s =\"hello\"\n",
    "s = '''hello''' # for multiline string \n",
    "s = \"\"\"hello \"\"\" # for multiline string \n",
    "s = str('hello')\n",
    "print(s)"
   ]
  },
  {
   "cell_type": "markdown",
   "id": "693264f6-bf04-44e0-b215-770419d8e500",
   "metadata": {},
   "source": [
    "# Accessing Substrings from a string"
   ]
  },
  {
   "cell_type": "code",
   "execution_count": 9,
   "id": "128636bd-fa8a-4de3-bb18-50a9bc9cb3c0",
   "metadata": {},
   "outputs": [
    {
     "name": "stdout",
     "output_type": "stream",
     "text": [
      "w\n",
      "s\n"
     ]
    }
   ],
   "source": [
    "# positive indexing \n",
    "s = 'hello world'\n",
    "print(s[6])\n",
    "#negative indexing \n",
    "s='anurag singh' \n",
    "print(s[-5])"
   ]
  },
  {
   "cell_type": "code",
   "execution_count": 19,
   "id": "7fff781b-dfa9-4f62-bfae-85c48dd80bd9",
   "metadata": {},
   "outputs": [
    {
     "name": "stdout",
     "output_type": "stream",
     "text": [
      "hello\n",
      "l\n",
      "llo world\n",
      "hel\n",
      "hello world\n",
      "hlow\n",
      "w olle\n",
      "wol\n",
      "dlrow olleh\n"
     ]
    }
   ],
   "source": [
    "# slicing of string \n",
    "s='hello world'\n",
    "print(s[0:5])\n",
    "print(s[2:3])\n",
    "print(s[2:])\n",
    "print(s[:3])\n",
    "print(s[:])\n",
    "print(s[0:8:2]) # last number is stepsize #kind of jump\n",
    "print(s[6:0:-1])\n",
    "print(s[6:0:-2])\n",
    "print(s[::-1]) # reverse a string"
   ]
  },
  {
   "cell_type": "code",
   "execution_count": 21,
   "id": "f8148a30-8dff-44f0-ac8b-a8e15abde72b",
   "metadata": {},
   "outputs": [
    {
     "name": "stdout",
     "output_type": "stream",
     "text": [
      "world\n",
      "dlrow\n"
     ]
    }
   ],
   "source": [
    "s= 'hello world'\n",
    "print(s[-5:])\n",
    "print(s[-1:-6:-1])"
   ]
  },
  {
   "cell_type": "markdown",
   "id": "dd5187fa-7dba-4c3a-955a-cc37aae94d0a",
   "metadata": {},
   "source": [
    "# Editing and Deleting a String "
   ]
  },
  {
   "cell_type": "code",
   "execution_count": 23,
   "id": "6f597882-4ee8-4600-8236-66da0bd13525",
   "metadata": {},
   "outputs": [],
   "source": [
    "s ='hello anurag'\n",
    "#s[0] = 'H' # string does not support item assigment hence python strings are immutable"
   ]
  },
  {
   "cell_type": "code",
   "execution_count": 24,
   "id": "4305e56d-3508-4e09-90a6-7edc4af5511b",
   "metadata": {},
   "outputs": [
    {
     "ename": "NameError",
     "evalue": "name 's' is not defined",
     "output_type": "error",
     "traceback": [
      "\u001b[1;31m---------------------------------------------------------------------------\u001b[0m",
      "\u001b[1;31mNameError\u001b[0m                                 Traceback (most recent call last)",
      "Cell \u001b[1;32mIn[24], line 3\u001b[0m\n\u001b[0;32m      1\u001b[0m s \u001b[38;5;241m=\u001b[39m\u001b[38;5;124m'\u001b[39m\u001b[38;5;124mhello duniya\u001b[39m\u001b[38;5;124m'\u001b[39m\n\u001b[0;32m      2\u001b[0m \u001b[38;5;28;01mdel\u001b[39;00m s\n\u001b[1;32m----> 3\u001b[0m \u001b[38;5;28mprint\u001b[39m(\u001b[43ms\u001b[49m)\n",
      "\u001b[1;31mNameError\u001b[0m: name 's' is not defined"
     ]
    }
   ],
   "source": [
    "s ='hello duniya'\n",
    "del s\n",
    "print(s) # error cause s has already been deleted "
   ]
  },
  {
   "cell_type": "code",
   "execution_count": 25,
   "id": "76e83542-d9ae-4caf-94db-599f0d1b8743",
   "metadata": {},
   "outputs": [
    {
     "name": "stdout",
     "output_type": "stream",
     "text": [
      "hello duniya\n"
     ]
    },
    {
     "ename": "TypeError",
     "evalue": "'str' object does not support item deletion",
     "output_type": "error",
     "traceback": [
      "\u001b[1;31m---------------------------------------------------------------------------\u001b[0m",
      "\u001b[1;31mTypeError\u001b[0m                                 Traceback (most recent call last)",
      "Cell \u001b[1;32mIn[25], line 3\u001b[0m\n\u001b[0;32m      1\u001b[0m s \u001b[38;5;241m=\u001b[39m\u001b[38;5;124m'\u001b[39m\u001b[38;5;124mhello duniya\u001b[39m\u001b[38;5;124m'\u001b[39m\n\u001b[0;32m      2\u001b[0m \u001b[38;5;28mprint\u001b[39m(s) \n\u001b[1;32m----> 3\u001b[0m \u001b[38;5;28;01mdel\u001b[39;00m \u001b[43ms\u001b[49m\u001b[43m[\u001b[49m\u001b[38;5;241;43m-\u001b[39;49m\u001b[38;5;241;43m1\u001b[39;49m\u001b[43m \u001b[49m\u001b[43m:\u001b[49m\u001b[38;5;241;43m5\u001b[39;49m\u001b[43m \u001b[49m\u001b[43m:\u001b[49m\u001b[38;5;241;43m2\u001b[39;49m\u001b[43m]\u001b[49m\n\u001b[0;32m      4\u001b[0m \u001b[38;5;28mprint\u001b[39m(s)\n",
      "\u001b[1;31mTypeError\u001b[0m: 'str' object does not support item deletion"
     ]
    }
   ],
   "source": [
    "s ='hello duniya'\n",
    "print(s) \n",
    "del s[-1 :5 :2] #not possible cause strings are immutable \n",
    "print(s)"
   ]
  },
  {
   "cell_type": "markdown",
   "id": "005fffd4-e5bf-4f91-8c2c-517f20b119fb",
   "metadata": {},
   "source": [
    "# Operations on Strings"
   ]
  },
  {
   "cell_type": "code",
   "execution_count": 26,
   "id": "ed8b7269-8389-4e64-b467-b43d4b3e903e",
   "metadata": {},
   "outputs": [],
   "source": [
    "#arithmetic , logical ,relational , loops, membership"
   ]
  },
  {
   "cell_type": "code",
   "execution_count": 27,
   "id": "e8b31d01-630c-4d09-b79e-9248d9d0bcb2",
   "metadata": {},
   "outputs": [
    {
     "name": "stdout",
     "output_type": "stream",
     "text": [
      "dehlimumbai\n"
     ]
    }
   ],
   "source": [
    "print('dehli'+'mumbai')"
   ]
  },
  {
   "cell_type": "code",
   "execution_count": 28,
   "id": "7ab3ab71-ce83-4d2a-b6da-9071beaeeffb",
   "metadata": {},
   "outputs": [
    {
     "name": "stdout",
     "output_type": "stream",
     "text": [
      "dehlidehlidehlidehlidehli\n"
     ]
    }
   ],
   "source": [
    "print('dehli'*5)"
   ]
  },
  {
   "cell_type": "code",
   "execution_count": 1,
   "id": "75274aca-a7ea-4d93-add1-d3955442dc1c",
   "metadata": {},
   "outputs": [
    {
     "data": {
      "text/plain": [
       "False"
      ]
     },
     "execution_count": 1,
     "metadata": {},
     "output_type": "execute_result"
    }
   ],
   "source": [
    "'dehli'=='mumbai'"
   ]
  },
  {
   "cell_type": "code",
   "execution_count": null,
   "id": "ab74d6cf-fbd0-4ee5-bb71-cf06428c388a",
   "metadata": {},
   "outputs": [],
   "source": [
    "'dehli'!='mumbai'"
   ]
  }
 ],
 "metadata": {
  "kernelspec": {
   "display_name": "Python 3 (ipykernel)",
   "language": "python",
   "name": "python3"
  },
  "language_info": {
   "codemirror_mode": {
    "name": "ipython",
    "version": 3
   },
   "file_extension": ".py",
   "mimetype": "text/x-python",
   "name": "python",
   "nbconvert_exporter": "python",
   "pygments_lexer": "ipython3",
   "version": "3.11.3"
  }
 },
 "nbformat": 4,
 "nbformat_minor": 5
}
