{
 "cells": [
  {
   "cell_type": "markdown",
   "id": "6d0d55e1-0212-4411-97ea-5f91d1b78cb7",
   "metadata": {},
   "source": [
    "#### Question 1 "
   ]
  },
  {
   "cell_type": "code",
   "execution_count": 4,
   "id": "f1eb1579-72b1-4654-9c54-baf700b3c292",
   "metadata": {},
   "outputs": [
    {
     "name": "stdin",
     "output_type": "stream",
     "text": [
      "Enter your CTC in Lakhs:  15\n"
     ]
    },
    {
     "name": "stdout",
     "output_type": "stream",
     "text": [
      "Your in-hand monthly salary after deductions is: ₹0.82 Lakhs\n"
     ]
    }
   ],
   "source": [
    "ctc = float(input(\"Enter your CTC in Lakhs: \"))\n",
    "\n",
    "if ctc < 0:\n",
    "    print(\"CTC cannot be negative. Please enter a valid amount.\")\n",
    "else:\n",
    "    # Deductions\n",
    "    hra = ctc * 0.10  # HRA (10%)\n",
    "    da = ctc * 0.05   # DA (5%)\n",
    "    pf = ctc * 0.03   # PF (3%)\n",
    "\n",
    "    # Total deductions\n",
    "    total_deductions = hra + da + pf\n",
    "\n",
    "    # Tax calculation based on taxable income\n",
    "    taxable_income = ctc - total_deductions\n",
    "\n",
    "    if taxable_income <= 5:\n",
    "        tax_rate = 0\n",
    "    elif 5 < taxable_income <= 10:\n",
    "        tax_rate = 0.10\n",
    "    elif 10 < taxable_income <= 20:\n",
    "        tax_rate = 0.20\n",
    "    else:\n",
    "        tax_rate = 0.30\n",
    "\n",
    "    tax = taxable_income * tax_rate\n",
    "\n",
    "    # In-hand salary calculation\n",
    "    in_hand_salary = (ctc - total_deductions - tax) / 12  # Monthly salary\n",
    "\n",
    "    # Output the result\n",
    "    print(f\"Your in-hand monthly salary after deductions is: ₹{in_hand_salary:.2f} Lakhs\")"
   ]
  },
  {
   "cell_type": "markdown",
   "id": "1163361e-4c50-4bd9-92dd-08242625960a",
   "metadata": {},
   "source": [
    "#### Question 2"
   ]
  },
  {
   "cell_type": "code",
   "execution_count": 5,
   "id": "15df900b-ed0a-4118-a80c-c27a2ea1a292",
   "metadata": {},
   "outputs": [
    {
     "name": "stdin",
     "output_type": "stream",
     "text": [
      "Enter the first angle: 60\n",
      "Enter the second angle: 50\n",
      "Enter the third angle: 70\n"
     ]
    },
    {
     "name": "stdout",
     "output_type": "stream",
     "text": [
      "Triangle can be formed\n"
     ]
    }
   ],
   "source": [
    "firstAngle = int(input('Enter the first angle:'))\n",
    "secondAngle = int(input('Enter the second angle:'))\n",
    "thirdAngle = int(input('Enter the third angle:'))\n",
    "final = firstAngle+secondAngle+thirdAngle\n",
    "if(final<180):\n",
    "    print('Triangle can not be formed')\n",
    "else:\n",
    "    print('Triangle can be formed')"
   ]
  },
  {
   "cell_type": "markdown",
   "id": "0223a347-7dce-4a8e-844e-5e36153c4a02",
   "metadata": {},
   "source": [
    "#### Question 3"
   ]
  },
  {
   "cell_type": "code",
   "execution_count": 6,
   "id": "ff59d2c8-8653-42b4-bfac-897839e77489",
   "metadata": {},
   "outputs": [
    {
     "name": "stdin",
     "output_type": "stream",
     "text": [
      "Enter the cost price:  500\n",
      "Enter the selling price:  512\n"
     ]
    },
    {
     "name": "stdout",
     "output_type": "stream",
     "text": [
      "You made a profit of 12.0\n"
     ]
    }
   ],
   "source": [
    "cost_price = float(input(\"Enter the cost price: \"))\n",
    "selling_price = float(input(\"Enter the selling price: \"))\n",
    "\n",
    "if selling_price > cost_price:\n",
    "    profit = selling_price - cost_price\n",
    "    print(\"You made a profit of\", profit)\n",
    "elif selling_price < cost_price:\n",
    "    loss = cost_price - selling_price\n",
    "    print(\"You incurred a loss of\", loss)\n",
    "else:\n",
    "    print(\"No profit, no loss.\")\n"
   ]
  },
  {
   "cell_type": "markdown",
   "id": "3a31fc40-5ea3-45c4-9099-bde04149230c",
   "metadata": {},
   "source": [
    "#### Question 4"
   ]
  },
  {
   "cell_type": "code",
   "execution_count": 7,
   "id": "166478fa-f08a-4398-90e5-507e5905305d",
   "metadata": {},
   "outputs": [
    {
     "name": "stdout",
     "output_type": "stream",
     "text": [
      "\n",
      "--- Conversion Menu ---\n",
      "1. Centimeters to Feet\n",
      "2. Kilometers to Miles\n",
      "3. USD to INR\n",
      "4. Exit\n"
     ]
    },
    {
     "name": "stdin",
     "output_type": "stream",
     "text": [
      "Enter your choice (1-4):  3\n",
      "Enter amount in USD:  30\n"
     ]
    },
    {
     "name": "stdout",
     "output_type": "stream",
     "text": [
      "$30.0 is ₹2490.00 INR.\n",
      "\n",
      "--- Conversion Menu ---\n",
      "1. Centimeters to Feet\n",
      "2. Kilometers to Miles\n",
      "3. USD to INR\n",
      "4. Exit\n"
     ]
    },
    {
     "name": "stdin",
     "output_type": "stream",
     "text": [
      "Enter your choice (1-4):  4\n"
     ]
    },
    {
     "name": "stdout",
     "output_type": "stream",
     "text": [
      "Exiting the program. Goodbye!\n"
     ]
    }
   ],
   "source": [
    "while True:\n",
    "    print(\"\\n--- Conversion Menu ---\")\n",
    "    print(\"1. Centimeters to Feet\")\n",
    "    print(\"2. Kilometers to Miles\")\n",
    "    print(\"3. USD to INR\")\n",
    "    print(\"4. Exit\")\n",
    "\n",
    "    choice = input(\"Enter your choice (1-4): \")\n",
    "\n",
    "    if choice == '1':\n",
    "        cm = float(input(\"Enter value in centimeters: \"))\n",
    "        feet = cm / 30.48\n",
    "        print(f\"{cm} cm is {feet:.2f} feet.\")\n",
    "\n",
    "    elif choice == '2':\n",
    "        km = float(input(\"Enter value in kilometers: \"))\n",
    "        miles = km * 0.621371\n",
    "        print(f\"{km} km is {miles:.2f} miles.\")\n",
    "\n",
    "    elif choice == '3':\n",
    "        usd = float(input(\"Enter amount in USD: \"))\n",
    "        inr = usd * 83.00  # Assuming 1 USD = 83 INR\n",
    "        print(f\"${usd} is ₹{inr:.2f} INR.\")\n",
    "\n",
    "    elif choice == '4':\n",
    "        print(\"Exiting the program. Goodbye!\")\n",
    "        break\n",
    "\n",
    "    else:\n",
    "        print(\"Invalid choice. Please enter a number between 1 and 4.\")\n"
   ]
  },
  {
   "cell_type": "markdown",
   "id": "b70c58a9-5a02-4a9d-aa02-38342ffb89b5",
   "metadata": {},
   "source": [
    "#### Question 5"
   ]
  },
  {
   "cell_type": "code",
   "execution_count": 8,
   "id": "477b43bb-b76b-40b1-8f8a-675ce3a1b60d",
   "metadata": {},
   "outputs": [
    {
     "name": "stdout",
     "output_type": "stream",
     "text": [
      "Fibonacci series up to 10 terms:\n",
      "0 1 1 2 3 5 8 13 21 34 "
     ]
    }
   ],
   "source": [
    "n = 10\n",
    "\n",
    "a = 0\n",
    "b = 1\n",
    "\n",
    "print(\"Fibonacci series up to 10 terms:\")\n",
    "\n",
    "for i in range(n):\n",
    "    print(a, end=\" \")\n",
    "    c = a + b\n",
    "    a = b\n",
    "    b = c\n"
   ]
  },
  {
   "cell_type": "markdown",
   "id": "5348e854-6ffb-4fd3-b653-e376762fb9c0",
   "metadata": {},
   "source": [
    "#### Question 6"
   ]
  },
  {
   "cell_type": "code",
   "execution_count": 10,
   "id": "ed516c66-65d7-4682-b6c3-7d3aa6b48c3b",
   "metadata": {},
   "outputs": [
    {
     "name": "stdin",
     "output_type": "stream",
     "text": [
      "Enter the number to find the factorial 5\n"
     ]
    },
    {
     "name": "stdout",
     "output_type": "stream",
     "text": [
      "The factorial of 5 is 120.\n"
     ]
    }
   ],
   "source": [
    "num = int(input('Enter the number to find the factorial'))\n",
    "factorial =1 \n",
    "if num < 0:\n",
    "    print(\"Factorial does not exist for negative numbers.\")\n",
    "elif num == 0:\n",
    "    print(\"The factorial of 0 is 1.\")\n",
    "else:\n",
    "    for i in range(1, num + 1):\n",
    "        factorial *= i\n",
    "    print(f\"The factorial of {num} is {factorial}.\")"
   ]
  },
  {
   "cell_type": "markdown",
   "id": "bfc6a3e3-0002-4011-ba29-065657781132",
   "metadata": {},
   "source": [
    "#### Question 7"
   ]
  },
  {
   "cell_type": "code",
   "execution_count": 13,
   "id": "a661b8ed-f3ad-4e6d-82ae-fe7574fbfa80",
   "metadata": {},
   "outputs": [
    {
     "name": "stdin",
     "output_type": "stream",
     "text": [
      "Enter an integer number to reverse:  5984\n"
     ]
    },
    {
     "name": "stdout",
     "output_type": "stream",
     "text": [
      "Reversed number:  4895\n"
     ]
    }
   ],
   "source": [
    "# Get input from the user\n",
    "num = int(input(\"Enter an integer number to reverse: \"))\n",
    "\n",
    "reversed_num = 0\n",
    "\n",
    "num = abs(num)\n",
    "\n",
    "while num > 0:\n",
    "    digit = num % 10\n",
    "    reversed_num = reversed_num * 10 + digit\n",
    "    num = num // 10\n",
    "\n",
    "\n",
    "print('Reversed number: ', reversed_num)\n"
   ]
  },
  {
   "cell_type": "markdown",
   "id": "3b43d8cf-4d78-41c6-ab9c-662e6d98de07",
   "metadata": {},
   "source": [
    "#### Question 8"
   ]
  },
  {
   "cell_type": "code",
   "execution_count": 16,
   "id": "287b851e-f264-4700-a1a9-7083797f3051",
   "metadata": {},
   "outputs": [
    {
     "name": "stdin",
     "output_type": "stream",
     "text": [
      "Enter a number N:  30\n"
     ]
    },
    {
     "name": "stdout",
     "output_type": "stream",
     "text": [
      "276\n"
     ]
    }
   ],
   "source": [
    "N = int(input(\"Enter a number N: \"))\n",
    "\n",
    "i = 1\n",
    "total = 0\n",
    "\n",
    "while i <= N:\n",
    "    if i % 5 == 0:\n",
    "        i += 1\n",
    "        continue\n",
    "    if total + i > 300:\n",
    "        break\n",
    "    total += i\n",
    "    i += 1\n",
    "print(total)\n"
   ]
  },
  {
   "cell_type": "markdown",
   "id": "18c92e2d-cb25-4f73-9a28-b086790131e0",
   "metadata": {},
   "source": [
    "#### Question 9 "
   ]
  },
  {
   "cell_type": "code",
   "execution_count": 18,
   "id": "82a4b545-4cd2-447a-9862-0bfb9bcdcdcf",
   "metadata": {},
   "outputs": [
    {
     "name": "stdin",
     "output_type": "stream",
     "text": [
      "Enter a number (0 to stop):  1\n",
      "Enter a number (0 to stop):  4\n",
      "Enter a number (0 to stop):  2\n",
      "Enter a number (0 to stop):  5\n",
      "Enter a number (0 to stop):  3\n",
      "Enter a number (0 to stop):  76\n",
      "Enter a number (0 to stop):  0\n"
     ]
    },
    {
     "name": "stdout",
     "output_type": "stream",
     "text": [
      "Sum: 91.0\n",
      "Average: 15.166666666666666\n"
     ]
    }
   ],
   "source": [
    "total = 0\n",
    "count = 0\n",
    "\n",
    "while True:\n",
    "    num = float(input(\"Enter a number (0 to stop): \"))\n",
    "    \n",
    "    if num == 0:\n",
    "        break\n",
    "    \n",
    "    total += num\n",
    "    count += 1\n",
    "\n",
    "if count == 0:\n",
    "    print(\"No numbers were entered.\")\n",
    "else:\n",
    "    average = total / count\n",
    "    print(\"Sum:\", total)\n",
    "    print(\"Average:\", average)\n"
   ]
  },
  {
   "cell_type": "markdown",
   "id": "1ca8b4cb-fd1f-4065-baab-0a2e888f4242",
   "metadata": {},
   "source": [
    "#### Question 10"
   ]
  },
  {
   "cell_type": "code",
   "execution_count": 19,
   "id": "2df8b562-a7dd-4935-95da-fc0cfef5bcc3",
   "metadata": {},
   "outputs": [
    {
     "name": "stdout",
     "output_type": "stream",
     "text": [
      "2000 2002 2004 2006 2008 2020 2022 2024 2026 2028 2040 2042 2044 2046 2048 2060 2062 2064 2066 2068 2080 2082 2084 2086 2088 2200 2202 2204 2206 2208 2220 2222 2224 2226 2228 2240 2242 2244 2246 2248 2260 2262 2264 2266 2268 2280 2282 2284 2286 2288 2400 2402 2404 2406 2408 2420 2422 2424 2426 2428 2440 2442 2444 2446 2448 2460 2462 2464 2466 2468 2480 2482 2484 2486 2488 2600 2602 2604 2606 2608 2620 2622 2624 2626 2628 2640 2642 2644 2646 2648 2660 2662 2664 2666 2668 2680 2682 2684 2686 2688 2800 2802 2804 2806 2808 2820 2822 2824 2826 2828 2840 2842 2844 2846 2848 2860 2862 2864 2866 2868 2880 2882 2884 2886 2888\n"
     ]
    }
   ],
   "source": [
    "result = []\n",
    "\n",
    "num = 1000\n",
    "while num <= 3000:\n",
    "    digits = str(num)\n",
    "    if all(int(d) % 2 == 0 for d in digits):\n",
    "        result.append(digits)\n",
    "    num += 1\n",
    "\n",
    "print(\" \".join(result))"
   ]
  },
  {
   "cell_type": "markdown",
   "id": "a413305b-f7d3-454a-8691-194857a26d54",
   "metadata": {},
   "source": [
    "#### Question 11"
   ]
  },
  {
   "cell_type": "code",
   "execution_count": 21,
   "id": "88e2caec-1efe-4636-9fd3-24aadf77b373",
   "metadata": {},
   "outputs": [
    {
     "name": "stdout",
     "output_type": "stream",
     "text": [
      "Enter commands (e.g., UP 5). Enter '!' to stop:\n"
     ]
    },
    {
     "name": "stdin",
     "output_type": "stream",
     "text": [
      " 1\n",
      " 2\n",
      " 3\n",
      " !\n"
     ]
    },
    {
     "name": "stdout",
     "output_type": "stream",
     "text": [
      "0\n"
     ]
    }
   ],
   "source": [
    "import math\n",
    "\n",
    "# Start at origin\n",
    "x = 0\n",
    "y = 0\n",
    "\n",
    "print(\"Enter commands (e.g., UP 5). Enter '!' to stop:\")\n",
    "\n",
    "while True:\n",
    "    command = input().strip()\n",
    "    \n",
    "    if command == \"!\":\n",
    "        break\n",
    "\n",
    "    # Split the command into direction and steps\n",
    "    parts = command.split()\n",
    "    if len(parts) != 2:\n",
    "        continue  # Skip invalid lines\n",
    "\n",
    "    direction, steps = parts[0], int(parts[1])\n",
    "\n",
    "    # Move based on direction\n",
    "    if direction.upper() == \"UP\":\n",
    "        y += steps\n",
    "    elif direction.upper() == \"DOWN\":\n",
    "        y -= steps\n",
    "    elif direction.upper() == \"LEFT\":\n",
    "        x -= steps\n",
    "    elif direction.upper() == \"RIGHT\":\n",
    "        x += steps\n",
    "\n",
    "# Calculate Euclidean distance from origin\n",
    "distance = math.sqrt(x**2 + y**2)\n",
    "print(round(distance))\n"
   ]
  },
  {
   "cell_type": "markdown",
   "id": "ba954ea2-6530-45f3-9d89-5d042add7d5f",
   "metadata": {},
   "source": [
    "#### Question 12"
   ]
  },
  {
   "cell_type": "code",
   "execution_count": 23,
   "id": "c11c1724-d7c5-4b27-9353-032db3541753",
   "metadata": {},
   "outputs": [
    {
     "name": "stdin",
     "output_type": "stream",
     "text": [
      "Enter a number:  5\n"
     ]
    },
    {
     "name": "stdout",
     "output_type": "stream",
     "text": [
      "5 is a prime number.\n"
     ]
    }
   ],
   "source": [
    "num = int(input(\"Enter a number: \"))\n",
    "\n",
    "if num <= 1:\n",
    "    print(num, \"is not a prime number.\")\n",
    "else:\n",
    "    is_prime = True\n",
    "    i = 2\n",
    "    while i <= num // 2:\n",
    "        if num % i == 0:\n",
    "            is_prime = False\n",
    "            break\n",
    "        i += 1\n",
    "\n",
    "    if is_prime:\n",
    "        print(num, \"is a prime number.\")\n",
    "    else:\n",
    "        print(num, \"is not a prime number.\")\n"
   ]
  },
  {
   "cell_type": "markdown",
   "id": "c46b0b60-5bd6-4c94-ba44-8b40997d43d9",
   "metadata": {},
   "source": [
    "#### Question 13"
   ]
  },
  {
   "cell_type": "code",
   "execution_count": 25,
   "id": "fd917824-c8bb-49aa-9dd2-5531f594f2e1",
   "metadata": {},
   "outputs": [
    {
     "name": "stdin",
     "output_type": "stream",
     "text": [
      "Enter the start of range:  1\n",
      "Enter the end of range:  10\n"
     ]
    },
    {
     "name": "stdout",
     "output_type": "stream",
     "text": [
      "Armstrong numbers between 1 and 10 are:\n",
      "1 "
     ]
    }
   ],
   "source": [
    "start = int(input(\"Enter the start of range: \"))\n",
    "end = int(input(\"Enter the end of range: \"))\n",
    "\n",
    "print(f\"Armstrong numbers between {start} and {end} are:\")\n",
    "\n",
    "num = start\n",
    "while num <= end:\n",
    "    temp = num\n",
    "    sum_of_cubes = 0\n",
    "\n",
    "    while temp > 0:\n",
    "        digit = temp % 10\n",
    "        sum_of_cubes += digit ** 3\n",
    "        temp //= 10\n",
    "\n",
    "    if sum_of_cubes == num:\n",
    "        print(num, end=\" \")\n",
    "\n",
    "    num += 1\n"
   ]
  },
  {
   "cell_type": "markdown",
   "id": "0a98ac61-78ab-4a84-b062-7cfe7eaae28f",
   "metadata": {},
   "source": [
    "#### Question 14 "
   ]
  },
  {
   "cell_type": "code",
   "execution_count": 26,
   "id": "fc5e6b0f-5aa6-48be-bf9f-c4f8493afb0c",
   "metadata": {},
   "outputs": [
    {
     "name": "stdin",
     "output_type": "stream",
     "text": [
      "Enter hour (0-12):  9\n",
      "Enter minutes (0-59):  0\n"
     ]
    },
    {
     "name": "stdout",
     "output_type": "stream",
     "text": [
      "90\n"
     ]
    }
   ],
   "source": [
    "import math\n",
    "\n",
    "# Get input\n",
    "H = int(input(\"Enter hour (0-12): \"))\n",
    "M = int(input(\"Enter minutes (0-59): \"))\n",
    "\n",
    "# Normalize hour to 12-hour format\n",
    "H = H % 12\n",
    "\n",
    "# Calculate angles\n",
    "hour_angle = 30 * H + 0.5 * M     # 30° per hour + 0.5° per minute\n",
    "minute_angle = 6 * M              # 6° per minute\n",
    "\n",
    "# Find the absolute difference\n",
    "angle = abs(hour_angle - minute_angle)\n",
    "\n",
    "# Minimum angle between the two hands\n",
    "min_angle = min(angle, 360 - angle)\n",
    "\n",
    "# Print the floored result\n",
    "print(math.floor(min_angle))\n"
   ]
  },
  {
   "cell_type": "markdown",
   "id": "0dcc6755-63cf-4e00-8db0-8fd7926c71dc",
   "metadata": {},
   "source": [
    "#### Question 15"
   ]
  },
  {
   "cell_type": "code",
   "execution_count": 27,
   "id": "344782a2-1b75-4b07-babf-6a4e599fd526",
   "metadata": {},
   "outputs": [
    {
     "name": "stdin",
     "output_type": "stream",
     "text": [
      "Enter x of L1:  0\n",
      "Enter y of L1:  10\n",
      "Enter x of R1:  10\n",
      "Enter y of R1:  0\n",
      "Enter x of L2:  5\n",
      "Enter y of L2:  5\n",
      "Enter x of R2:  15\n",
      "Enter y of R2:  0\n"
     ]
    },
    {
     "name": "stdout",
     "output_type": "stream",
     "text": [
      "Rectangles OVERLAP.\n"
     ]
    }
   ],
   "source": [
    "# Input coordinates\n",
    "# First rectangle\n",
    "x1_L1 = int(input(\"Enter x of L1: \"))\n",
    "y1_L1 = int(input(\"Enter y of L1: \"))\n",
    "x1_R1 = int(input(\"Enter x of R1: \"))\n",
    "y1_R1 = int(input(\"Enter y of R1: \"))\n",
    "\n",
    "# Second rectangle\n",
    "x2_L2 = int(input(\"Enter x of L2: \"))\n",
    "y2_L2 = int(input(\"Enter y of L2: \"))\n",
    "x2_R2 = int(input(\"Enter x of R2: \"))\n",
    "y2_R2 = int(input(\"Enter y of R2: \"))\n",
    "\n",
    "# Check if rectangles do not overlap\n",
    "if (x1_L1 > x2_R2 or x2_L2 > x1_R1 or\n",
    "    y1_R1 > y2_L2 or y2_R2 > y1_L1):\n",
    "    print(\"Rectangles do NOT overlap.\")\n",
    "else:\n",
    "    print(\"Rectangles OVERLAP.\")"
   ]
  },
  {
   "cell_type": "code",
   "execution_count": null,
   "id": "76adcfe0-6d15-4c6d-92ba-40a1952eb846",
   "metadata": {},
   "outputs": [],
   "source": []
  }
 ],
 "metadata": {
  "kernelspec": {
   "display_name": "Python 3 (ipykernel)",
   "language": "python",
   "name": "python3"
  },
  "language_info": {
   "codemirror_mode": {
    "name": "ipython",
    "version": 3
   },
   "file_extension": ".py",
   "mimetype": "text/x-python",
   "name": "python",
   "nbconvert_exporter": "python",
   "pygments_lexer": "ipython3",
   "version": "3.11.3"
  }
 },
 "nbformat": 4,
 "nbformat_minor": 5
}
