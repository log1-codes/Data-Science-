{
 "cells": [
  {
   "cell_type": "markdown",
   "id": "7fb580d5-d784-4e8f-a378-b1bebb2b8d8c",
   "metadata": {},
   "source": [
    "# Tuple"
   ]
  },
  {
   "cell_type": "markdown",
   "id": "3706fd59-11ab-494d-b706-9ee649005494",
   "metadata": {},
   "source": [
    "#### Question 1 "
   ]
  },
  {
   "cell_type": "code",
   "execution_count": null,
   "id": "9526b860-a7a9-46e7-a02d-278abc7d4378",
   "metadata": {},
   "outputs": [],
   "source": []
  },
  {
   "cell_type": "markdown",
   "id": "c395e953-751a-4d40-88f2-473c7d1dc07c",
   "metadata": {},
   "source": [
    "#### Question 2"
   ]
  },
  {
   "cell_type": "code",
   "execution_count": 1,
   "id": "cc5d8f5f-b567-4533-ab85-cf773db80bfc",
   "metadata": {},
   "outputs": [
    {
     "name": "stdout",
     "output_type": "stream",
     "text": [
      "(5, 40, 91, 136, 80)\n"
     ]
    }
   ],
   "source": [
    "tup =(1,5,7,8,10)\n",
    "res =[] \n",
    "for i in range (len(tup)):\n",
    "    if i ==0:\n",
    "        res.append(tup[i]*tup[i+1])\n",
    "    elif i == len(tup)- 1:\n",
    "        res.append(tup[i]*tup[i-1])\n",
    "    else:\n",
    "        res.append(tup[i] * tup[i -1 ] + tup[i]* tup[i+1])\n",
    "\n",
    "print(tuple(res))"
   ]
  },
  {
   "cell_type": "markdown",
   "id": "5ace0455-7436-43f0-8e81-3a0ba2ef7348",
   "metadata": {},
   "source": [
    "#### Question 3"
   ]
  },
  {
   "cell_type": "code",
   "execution_count": 2,
   "id": "19d75cc5-a5a9-41f4-9061-110e926f66b7",
   "metadata": {},
   "outputs": [
    {
     "name": "stdout",
     "output_type": "stream",
     "text": [
      "Not Same\n"
     ]
    }
   ],
   "source": [
    "t1 = (1, 2, 3, 0)\n",
    "t2 = (0, 1, 2, 3)\n",
    "\n",
    "print(\"Same\" if t1 == t2 else \"Not Same\")"
   ]
  },
  {
   "cell_type": "markdown",
   "id": "96f4a5bf-badf-4267-94c5-1334ce4983e4",
   "metadata": {},
   "source": [
    "#### Question 4"
   ]
  },
  {
   "cell_type": "code",
   "execution_count": 3,
   "id": "b9537da0-91e5-45b0-ad48-58aa728f30b9",
   "metadata": {},
   "outputs": [
    {
     "name": "stdout",
     "output_type": "stream",
     "text": [
      "List-2\n",
      "Set-2\n",
      "Tuples-1\n"
     ]
    }
   ],
   "source": [
    "list1 = [{'hi', 'bye'}, {'Geeks', 'forGeeks'}, ('a', 'b'), ['hi', 'bye'], ['a', 'b']]\n",
    "sets = lists = tuples = 0\n",
    "\n",
    "for item in list1:\n",
    "    if isinstance(item, set):\n",
    "        sets += 1\n",
    "    elif isinstance(item, list):\n",
    "        lists += 1\n",
    "    elif isinstance(item, tuple):\n",
    "        tuples += 1\n",
    "\n",
    "print(f\"List-{lists}\")\n",
    "print(f\"Set-{sets}\")\n",
    "print(f\"Tuples-{tuples}\")\n"
   ]
  },
  {
   "cell_type": "markdown",
   "id": "49454e6b-a00b-4c0e-8470-81ea78d26df5",
   "metadata": {},
   "source": [
    "#### Question 5 "
   ]
  },
  {
   "cell_type": "code",
   "execution_count": 4,
   "id": "51db0727-9437-4df8-96c9-ab4b4eacd49b",
   "metadata": {},
   "outputs": [
    {
     "name": "stdin",
     "output_type": "stream",
     "text": [
      "Enter No of records-  5\n"
     ]
    },
    {
     "name": "stdout",
     "output_type": "stream",
     "text": [
      "Enter Details of student-1\n"
     ]
    },
    {
     "name": "stdin",
     "output_type": "stream",
     "text": [
      "Enter Student name-  sd\n",
      "Enter Higher Education-  sdsd\n",
      "Enter Primary Skill-  dsd\n",
      "Enter Year of Graduation-  sd\n"
     ]
    },
    {
     "name": "stdout",
     "output_type": "stream",
     "text": [
      "Enter Details of student-2\n"
     ]
    },
    {
     "name": "stdin",
     "output_type": "stream",
     "text": [
      "Enter Student name-  dsds\n",
      "Enter Higher Education-  d\n",
      "Enter Primary Skill-  sd\n",
      "Enter Year of Graduation-  sd\n"
     ]
    },
    {
     "name": "stdout",
     "output_type": "stream",
     "text": [
      "Enter Details of student-3\n"
     ]
    },
    {
     "name": "stdin",
     "output_type": "stream",
     "text": [
      "Enter Student name-  s\n",
      "Enter Higher Education-  d\n",
      "Enter Primary Skill-  sd\n",
      "Enter Year of Graduation-  s\n"
     ]
    },
    {
     "name": "stdout",
     "output_type": "stream",
     "text": [
      "Enter Details of student-4\n"
     ]
    },
    {
     "name": "stdin",
     "output_type": "stream",
     "text": [
      "Enter Student name-  d\n",
      "Enter Higher Education-  sd\n",
      "Enter Primary Skill-  sd\n",
      "Enter Year of Graduation-  s\n"
     ]
    },
    {
     "name": "stdout",
     "output_type": "stream",
     "text": [
      "Enter Details of student-5\n"
     ]
    },
    {
     "name": "stdin",
     "output_type": "stream",
     "text": [
      "Enter Student name-  ds\n",
      "Enter Higher Education-  d\n",
      "Enter Primary Skill-  s\n",
      "Enter Year of Graduation-  d\n"
     ]
    },
    {
     "name": "stdout",
     "output_type": "stream",
     "text": [
      "\n",
      "Enter Job Role Requirement\n"
     ]
    },
    {
     "name": "stdin",
     "output_type": "stream",
     "text": [
      "Enter Skill-  d\n",
      "Enter Higher Education-  ssdsd\n",
      "Enter Year of Graduation-  \n"
     ]
    },
    {
     "name": "stdout",
     "output_type": "stream",
     "text": [
      "No such candidate\n"
     ]
    }
   ],
   "source": [
    "records = []\n",
    "n = int(input(\"Enter No of records- \"))\n",
    "\n",
    "for i in range(n):\n",
    "    print(f\"Enter Details of student-{i+1}\")\n",
    "    name = input(\"Enter Student name- \")\n",
    "    edu = input(\"Enter Higher Education- \")\n",
    "    skill = input(\"Enter Primary Skill- \")\n",
    "    year = input(\"Enter Year of Graduation- \")\n",
    "    records.append((name, edu, skill, year))\n",
    "\n",
    "print(\"\\nEnter Job Role Requirement\")\n",
    "req_skill = input(\"Enter Skill- \")\n",
    "req_edu = input(\"Enter Higher Education- \")\n",
    "req_year = input(\"Enter Year of Graduation- \")\n",
    "\n",
    "filtered = [rec for rec in records if rec[1] == req_edu and rec[2] == req_skill and rec[3] == req_year]\n",
    "\n",
    "if filtered:\n",
    "    for student in filtered:\n",
    "        print(student)\n",
    "else:\n",
    "    print(\"No such candidate\")\n"
   ]
  },
  {
   "cell_type": "markdown",
   "id": "300af371-bc75-425d-a59c-395824c0cecf",
   "metadata": {},
   "source": [
    "# Set "
   ]
  },
  {
   "cell_type": "markdown",
   "id": "e1c1d6cb-8503-46c5-9034-c8a8af4fda74",
   "metadata": {},
   "source": [
    "#### Question 1 "
   ]
  },
  {
   "cell_type": "code",
   "execution_count": 5,
   "id": "c1a48d97-5db4-4b9f-9e01-29e881751939",
   "metadata": {},
   "outputs": [
    {
     "name": "stdout",
     "output_type": "stream",
     "text": [
      "[80, 20]\n"
     ]
    }
   ],
   "source": [
    "ar1 = [1, 5, 10, 20, 40, 80]\n",
    "ar2 = [6, 7, 20, 80, 100]\n",
    "ar3 = [3, 4, 15, 20, 30, 70, 80, 120]\n",
    "\n",
    "res = list(set(ar1) & set(ar2) & set(ar3))\n",
    "print(res)\n"
   ]
  },
  {
   "cell_type": "markdown",
   "id": "bf3a7e86-4dfe-468f-bdac-05232e10a5b1",
   "metadata": {},
   "source": [
    "#### Question 2"
   ]
  },
  {
   "cell_type": "code",
   "execution_count": 6,
   "id": "6e825310-425d-40dd-b794-b62b7881cd1c",
   "metadata": {},
   "outputs": [
    {
     "name": "stdout",
     "output_type": "stream",
     "text": [
      "No of unique vowels- 6\n"
     ]
    }
   ],
   "source": [
    "Str1 = \"hands-on data science mentorship progrAm with live classes at affordable fee only on CampusX\"\n",
    "vowels = {'a', 'e', 'i', 'o', 'u', 'A', 'E', 'I', 'O', 'U'}\n",
    "\n",
    "unique_vowels = set([char for char in Str1 if char in vowels])\n",
    "print(\"No of unique vowels-\", len(unique_vowels))"
   ]
  },
  {
   "cell_type": "markdown",
   "id": "f44ee524-e301-48be-8af8-cea0b332c144",
   "metadata": {},
   "source": [
    "#### Question 3"
   ]
  },
  {
   "cell_type": "code",
   "execution_count": 7,
   "id": "7672ef8a-a4e9-43fc-b2f3-0366cc00ab0a",
   "metadata": {},
   "outputs": [
    {
     "name": "stdin",
     "output_type": "stream",
     "text": [
      "Enter string:  anurag\n"
     ]
    },
    {
     "name": "stdout",
     "output_type": "stream",
     "text": [
      "No\n"
     ]
    }
   ],
   "source": [
    "s = input(\"Enter string: \")\n",
    "print(\"Yes\" if len(set(s)) == 2 else \"No\")\n"
   ]
  },
  {
   "cell_type": "markdown",
   "id": "bcc11391-e582-4148-9d81-33fe0122a79f",
   "metadata": {},
   "source": [
    "#### Question 4 "
   ]
  },
  {
   "cell_type": "markdown",
   "id": "e2f0b115-6246-4fb0-973f-ea1c25095be4",
   "metadata": {},
   "source": [
    "arrs = [\n",
    "    [1, 2, 2, 4, 3, 6],\n",
    "    [5, 1, 3, 4],\n",
    "    [9, 5, 7, 1],\n",
    "    [2, 4, 1, 3]\n",
    "]\n",
    "\n",
    "union = set()\n",
    "for arr in arrs:\n",
    "    union.update(arr)\n",
    "\n",
    "print(sorted(list(union)))\n"
   ]
  },
  {
   "cell_type": "markdown",
   "id": "7cbf690d-6d9b-4dd8-8969-5e139d20ba81",
   "metadata": {},
   "source": [
    "#### Question 5 "
   ]
  },
  {
   "cell_type": "code",
   "execution_count": 9,
   "id": "87f5dbeb-2921-4679-9eb6-cea6e766d6b9",
   "metadata": {},
   "outputs": [
    {
     "name": "stdout",
     "output_type": "stream",
     "text": [
      "[4, 5, 9, 10]\n"
     ]
    }
   ],
   "source": [
    "lst1 = {15, 9, 10, 56, 23, 78, 5, 4, 9}\n",
    "lst2 = {9, 4, 5, 36, 47, 26, 10, 45, 87}\n",
    "\n",
    "result = [item for item in lst1 if item in lst2]\n",
    "print(result)\n"
   ]
  },
  {
   "cell_type": "markdown",
   "id": "02c6b065-5e6e-437f-9b1e-0f445f5d43d9",
   "metadata": {},
   "source": [
    "# Dictionary "
   ]
  },
  {
   "cell_type": "markdown",
   "id": "98c4738a-2c58-43aa-9c3c-7dd412c2aed6",
   "metadata": {},
   "source": [
    "#### Question 1 "
   ]
  },
  {
   "cell_type": "code",
   "execution_count": 10,
   "id": "f9c9b77d-ded9-490a-9cd1-7cb306c521aa",
   "metadata": {},
   "outputs": [
    {
     "name": "stdout",
     "output_type": "stream",
     "text": [
      "CampusX\n"
     ]
    }
   ],
   "source": [
    "test_dict = {\"CampusX\": [5, 7, 9, 4, 0], \"is\": [6, 7, 4, 3, 3], \"Best\": [9, 9, 6, 5, 5]}\n",
    "max_key = max(test_dict, key=lambda k: len(set(test_dict[k])))\n",
    "print(max_key)"
   ]
  },
  {
   "cell_type": "markdown",
   "id": "e33123d2-3b85-4f47-9cff-0b78077c603e",
   "metadata": {},
   "source": [
    "#### Question 2 "
   ]
  },
  {
   "cell_type": "code",
   "execution_count": 12,
   "id": "16279f9e-92ad-46fe-a929-2ff243ec1184",
   "metadata": {},
   "outputs": [
    {
     "name": "stdout",
     "output_type": "stream",
     "text": [
      "CampusX is the best channel for Data-Science students.\n"
     ]
    }
   ],
   "source": [
    "test_str = 'CampusX best for DS students.'\n",
    "repl_dict = {\"best\": \"is the best channel\", \"DS\": \"Data-Science\"}\n",
    "\n",
    "words = test_str.split()\n",
    "replaced = [repl_dict.get(word, word) for word in words]\n",
    "print(\" \".join(replaced))\n"
   ]
  },
  {
   "cell_type": "markdown",
   "id": "3ccb42e9-7567-40be-9877-b156dabb4016",
   "metadata": {},
   "source": [
    "#### Question 3"
   ]
  },
  {
   "cell_type": "code",
   "execution_count": 13,
   "id": "33ca9410-3f1d-4d8c-8b6c-ba10194018ba",
   "metadata": {},
   "outputs": [
    {
     "name": "stdout",
     "output_type": "stream",
     "text": [
      "[{'name': 'DataScience', 'id': 3}, {'name': 'is', 'id': 8}]\n"
     ]
    }
   ],
   "source": [
    "test_list = [\"DataScience\", 3, \"is\", 8]\n",
    "key_list = [\"name\", \"id\"]\n",
    "res = [{key_list[0]: test_list[i], key_list[1]: test_list[i+1]} for i in range(0, len(test_list), 2)]\n",
    "print(res)\n"
   ]
  },
  {
   "cell_type": "markdown",
   "id": "5ac87484-e785-4444-8043-9598917d1bec",
   "metadata": {},
   "source": [
    "#### Question 4"
   ]
  },
  {
   "cell_type": "code",
   "execution_count": 14,
   "id": "e7ceb1c9-59bf-494f-a2bc-8919907da568",
   "metadata": {},
   "outputs": [
    {
     "name": "stdout",
     "output_type": "stream",
     "text": [
      "{'akash': [10], 'gaurav': [12], 'anand': [14], 'suraj': [20], 'akhil': [25], 'ashish': [30]}\n"
     ]
    }
   ],
   "source": [
    "input_list = [(\"akash\", 10), (\"gaurav\", 12), (\"anand\", 14), (\"suraj\", 20), (\"akhil\", 25), (\"ashish\", 30)]\n",
    "res = {}\n",
    "\n",
    "for key, val in input_list:\n",
    "    if key in res:\n",
    "        res[key].append(val)\n",
    "    else:\n",
    "        res[key] = [val]\n",
    "\n",
    "print(res)\n"
   ]
  },
  {
   "cell_type": "markdown",
   "id": "c50994fc-8dab-4b6e-9b96-6b5f5ada4317",
   "metadata": {},
   "source": [
    "#### Question 5"
   ]
  },
  {
   "cell_type": "code",
   "execution_count": 15,
   "id": "7c757e9c-b716-4575-b739-b52c6aeb5ed3",
   "metadata": {},
   "outputs": [
    {
     "name": "stdout",
     "output_type": "stream",
     "text": [
      "{'a': [4, 19], 'b': [10, 12], 'c': [3]}\n"
     ]
    }
   ],
   "source": [
    "d = {'c': [3], 'b': [12, 10], 'a': [19, 4]}\n",
    "sorted_dict = {k: sorted(v) for k, v in sorted(d.items())}\n",
    "print(sorted_dict)"
   ]
  },
  {
   "cell_type": "code",
   "execution_count": null,
   "id": "772d0b1e-7397-44d3-83cf-1ba74078a752",
   "metadata": {},
   "outputs": [],
   "source": []
  }
 ],
 "metadata": {
  "kernelspec": {
   "display_name": "Python 3 (ipykernel)",
   "language": "python",
   "name": "python3"
  },
  "language_info": {
   "codemirror_mode": {
    "name": "ipython",
    "version": 3
   },
   "file_extension": ".py",
   "mimetype": "text/x-python",
   "name": "python",
   "nbconvert_exporter": "python",
   "pygments_lexer": "ipython3",
   "version": "3.11.3"
  }
 },
 "nbformat": 4,
 "nbformat_minor": 5
}
