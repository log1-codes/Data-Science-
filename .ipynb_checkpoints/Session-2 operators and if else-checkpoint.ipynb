{
 "cells": [
  {
   "cell_type": "code",
   "execution_count": 6,
   "id": "eefb3251-a682-4e69-a16a-0dffcc38a130",
   "metadata": {},
   "outputs": [
    {
     "name": "stdout",
     "output_type": "stream",
     "text": [
      "11\n",
      "-1\n",
      "30\n",
      "0.8333333333333334\n",
      "0\n",
      "1\n",
      "25\n"
     ]
    }
   ],
   "source": [
    "# Arithmatic operators \n",
    "print(5+6)\n",
    "print(5-6)\n",
    "print(5*6)\n",
    "print(5/6)\n",
    "print(5//6) # this is called integer devision\n",
    "print(5%2)\n",
    "print(5**2)#power of operator"
   ]
  },
  {
   "cell_type": "code",
   "execution_count": 7,
   "id": "3f1a4f4b-f62b-47a6-8d7a-b4d5380b7ddd",
   "metadata": {},
   "outputs": [],
   "source": [
    "# Relational Operators "
   ]
  },
  {
   "cell_type": "code",
   "execution_count": 9,
   "id": "013f09e3-663d-46f3-b540-1325eef81c6e",
   "metadata": {},
   "outputs": [
    {
     "name": "stdout",
     "output_type": "stream",
     "text": [
      "False\n",
      "True\n",
      "True\n",
      "True\n",
      "True\n",
      "False\n"
     ]
    }
   ],
   "source": [
    "print(4>5)\n",
    "print(4<5)\n",
    "print(4>=4)\n",
    "print(4<=4)\n",
    "print(4==4)\n",
    "print(4!=4)"
   ]
  },
  {
   "cell_type": "code",
   "execution_count": 11,
   "id": "3525be2e-5a64-435c-b389-bd457a8e815f",
   "metadata": {},
   "outputs": [],
   "source": [
    "#Logical operators (AND , OR , NOT )"
   ]
  },
  {
   "cell_type": "code",
   "execution_count": 13,
   "id": "7436fb1f-a79f-4e6e-92d4-00969873ca55",
   "metadata": {},
   "outputs": [
    {
     "name": "stdout",
     "output_type": "stream",
     "text": [
      "0\n",
      "1\n",
      "False\n"
     ]
    }
   ],
   "source": [
    "print(1 and 0)\n",
    "print(1 or 0)\n",
    "print( not 1)"
   ]
  },
  {
   "cell_type": "code",
   "execution_count": 17,
   "id": "54c686b4-e42b-4814-868e-693061f8159f",
   "metadata": {},
   "outputs": [],
   "source": [
    "# Bitwise Operators (operates on binary number)"
   ]
  },
  {
   "cell_type": "code",
   "execution_count": 23,
   "id": "98c4e6d4-65ef-4dae-95ff-794949802fb3",
   "metadata": {},
   "outputs": [
    {
     "name": "stdout",
     "output_type": "stream",
     "text": [
      "2\n",
      "3\n",
      "1\n",
      "-4\n",
      "1\n",
      "20\n"
     ]
    }
   ],
   "source": [
    "print(2 & 3) #bitwise end operator \n",
    "print(2 | 3) #bitwise or operator\n",
    "print(2 ^ 3) #bitwise exor operation\n",
    "print(~3) #bitwise not operation \n",
    "print(4>>2) #bitwise left side\n",
    "print(5<<2) #bitwise right side "
   ]
  },
  {
   "cell_type": "code",
   "execution_count": 25,
   "id": "3602b64b-f81b-4889-8850-c6e7f1e932cd",
   "metadata": {},
   "outputs": [
    {
     "name": "stdout",
     "output_type": "stream",
     "text": [
      "4\n",
      "0\n"
     ]
    }
   ],
   "source": [
    "# Assignment operators \n",
    "a = 2 \n",
    "a+=2 \n",
    "print(a)\n",
    "a%=2 \n",
    "print(a)"
   ]
  },
  {
   "cell_type": "code",
   "execution_count": 26,
   "id": "5dc668a9-19f9-40b9-b9ac-214659248242",
   "metadata": {},
   "outputs": [],
   "source": [
    "# Membership operators "
   ]
  },
  {
   "cell_type": "code",
   "execution_count": 34,
   "id": "de5751f7-b2e6-4be7-b48a-aad8d2b8e577",
   "metadata": {},
   "outputs": [
    {
     "name": "stdout",
     "output_type": "stream",
     "text": [
      "False\n",
      "True\n",
      "True\n"
     ]
    }
   ],
   "source": [
    "#in/not in\n",
    "print('D' not  in 'Dehli')\n",
    "print('D' in 'Dehli')\n",
    "\n",
    "print(1 in [1,2,3,4,5,6])"
   ]
  },
  {
   "cell_type": "code",
   "execution_count": 40,
   "id": "1d994274-21c5-4c65-9c76-cbe89ea4d15e",
   "metadata": {},
   "outputs": [
    {
     "name": "stdin",
     "output_type": "stream",
     "text": [
      "Enter a 3 digit number 897\n"
     ]
    },
    {
     "name": "stdout",
     "output_type": "stream",
     "text": [
      "24\n"
     ]
    }
   ],
   "source": [
    "#program to find the sum of three digit numbers entered by the user \n",
    "number = int(input(\"Enter a 3 digit number\"))\n",
    "a = number%10\n",
    "number= number//10\n",
    "b= number%10\n",
    "number = number//10 \n",
    "c= number%10\n",
    "print(a+b+c)"
   ]
  },
  {
   "cell_type": "markdown",
   "id": "75a3ff3d-b063-4483-b6aa-0d6a5e019d08",
   "metadata": {},
   "source": [
    "# if-else in python"
   ]
  },
  {
   "cell_type": "code",
   "execution_count": 1,
   "id": "a3cb437c-4c79-41c7-9872-ea3f4d72c74f",
   "metadata": {},
   "outputs": [],
   "source": [
    "#login program and indentation \n",
    "# email --> singhanurag1309@gmail.com\n",
    "#password--> anurag12"
   ]
  },
  {
   "cell_type": "code",
   "execution_count": 3,
   "id": "237d9934-c2df-48e7-bd5f-99ac06fb17a2",
   "metadata": {},
   "outputs": [
    {
     "name": "stdin",
     "output_type": "stream",
     "text": [
      "Enter the email singhanurag1309@gmail.com\n",
      "Enter the password anurag21\n"
     ]
    },
    {
     "name": "stdout",
     "output_type": "stream",
     "text": [
      "incorrect password\n"
     ]
    },
    {
     "name": "stdin",
     "output_type": "stream",
     "text": [
      "enter password again anurag12\n"
     ]
    },
    {
     "name": "stdout",
     "output_type": "stream",
     "text": [
      "welcome finally !! \n"
     ]
    }
   ],
   "source": [
    "email = input(\"Enter the email\")\n",
    "password = input(\"Enter the password\")\n",
    "if(email == \"singhanurag1309@gmail.com\" and password == \"anurag12\"):\n",
    "    print(\"welcome\")\n",
    "elif (email == \"singhanurag1309@gmail.com\" and password != \"anurag12\"):\n",
    "    print('incorrect password')\n",
    "    password = input('enter password again')\n",
    "    if(password == 'anurag12'):\n",
    "        print(\"welcome finally !! \")\n",
    "    else:\n",
    "        print('beta tumse na ho payega')\n",
    "else:\n",
    "    print(\"Invalid Credentials\")"
   ]
  },
  {
   "cell_type": "code",
   "execution_count": 1,
   "id": "092b0b29-1d4e-427e-865b-22f28935c0a3",
   "metadata": {},
   "outputs": [],
   "source": [
    "# minimum of three numbers"
   ]
  },
  {
   "cell_type": "code",
   "execution_count": 6,
   "id": "a89e6f5c-9a4e-4a07-be67-d7f27a218467",
   "metadata": {},
   "outputs": [
    {
     "name": "stdin",
     "output_type": "stream",
     "text": [
      "Enter the first number 2\n",
      "Enter the second number 2\n",
      "Enter the third number 2\n"
     ]
    },
    {
     "name": "stdout",
     "output_type": "stream",
     "text": [
      "smallest is : 2\n"
     ]
    }
   ],
   "source": [
    "a = int(input(\"Enter the first number\"))\n",
    "b = int(input(\"Enter the second number\"))\n",
    "c = int(input(\"Enter the third number\"))\n",
    "if(a<b and a<c):\n",
    "    print('smallest is :', a)\n",
    "elif b<c:\n",
    "    print('smallest is :', b)\n",
    "else:\n",
    "    print('smallest is :', c)"
   ]
  },
  {
   "cell_type": "code",
   "execution_count": 7,
   "id": "cb1d97a2-2911-4b70-b1a5-110f141a1252",
   "metadata": {},
   "outputs": [
    {
     "name": "stdin",
     "output_type": "stream",
     "text": [
      "Enter the first number: 12\n",
      "Enter the second number: 32\n",
      "Enter the operation +\n"
     ]
    },
    {
     "name": "stdout",
     "output_type": "stream",
     "text": [
      "44\n"
     ]
    }
   ],
   "source": [
    "# menu driven program calculator\n",
    "\n",
    "fnum = int(input(\"Enter the first number:\"))\n",
    "snum = int(input(\"Enter the second number:\"))\n",
    "op = input('Enter the operation')\n",
    "if(op == '+'):\n",
    "    print(fnum+snum)\n",
    "elif op == '-':\n",
    "    print(fnum-snum)\n",
    "elif op=='*':\n",
    "    print(fnum*snum)\n",
    "else:\n",
    "    print(fnum / snum)\n"
   ]
  },
  {
   "cell_type": "markdown",
   "id": "21b888f8-eafb-4fcc-b537-0c70ba52096b",
   "metadata": {},
   "source": [
    "# modules in python "
   ]
  },
  {
   "cell_type": "markdown",
   "id": "753e956d-560b-44f7-95f0-08f86cd6b3e3",
   "metadata": {},
   "source": [
    "### math\n",
    "### keywords\n",
    "### dateTime\n",
    "### random"
   ]
  },
  {
   "cell_type": "code",
   "execution_count": 14,
   "id": "332ec9da-5ce6-40d3-8a63-037f22bb3308",
   "metadata": {},
   "outputs": [
    {
     "data": {
      "text/plain": [
       "15.0"
      ]
     },
     "execution_count": 14,
     "metadata": {},
     "output_type": "execute_result"
    }
   ],
   "source": [
    "# math \n",
    "import math \n",
    "math.factorial(5)\n",
    "math.floor(6.4)\n",
    "math.sqrt(225)"
   ]
  },
  {
   "cell_type": "code",
   "execution_count": 15,
   "id": "86b0f10c-4c72-4c49-91c5-c534617224ce",
   "metadata": {},
   "outputs": [
    {
     "name": "stdout",
     "output_type": "stream",
     "text": [
      "['False', 'None', 'True', 'and', 'as', 'assert', 'async', 'await', 'break', 'class', 'continue', 'def', 'del', 'elif', 'else', 'except', 'finally', 'for', 'from', 'global', 'if', 'import', 'in', 'is', 'lambda', 'nonlocal', 'not', 'or', 'pass', 'raise', 'return', 'try', 'while', 'with', 'yield']\n"
     ]
    }
   ],
   "source": [
    "# keyword\n",
    "import keyword \n",
    "print(keyword.kwlist)"
   ]
  },
  {
   "cell_type": "code",
   "execution_count": 16,
   "id": "2e37ce27-e021-4f58-a490-3770f09f3484",
   "metadata": {},
   "outputs": [
    {
     "name": "stdout",
     "output_type": "stream",
     "text": [
      "44\n"
     ]
    }
   ],
   "source": [
    "# random\n",
    "import random\n",
    "print(random.randint(1,100))"
   ]
  },
  {
   "cell_type": "code",
   "execution_count": 18,
   "id": "6fdde640-74d0-44d7-aacd-c5158139dcc5",
   "metadata": {},
   "outputs": [
    {
     "name": "stdout",
     "output_type": "stream",
     "text": [
      "2025-04-11 19:11:47.287362\n"
     ]
    }
   ],
   "source": [
    "#datetime \n",
    "import datetime\n",
    "print(datetime.datetime.now())"
   ]
  },
  {
   "cell_type": "code",
   "execution_count": 20,
   "id": "45c514f2-5430-43dd-8f8e-101c70d93c8b",
   "metadata": {},
   "outputs": [
    {
     "name": "stdout",
     "output_type": "stream",
     "text": [
      "\n",
      "Please wait a moment while I gather a list of all available modules...\n",
      "\n",
      "test_sqlite3: testing with version '2.6.0', sqlite_version '3.40.1'\n"
     ]
    },
    {
     "name": "stderr",
     "output_type": "stream",
     "text": [
      "C:\\Users\\singh\\AppData\\Local\\Programs\\Python\\Python311\\Lib\\site-packages\\_distutils_hack\\__init__.py:33: UserWarning: Setuptools is replacing distutils.\n",
      "  warnings.warn(\"Setuptools is replacing distutils.\")\n"
     ]
    },
    {
     "name": "stdout",
     "output_type": "stream",
     "text": [
      "IPython             bdb                 mailcap             statistics\n",
      "__future__          binascii            markupsafe          string\n",
      "__hello__           bisect              marshal             stringprep\n",
      "__phello__          bleach              math                struct\n",
      "_abc                bs4                 matplotlib_inline   subprocess\n",
      "_aix_support        builtins            mimetypes           sunau\n",
      "_argon2_cffi_bindings bz2                 mistune             symtable\n",
      "_ast                cProfile            mmap                sys\n",
      "_asyncio            calendar            mmapfile            sysconfig\n",
      "_bisect             certifi             mmsystem            tabnanny\n",
      "_blake2             cffi                modulefinder        tarfile\n",
      "_bootsubprocess     cgi                 msilib              telnetlib\n",
      "_bz2                cgitb               msvcrt              tempfile\n",
      "_cffi_backend       charset_normalizer  multiprocessing     terminado\n",
      "_codecs             chunk               nbclient            test\n",
      "_codecs_cn          cmath               nbconvert           textwrap\n",
      "_codecs_hk          cmd                 nbformat            this\n",
      "_codecs_iso2022     code                nest_asyncio        threading\n",
      "_codecs_jp          codecs              netbios             time\n",
      "_codecs_kr          codeop              netrc               timeit\n",
      "_codecs_tw          collections         nntplib             timer\n",
      "_collections        colorama            notebook            tinycss2\n",
      "_collections_abc    colorsys            notebook_shim       tkinter\n",
      "_compat_pickle      comm                nt                  token\n",
      "_compression        commctrl            ntpath              tokenize\n",
      "_contextvars        compileall          ntsecuritycon       tomllib\n",
      "_csv                concurrent          nturl2path          tornado\n",
      "_ctypes             configparser        numbers             trace\n",
      "_ctypes_test        contextlib          numpy               traceback\n",
      "_datetime           contextvars         odbc                tracemalloc\n",
      "_decimal            copy                opcode              traitlets\n",
      "_distutils_hack     copyreg             operator            tty\n",
      "_elementtree        crypt               optparse            turtle\n",
      "_functools          csv                 os                  turtledemo\n",
      "_hashlib            ctypes              overrides           types\n",
      "_heapq              curses              packaging           typing\n",
      "_imp                dataclasses         pandocfilters       typing_extensions\n",
      "_io                 datetime            parso               unicodedata\n",
      "_json               dateutil            pathlib             unittest\n",
      "_locale             dbm                 pdb                 uri_template\n",
      "_lsprof             dde                 perfmon             urllib\n",
      "_lzma               debugpy             pickle              urllib3\n",
      "_markupbase         decimal             pickletools         uu\n",
      "_md5                decorator           pip                 uuid\n",
      "_msi                defusedxml          pipes               venv\n",
      "_multibytecodec     difflib             pkg_resources       warnings\n",
      "_multiprocessing    dis                 pkgutil             wave\n",
      "_opcode             distutils           platform            wcwidth\n",
      "_operator           doctest             platformdirs        weakref\n",
      "_osx_support        email               plistlib            webbrowser\n",
      "_overlapped         encodings           poplib              webcolors\n",
      "_pickle             ensurepip           posixpath           webencodings\n",
      "_py_abc             enum                pprint              websocket\n",
      "_pydecimal          errno               profile             win2kras\n",
      "_pyio               executing           prometheus_client   win32api\n",
      "_queue              fastjsonschema      prompt_toolkit      win32clipboard\n",
      "_random             faulthandler        pstats              win32com\n",
      "_sha1               filecmp             psutil              win32con\n",
      "_sha256             fileinput           pty                 win32console\n",
      "_sha3               fnmatch             pure_eval           win32cred\n",
      "_sha512             fqdn                py_compile          win32crypt\n",
      "_signal             fractions           pyclbr              win32cryptcon\n",
      "_sitebuiltins       ftplib              pycparser           win32event\n",
      "_socket             functools           pydoc               win32evtlog\n",
      "_sqlite3            gc                  pydoc_data          win32evtlogutil\n",
      "_sre                genericpath         pyexpat             win32file\n",
      "_ssl                getopt              pygments            win32gui\n",
      "_stat               getpass             pythoncom           win32gui_struct\n",
      "_statistics         gettext             pythonjsonlogger    win32help\n",
      "_string             glob                pywin               win32inet\n",
      "_strptime           graphlib            pywin32_bootstrap   win32inetcon\n",
      "_struct             gzip                pywin32_testutil    win32job\n",
      "_symtable           h11                 pywintypes          win32lz\n",
      "_testbuffer         hashlib             queue               win32net\n",
      "_testcapi           heapq               quopri              win32netcon\n",
      "_testconsole        hmac                random              win32pdh\n",
      "_testimportmultiple html                rasutil             win32pdhquery\n",
      "_testinternalcapi   http                re                  win32pdhutil\n",
      "_testmultiphase     httpcore            referencing         win32pipe\n",
      "_thread             httpx               regcheck            win32print\n",
      "_threading_local    idlelib             regutil             win32process\n",
      "_tkinter            idna                reprlib             win32profile\n",
      "_tokenize           imaplib             requests            win32ras\n",
      "_tracemalloc        imghdr              rfc3339_validator   win32rcparser\n",
      "_typing             imp                 rfc3986_validator   win32security\n",
      "_uuid               importlib           rlcompleter         win32service\n",
      "_warnings           inspect             rpds                win32serviceutil\n",
      "_weakref            io                  runpy               win32timezone\n",
      "_weakrefset         ipaddress           sched               win32trace\n",
      "_win32sysloader     ipykernel           secrets             win32traceutil\n",
      "_win32verstamp_pywin32ctypes ipykernel_launcher  select              win32transaction\n",
      "_winapi             isapi               selectors           win32ts\n",
      "_winxptheme         isoduration         send2trash          win32ui\n",
      "_xxsubinterpreters  itertools           servicemanager      win32uiole\n",
      "_yaml               jedi                setuptools          win32verstamp\n",
      "_zoneinfo           jinja2              shelve              win32wnet\n",
      "abc                 json                shlex               winerror\n",
      "adodbapi            json5               shutil              winioctlcon\n",
      "afxres              jsonpointer         signal              winnt\n",
      "aifc                jsonschema          site                winperf\n",
      "antigravity         jsonschema_specifications six                 winpty\n",
      "anyio               jupyter             smtpd               winreg\n",
      "argon2              jupyter_client      smtplib             winsound\n",
      "argparse            jupyter_core        sndhdr              winxpgui\n",
      "array               jupyter_events      sniffio             winxptheme\n",
      "arrow               jupyter_lsp         socket              wsgiref\n",
      "ast                 jupyter_server      socketserver        xdrlib\n",
      "asttokens           jupyter_server_terminals soupsieve           xml\n",
      "async_lru           jupyterlab          sqlite3             xmlrpc\n",
      "asynchat            jupyterlab_pygments sre_compile         xxsubtype\n",
      "asyncio             jupyterlab_server   sre_constants       yaml\n",
      "asyncore            keyword             sre_parse           zipapp\n",
      "atexit              lib2to3             ssl                 zipfile\n",
      "attr                linecache           sspi                zipimport\n",
      "attrs               locale              sspicon             zlib\n",
      "audioop             logging             stack_data          zmq\n",
      "babel               lzma                start_pythonwin     zoneinfo\n",
      "base64              mailbox             stat                \n",
      "\n",
      "Enter any module name to get more help.  Or, type \"modules spam\" to search\n",
      "for modules whose name or summary contain the string \"spam\".\n",
      "\n"
     ]
    }
   ],
   "source": [
    "help('modules')"
   ]
  },
  {
   "cell_type": "code",
   "execution_count": 21,
   "id": "6ac9983c-8453-4b1a-805f-39504b9e2147",
   "metadata": {},
   "outputs": [
    {
     "name": "stdout",
     "output_type": "stream",
     "text": [
      "\n",
      "Here is a list of modules whose name or summary contains 'random'.\n",
      "If there are any, enter a module name to get more help.\n",
      "\n",
      "_random - Module implements the Mersenne Twister random number generator.\n",
      "ctypes.test.test_random_things \n",
      "random - Random variable generators.\n",
      "secrets - Generate cryptographically strong pseudo-random numbers suitable for\n",
      "test.test_random \n",
      "numpy.random - ========================\n",
      "numpy.random._bounded_integers \n",
      "numpy.random._common \n",
      "numpy.random._generator \n",
      "numpy.random._mt19937 \n",
      "numpy.random._pcg64 \n",
      "numpy.random._philox \n",
      "numpy.random._pickle \n",
      "numpy.random._sfc64 \n",
      "numpy.random.bit_generator \n",
      "numpy.random.mtrand \n",
      "numpy.random.tests \n",
      "numpy.random.tests.data \n",
      "numpy.random.tests.test_direct \n",
      "numpy.random.tests.test_extending \n",
      "numpy.random.tests.test_generator_mt19937 \n",
      "numpy.random.tests.test_generator_mt19937_regressions \n",
      "numpy.random.tests.test_random \n",
      "numpy.random.tests.test_randomstate \n",
      "numpy.random.tests.test_randomstate_regression \n",
      "numpy.random.tests.test_regression \n",
      "numpy.random.tests.test_seed_sequence \n",
      "numpy.random.tests.test_smoke \n",
      "\n"
     ]
    }
   ],
   "source": [
    "help(\"modules random\")"
   ]
  },
  {
   "cell_type": "markdown",
   "id": "6cd9c6d1-dbed-4663-b695-6037ce0e0f65",
   "metadata": {},
   "source": [
    "# Loops in python"
   ]
  },
  {
   "cell_type": "code",
   "execution_count": 22,
   "id": "499b2cf8-c3c6-4942-8a19-76090f0e8eb0",
   "metadata": {},
   "outputs": [],
   "source": [
    "#while loop\n",
    "#for loop"
   ]
  },
  {
   "cell_type": "code",
   "execution_count": 25,
   "id": "92429cda-a52f-4377-ba47-d814304b72af",
   "metadata": {},
   "outputs": [
    {
     "name": "stdin",
     "output_type": "stream",
     "text": [
      "Enter the number 2\n"
     ]
    },
    {
     "name": "stdout",
     "output_type": "stream",
     "text": [
      "2\n",
      "4\n",
      "6\n",
      "8\n",
      "10\n",
      "12\n",
      "14\n",
      "16\n",
      "18\n",
      "20\n"
     ]
    }
   ],
   "source": [
    "number = int(input(\"Enter the number\"))\n",
    "i =1\n",
    "while(i<=10):\n",
    "    print(number*i)\n",
    "    i =i+1\n",
    "    \n",
    "      "
   ]
  },
  {
   "cell_type": "code",
   "execution_count": 1,
   "id": "843d81c9-15c3-472c-99de-9a061514ea70",
   "metadata": {},
   "outputs": [
    {
     "name": "stdout",
     "output_type": "stream",
     "text": [
      "1\n",
      "2\n",
      "limit crossed\n"
     ]
    }
   ],
   "source": [
    "#while loop with else\n",
    "x =1 \n",
    "while x<3:\n",
    "    print(x)\n",
    "    x+=1\n",
    "\n",
    "else:\n",
    "    print('limit crossed')"
   ]
  },
  {
   "cell_type": "code",
   "execution_count": 3,
   "id": "5831ab85-55ab-4d3c-b5a6-6676f826f948",
   "metadata": {},
   "outputs": [
    {
     "name": "stdin",
     "output_type": "stream",
     "text": [
      "Enter the guess number 34\n"
     ]
    },
    {
     "name": "stdout",
     "output_type": "stream",
     "text": [
      "galat !! guess higher\n"
     ]
    },
    {
     "name": "stdin",
     "output_type": "stream",
     "text": [
      "enter the guess  45\n"
     ]
    },
    {
     "name": "stdout",
     "output_type": "stream",
     "text": [
      "galat !! guess lower\n"
     ]
    },
    {
     "name": "stdin",
     "output_type": "stream",
     "text": [
      "enter the guess  40\n"
     ]
    },
    {
     "name": "stdout",
     "output_type": "stream",
     "text": [
      "galat !! guess lower\n"
     ]
    },
    {
     "name": "stdin",
     "output_type": "stream",
     "text": [
      "enter the guess  39\n"
     ]
    },
    {
     "name": "stdout",
     "output_type": "stream",
     "text": [
      "galat !! guess lower\n"
     ]
    },
    {
     "name": "stdin",
     "output_type": "stream",
     "text": [
      "enter the guess  35\n"
     ]
    },
    {
     "name": "stdout",
     "output_type": "stream",
     "text": [
      "correct guess\n",
      "attempts 5\n"
     ]
    }
   ],
   "source": [
    "#guessing game \n",
    "\n",
    "#generate a random integer between 1 and 100\n",
    "import random\n",
    "jackpot = random.randint(1,100)\n",
    "guess = int(input(\"Enter the guess number\"))\n",
    "counter =1 \n",
    "while(guess != jackpot):\n",
    "    if(guess < jackpot):\n",
    "        print('galat !! guess higher')\n",
    "    else:\n",
    "        print('galat !! guess lower')\n",
    "\n",
    "    guess = int(input('enter the guess '))\n",
    "    counter+=1\n",
    "else:\n",
    "    print('correct guess')\n",
    "    print('attempts', counter)\n",
    "    "
   ]
  },
  {
   "cell_type": "code",
   "execution_count": 5,
   "id": "b0282ed4-8894-46ab-b4a9-97134834e689",
   "metadata": {},
   "outputs": [
    {
     "name": "stdout",
     "output_type": "stream",
     "text": [
      "1\n",
      "2\n",
      "3\n",
      "4\n",
      "5\n",
      "6\n",
      "7\n",
      "8\n",
      "9\n",
      "10\n"
     ]
    }
   ],
   "source": [
    "#for loop\n",
    "\n",
    "for i  in range(1,11):\n",
    "    print(i)"
   ]
  },
  {
   "cell_type": "code",
   "execution_count": 6,
   "id": "edc12002-7176-4707-a641-44ad73c50a94",
   "metadata": {},
   "outputs": [
    {
     "name": "stdout",
     "output_type": "stream",
     "text": [
      "1\n",
      "3\n",
      "5\n",
      "7\n",
      "9\n"
     ]
    }
   ],
   "source": [
    "for i  in range(1,11,2):\n",
    "    print(i)"
   ]
  },
  {
   "cell_type": "code",
   "execution_count": 7,
   "id": "a23ca781-96cf-4fc1-8b22-f7e472381ab2",
   "metadata": {},
   "outputs": [
    {
     "name": "stdout",
     "output_type": "stream",
     "text": [
      "1\n",
      "5\n",
      "9\n"
     ]
    }
   ],
   "source": [
    "for i  in range(1,11 ,4): #third parameter-step size\n",
    "    print(i)   "
   ]
  },
  {
   "cell_type": "code",
   "execution_count": null,
   "id": "3ef8bcc2-a87e-4a9a-a9bd-ec1dad373981",
   "metadata": {},
   "outputs": [],
   "source": []
  }
 ],
 "metadata": {
  "kernelspec": {
   "display_name": "Python 3 (ipykernel)",
   "language": "python",
   "name": "python3"
  },
  "language_info": {
   "codemirror_mode": {
    "name": "ipython",
    "version": 3
   },
   "file_extension": ".py",
   "mimetype": "text/x-python",
   "name": "python",
   "nbconvert_exporter": "python",
   "pygments_lexer": "ipython3",
   "version": "3.11.3"
  }
 },
 "nbformat": 4,
 "nbformat_minor": 5
}
