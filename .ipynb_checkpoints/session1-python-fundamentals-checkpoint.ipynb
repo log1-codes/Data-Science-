{
 "cells": [
  {
   "cell_type": "markdown",
   "id": "511dc32f-20f1-4b88-b8ad-6ff66201ea13",
   "metadata": {},
   "source": [
    "# Python Output"
   ]
  },
  {
   "cell_type": "code",
   "execution_count": 2,
   "id": "2e73534b-a092-48f9-8fa0-13e0eae7a9d8",
   "metadata": {},
   "outputs": [
    {
     "name": "stdout",
     "output_type": "stream",
     "text": [
      "hello Duniya\n"
     ]
    }
   ],
   "source": [
    "#python is a case sensitive language\n",
    "print(\"hello Duniya\")"
   ]
  },
  {
   "cell_type": "code",
   "execution_count": 3,
   "id": "c9a0df56-f097-4922-96d2-1cc8622e942a",
   "metadata": {},
   "outputs": [
    {
     "name": "stdout",
     "output_type": "stream",
     "text": [
      "Anurag Singh\n"
     ]
    }
   ],
   "source": [
    "print(\"Anurag Singh\")"
   ]
  },
  {
   "cell_type": "code",
   "execution_count": 4,
   "id": "d92ee79c-692e-463c-9a92-fb3f8aebf66c",
   "metadata": {},
   "outputs": [
    {
     "name": "stdout",
     "output_type": "stream",
     "text": [
      "7\n"
     ]
    }
   ],
   "source": [
    "print(7)"
   ]
  },
  {
   "cell_type": "code",
   "execution_count": 5,
   "id": "4a38a6f1-d604-4fdb-88dd-2cb2d10a74cb",
   "metadata": {},
   "outputs": [
    {
     "name": "stdout",
     "output_type": "stream",
     "text": [
      "9.0\n"
     ]
    }
   ],
   "source": [
    "print(9.0)"
   ]
  },
  {
   "cell_type": "code",
   "execution_count": 7,
   "id": "a991a548-0dd4-4920-9497-ca826890e923",
   "metadata": {},
   "outputs": [
    {
     "name": "stdout",
     "output_type": "stream",
     "text": [
      "True\n"
     ]
    }
   ],
   "source": [
    "print(True)"
   ]
  },
  {
   "cell_type": "code",
   "execution_count": 9,
   "id": "782aa6e5-e964-4cb1-bc88-ad1b6e7dd294",
   "metadata": {},
   "outputs": [
    {
     "name": "stdout",
     "output_type": "stream",
     "text": [
      "Hello  1 4.5 True\n"
     ]
    }
   ],
   "source": [
    "print('Hello ', 1, 4.5 , True)"
   ]
  },
  {
   "cell_type": "code",
   "execution_count": 10,
   "id": "09336a9a-2a49-4555-851e-25abe4cc2075",
   "metadata": {},
   "outputs": [
    {
     "name": "stdout",
     "output_type": "stream",
     "text": [
      "Hello /1/4.5/True\n"
     ]
    }
   ],
   "source": [
    "print('Hello ', 1, 4.5 , True , sep ='/' )"
   ]
  },
  {
   "cell_type": "code",
   "execution_count": 11,
   "id": "b5019662-e9ba-45c6-8ba1-dadcb791cab2",
   "metadata": {},
   "outputs": [
    {
     "name": "stdout",
     "output_type": "stream",
     "text": [
      "hello\n",
      "world\n"
     ]
    }
   ],
   "source": [
    "print(\"hello\")\n",
    "print(\"world\")"
   ]
  },
  {
   "cell_type": "code",
   "execution_count": 14,
   "id": "5ff9def9-2455-4a1a-976b-3c5c945962c1",
   "metadata": {},
   "outputs": [
    {
     "name": "stdout",
     "output_type": "stream",
     "text": [
      "hello-world\n"
     ]
    }
   ],
   "source": [
    "print('hello' , end ='-')\n",
    "print(\"world\")"
   ]
  },
  {
   "cell_type": "markdown",
   "id": "29589223-7939-44ed-a725-5b2ea1cac7d9",
   "metadata": {},
   "source": [
    "# Data Types "
   ]
  },
  {
   "cell_type": "code",
   "execution_count": 18,
   "id": "68c260ef-24ed-414f-b264-395bb7fc7b3f",
   "metadata": {},
   "outputs": [
    {
     "name": "stdout",
     "output_type": "stream",
     "text": [
      "8\n",
      "1e+308\n",
      "inf\n"
     ]
    }
   ],
   "source": [
    "# Integer \n",
    "print(8)\n",
    "print(1e308)\n",
    "print(1e309) # 1*10^309"
   ]
  },
  {
   "cell_type": "code",
   "execution_count": 20,
   "id": "75c6b228-32d6-4a06-98b3-7f3b2da58efa",
   "metadata": {},
   "outputs": [
    {
     "name": "stdout",
     "output_type": "stream",
     "text": [
      "8.55\n",
      "inf\n"
     ]
    }
   ],
   "source": [
    "#decimal or float \n",
    "print(8.55)\n",
    "print(1.7e309) #infinite , python support up to 1.7e308 "
   ]
  },
  {
   "cell_type": "code",
   "execution_count": 21,
   "id": "430fd7eb-e889-45ac-9b05-a2636d3e725e",
   "metadata": {},
   "outputs": [
    {
     "name": "stdout",
     "output_type": "stream",
     "text": [
      "True\n",
      "False\n"
     ]
    }
   ],
   "source": [
    "#Boolean\n",
    "print(True)\n",
    "print(False)"
   ]
  },
  {
   "cell_type": "code",
   "execution_count": 23,
   "id": "7b284ad5-2c78-490a-977c-b03357f31d6a",
   "metadata": {},
   "outputs": [
    {
     "name": "stdout",
     "output_type": "stream",
     "text": [
      "Hello World\n"
     ]
    }
   ],
   "source": [
    "#Text / String\n",
    "print('Hello World')"
   ]
  },
  {
   "cell_type": "code",
   "execution_count": 24,
   "id": "a4c3b778-ca5e-4faf-afdc-d4af1c286a90",
   "metadata": {},
   "outputs": [
    {
     "name": "stdout",
     "output_type": "stream",
     "text": [
      "(5+6j)\n"
     ]
    }
   ],
   "source": [
    "#complex\n",
    "print(5+6j)"
   ]
  },
  {
   "cell_type": "code",
   "execution_count": 25,
   "id": "df0f9770-e0eb-413d-9441-fb4f2aa32439",
   "metadata": {},
   "outputs": [
    {
     "name": "stdout",
     "output_type": "stream",
     "text": [
      "[1, 2, 3, 4, 5, 6]\n"
     ]
    }
   ],
   "source": [
    "#list /kind of array \n",
    "print([1,2,3,4,5,6])"
   ]
  },
  {
   "cell_type": "code",
   "execution_count": 26,
   "id": "80f31f95-f2bb-492b-9e1c-11fd1572c366",
   "metadata": {},
   "outputs": [
    {
     "name": "stdout",
     "output_type": "stream",
     "text": [
      "(1, 2, 3, 4, 5, 6)\n"
     ]
    }
   ],
   "source": [
    "#Tuple\n",
    "print((1,2,3,4,5,6))"
   ]
  },
  {
   "cell_type": "code",
   "execution_count": 27,
   "id": "ebe06691-f300-4caf-96e5-ec8c4521acc0",
   "metadata": {},
   "outputs": [
    {
     "name": "stdout",
     "output_type": "stream",
     "text": [
      "{1, 2, 3, 4, 5}\n"
     ]
    }
   ],
   "source": [
    "#sets \n",
    "print({1,2,3,4,5})"
   ]
  },
  {
   "cell_type": "code",
   "execution_count": 28,
   "id": "c1b3a5e6-ce01-4fcb-b95b-26c0374bcf3a",
   "metadata": {},
   "outputs": [
    {
     "name": "stdout",
     "output_type": "stream",
     "text": [
      "{'name': 'Anurag', 'gender': 'male', 'weight': 70}\n"
     ]
    }
   ],
   "source": [
    "#dictionary\n",
    "#key value pairs \n",
    "print({'name' :'Anurag' ,'gender':'male' , 'weight':70})"
   ]
  },
  {
   "cell_type": "code",
   "execution_count": 29,
   "id": "512285da-ee64-4118-944b-41cf7c23368b",
   "metadata": {},
   "outputs": [
    {
     "data": {
      "text/plain": [
       "int"
      ]
     },
     "execution_count": 29,
     "metadata": {},
     "output_type": "execute_result"
    }
   ],
   "source": [
    "#type function \n",
    "type(3)"
   ]
  },
  {
   "cell_type": "code",
   "execution_count": 30,
   "id": "e84ec19b-d36f-4d49-86b7-a5585a3a7d31",
   "metadata": {},
   "outputs": [
    {
     "data": {
      "text/plain": [
       "float"
      ]
     },
     "execution_count": 30,
     "metadata": {},
     "output_type": "execute_result"
    }
   ],
   "source": [
    "type(1.2)"
   ]
  },
  {
   "cell_type": "code",
   "execution_count": 31,
   "id": "5f051d36-008f-47aa-89df-9278f731c98d",
   "metadata": {},
   "outputs": [
    {
     "data": {
      "text/plain": [
       "str"
      ]
     },
     "execution_count": 31,
     "metadata": {},
     "output_type": "execute_result"
    }
   ],
   "source": [
    "type('anurag')"
   ]
  },
  {
   "cell_type": "code",
   "execution_count": 32,
   "id": "da088e58-bd9b-4838-950d-cb6b9993bc2e",
   "metadata": {},
   "outputs": [
    {
     "data": {
      "text/plain": [
       "list"
      ]
     },
     "execution_count": 32,
     "metadata": {},
     "output_type": "execute_result"
    }
   ],
   "source": [
    "type([1,2,3,4])"
   ]
  },
  {
   "cell_type": "code",
   "execution_count": 33,
   "id": "2660e0f9-11f9-424d-ae7d-e7beb678ee7a",
   "metadata": {},
   "outputs": [
    {
     "data": {
      "text/plain": [
       "complex"
      ]
     },
     "execution_count": 33,
     "metadata": {},
     "output_type": "execute_result"
    }
   ],
   "source": [
    "type(3+6j)"
   ]
  },
  {
   "cell_type": "markdown",
   "id": "c05d7c1d-53f0-4b19-8a0a-1c3870e9bb61",
   "metadata": {},
   "source": [
    " # 3.Variables"
   ]
  },
  {
   "cell_type": "code",
   "execution_count": 35,
   "id": "144885e6-afcd-4ee8-8479-cdbdc0f644c8",
   "metadata": {},
   "outputs": [],
   "source": [
    "#static vs dynamic typing \n",
    "#static vs Dynamic Binding\n",
    "#stylish declaration techniques"
   ]
  },
  {
   "cell_type": "code",
   "execution_count": 36,
   "id": "47286423-66c4-4f79-be65-b6f2042b40c2",
   "metadata": {},
   "outputs": [
    {
     "name": "stdout",
     "output_type": "stream",
     "text": [
      "anurag\n",
      "11\n"
     ]
    }
   ],
   "source": [
    "name ='anurag' \n",
    "print(name)\n",
    "\n",
    "a = 5 \n",
    "b =6 \n",
    "\n",
    "print(a+b)"
   ]
  },
  {
   "cell_type": "code",
   "execution_count": 38,
   "id": "3d39d05c-fb9d-4302-9b98-01b36aa6fab0",
   "metadata": {},
   "outputs": [],
   "source": [
    "#Dynamic Typing \n",
    "# int a = 5 ; //static typing \n",
    "a = 5 #Dynamic typing"
   ]
  },
  {
   "cell_type": "code",
   "execution_count": 39,
   "id": "bca6cd4b-2845-4988-a5f9-471f3d4575cf",
   "metadata": {},
   "outputs": [
    {
     "name": "stdout",
     "output_type": "stream",
     "text": [
      "5\n",
      "anurag\n"
     ]
    }
   ],
   "source": [
    "#Dynamic Binding \n",
    "a= 5 \n",
    "print(a)\n",
    "a = 'anurag'\n",
    "print(a)\n",
    "\n",
    "\n",
    "#static Binding\n",
    "int a =5 "
   ]
  },
  {
   "cell_type": "code",
   "execution_count": 40,
   "id": "146e8188-7079-4b43-bee6-3bc9f25774b0",
   "metadata": {},
   "outputs": [
    {
     "name": "stdout",
     "output_type": "stream",
     "text": [
      "1 2 3\n"
     ]
    }
   ],
   "source": [
    "a = 1 \n",
    "b= 2\n",
    "c= 3 \n",
    "print(a, b, c) "
   ]
  },
  {
   "cell_type": "code",
   "execution_count": 41,
   "id": "1a2e5ad9-e30c-48ec-8fdc-9de85902bd59",
   "metadata": {},
   "outputs": [
    {
     "name": "stdout",
     "output_type": "stream",
     "text": [
      "1 2 3\n"
     ]
    }
   ],
   "source": [
    "a,b,c = 1,2,3 \n",
    "print(a,b,c)"
   ]
  },
  {
   "cell_type": "code",
   "execution_count": 42,
   "id": "2821ce96-d3cc-416f-9287-6f017855847d",
   "metadata": {},
   "outputs": [
    {
     "name": "stdout",
     "output_type": "stream",
     "text": [
      "5 5 5\n"
     ]
    }
   ],
   "source": [
    "a=  b=c = 5\n",
    "print(a,b,c)"
   ]
  },
  {
   "cell_type": "markdown",
   "id": "4ebafecc-871c-4579-a890-6c28bec92859",
   "metadata": {},
   "source": [
    "# Comments "
   ]
  },
  {
   "cell_type": "code",
   "execution_count": 43,
   "id": "de0e811c-1b89-4639-a9c1-515d006b830e",
   "metadata": {},
   "outputs": [
    {
     "name": "stdout",
     "output_type": "stream",
     "text": [
      "10\n"
     ]
    }
   ],
   "source": [
    "#this is a comment \n",
    "a=  4 \n",
    "b = 6 #like this\n",
    "#second comment \n",
    "print(a+b)"
   ]
  },
  {
   "cell_type": "markdown",
   "id": "f54b1954-75b6-4839-b01f-c5bdb60ed312",
   "metadata": {},
   "source": [
    "# keywords and identifiers"
   ]
  },
  {
   "cell_type": "code",
   "execution_count": 2,
   "id": "4826d244-978d-438e-9606-d247c508cea4",
   "metadata": {},
   "outputs": [],
   "source": [
    "# Keywords \n"
   ]
  },
  {
   "cell_type": "code",
   "execution_count": 3,
   "id": "46a8ab80-7056-4d20-ba76-e1e658b8e35d",
   "metadata": {},
   "outputs": [
    {
     "name": "stdout",
     "output_type": "stream",
     "text": [
      "anurag\n",
      "anurag\n",
      "anurag\n"
     ]
    }
   ],
   "source": [
    "#Indentifiers \n",
    "#you can not start with a digit \n",
    "# 1name --> wrong\n",
    "name1= \"anurag\"\n",
    "print(name1)\n",
    "#you can use special characters \n",
    "first_name = 'anurag' \n",
    "print(first_name)\n",
    "#first-name -->error \n",
    "_ = 'anurag' # it is allowed \n",
    "print(_)\n",
    "\n",
    "#identifiers can not be keyword (reserved keywords)"
   ]
  },
  {
   "cell_type": "markdown",
   "id": "37dac808-32fa-4831-a56f-6a532497baf6",
   "metadata": {},
   "source": [
    "# User Input"
   ]
  },
  {
   "cell_type": "code",
   "execution_count": 4,
   "id": "59960c89-ccc1-418d-9fab-946473330a6d",
   "metadata": {},
   "outputs": [],
   "source": [
    "#static VS Dynamic softwares \n",
    "# static -- calender , blogging site (which gives only info )\n",
    "# dynamic -- youtube(have to search) ola (have to book ride)"
   ]
  },
  {
   "cell_type": "code",
   "execution_count": 7,
   "id": "9e6b9f7f-4033-432a-ba7c-d1a416325b3e",
   "metadata": {},
   "outputs": [
    {
     "name": "stdin",
     "output_type": "stream",
     "text": [
      "Enter your name anurag\n"
     ]
    },
    {
     "data": {
      "text/plain": [
       "'anurag'"
      ]
     },
     "execution_count": 7,
     "metadata": {},
     "output_type": "execute_result"
    }
   ],
   "source": [
    "input('Enter your name' )"
   ]
  },
  {
   "cell_type": "code",
   "execution_count": 11,
   "id": "1f1c8bff-fbe1-48a3-8af7-69835b43b84d",
   "metadata": {},
   "outputs": [
    {
     "name": "stdin",
     "output_type": "stream",
     "text": [
      "Enter the first number 21\n",
      "Enter second number 21\n"
     ]
    },
    {
     "name": "stdout",
     "output_type": "stream",
     "text": [
      "<class 'str'> <class 'str'>\n",
      "2121\n"
     ]
    }
   ],
   "source": [
    "#take input from users and store them in a variable\n",
    "fnum = input(\"Enter the first number\")\n",
    "snum = input(\"Enter second number\") \n",
    "print(type(fnum) , type(snum))\n",
    "#add the 2 variables \n",
    "result = fnum + snum;\n",
    "#print the result\n",
    "print(result)"
   ]
  },
  {
   "cell_type": "markdown",
   "id": "7575823e-b963-4c2d-b24c-db0365f55a38",
   "metadata": {},
   "source": [
    "# type conversion "
   ]
  },
  {
   "cell_type": "code",
   "execution_count": 16,
   "id": "11384e42-b98c-4211-be9c-b4534d3bcc5a",
   "metadata": {},
   "outputs": [
    {
     "name": "stdout",
     "output_type": "stream",
     "text": [
      "10.6\n",
      "<class 'int'> <class 'float'>\n"
     ]
    },
    {
     "data": {
      "text/plain": [
       "int"
      ]
     },
     "execution_count": 16,
     "metadata": {},
     "output_type": "execute_result"
    }
   ],
   "source": [
    "#implicit vs explicit \n",
    "# implicit --> interpreter do on his own\n",
    "print(5+5.6)\n",
    "print(type(5) , type(5.6)) #both are of diff data type but it gives result in place of error\n",
    "\n",
    "# print(4 + '4') here it give error \n",
    "# explicit --> human has to convert it from one to another\n",
    "\n",
    "#str --> integer \n",
    "\n",
    "int('4')\n",
    "type(int('4'))\n",
    "# int(4+5j) here it gives error"
   ]
  },
  {
   "cell_type": "code",
   "execution_count": 19,
   "id": "bbdb90f3-486a-4ef6-b9d6-96ba31190bdf",
   "metadata": {},
   "outputs": [
    {
     "data": {
      "text/plain": [
       "4.0"
      ]
     },
     "execution_count": 19,
     "metadata": {},
     "output_type": "execute_result"
    }
   ],
   "source": [
    "#int to string\n",
    "type(str(4))\n",
    "#float\n",
    "float(4)"
   ]
  },
  {
   "cell_type": "code",
   "execution_count": 22,
   "id": "d1568445-f9c2-466b-81c4-78d1dc8a2262",
   "metadata": {},
   "outputs": [
    {
     "name": "stdin",
     "output_type": "stream",
     "text": [
      "Enter the first number 12\n",
      "Enter second number 12\n"
     ]
    },
    {
     "name": "stdout",
     "output_type": "stream",
     "text": [
      "24\n",
      "<class 'str'>\n"
     ]
    }
   ],
   "source": [
    "#take input from users and store them in a variable\n",
    "fnum = input(\"Enter the first number\")\n",
    "snum = input(\"Enter second number\") \n",
    "\n",
    "#add the 2 variables \n",
    "result = int(fnum) + int(snum); #type conversion\n",
    "#print the result\n",
    "print(result)\n",
    "print(type(fnum)) #string"
   ]
  },
  {
   "cell_type": "code",
   "execution_count": 23,
   "id": "b649da31-6394-4135-8bd6-65485524d45b",
   "metadata": {},
   "outputs": [],
   "source": [
    "# type conversion in python does not changes the real value , it creates a new value "
   ]
  },
  {
   "cell_type": "markdown",
   "id": "c8a0f6e5-615a-40d0-b7c8-37a92af5c0fa",
   "metadata": {},
   "source": [
    "# literals"
   ]
  },
  {
   "cell_type": "code",
   "execution_count": 24,
   "id": "09297e0a-3b6e-45c7-b3f8-e36d829801bb",
   "metadata": {},
   "outputs": [
    {
     "name": "stdout",
     "output_type": "stream",
     "text": [
      "10 100 200 300\n",
      "10.5 150.0 0.0015\n",
      "3.14j 3.14 0.0\n"
     ]
    }
   ],
   "source": [
    "a = 0b1010 #Binary Literals\n",
    "b = 100 #Decimal Literal \n",
    "c = 0o310 #Octal Literal\n",
    "d = 0x12c #Hexadecimal Literal\n",
    "\n",
    "#Float Literal\n",
    "float_1 = 10.5 \n",
    "float_2 = 1.5e2 # 1.5 * 10^2\n",
    "float_3 = 1.5e-3 # 1.5 * 10^-3\n",
    "\n",
    "#Complex Literal \n",
    "x = 3.14j\n",
    "\n",
    "print(a, b, c, d)\n",
    "print(float_1, float_2,float_3)\n",
    "print(x, x.imag, x.real)"
   ]
  },
  {
   "cell_type": "code",
   "execution_count": 25,
   "id": "ddcce1bb-f83b-4244-8d31-5fb36e41f1ca",
   "metadata": {},
   "outputs": [
    {
     "name": "stdout",
     "output_type": "stream",
     "text": [
      "12.0 3.0\n"
     ]
    }
   ],
   "source": [
    "x = 3+12j \n",
    "print(x.imag , x.real)"
   ]
  },
  {
   "cell_type": "markdown",
   "id": "5f258a8a-dc83-4a2e-be48-aa109be78ece",
   "metadata": {},
   "source": [
    "# strings in python "
   ]
  },
  {
   "cell_type": "code",
   "execution_count": 26,
   "id": "b9df1f28-fb80-4e02-85f9-b160f25bee9d",
   "metadata": {},
   "outputs": [
    {
     "name": "stdout",
     "output_type": "stream",
     "text": [
      "This is Python\n",
      "This is Python\n",
      "C\n",
      "This is a multiline string with more than one line code.\n",
      "😀😆🤣\n",
      "raw \\n string\n"
     ]
    }
   ],
   "source": [
    "string = 'This is Python'\n",
    "strings = \"This is Python\"\n",
    "char = \"C\"\n",
    "multiline_str = \"\"\"This is a multiline string with more than one line code.\"\"\"\n",
    "unicode = u\"\\U0001f600\\U0001F606\\U0001F923\"\n",
    "raw_str = r\"raw \\n string\"\n",
    "\n",
    "print(string)\n",
    "print(strings)\n",
    "print(char)\n",
    "print(multiline_str)\n",
    "print(unicode)\n",
    "print(raw_str)"
   ]
  },
  {
   "cell_type": "code",
   "execution_count": 27,
   "id": "df6cb6ee-3fea-48d5-aa30-8bfdadd0c89f",
   "metadata": {},
   "outputs": [
    {
     "name": "stdout",
     "output_type": "stream",
     "text": [
      "a: 5\n",
      "b: 10\n"
     ]
    }
   ],
   "source": [
    "a = True + 4\n",
    "b = False + 10\n",
    "\n",
    "print(\"a:\", a)\n",
    "print(\"b:\", b)"
   ]
  },
  {
   "cell_type": "code",
   "execution_count": 30,
   "id": "a5f2e4e7-fc18-46d7-83d0-edb1f52bb7af",
   "metadata": {},
   "outputs": [
    {
     "name": "stdout",
     "output_type": "stream",
     "text": [
      "None\n"
     ]
    }
   ],
   "source": [
    "a = None \n",
    "print(a)"
   ]
  },
  {
   "cell_type": "code",
   "execution_count": 28,
   "id": "9426592c-6368-4689-b0d6-434d9693e979",
   "metadata": {},
   "outputs": [
    {
     "name": "stdout",
     "output_type": "stream",
     "text": [
      "Program exe\n"
     ]
    }
   ],
   "source": [
    "k = None\n",
    "a = 5\n",
    "b = 6\n",
    "print('Program exe')"
   ]
  },
  {
   "cell_type": "markdown",
   "id": "19fb68a8-84a7-4214-9282-e09023f6d659",
   "metadata": {},
   "source": [
    "# Operators "
   ]
  },
  {
   "cell_type": "code",
   "execution_count": 29,
   "id": "0e111e58-3f3e-4ec3-b9f7-2d0c5d304718",
   "metadata": {},
   "outputs": [],
   "source": [
    "# Arithmetic\n",
    "# Relational\n",
    "# Logical\n",
    "# Bitwise\n",
    "# Assignment\n",
    "# Membership"
   ]
  },
  {
   "cell_type": "code",
   "execution_count": 31,
   "id": "9d6d8428-3fe8-43e6-b88b-6278c773e9fb",
   "metadata": {},
   "outputs": [],
   "source": [
    "# session-1-tasks "
   ]
  },
  {
   "cell_type": "code",
   "execution_count": 40,
   "id": "fb8bc694-cacb-4b4a-b197-e4cfcaf13dce",
   "metadata": {},
   "outputs": [],
   "source": [
    "# Ques1"
   ]
  },
  {
   "cell_type": "code",
   "execution_count": 41,
   "id": "9f406a22-d96b-47df-942b-64ab3e12ad4c",
   "metadata": {},
   "outputs": [
    {
     "name": "stdout",
     "output_type": "stream",
     "text": [
      "Data-Science-Mentorship-Program-Started-by-campusX\n"
     ]
    }
   ],
   "source": [
    "print(\"Data\" ,\"Science\" , \"Mentorship\" , \"Program\"  ,\"Started\" ,\"by\" ,\"campusX\" , sep='-')"
   ]
  },
  {
   "cell_type": "code",
   "execution_count": 48,
   "id": "f1b960b0-4392-4805-821b-fc645db7384f",
   "metadata": {},
   "outputs": [],
   "source": [
    "# ques 2"
   ]
  },
  {
   "cell_type": "code",
   "execution_count": 49,
   "id": "a0d4a9aa-4a9e-457e-aa9e-f991fd9620b1",
   "metadata": {},
   "outputs": [
    {
     "name": "stdout",
     "output_type": "stream",
     "text": [
      "91.4\n"
     ]
    }
   ],
   "source": [
    "celcius = 33\n",
    "fahrenheit = (celcius * 9/5) + 32\n",
    "print(fahrenheit)"
   ]
  },
  {
   "cell_type": "code",
   "execution_count": 54,
   "id": "75550506-a8ca-4de2-abd5-db5d97973723",
   "metadata": {},
   "outputs": [],
   "source": [
    "# Ques 3"
   ]
  },
  {
   "cell_type": "code",
   "execution_count": 55,
   "id": "91803109-4e1e-4c1c-b062-bf36f1028713",
   "metadata": {},
   "outputs": [
    {
     "name": "stdin",
     "output_type": "stream",
     "text": [
      "Enter the first number 121\n",
      "Enter the second number 21\n"
     ]
    },
    {
     "name": "stdout",
     "output_type": "stream",
     "text": [
      "value of a  is : 21\n",
      "value of b is : 121\n"
     ]
    }
   ],
   "source": [
    "a = int(input(\"Enter the first number\"))\n",
    "b = int(input(\"Enter the second number\"))\n",
    "c = None\n",
    "c =a\n",
    "a= b\n",
    "b = c\n",
    "print(\"value of a  is :\" ,  a)\n",
    "print(\"value of b is :\" ,b)"
   ]
  },
  {
   "cell_type": "code",
   "execution_count": 56,
   "id": "d33db20b-08c7-4760-b8e2-756b79cace78",
   "metadata": {},
   "outputs": [],
   "source": [
    "# Ques 4 "
   ]
  },
  {
   "cell_type": "code",
   "execution_count": 57,
   "id": "3e8d0f1a-e03c-4b10-89b3-420292764240",
   "metadata": {},
   "outputs": [
    {
     "name": "stdin",
     "output_type": "stream",
     "text": [
      "Enter the first coordinate of point x 2\n",
      "Enter the second coordinate of point x 4\n",
      "Enter the first coordinate of point x 3\n",
      "Enter the second coordinate of point y 7\n"
     ]
    },
    {
     "name": "stdout",
     "output_type": "stream",
     "text": [
      " euclidean distance : 3.1622776601683795\n"
     ]
    }
   ],
   "source": [
    "a1 = int(input(\"Enter the first coordinate of point x\"))\n",
    "b1 = int(input(\"Enter the second coordinate of point x\"))\n",
    "a2 = int(input(\"Enter the first coordinate of point x\"))\n",
    "b2 = int(input(\"Enter the second coordinate of point y\"))\n",
    "d = ((a2-a1)**2 + (b2 - b1)**2)**0.5 \n",
    "print(\" euclidean distance :\" ,d)"
   ]
  },
  {
   "cell_type": "code",
   "execution_count": 60,
   "id": "cfe635f3-3477-4306-a4a2-03ff582961a6",
   "metadata": {},
   "outputs": [
    {
     "name": "stdin",
     "output_type": "stream",
     "text": [
      "Enter the value of principal amount 100\n",
      "Enter the second interest Rate  21\n",
      "Enter the time period 21\n"
     ]
    },
    {
     "name": "stdout",
     "output_type": "stream",
     "text": [
      "441.0\n"
     ]
    }
   ],
   "source": [
    "P = int(input(\"Enter the value of principal amount\"))\n",
    "R= int(input(\"Enter the second interest Rate \"))\n",
    "T = int(input(\"Enter the time period\"))\n",
    "interest = (P*R*T)/100\n",
    "print( interest) "
   ]
  },
  {
   "cell_type": "code",
   "execution_count": 61,
   "id": "453c180a-9697-43d1-ac2d-9af4a1efd300",
   "metadata": {},
   "outputs": [
    {
     "name": "stdin",
     "output_type": "stream",
     "text": [
      "Enter the number of heads:  4\n",
      "Enter the number of legs:  12\n"
     ]
    },
    {
     "name": "stdout",
     "output_type": "stream",
     "text": [
      "Dogs: 2, Chickens: 2\n"
     ]
    }
   ],
   "source": [
    "#Ques 6 \n",
    "# Input the number of heads and legs\n",
    "heads = int(input(\"Enter the number of heads: \"))\n",
    "legs = int(input(\"Enter the number of legs: \"))\n",
    "\n",
    "# Calculate the number of dogs and chickens\n",
    "dogs = (legs - 2 * heads) / 2\n",
    "chickens = heads - dogs\n",
    "\n",
    "# Check if the solution is valid\n",
    "if dogs.is_integer() and chickens.is_integer() and dogs >= 0 and chickens >= 0:\n",
    "    print(f\"Dogs: {int(dogs)}, Chickens: {int(chickens)}\")\n",
    "else:\n",
    "    print(\"No solution\")\n"
   ]
  },
  {
   "cell_type": "code",
   "execution_count": 62,
   "id": "65bb82f4-cd32-47d6-bbf3-6caaf343218c",
   "metadata": {},
   "outputs": [],
   "source": [
    "#Ques 7 "
   ]
  },
  {
   "cell_type": "code",
   "execution_count": 63,
   "id": "4851797e-e677-416f-8226-6f82fd6ff43a",
   "metadata": {},
   "outputs": [
    {
     "name": "stdin",
     "output_type": "stream",
     "text": [
      "Enter the value of n:  21\n"
     ]
    },
    {
     "name": "stdout",
     "output_type": "stream",
     "text": [
      "The sum of squares of the first {n} natural numbers is: 3311\n"
     ]
    }
   ],
   "source": [
    "n = int(input(\"Enter the value of n: \"))\n",
    "\n",
    "sum_of_squares = (n * (n + 1) * (2 * n + 1)) // 6\n",
    "\n",
    "print(\"The sum of squares of the first {n} natural numbers is:\" ,  sum_of_squares)"
   ]
  },
  {
   "cell_type": "code",
   "execution_count": 64,
   "id": "a6e06297-8476-49c6-b65a-20b49526051c",
   "metadata": {},
   "outputs": [],
   "source": [
    "# Ques 8 "
   ]
  },
  {
   "cell_type": "code",
   "execution_count": 65,
   "id": "979ea06b-1d9c-4b68-9491-1ffdbb7346ab",
   "metadata": {},
   "outputs": [
    {
     "name": "stdin",
     "output_type": "stream",
     "text": [
      "Enter the first term (T1):  1\n",
      "Enter the second term (T2):  4\n",
      "Enter the position N of the term you want to find:  5\n"
     ]
    },
    {
     "name": "stdout",
     "output_type": "stream",
     "text": [
      "The {N}-th term of the Arithmetic Series is: 13\n"
     ]
    }
   ],
   "source": [
    "# Input the first and second terms, and the position of the term N\n",
    "T1 = int(input(\"Enter the first term (T1): \"))\n",
    "T2 = int(input(\"Enter the second term (T2): \"))\n",
    "N = int(input(\"Enter the position N of the term you want to find: \"))\n",
    "\n",
    "# Step 1: Calculate the common difference\n",
    "d = T2 - T1\n",
    "\n",
    "# Step 2: Calculate the N-th term\n",
    "T_N = T1 + (N - 1) * d\n",
    "\n",
    "# Output the N-th term\n",
    "print(\"The {N}-th term of the Arithmetic Series is:\" , T_N)"
   ]
  },
  {
   "cell_type": "code",
   "execution_count": null,
   "id": "8a71c5b3-6d7a-41e8-b948-b5266d61be8b",
   "metadata": {},
   "outputs": [],
   "source": [
    "#Ques 9 "
   ]
  },
  {
   "cell_type": "code",
   "execution_count": 67,
   "id": "8eba9e50-ca84-4284-8f4e-49f99bf587fb",
   "metadata": {},
   "outputs": [
    {
     "name": "stdin",
     "output_type": "stream",
     "text": [
      "Enter the numerator of the first fraction:  1\n",
      "Enter the denominator of the first fraction:  2\n",
      "Enter the numerator of the second fraction:  1\n",
      "Enter the denominator of the second fraction:  3\n"
     ]
    },
    {
     "name": "stdout",
     "output_type": "stream",
     "text": [
      "The sum of the fractions is: 5/6\n"
     ]
    }
   ],
   "source": [
    "import math\n",
    "\n",
    "# Input the numerators and denominators of the two fractions\n",
    "numerator1 = int(input(\"Enter the numerator of the first fraction: \"))\n",
    "denominator1 = int(input(\"Enter the denominator of the first fraction: \"))\n",
    "numerator2 = int(input(\"Enter the numerator of the second fraction: \"))\n",
    "denominator2 = int(input(\"Enter the denominator of the second fraction: \"))\n",
    "\n",
    "# Step 1: Find the sum of the two fractions\n",
    "numerator_sum = (numerator1 * denominator2) + (numerator2 * denominator1)\n",
    "denominator_sum = denominator1 * denominator2\n",
    "\n",
    "# Step 2: Simplify the resulting fraction by finding the GCD\n",
    "gcd = math.gcd(numerator_sum, denominator_sum)\n",
    "\n",
    "# Step 3: Simplify the fraction\n",
    "numerator_sum //= gcd\n",
    "denominator_sum //= gcd\n",
    "\n",
    "# Output the result\n",
    "print(f\"The sum of the fractions is: {numerator_sum}/{denominator_sum}\")\n"
   ]
  },
  {
   "cell_type": "code",
   "execution_count": 68,
   "id": "9fcd467a-4595-4cf0-a781-a88336728090",
   "metadata": {},
   "outputs": [],
   "source": [
    "#Ques 10 "
   ]
  },
  {
   "cell_type": "code",
   "execution_count": 69,
   "id": "609a0996-832a-4aed-a3eb-e7de6fc04c61",
   "metadata": {},
   "outputs": [
    {
     "name": "stdin",
     "output_type": "stream",
     "text": [
      "Enter the height of the milk tank in cm:  20\n",
      "Enter the length of the milk tank in cm:  20\n",
      "Enter the breadth of the milk tank in cm:  20\n",
      "Enter the height of the glass in cm:  3\n",
      "Enter the radius of the glass in cm:  1\n"
     ]
    },
    {
     "name": "stdout",
     "output_type": "stream",
     "text": [
      "Number of glasses of milk that can be obtained: 848\n"
     ]
    }
   ],
   "source": [
    "import math\n",
    "\n",
    "# Input dimensions of the milk tank\n",
    "H = float(input(\"Enter the height of the milk tank in cm: \"))\n",
    "L = float(input(\"Enter the length of the milk tank in cm: \"))\n",
    "B = float(input(\"Enter the breadth of the milk tank in cm: \"))\n",
    "\n",
    "# Input dimensions of the glass\n",
    "h = float(input(\"Enter the height of the glass in cm: \"))\n",
    "r = float(input(\"Enter the radius of the glass in cm: \"))\n",
    "\n",
    "# Step 1: Calculate the volume of the milk tank\n",
    "V_tank = H * L * B\n",
    "\n",
    "# Step 2: Calculate the volume of one glass (cylindrical shape)\n",
    "V_glass = math.pi * (r**2) * h\n",
    "\n",
    "# Step 3: Calculate the number of glasses\n",
    "num_glasses = V_tank / V_glass\n",
    "\n",
    "# Output the result\n",
    "print(f\"Number of glasses of milk that can be obtained: {int(num_glasses)}\")\n"
   ]
  },
  {
   "cell_type": "code",
   "execution_count": null,
   "id": "632d7a01-fd73-440b-b672-f3ed77764556",
   "metadata": {},
   "outputs": [],
   "source": []
  }
 ],
 "metadata": {
  "kernelspec": {
   "display_name": "Python 3 (ipykernel)",
   "language": "python",
   "name": "python3"
  },
  "language_info": {
   "codemirror_mode": {
    "name": "ipython",
    "version": 3
   },
   "file_extension": ".py",
   "mimetype": "text/x-python",
   "name": "python",
   "nbconvert_exporter": "python",
   "pygments_lexer": "ipython3",
   "version": "3.11.3"
  }
 },
 "nbformat": 4,
 "nbformat_minor": 5
}
