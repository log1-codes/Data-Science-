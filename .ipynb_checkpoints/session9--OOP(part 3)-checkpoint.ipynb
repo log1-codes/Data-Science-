{
 "cells": [
  {
   "cell_type": "markdown",
   "id": "7f0fec5b-5436-465e-b8b2-3f8f93950027",
   "metadata": {},
   "source": [
    "## Aggregation (Has-A relationship)"
   ]
  },
  {
   "cell_type": "code",
   "execution_count": 9,
   "id": "d6860b5d-e2de-43c4-bb9d-b507cd7743bf",
   "metadata": {},
   "outputs": [
    {
     "name": "stdout",
     "output_type": "stream",
     "text": [
      "Agra 202322 uttarPradesh\n"
     ]
    }
   ],
   "source": [
    "#example \n",
    "class Customer :\n",
    "    def __init__(self , name , gender , address):\n",
    "        self.name = name \n",
    "        self.gender = gender\n",
    "        self.address = address\n",
    "    def print_address(self):\n",
    "        print(self.address.get_city() , self.address.pin,self.address.state)\n",
    "\n",
    "class Address:\n",
    "    def __init__(self , city , pin , state):\n",
    "        self.__city = city \n",
    "        self.pin = pin \n",
    "        self.state = state \n",
    "    def get_city(self):  ## getter defined to access private variable \n",
    "        return self.__city\n",
    "add1 = Address('Agra',202322 , 'uttarPradesh')\n",
    "cust = Customer('Anurag','male' , add1) #aggregation --> ek object bheja gya dusre class se dusre class me\n",
    "cust.print_address()"
   ]
  },
  {
   "cell_type": "code",
   "execution_count": null,
   "id": "83b29c1b-9305-42a3-a3d2-5dd370a83ced",
   "metadata": {},
   "outputs": [],
   "source": []
  }
 ],
 "metadata": {
  "kernelspec": {
   "display_name": "Python 3 (ipykernel)",
   "language": "python",
   "name": "python3"
  },
  "language_info": {
   "codemirror_mode": {
    "name": "ipython",
    "version": 3
   },
   "file_extension": ".py",
   "mimetype": "text/x-python",
   "name": "python",
   "nbconvert_exporter": "python",
   "pygments_lexer": "ipython3",
   "version": "3.11.3"
  }
 },
 "nbformat": 4,
 "nbformat_minor": 5
}
