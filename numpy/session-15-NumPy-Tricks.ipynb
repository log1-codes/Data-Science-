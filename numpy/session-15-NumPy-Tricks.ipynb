{
 "cells": [
  {
   "cell_type": "code",
   "execution_count": 1,
   "id": "7b83bb20",
   "metadata": {},
   "outputs": [
    {
     "name": "stdout",
     "output_type": "stream",
     "text": [
      "[31 30 75 80 48 33  1 73 11 89 16 71 31 15 73]\n"
     ]
    }
   ],
   "source": [
    "# np.sort() --> return the sorted array \n",
    "\n",
    "import numpy as np \n",
    "\n",
    "a = np.random.randint(1,100,15)\n",
    "print(a)"
   ]
  },
  {
   "cell_type": "code",
   "execution_count": 2,
   "id": "04596e9c",
   "metadata": {},
   "outputs": [
    {
     "name": "stdout",
     "output_type": "stream",
     "text": [
      "[[35 78 25  7]\n",
      " [56 66 84 87]\n",
      " [35 45 67 38]\n",
      " [47  3 23 17]\n",
      " [21 95 99 43]\n",
      " [46 86 42 22]]\n"
     ]
    }
   ],
   "source": [
    "b = np.random.randint(1,100,24).reshape(6,4)\n",
    "print(b)"
   ]
  },
  {
   "cell_type": "code",
   "execution_count": 3,
   "id": "48c4e327",
   "metadata": {},
   "outputs": [
    {
     "name": "stdout",
     "output_type": "stream",
     "text": [
      "[ 1 11 15 16 30 31 31 33 48 71 73 73 75 80 89] --> sorted Array\n"
     ]
    }
   ],
   "source": [
    "print(np.sort(a),\"--> sorted Array\")"
   ]
  },
  {
   "cell_type": "code",
   "execution_count": 4,
   "id": "85c69110",
   "metadata": {},
   "outputs": [
    {
     "data": {
      "text/plain": [
       "array([[ 7, 25, 35, 78],\n",
       "       [56, 66, 84, 87],\n",
       "       [35, 38, 45, 67],\n",
       "       [ 3, 17, 23, 47],\n",
       "       [21, 43, 95, 99],\n",
       "       [22, 42, 46, 86]], dtype=int32)"
      ]
     },
     "execution_count": 4,
     "metadata": {},
     "output_type": "execute_result"
    }
   ],
   "source": [
    "np.sort(b) #default sorted by row "
   ]
  },
  {
   "cell_type": "code",
   "execution_count": 5,
   "id": "c5592b29",
   "metadata": {},
   "outputs": [
    {
     "data": {
      "text/plain": [
       "array([[21,  3, 23,  7],\n",
       "       [35, 45, 25, 17],\n",
       "       [35, 66, 42, 22],\n",
       "       [46, 78, 67, 38],\n",
       "       [47, 86, 84, 43],\n",
       "       [56, 95, 99, 87]], dtype=int32)"
      ]
     },
     "execution_count": 5,
     "metadata": {},
     "output_type": "execute_result"
    }
   ],
   "source": [
    "np.sort(b , axis=0) # sorted by column"
   ]
  },
  {
   "cell_type": "code",
   "execution_count": 6,
   "id": "5029a9c3",
   "metadata": {},
   "outputs": [
    {
     "data": {
      "text/plain": [
       "array([89, 80, 75, 73, 73, 71, 48, 33, 31, 31, 30, 16, 15, 11,  1],\n",
       "      dtype=int32)"
      ]
     },
     "execution_count": 6,
     "metadata": {},
     "output_type": "execute_result"
    }
   ],
   "source": [
    "np.sort(a)[::-1] # sort in decreasing order"
   ]
  },
  {
   "cell_type": "code",
   "execution_count": 7,
   "id": "b5760dc0",
   "metadata": {},
   "outputs": [],
   "source": [
    "# np.append() --> appends values along the mentioned axis at the end of the array\n"
   ]
  },
  {
   "cell_type": "code",
   "execution_count": 8,
   "id": "a407a706",
   "metadata": {},
   "outputs": [
    {
     "name": "stdout",
     "output_type": "stream",
     "text": [
      "[31 30 75 80 48 33  1 73 11 89 16 71 31 15 73]\n"
     ]
    },
    {
     "data": {
      "text/plain": [
       "array([ 31,  30,  75,  80,  48,  33,   1,  73,  11,  89,  16,  71,  31,\n",
       "        15,  73, 200])"
      ]
     },
     "execution_count": 8,
     "metadata": {},
     "output_type": "execute_result"
    }
   ],
   "source": [
    "print(a)\n",
    "np.append(a,200)"
   ]
  },
  {
   "cell_type": "code",
   "execution_count": 9,
   "id": "dc0f4371",
   "metadata": {},
   "outputs": [
    {
     "name": "stdout",
     "output_type": "stream",
     "text": [
      "[[35 78 25  7]\n",
      " [56 66 84 87]\n",
      " [35 45 67 38]\n",
      " [47  3 23 17]\n",
      " [21 95 99 43]\n",
      " [46 86 42 22]]\n"
     ]
    },
    {
     "data": {
      "text/plain": [
       "array([[35., 78., 25.,  7.,  1.],\n",
       "       [56., 66., 84., 87.,  1.],\n",
       "       [35., 45., 67., 38.,  1.],\n",
       "       [47.,  3., 23., 17.,  1.],\n",
       "       [21., 95., 99., 43.,  1.],\n",
       "       [46., 86., 42., 22.,  1.]])"
      ]
     },
     "execution_count": 9,
     "metadata": {},
     "output_type": "execute_result"
    }
   ],
   "source": [
    "print(b)\n",
    "np.append(b, np.ones((b.shape[0] ,1)) , axis = 1)"
   ]
  },
  {
   "cell_type": "code",
   "execution_count": 10,
   "id": "f811d9b6",
   "metadata": {},
   "outputs": [
    {
     "name": "stdout",
     "output_type": "stream",
     "text": [
      "[[0 1 2]\n",
      " [3 4 5]]\n",
      "[[ 6  7  8]\n",
      " [ 9 10 11]]\n"
     ]
    }
   ],
   "source": [
    "# np.concatenate() --> concatenate a sequence of arrays along an existing axis.\n",
    "c = np.arange(6).reshape(2,3)\n",
    "d= np.arange(6,12).reshape(2,3)\n",
    "print(c)\n",
    "print(d)"
   ]
  },
  {
   "cell_type": "code",
   "execution_count": 11,
   "id": "a7ede499",
   "metadata": {},
   "outputs": [
    {
     "data": {
      "text/plain": [
       "array([[ 0,  1,  2],\n",
       "       [ 3,  4,  5],\n",
       "       [ 6,  7,  8],\n",
       "       [ 9, 10, 11]])"
      ]
     },
     "execution_count": 11,
     "metadata": {},
     "output_type": "execute_result"
    }
   ],
   "source": [
    "np.concatenate((c,d), axis = 0) # row wise "
   ]
  },
  {
   "cell_type": "code",
   "execution_count": 12,
   "id": "6557d6b8",
   "metadata": {},
   "outputs": [
    {
     "data": {
      "text/plain": [
       "array([[ 0,  1,  2,  6,  7,  8],\n",
       "       [ 3,  4,  5,  9, 10, 11]])"
      ]
     },
     "execution_count": 12,
     "metadata": {},
     "output_type": "execute_result"
    }
   ],
   "source": [
    "np.concatenate((c,d), axis = 1) # column wise"
   ]
  },
  {
   "cell_type": "code",
   "execution_count": 13,
   "id": "8b49ac75",
   "metadata": {},
   "outputs": [
    {
     "name": "stdout",
     "output_type": "stream",
     "text": [
      "[1 1 2 2 3 3 4 4 5 5 6 6]\n",
      "[[1 2 3 1]\n",
      " [1 2 3 2]]\n"
     ]
    }
   ],
   "source": [
    "# np.unique() --> we can get the unique values from an array given as parameter in np.unique() method\n",
    "e= np.array([1,1,2,2,3,3,4,4,5,5,6,6])\n",
    "f= np.array([[1,2,3,1],[1,2,3,2]])\n",
    "print(e)\n",
    "print(f)"
   ]
  },
  {
   "cell_type": "code",
   "execution_count": 14,
   "id": "42b4a9fd",
   "metadata": {},
   "outputs": [
    {
     "data": {
      "text/plain": [
       "array([1, 2, 3, 4, 5, 6])"
      ]
     },
     "execution_count": 14,
     "metadata": {},
     "output_type": "execute_result"
    }
   ],
   "source": [
    "np.unique(e)"
   ]
  },
  {
   "cell_type": "code",
   "execution_count": 15,
   "id": "a495399f",
   "metadata": {},
   "outputs": [
    {
     "data": {
      "text/plain": [
       "array([31, 30, 75, 80, 48, 33,  1, 73, 11, 89, 16, 71, 31, 15, 73],\n",
       "      dtype=int32)"
      ]
     },
     "execution_count": 15,
     "metadata": {},
     "output_type": "execute_result"
    }
   ],
   "source": [
    "# np.expand_dims() --> we can get the expanded dimension of an array \n",
    "a"
   ]
  },
  {
   "cell_type": "code",
   "execution_count": 16,
   "id": "a014214d",
   "metadata": {},
   "outputs": [
    {
     "name": "stdout",
     "output_type": "stream",
     "text": [
      "[[31 30 75 80 48 33  1 73 11 89 16 71 31 15 73]]\n",
      "(1, 15)\n"
     ]
    }
   ],
   "source": [
    "test = np.expand_dims(a, axis=0) #--> producing 2D array\n",
    "print(test)\n",
    "print(test.shape)"
   ]
  },
  {
   "cell_type": "code",
   "execution_count": 17,
   "id": "a03cdf58",
   "metadata": {},
   "outputs": [
    {
     "name": "stdout",
     "output_type": "stream",
     "text": [
      "[[31]\n",
      " [30]\n",
      " [75]\n",
      " [80]\n",
      " [48]\n",
      " [33]\n",
      " [ 1]\n",
      " [73]\n",
      " [11]\n",
      " [89]\n",
      " [16]\n",
      " [71]\n",
      " [31]\n",
      " [15]\n",
      " [73]]\n",
      "(15, 1)\n"
     ]
    }
   ],
   "source": [
    "test2 = np.expand_dims(a, axis=1) \n",
    "print(test2)\n",
    "print(test2.shape)"
   ]
  },
  {
   "cell_type": "code",
   "execution_count": 18,
   "id": "06946ca6",
   "metadata": {},
   "outputs": [
    {
     "name": "stdout",
     "output_type": "stream",
     "text": [
      "[31 30 75 80 48 33  1 73 11 89 16 71 31 15 73]\n"
     ]
    }
   ],
   "source": [
    "# np.where() --> return indices the elements in array where given condition is satisfied \n",
    "print(a)"
   ]
  },
  {
   "cell_type": "code",
   "execution_count": 19,
   "id": "0158e161",
   "metadata": {},
   "outputs": [
    {
     "data": {
      "text/plain": [
       "(array([ 2,  3,  7,  9, 11, 14]),)"
      ]
     },
     "execution_count": 19,
     "metadata": {},
     "output_type": "execute_result"
    }
   ],
   "source": [
    "# find all indices with value greater than 50 \n",
    "np.where(a > 50)"
   ]
  },
  {
   "cell_type": "code",
   "execution_count": 20,
   "id": "695fbe4e",
   "metadata": {},
   "outputs": [
    {
     "data": {
      "text/plain": [
       "array([31, 30,  0,  0, 48, 33,  1,  0, 11,  0, 16,  0, 31, 15,  0],\n",
       "      dtype=int32)"
      ]
     },
     "execution_count": 20,
     "metadata": {},
     "output_type": "execute_result"
    }
   ],
   "source": [
    "# replace all indices with value greater than 50\n",
    "\n",
    "# np.where(condition, true, false)  --> syntax\n",
    "np.where(a>50,0,a)"
   ]
  },
  {
   "cell_type": "code",
   "execution_count": 21,
   "id": "45fdb962",
   "metadata": {},
   "outputs": [
    {
     "data": {
      "text/plain": [
       "array([31,  0, 75,  0,  0, 33,  1, 73, 11, 89,  0, 71, 31, 15, 73],\n",
       "      dtype=int32)"
      ]
     },
     "execution_count": 21,
     "metadata": {},
     "output_type": "execute_result"
    }
   ],
   "source": [
    "np.where(a%2==0 , 0, a)"
   ]
  },
  {
   "cell_type": "code",
   "execution_count": 22,
   "id": "78ea44a5",
   "metadata": {},
   "outputs": [
    {
     "data": {
      "text/plain": [
       "array([31, 30, 75, 80, 48, 33,  1, 73, 11, 89, 16, 71, 31, 15, 73],\n",
       "      dtype=int32)"
      ]
     },
     "execution_count": 22,
     "metadata": {},
     "output_type": "execute_result"
    }
   ],
   "source": [
    "# np.argmax() --> return the indices of the max element of the array in a particular axis\n",
    "a"
   ]
  },
  {
   "cell_type": "code",
   "execution_count": 23,
   "id": "4ba23c66",
   "metadata": {},
   "outputs": [
    {
     "data": {
      "text/plain": [
       "np.int64(9)"
      ]
     },
     "execution_count": 23,
     "metadata": {},
     "output_type": "execute_result"
    }
   ],
   "source": [
    "np.argmax(a , axis=0)"
   ]
  },
  {
   "cell_type": "code",
   "execution_count": 24,
   "id": "a1f4a5b4",
   "metadata": {},
   "outputs": [
    {
     "data": {
      "text/plain": [
       "np.int64(9)"
      ]
     },
     "execution_count": 24,
     "metadata": {},
     "output_type": "execute_result"
    }
   ],
   "source": [
    "np.argmax(a)"
   ]
  },
  {
   "cell_type": "code",
   "execution_count": 25,
   "id": "a8daa825",
   "metadata": {},
   "outputs": [
    {
     "name": "stdout",
     "output_type": "stream",
     "text": [
      "[[35 78 25  7]\n",
      " [56 66 84 87]\n",
      " [35 45 67 38]\n",
      " [47  3 23 17]\n",
      " [21 95 99 43]\n",
      " [46 86 42 22]]\n"
     ]
    }
   ],
   "source": [
    "print(b)"
   ]
  },
  {
   "cell_type": "code",
   "execution_count": 26,
   "id": "471c7410",
   "metadata": {},
   "outputs": [
    {
     "data": {
      "text/plain": [
       "array([1, 4, 4, 1])"
      ]
     },
     "execution_count": 26,
     "metadata": {},
     "output_type": "execute_result"
    }
   ],
   "source": [
    "np.argmax(b, axis=0) #columnwise "
   ]
  },
  {
   "cell_type": "code",
   "execution_count": 27,
   "id": "95dca04c",
   "metadata": {},
   "outputs": [
    {
     "data": {
      "text/plain": [
       "array([1, 4, 4, 1])"
      ]
     },
     "execution_count": 27,
     "metadata": {},
     "output_type": "execute_result"
    }
   ],
   "source": [
    "np.argmax(b, axis=0) #rowwise "
   ]
  },
  {
   "cell_type": "code",
   "execution_count": 28,
   "id": "746440da",
   "metadata": {},
   "outputs": [
    {
     "data": {
      "text/plain": [
       "array([4, 3, 3, 0])"
      ]
     },
     "execution_count": 28,
     "metadata": {},
     "output_type": "execute_result"
    }
   ],
   "source": [
    "# np.argmin()\n",
    "np.argmin(b, axis=0)"
   ]
  },
  {
   "cell_type": "code",
   "execution_count": 29,
   "id": "2fec8948",
   "metadata": {},
   "outputs": [
    {
     "name": "stdout",
     "output_type": "stream",
     "text": [
      "[31 30 75 80 48 33  1 73 11 89 16 71 31 15 73]\n"
     ]
    }
   ],
   "source": [
    "# np.cumsum() --> used to compute cumulative sum of array elements over a given axis\n",
    "print(a)"
   ]
  },
  {
   "cell_type": "code",
   "execution_count": 30,
   "id": "a24eedf4",
   "metadata": {},
   "outputs": [
    {
     "data": {
      "text/plain": [
       "array([ 31,  61, 136, 216, 264, 297, 298, 371, 382, 471, 487, 558, 589,\n",
       "       604, 677])"
      ]
     },
     "execution_count": 30,
     "metadata": {},
     "output_type": "execute_result"
    }
   ],
   "source": [
    "np.cumsum(a)    "
   ]
  },
  {
   "cell_type": "code",
   "execution_count": 31,
   "id": "50debd53",
   "metadata": {},
   "outputs": [
    {
     "name": "stdout",
     "output_type": "stream",
     "text": [
      "[[35 78 25  7]\n",
      " [56 66 84 87]\n",
      " [35 45 67 38]\n",
      " [47  3 23 17]\n",
      " [21 95 99 43]\n",
      " [46 86 42 22]]\n"
     ]
    }
   ],
   "source": [
    "print(b)"
   ]
  },
  {
   "cell_type": "code",
   "execution_count": 32,
   "id": "261d0484",
   "metadata": {},
   "outputs": [
    {
     "data": {
      "text/plain": [
       "array([  35,  113,  138,  145,  201,  267,  351,  438,  473,  518,  585,\n",
       "        623,  670,  673,  696,  713,  734,  829,  928,  971, 1017, 1103,\n",
       "       1145, 1167])"
      ]
     },
     "execution_count": 32,
     "metadata": {},
     "output_type": "execute_result"
    }
   ],
   "source": [
    "np.cumsum(b) ## flatten the array then apply cummulative sum"
   ]
  },
  {
   "cell_type": "code",
   "execution_count": 33,
   "id": "fa5bb523",
   "metadata": {},
   "outputs": [
    {
     "data": {
      "text/plain": [
       "array([[ 35,  78,  25,   7],\n",
       "       [ 91, 144, 109,  94],\n",
       "       [126, 189, 176, 132],\n",
       "       [173, 192, 199, 149],\n",
       "       [194, 287, 298, 192],\n",
       "       [240, 373, 340, 214]])"
      ]
     },
     "execution_count": 33,
     "metadata": {},
     "output_type": "execute_result"
    }
   ],
   "source": [
    "np.cumsum(b , axis=0) # columnwise cummulative sum"
   ]
  },
  {
   "cell_type": "code",
   "execution_count": 34,
   "id": "a9fdc3ca",
   "metadata": {},
   "outputs": [
    {
     "data": {
      "text/plain": [
       "array([[ 35, 113, 138, 145],\n",
       "       [ 56, 122, 206, 293],\n",
       "       [ 35,  80, 147, 185],\n",
       "       [ 47,  50,  73,  90],\n",
       "       [ 21, 116, 215, 258],\n",
       "       [ 46, 132, 174, 196]])"
      ]
     },
     "execution_count": 34,
     "metadata": {},
     "output_type": "execute_result"
    }
   ],
   "source": [
    "np.cumsum(b , axis=1) # columnwise cummulative sum"
   ]
  },
  {
   "cell_type": "code",
   "execution_count": 35,
   "id": "d989a088",
   "metadata": {},
   "outputs": [
    {
     "data": {
      "text/plain": [
       "array([                 31,                 930,               69750,\n",
       "                   5580000,           267840000,          8838720000,\n",
       "                8838720000,        645226560000,       7097492160000,\n",
       "           631676802240000,   10106828835840000,  717584847344640000,\n",
       "       3798386193974288384, 1635560688485670912, 8715465817196666880])"
      ]
     },
     "execution_count": 35,
     "metadata": {},
     "output_type": "execute_result"
    }
   ],
   "source": [
    "# np.cumprod() \n",
    "np.cumprod(a)"
   ]
  },
  {
   "cell_type": "code",
   "execution_count": 36,
   "id": "6c21a9cb",
   "metadata": {},
   "outputs": [
    {
     "name": "stdout",
     "output_type": "stream",
     "text": [
      "[31 30 75 80 48 33  1 73 11 89 16 71 31 15 73]\n"
     ]
    },
    {
     "data": {
      "text/plain": [
       "np.float64(89.0)"
      ]
     },
     "execution_count": 36,
     "metadata": {},
     "output_type": "execute_result"
    }
   ],
   "source": [
    "# np.percentile() --> used to compute the nth percentile\n",
    "print(a)\n",
    "np.percentile(a , 100)  # 100 percentile"
   ]
  },
  {
   "cell_type": "code",
   "execution_count": 37,
   "id": "0cb4f614",
   "metadata": {},
   "outputs": [
    {
     "data": {
      "text/plain": [
       "np.float64(33.0)"
      ]
     },
     "execution_count": 37,
     "metadata": {},
     "output_type": "execute_result"
    }
   ],
   "source": [
    "np.percentile(a, 50)"
   ]
  },
  {
   "cell_type": "code",
   "execution_count": 38,
   "id": "35fff627",
   "metadata": {},
   "outputs": [
    {
     "data": {
      "text/plain": [
       "np.float64(33.0)"
      ]
     },
     "execution_count": 38,
     "metadata": {},
     "output_type": "execute_result"
    }
   ],
   "source": [
    "np.median(a)"
   ]
  },
  {
   "cell_type": "code",
   "execution_count": 39,
   "id": "a845198a",
   "metadata": {},
   "outputs": [
    {
     "data": {
      "text/plain": [
       "(array([1, 3, 0, 4, 1, 0, 0, 4, 2, 0]),\n",
       " array([  0,  10,  20,  30,  40,  50,  60,  70,  80,  90, 100]))"
      ]
     },
     "execution_count": 39,
     "metadata": {},
     "output_type": "execute_result"
    }
   ],
   "source": [
    "#np.histogram() \n",
    "\n",
    "np.histogram(a , bins=[0,10,20,30,40,50,60,70,80,90,100])"
   ]
  },
  {
   "cell_type": "code",
   "execution_count": 40,
   "id": "c9bbd844",
   "metadata": {},
   "outputs": [],
   "source": [
    "# np.corrcoef() --> return pearson product-moment correlation coefficients."
   ]
  },
  {
   "cell_type": "code",
   "execution_count": 41,
   "id": "9b1a52e1",
   "metadata": {},
   "outputs": [
    {
     "data": {
      "text/plain": [
       "array([[1.        , 0.25344572],\n",
       "       [0.25344572, 1.        ]])"
      ]
     },
     "execution_count": 41,
     "metadata": {},
     "output_type": "execute_result"
    }
   ],
   "source": [
    "salary = np.array([20000 , 40000, 25000 , 35000, 60000])\n",
    "experience = np.array([1,3,2,4,2])\n",
    "np.corrcoef(salary , experience)"
   ]
  },
  {
   "cell_type": "code",
   "execution_count": 42,
   "id": "bb374eaa",
   "metadata": {},
   "outputs": [],
   "source": [
    "# np.isin() --> we can see that one array having values are checked in a different numpy array having different elements with different sizes"
   ]
  },
  {
   "cell_type": "code",
   "execution_count": 43,
   "id": "ce3540c5",
   "metadata": {},
   "outputs": [
    {
     "name": "stdout",
     "output_type": "stream",
     "text": [
      "[31 30 75 80 48 33  1 73 11 89 16 71 31 15 73]\n"
     ]
    }
   ],
   "source": [
    "print(a)"
   ]
  },
  {
   "cell_type": "code",
   "execution_count": 44,
   "id": "49f638c9",
   "metadata": {},
   "outputs": [],
   "source": [
    "items  = [10,20,30,40,50,60,70,80,90,100]"
   ]
  },
  {
   "cell_type": "code",
   "execution_count": 45,
   "id": "52a8a639",
   "metadata": {},
   "outputs": [
    {
     "data": {
      "text/plain": [
       "array([False,  True, False,  True, False, False, False, False, False,\n",
       "       False, False, False, False, False, False])"
      ]
     },
     "execution_count": 45,
     "metadata": {},
     "output_type": "execute_result"
    }
   ],
   "source": [
    "np.isin(a ,items)"
   ]
  },
  {
   "cell_type": "code",
   "execution_count": 46,
   "id": "00ff3497",
   "metadata": {},
   "outputs": [
    {
     "data": {
      "text/plain": [
       "array([30, 80], dtype=int32)"
      ]
     },
     "execution_count": 46,
     "metadata": {},
     "output_type": "execute_result"
    }
   ],
   "source": [
    "a[np.isin(a ,items)]"
   ]
  },
  {
   "cell_type": "code",
   "execution_count": 47,
   "id": "2e3c4f3f",
   "metadata": {},
   "outputs": [
    {
     "name": "stdout",
     "output_type": "stream",
     "text": [
      "[31 30 75 80 48 33  1 73 11 89 16 71 31 15 73]\n",
      "[73 15 31 71 16 89 11 73  1 33 48 80 75 30 31]\n"
     ]
    }
   ],
   "source": [
    "# np.flip() --> reverses the order of array elements along the specified axis, preventing the shape of array \n",
    "print(a)\n",
    "print(np.flip(a))"
   ]
  },
  {
   "cell_type": "code",
   "execution_count": 48,
   "id": "4aaeea60",
   "metadata": {},
   "outputs": [
    {
     "name": "stdout",
     "output_type": "stream",
     "text": [
      "[[35 78 25  7]\n",
      " [56 66 84 87]\n",
      " [35 45 67 38]\n",
      " [47  3 23 17]\n",
      " [21 95 99 43]\n",
      " [46 86 42 22]]\n",
      "[[22 42 86 46]\n",
      " [43 99 95 21]\n",
      " [17 23  3 47]\n",
      " [38 67 45 35]\n",
      " [87 84 66 56]\n",
      " [ 7 25 78 35]]\n"
     ]
    }
   ],
   "source": [
    "print(b)\n",
    "print(np.flip(b))  # row fliping + col flipiing "
   ]
  },
  {
   "cell_type": "code",
   "execution_count": 49,
   "id": "9a1c5fd0",
   "metadata": {},
   "outputs": [
    {
     "name": "stdout",
     "output_type": "stream",
     "text": [
      "[[35 78 25  7]\n",
      " [56 66 84 87]\n",
      " [35 45 67 38]\n",
      " [47  3 23 17]\n",
      " [21 95 99 43]\n",
      " [46 86 42 22]]\n",
      "[[46 86 42 22]\n",
      " [21 95 99 43]\n",
      " [47  3 23 17]\n",
      " [35 45 67 38]\n",
      " [56 66 84 87]\n",
      " [35 78 25  7]]\n"
     ]
    }
   ],
   "source": [
    "print(b)\n",
    "print(np.flip(b ,axis =0 ) )"
   ]
  },
  {
   "cell_type": "code",
   "execution_count": 50,
   "id": "7153b436",
   "metadata": {},
   "outputs": [
    {
     "name": "stdout",
     "output_type": "stream",
     "text": [
      "[31 30 75 80 48 33  1 73 11 89 16 71 31 15 73]\n",
      "[110 530  75  80  48  33   1  73  11  89  16  71  31  15  73]\n"
     ]
    }
   ],
   "source": [
    "# np.put() --> function replaces specific elements of an array with given values of p_array . array indexed works on flattened array. \n",
    "print(a)\n",
    "np.put(a,[0,1],[110,530]) # changes in main array --> permanent changes \n",
    "print(a)"
   ]
  },
  {
   "cell_type": "code",
   "execution_count": 51,
   "id": "89c1cf0b",
   "metadata": {},
   "outputs": [
    {
     "data": {
      "text/plain": [
       "array([530,  80,  33,   1,  73,  11,  89,  16,  71,  31,  15,  73],\n",
       "      dtype=int32)"
      ]
     },
     "execution_count": 51,
     "metadata": {},
     "output_type": "execute_result"
    }
   ],
   "source": [
    "# np.delete() --> returns a new array with deletion of sub-arrays along with mentioned axis\n",
    "np.delete(a, [0,2,4])  # deletes elements on the indices in an array"
   ]
  },
  {
   "cell_type": "code",
   "execution_count": 52,
   "id": "846fe3e2",
   "metadata": {},
   "outputs": [
    {
     "name": "stdout",
     "output_type": "stream",
     "text": [
      "[110 530  75  80  48  33   1  73  11  89  16  71  31  15  73]\n"
     ]
    }
   ],
   "source": [
    "print(a)"
   ]
  },
  {
   "cell_type": "code",
   "execution_count": 53,
   "id": "251a9d9d",
   "metadata": {},
   "outputs": [],
   "source": [
    "# set functions  \n",
    " # np.union1d\n",
    " #np.intersect1d\n",
    " #np.setdiff1d\n",
    " #np.setxor1d\n",
    " #np.in1d"
   ]
  },
  {
   "cell_type": "code",
   "execution_count": 54,
   "id": "7e9c5b6c",
   "metadata": {},
   "outputs": [
    {
     "data": {
      "text/plain": [
       "array([1, 2, 3, 4, 5, 6, 7])"
      ]
     },
     "execution_count": 54,
     "metadata": {},
     "output_type": "execute_result"
    }
   ],
   "source": [
    "m = np.array([1,2,3,4,5])\n",
    "n = np.array([3,4,5,6,7])\n",
    "np.union1d(m,n)"
   ]
  },
  {
   "cell_type": "code",
   "execution_count": 55,
   "id": "ef35058c",
   "metadata": {},
   "outputs": [
    {
     "data": {
      "text/plain": [
       "array([3, 4, 5])"
      ]
     },
     "execution_count": 55,
     "metadata": {},
     "output_type": "execute_result"
    }
   ],
   "source": [
    "np.intersect1d(m,n)"
   ]
  },
  {
   "cell_type": "code",
   "execution_count": 56,
   "id": "0d4e4255",
   "metadata": {},
   "outputs": [
    {
     "data": {
      "text/plain": [
       "array([1, 2])"
      ]
     },
     "execution_count": 56,
     "metadata": {},
     "output_type": "execute_result"
    }
   ],
   "source": [
    "np.setdiff1d(m,n)"
   ]
  },
  {
   "cell_type": "code",
   "execution_count": 57,
   "id": "52b18be0",
   "metadata": {},
   "outputs": [
    {
     "data": {
      "text/plain": [
       "array([1, 2, 6, 7])"
      ]
     },
     "execution_count": 57,
     "metadata": {},
     "output_type": "execute_result"
    }
   ],
   "source": [
    "np.setxor1d(m,n)"
   ]
  },
  {
   "cell_type": "code",
   "execution_count": 58,
   "id": "c889d146",
   "metadata": {},
   "outputs": [
    {
     "name": "stderr",
     "output_type": "stream",
     "text": [
      "C:\\Users\\singh\\AppData\\Local\\Temp\\ipykernel_16420\\3337556509.py:1: DeprecationWarning: `in1d` is deprecated. Use `np.isin` instead.\n",
      "  np.in1d(m,10)\n"
     ]
    },
    {
     "data": {
      "text/plain": [
       "array([False, False, False, False, False])"
      ]
     },
     "execution_count": 58,
     "metadata": {},
     "output_type": "execute_result"
    }
   ],
   "source": [
    "np.in1d(m,10)"
   ]
  },
  {
   "cell_type": "code",
   "execution_count": 59,
   "id": "e3bc1d61",
   "metadata": {},
   "outputs": [
    {
     "name": "stdout",
     "output_type": "stream",
     "text": [
      "[110 530  75  80  48  33   1  73  11  89  16  71  31  15  73]\n"
     ]
    }
   ],
   "source": [
    "# numpy.clip() --> function is used to clip(limit) the values in an array\n",
    "print(a)"
   ]
  },
  {
   "cell_type": "code",
   "execution_count": 60,
   "id": "e61d4ca6",
   "metadata": {},
   "outputs": [
    {
     "data": {
      "text/plain": [
       "array([100, 100,  75,  80,  48,  33,  20,  73,  20,  89,  20,  71,  31,\n",
       "        20,  73], dtype=int32)"
      ]
     },
     "execution_count": 60,
     "metadata": {},
     "output_type": "execute_result"
    }
   ],
   "source": [
    "np.clip(a , a_min=20, a_max=100)"
   ]
  },
  {
   "cell_type": "code",
   "execution_count": null,
   "id": "f5a6198f",
   "metadata": {},
   "outputs": [],
   "source": [
    "# np.swapaxes # np.uniform # np.count_nonzero #np.tile() #np.repeat() # np.allclose and equals "
   ]
  }
 ],
 "metadata": {
  "kernelspec": {
   "display_name": "Python 3",
   "language": "python",
   "name": "python3"
  },
  "language_info": {
   "codemirror_mode": {
    "name": "ipython",
    "version": 3
   },
   "file_extension": ".py",
   "mimetype": "text/x-python",
   "name": "python",
   "nbconvert_exporter": "python",
   "pygments_lexer": "ipython3",
   "version": "3.11.3"
  }
 },
 "nbformat": 4,
 "nbformat_minor": 5
}
