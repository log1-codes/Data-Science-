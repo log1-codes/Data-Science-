{
 "cells": [
  {
   "cell_type": "code",
   "execution_count": 1,
   "id": "e9fc441f",
   "metadata": {},
   "outputs": [
    {
     "name": "stdout",
     "output_type": "stream",
     "text": [
      "12\n"
     ]
    }
   ],
   "source": [
    "def multiply(a,b):\n",
    "    result =0\n",
    "    for i in range(b):\n",
    "        result = result +a \n",
    "    print(result)\n",
    "multiply(3,4)"
   ]
  },
  {
   "cell_type": "code",
   "execution_count": 3,
   "id": "c3d2bba9",
   "metadata": {},
   "outputs": [
    {
     "name": "stdout",
     "output_type": "stream",
     "text": [
      "30\n"
     ]
    }
   ],
   "source": [
    "# using recursion\n",
    "def mul(a,b):\n",
    "    if b ==1:\n",
    "        return a \n",
    "    else:\n",
    "        return a+mul(a ,b-1)\n",
    "print(mul(5,6))"
   ]
  },
  {
   "cell_type": "code",
   "execution_count": 5,
   "id": "846bd0bb",
   "metadata": {},
   "outputs": [
    {
     "name": "stdout",
     "output_type": "stream",
     "text": [
      "120\n"
     ]
    }
   ],
   "source": [
    "# factorial (using recursion)\n",
    "def factorial(num):\n",
    "    if num ==1:\n",
    "        return 1 \n",
    "    else:\n",
    "        return num*factorial(num -1)\n",
    "\n",
    "print(factorial(5))"
   ]
  },
  {
   "cell_type": "code",
   "execution_count": 10,
   "id": "85700213",
   "metadata": {},
   "outputs": [
    {
     "name": "stdout",
     "output_type": "stream",
     "text": [
      "palindrome\n",
      "palindrome\n",
      "it is not a palindrome\n",
      "palindrome\n"
     ]
    }
   ],
   "source": [
    "# palindrom -->using recursion\n",
    "def palindrome(text):\n",
    "    if len(text) == 1 or len(text) ==0 :\n",
    "        print('palindrome')\n",
    "    else:\n",
    "        if text[0] == text[-1]:\n",
    "            palindrome(text[1:-1])\n",
    "        else:\n",
    "            print('it is not a palindrome' )\n",
    "\n",
    "palindrome('madam')\n",
    "palindrome('racecar')\n",
    "palindrome('anurag')\n",
    "palindrome('abba')\n"
   ]
  },
  {
   "cell_type": "code",
   "execution_count": 22,
   "id": "7b353db8",
   "metadata": {},
   "outputs": [
    {
     "name": "stdout",
     "output_type": "stream",
     "text": [
      "24157817\n",
      "3.7731502056121826\n"
     ]
    }
   ],
   "source": [
    "# rabbit problem (fibonacci)\n",
    "import time\n",
    "def fib(month):\n",
    "    if month== 0 or month ==1 :\n",
    "        return 1\n",
    "    else:\n",
    "        return fib(month -2)  + fib(month -1)\n",
    "\n",
    "start = time.time()\n",
    "print(fib(36))\n",
    "print(time.time() - start)"
   ]
  },
  {
   "cell_type": "code",
   "execution_count": 28,
   "id": "1139f010",
   "metadata": {},
   "outputs": [
    {
     "name": "stdout",
     "output_type": "stream",
     "text": [
      "7778742049\n",
      "0.0\n",
      "{0: 1, 1: 1, 2: 2, 3: 3, 4: 5, 5: 8, 6: 13, 7: 21, 8: 34, 9: 55, 10: 89, 11: 144, 12: 233, 13: 377, 14: 610, 15: 987, 16: 1597, 17: 2584, 18: 4181, 19: 6765, 20: 10946, 21: 17711, 22: 28657, 23: 46368, 24: 75025, 25: 121393, 26: 196418, 27: 317811, 28: 514229, 29: 832040, 30: 1346269, 31: 2178309, 32: 3524578, 33: 5702887, 34: 9227465, 35: 14930352, 36: 24157817, 37: 39088169, 38: 63245986, 39: 102334155, 40: 165580141, 41: 267914296, 42: 433494437, 43: 701408733, 44: 1134903170, 45: 1836311903, 46: 2971215073, 47: 4807526976, 48: 7778742049}\n"
     ]
    }
   ],
   "source": [
    "# memoization \n",
    "import time\n",
    "def memo(m , d):\n",
    "    if m in d:\n",
    "        return d[m]\n",
    "    else:\n",
    "      d[m] = memo(m-1 , d) + memo(m-2 ,d)\n",
    "      return d[m]\n",
    "\n",
    "d = {0:1 , 1:1}\n",
    "\n",
    "start = time.time()\n",
    "print(memo(48 , d))\n",
    "print(time.time() - start)\n",
    "print(d)"
   ]
  },
  {
   "cell_type": "code",
   "execution_count": null,
   "id": "7bf448ba",
   "metadata": {},
   "outputs": [],
   "source": []
  }
 ],
 "metadata": {
  "kernelspec": {
   "display_name": "Python 3",
   "language": "python",
   "name": "python3"
  },
  "language_info": {
   "codemirror_mode": {
    "name": "ipython",
    "version": 3
   },
   "file_extension": ".py",
   "mimetype": "text/x-python",
   "name": "python",
   "nbconvert_exporter": "python",
   "pygments_lexer": "ipython3",
   "version": "3.11.3"
  }
 },
 "nbformat": 4,
 "nbformat_minor": 5
}
