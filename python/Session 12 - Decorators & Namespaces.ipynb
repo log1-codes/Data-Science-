{
 "cells": [
  {
   "cell_type": "code",
   "execution_count": 28,
   "id": "712b2f36",
   "metadata": {},
   "outputs": [],
   "source": [
    "# namespace , decorators , generaters , iterators , assert"
   ]
  },
  {
   "cell_type": "markdown",
   "id": "1e046b5d",
   "metadata": {},
   "source": [
    "Namespaces"
   ]
  },
  {
   "cell_type": "markdown",
   "id": "f2a828cd",
   "metadata": {},
   "source": [
    "A namespace is a space that holds names(identifiers).Programmatically speaking, namespaces are dictionary of identifiers(keys) and their objects(values)"
   ]
  },
  {
   "cell_type": "markdown",
   "id": "f5658f6d",
   "metadata": {},
   "source": [
    "There are 4 types of namespaces:\n",
    "\n",
    "Builtin Namespace ,\n",
    "Global Namespace,\n",
    "Enclosing Namespace ,\n",
    "Local Namespace"
   ]
  },
  {
   "cell_type": "markdown",
   "id": "3bdb526d",
   "metadata": {},
   "source": [
    "Scope and LEGB Rule"
   ]
  },
  {
   "cell_type": "markdown",
   "id": "f0c24da0",
   "metadata": {},
   "source": [
    "A scope is a textual region of a Python program where a namespace is directly accessible.\n",
    "\n",
    "The interpreter searches for a name from the inside out, looking in the local, enclosing, global, and finally the built-in scope. If the interpreter doesn’t find the name in any of these locations, then Python raises a NameError exception."
   ]
  },
  {
   "cell_type": "code",
   "execution_count": 29,
   "id": "4942a067",
   "metadata": {},
   "outputs": [
    {
     "name": "stdout",
     "output_type": "stream",
     "text": [
      "3\n",
      "2\n"
     ]
    }
   ],
   "source": [
    "#local and global \n",
    "a = 2 #--> global scope --> global variable\n",
    "def temp():\n",
    "    b = 3 #--> local scope --> local variable\n",
    "    print(b)\n",
    "temp()\n",
    "print(a)"
   ]
  },
  {
   "cell_type": "code",
   "execution_count": 30,
   "id": "d0d131e5",
   "metadata": {},
   "outputs": [
    {
     "name": "stdout",
     "output_type": "stream",
     "text": [
      "2\n",
      "2\n"
     ]
    }
   ],
   "source": [
    "#local and global --> local does not have but global has\n",
    "a = 2 \n",
    "def temp():\n",
    "    \n",
    "    print(a)\n",
    "temp()\n",
    "print(a)"
   ]
  },
  {
   "cell_type": "code",
   "execution_count": 31,
   "id": "0398133e",
   "metadata": {},
   "outputs": [
    {
     "ename": "UnboundLocalError",
     "evalue": "cannot access local variable 'a' where it is not associated with a value",
     "output_type": "error",
     "traceback": [
      "\u001b[1;31m---------------------------------------------------------------------------\u001b[0m",
      "\u001b[1;31mUnboundLocalError\u001b[0m                         Traceback (most recent call last)",
      "Cell \u001b[1;32mIn[31], line 7\u001b[0m\n\u001b[0;32m      4\u001b[0m     a \u001b[38;5;241m+\u001b[39m\u001b[38;5;241m=\u001b[39m\u001b[38;5;241m1\u001b[39m \u001b[38;5;66;03m# --> here it is read only \u001b[39;00m\n\u001b[0;32m      5\u001b[0m     \u001b[38;5;28mprint\u001b[39m(a)\n\u001b[1;32m----> 7\u001b[0m \u001b[43mtemp\u001b[49m\u001b[43m(\u001b[49m\u001b[43m)\u001b[49m\n\u001b[0;32m      8\u001b[0m \u001b[38;5;28mprint\u001b[39m(a)\n",
      "Cell \u001b[1;32mIn[31], line 4\u001b[0m, in \u001b[0;36mtemp\u001b[1;34m()\u001b[0m\n\u001b[0;32m      3\u001b[0m \u001b[38;5;28;01mdef\u001b[39;00m\u001b[38;5;250m \u001b[39m\u001b[38;5;21mtemp\u001b[39m():\n\u001b[1;32m----> 4\u001b[0m     \u001b[43ma\u001b[49m \u001b[38;5;241m+\u001b[39m\u001b[38;5;241m=\u001b[39m\u001b[38;5;241m1\u001b[39m \u001b[38;5;66;03m# --> here it is read only \u001b[39;00m\n\u001b[0;32m      5\u001b[0m     \u001b[38;5;28mprint\u001b[39m(a)\n",
      "\u001b[1;31mUnboundLocalError\u001b[0m: cannot access local variable 'a' where it is not associated with a value"
     ]
    }
   ],
   "source": [
    "# local and global -> editing global\n",
    "a = 2 \n",
    "def temp():\n",
    "    a +=1 # --> here it is read only \n",
    "    print(a)\n",
    "\n",
    "temp()\n",
    "print(a)"
   ]
  },
  {
   "cell_type": "code",
   "execution_count": null,
   "id": "80483689",
   "metadata": {},
   "outputs": [
    {
     "name": "stdout",
     "output_type": "stream",
     "text": [
      "3\n",
      "3\n"
     ]
    }
   ],
   "source": [
    "# local and global -> editing global\n",
    "a = 2 \n",
    "def temp():\n",
    "    global a\n",
    "    a +=1 # --> here it is read and write both\n",
    "    print(a)\n",
    "\n",
    "temp()\n",
    "print(a)"
   ]
  },
  {
   "cell_type": "code",
   "execution_count": null,
   "id": "4b6e4aca",
   "metadata": {},
   "outputs": [
    {
     "name": "stdout",
     "output_type": "stream",
     "text": [
      "1\n",
      "1\n"
     ]
    }
   ],
   "source": [
    "#local and global --> global created inside local \n",
    "def temp():\n",
    "    global a\n",
    "    a = 1\n",
    "    print(a)\n",
    "temp()\n",
    "print(a)"
   ]
  },
  {
   "cell_type": "code",
   "execution_count": null,
   "id": "e72415e0",
   "metadata": {},
   "outputs": [
    {
     "name": "stdout",
     "output_type": "stream",
     "text": [
      "5\n",
      "5\n"
     ]
    }
   ],
   "source": [
    "# local and global --> function parameter is local \n",
    "def temp(z):\n",
    "    print(z)\n",
    "\n",
    "a = 5 \n",
    "temp(5)\n",
    "print(a)  "
   ]
  },
  {
   "cell_type": "code",
   "execution_count": null,
   "id": "e88d69ef",
   "metadata": {},
   "outputs": [
    {
     "name": "stdout",
     "output_type": "stream",
     "text": [
      "Helllo\n"
     ]
    }
   ],
   "source": [
    "# built-in scope\n",
    "print(\"Helllo\")"
   ]
  },
  {
   "cell_type": "code",
   "execution_count": null,
   "id": "6d17691a",
   "metadata": {},
   "outputs": [
    {
     "name": "stdout",
     "output_type": "stream",
     "text": [
      "['ArithmeticError', 'AssertionError', 'AttributeError', 'BaseException', 'BaseExceptionGroup', 'BlockingIOError', 'BrokenPipeError', 'BufferError', 'BytesWarning', 'ChildProcessError', 'ConnectionAbortedError', 'ConnectionError', 'ConnectionRefusedError', 'ConnectionResetError', 'DeprecationWarning', 'EOFError', 'Ellipsis', 'EncodingWarning', 'EnvironmentError', 'Exception', 'ExceptionGroup', 'False', 'FileExistsError', 'FileNotFoundError', 'FloatingPointError', 'FutureWarning', 'GeneratorExit', 'IOError', 'ImportError', 'ImportWarning', 'IndentationError', 'IndexError', 'InterruptedError', 'IsADirectoryError', 'KeyError', 'KeyboardInterrupt', 'LookupError', 'MemoryError', 'ModuleNotFoundError', 'NameError', 'None', 'NotADirectoryError', 'NotImplemented', 'NotImplementedError', 'OSError', 'OverflowError', 'PendingDeprecationWarning', 'PermissionError', 'ProcessLookupError', 'RecursionError', 'ReferenceError', 'ResourceWarning', 'RuntimeError', 'RuntimeWarning', 'StopAsyncIteration', 'StopIteration', 'SyntaxError', 'SyntaxWarning', 'SystemError', 'SystemExit', 'TabError', 'TimeoutError', 'True', 'TypeError', 'UnboundLocalError', 'UnicodeDecodeError', 'UnicodeEncodeError', 'UnicodeError', 'UnicodeTranslateError', 'UnicodeWarning', 'UserWarning', 'ValueError', 'Warning', 'WindowsError', 'ZeroDivisionError', '__IPYTHON__', '__build_class__', '__debug__', '__doc__', '__import__', '__loader__', '__name__', '__package__', '__spec__', 'abs', 'aiter', 'all', 'anext', 'any', 'ascii', 'bin', 'bool', 'breakpoint', 'bytearray', 'bytes', 'callable', 'chr', 'classmethod', 'compile', 'complex', 'copyright', 'credits', 'delattr', 'dict', 'dir', 'display', 'divmod', 'enumerate', 'eval', 'exec', 'execfile', 'filter', 'float', 'format', 'frozenset', 'get_ipython', 'getattr', 'globals', 'hasattr', 'hash', 'help', 'hex', 'id', 'input', 'int', 'isinstance', 'issubclass', 'iter', 'len', 'license', 'list', 'locals', 'map', 'max', 'memoryview', 'min', 'next', 'object', 'oct', 'open', 'ord', 'pow', 'print', 'property', 'range', 'repr', 'reversed', 'round', 'runfile', 'set', 'setattr', 'slice', 'sorted', 'staticmethod', 'str', 'sum', 'super', 'tuple', 'type', 'vars', 'zip']\n"
     ]
    }
   ],
   "source": [
    "# how to see all built-ins \n",
    "import builtins\n",
    "print(dir(builtins))"
   ]
  },
  {
   "cell_type": "code",
   "execution_count": 32,
   "id": "0d239f01",
   "metadata": {},
   "outputs": [
    {
     "ename": "TypeError",
     "evalue": "max() takes 0 positional arguments but 1 was given",
     "output_type": "error",
     "traceback": [
      "\u001b[1;31m---------------------------------------------------------------------------\u001b[0m",
      "\u001b[1;31mTypeError\u001b[0m                                 Traceback (most recent call last)",
      "Cell \u001b[1;32mIn[32], line 3\u001b[0m\n\u001b[0;32m      1\u001b[0m \u001b[38;5;66;03m# renaming built-ins\u001b[39;00m\n\u001b[0;32m      2\u001b[0m L \u001b[38;5;241m=\u001b[39m [\u001b[38;5;241m1\u001b[39m,\u001b[38;5;241m2\u001b[39m,\u001b[38;5;241m3\u001b[39m,\u001b[38;5;241m4\u001b[39m,\u001b[38;5;241m5\u001b[39m]\n\u001b[1;32m----> 3\u001b[0m \u001b[38;5;28;43mmax\u001b[39;49m\u001b[43m(\u001b[49m\u001b[43mL\u001b[49m\u001b[43m)\u001b[49m\n\u001b[0;32m      6\u001b[0m \u001b[38;5;28;01mdef\u001b[39;00m\u001b[38;5;250m \u001b[39m\u001b[38;5;21mmax\u001b[39m():\n\u001b[0;32m      7\u001b[0m     \u001b[38;5;28mprint\u001b[39m(\u001b[38;5;124m'\u001b[39m\u001b[38;5;124mHello\u001b[39m\u001b[38;5;124m'\u001b[39m)\n",
      "\u001b[1;31mTypeError\u001b[0m: max() takes 0 positional arguments but 1 was given"
     ]
    }
   ],
   "source": [
    "# renaming built-ins\n",
    "L = [1,2,3,4,5]\n",
    "max(L)\n",
    "\n",
    "\n",
    "def max():\n",
    "    print('Hello')\n",
    "\n",
    "max(L)\n",
    "#error because the two max , and the function with global scope will be executed not the built in accoring to LEGB rule"
   ]
  },
  {
   "cell_type": "code",
   "execution_count": 37,
   "id": "6f18c4fe",
   "metadata": {},
   "outputs": [
    {
     "name": "stdout",
     "output_type": "stream",
     "text": [
      "inner function 3\n",
      "outer function\n",
      "main program\n"
     ]
    }
   ],
   "source": [
    "# enclosing scope \n",
    "# (inside the nested function)--> outer function ke scope ko enclosing scope ya non local scope bhi bolte hai \n",
    "def outer():\n",
    "    a=3\n",
    "    def inner():\n",
    "        print('inner function',a)\n",
    "    inner()\n",
    "    print('outer function')\n",
    "a =1\n",
    "outer()\n",
    "print('main program')"
   ]
  },
  {
   "cell_type": "code",
   "execution_count": 40,
   "id": "a64cb2b2",
   "metadata": {},
   "outputs": [
    {
     "name": "stdout",
     "output_type": "stream",
     "text": [
      "innner  2\n",
      "outer  2\n",
      "main program\n"
     ]
    }
   ],
   "source": [
    "def outer():\n",
    "    a=1\n",
    "    def inner():\n",
    "        nonlocal a\n",
    "        a+=1\n",
    "        print('innner ' ,a)\n",
    "    inner()\n",
    "    print('outer ' ,a)\n",
    "\n",
    "outer()\n",
    "print('main program')"
   ]
  },
  {
   "cell_type": "markdown",
   "id": "6ccc09ec",
   "metadata": {},
   "source": [
    "## Decorators"
   ]
  },
  {
   "cell_type": "markdown",
   "id": "e8e7045a",
   "metadata": {},
   "source": [
    "A decorator in python is a function that receives another function as input and adds some functionality (decoration) to it and returns it "
   ]
  },
  {
   "cell_type": "markdown",
   "id": "7e5d6864",
   "metadata": {},
   "source": [
    "it can happen only because python functions are first class citizens"
   ]
  },
  {
   "cell_type": "markdown",
   "id": "07eda04e",
   "metadata": {},
   "source": [
    "there are two types of decorators availabe in python"
   ]
  },
  {
   "cell_type": "markdown",
   "id": "436e773f",
   "metadata": {},
   "source": [
    "###### Built in decorators like @staticmethod , @classmethod , @abstractmethod and @property etc"
   ]
  },
  {
   "cell_type": "markdown",
   "id": "f5423978",
   "metadata": {},
   "source": [
    "###### user defined decorators that we programmers can create according to our needs."
   ]
  },
  {
   "cell_type": "code",
   "execution_count": null,
   "id": "6e6ed52c",
   "metadata": {},
   "outputs": [
    {
     "name": "stdout",
     "output_type": "stream",
     "text": [
      "hello\n"
     ]
    }
   ],
   "source": [
    "# python are first class function\n",
    "def func():\n",
    "    print('hello')\n",
    "a = func\n",
    "\n",
    "a()"
   ]
  },
  {
   "cell_type": "code",
   "execution_count": 3,
   "id": "faaa7210",
   "metadata": {},
   "outputs": [
    {
     "ename": "NameError",
     "evalue": "name 'func' is not defined",
     "output_type": "error",
     "traceback": [
      "\u001b[1;31m---------------------------------------------------------------------------\u001b[0m",
      "\u001b[1;31mNameError\u001b[0m                                 Traceback (most recent call last)",
      "Cell \u001b[1;32mIn[3], line 6\u001b[0m\n\u001b[0;32m      3\u001b[0m     \u001b[38;5;28mprint\u001b[39m(\u001b[38;5;124m'\u001b[39m\u001b[38;5;124mhello\u001b[39m\u001b[38;5;124m'\u001b[39m)\n\u001b[0;32m      4\u001b[0m \u001b[38;5;28;01mdel\u001b[39;00m func\n\u001b[1;32m----> 6\u001b[0m \u001b[43mfunc\u001b[49m()\n",
      "\u001b[1;31mNameError\u001b[0m: name 'func' is not defined"
     ]
    }
   ],
   "source": [
    "# python are first class function\n",
    "def func():\n",
    "    print('hello')\n",
    "del func\n",
    "\n",
    "func()"
   ]
  },
  {
   "cell_type": "code",
   "execution_count": 4,
   "id": "822cf1cf",
   "metadata": {},
   "outputs": [
    {
     "data": {
      "text/plain": [
       "4"
      ]
     },
     "execution_count": 4,
     "metadata": {},
     "output_type": "execute_result"
    }
   ],
   "source": [
    "def modify2(func , num):\n",
    "    return func(num)\n",
    "\n",
    "def square(num):\n",
    "    return num*2\n",
    "\n",
    "\n",
    "modify2(square , 2)"
   ]
  },
  {
   "cell_type": "code",
   "execution_count": 7,
   "id": "72ccb4d7",
   "metadata": {},
   "outputs": [
    {
     "name": "stdout",
     "output_type": "stream",
     "text": [
      "**************\n",
      "hello\n",
      "**************\n",
      "**************\n",
      "hello Anurag\n",
      "**************\n"
     ]
    }
   ],
   "source": [
    "# simple example \n",
    "def my_decorator(func):\n",
    "    def wrapper():\n",
    "        print('**************')\n",
    "        func()\n",
    "        print('**************')\n",
    "    return wrapper \n",
    "\n",
    "def hello():\n",
    "    print('hello')\n",
    "\n",
    "def display():\n",
    "    print('hello Anurag')\n",
    "\n",
    "a = my_decorator(hello)\n",
    "a()\n",
    "b = my_decorator(display)\n",
    "b()"
   ]
  },
  {
   "cell_type": "code",
   "execution_count": 9,
   "id": "f611e236",
   "metadata": {},
   "outputs": [
    {
     "name": "stdout",
     "output_type": "stream",
     "text": [
      "**************\n",
      "hello\n",
      "**************\n"
     ]
    }
   ],
   "source": [
    "def my_decorator(func):\n",
    "    def wrapper():\n",
    "        print('**************')\n",
    "        func()\n",
    "        print('**************')\n",
    "    return wrapper \n",
    "\n",
    "@my_decorator # convienience using @decorator ka name\n",
    "def hello():\n",
    "    print('hello')\n",
    "\n",
    "hello()"
   ]
  },
  {
   "cell_type": "code",
   "execution_count": 17,
   "id": "bd8bedc7",
   "metadata": {},
   "outputs": [
    {
     "name": "stdout",
     "output_type": "stream",
     "text": [
      "Hello Duniya !! RCB Jeet Gyi\n",
      "time taken by hello 2.00067138671875 seconds\n",
      "Hello Duniya !! RCB Jeet Gyi\n",
      "time taken by hello 2.000582695007324 seconds\n",
      "displaying something\n",
      "time taken by display 4.000946283340454 seconds\n",
      "81\n",
      "time taken by square 1.002204418182373 seconds\n",
      "16\n",
      "time taken by power 0.0 seconds\n"
     ]
    }
   ],
   "source": [
    "# meaningful decorator\n",
    "import time\n",
    "def timer(func):\n",
    "    def wrapper(*args):\n",
    "        start = time.time()\n",
    "        func(*args)\n",
    "        print('time taken by', func.__name__ , time.time()-start , 'seconds')\n",
    "    return wrapper \n",
    "\n",
    "@timer\n",
    "def hello():\n",
    "    print('Hello Duniya !! RCB Jeet Gyi')\n",
    "    time.sleep(2)\n",
    "hello()\n",
    "\n",
    "@timer\n",
    "def display():\n",
    "    print('displaying something')\n",
    "    time.sleep(4)\n",
    "\n",
    "@timer\n",
    "def square(num):\n",
    "    time.sleep(1)\n",
    "    print(num**2)\n",
    "\n",
    "@timer\n",
    "def power(a , b):\n",
    "    print(a**b)\n",
    "\n",
    "\n",
    "hello()\n",
    "display()\n",
    "square(9)\n",
    "power(2,4)"
   ]
  },
  {
   "cell_type": "code",
   "execution_count": null,
   "id": "f7939283",
   "metadata": {},
   "outputs": [],
   "source": [
    "# a big problem or good decorator\n",
    "\n",
    "@checkdt(int)\n",
    "def square(num):\n",
    "    print(num**2)"
   ]
  },
  {
   "cell_type": "code",
   "execution_count": 19,
   "id": "60920935",
   "metadata": {},
   "outputs": [
    {
     "name": "stdout",
     "output_type": "stream",
     "text": [
      "4\n"
     ]
    }
   ],
   "source": [
    "def sanity_check(data_type):\n",
    "  def outer_wrapper(func):\n",
    "    def inner_wrapper(*args):\n",
    "      if type(*args) == data_type:\n",
    "        func(*args)\n",
    "      else:\n",
    "        raise TypeError('Ye datatype nai chalega')\n",
    "    return inner_wrapper\n",
    "  return outer_wrapper\n",
    "\n",
    "@sanity_check(int)\n",
    "def square(num):\n",
    "  print(num**2)\n",
    "\n",
    "@sanity_check(str)\n",
    "def greet(name):\n",
    "  print('hello',name)\n",
    "\n",
    "square(2)"
   ]
  },
  {
   "cell_type": "code",
   "execution_count": null,
   "id": "07dbadf5",
   "metadata": {},
   "outputs": [],
   "source": []
  }
 ],
 "metadata": {
  "kernelspec": {
   "display_name": "Python 3",
   "language": "python",
   "name": "python3"
  },
  "language_info": {
   "codemirror_mode": {
    "name": "ipython",
    "version": 3
   },
   "file_extension": ".py",
   "mimetype": "text/x-python",
   "name": "python",
   "nbconvert_exporter": "python",
   "pygments_lexer": "ipython3",
   "version": "3.11.3"
  }
 },
 "nbformat": 4,
 "nbformat_minor": 5
}
