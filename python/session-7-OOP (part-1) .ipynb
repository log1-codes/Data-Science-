{
 "cells": [
  {
   "cell_type": "code",
   "execution_count": 1,
   "id": "263a50b9-8453-40c9-ac78-5996cfd5b269",
   "metadata": {},
   "outputs": [
    {
     "ename": "AttributeError",
     "evalue": "'list' object has no attribute 'upper'",
     "output_type": "error",
     "traceback": [
      "\u001b[1;31m---------------------------------------------------------------------------\u001b[0m",
      "\u001b[1;31mAttributeError\u001b[0m                            Traceback (most recent call last)",
      "Cell \u001b[1;32mIn[1], line 2\u001b[0m\n\u001b[0;32m      1\u001b[0m L \u001b[38;5;241m=\u001b[39m[\u001b[38;5;241m1\u001b[39m,\u001b[38;5;241m2\u001b[39m,\u001b[38;5;241m3\u001b[39m]\n\u001b[1;32m----> 2\u001b[0m \u001b[43mL\u001b[49m\u001b[38;5;241;43m.\u001b[39;49m\u001b[43mupper\u001b[49m()\n",
      "\u001b[1;31mAttributeError\u001b[0m: 'list' object has no attribute 'upper'"
     ]
    }
   ],
   "source": [
    "L =[1,2,3]\n",
    "L.upper()"
   ]
  },
  {
   "cell_type": "code",
   "execution_count": 2,
   "id": "b9cb001a-a7c5-4172-b16d-b200ad8d1fd4",
   "metadata": {},
   "outputs": [
    {
     "ename": "AttributeError",
     "evalue": "'str' object has no attribute 'append'",
     "output_type": "error",
     "traceback": [
      "\u001b[1;31m---------------------------------------------------------------------------\u001b[0m",
      "\u001b[1;31mAttributeError\u001b[0m                            Traceback (most recent call last)",
      "Cell \u001b[1;32mIn[2], line 2\u001b[0m\n\u001b[0;32m      1\u001b[0m s \u001b[38;5;241m=\u001b[39m \u001b[38;5;124m'\u001b[39m\u001b[38;5;124mhello\u001b[39m\u001b[38;5;124m'\u001b[39m\n\u001b[1;32m----> 2\u001b[0m \u001b[43ms\u001b[49m\u001b[38;5;241;43m.\u001b[39;49m\u001b[43mappend\u001b[49m(\u001b[38;5;124m'\u001b[39m\u001b[38;5;124mx\u001b[39m\u001b[38;5;124m'\u001b[39m)\n",
      "\u001b[1;31mAttributeError\u001b[0m: 'str' object has no attribute 'append'"
     ]
    }
   ],
   "source": [
    "s = 'hello'\n",
    "s.append('x')"
   ]
  },
  {
   "cell_type": "code",
   "execution_count": 3,
   "id": "7525caab-8db7-46f7-9282-ead62256c019",
   "metadata": {},
   "outputs": [],
   "source": [
    "# syntax to create an object\n",
    "# objectName = classname()"
   ]
  },
  {
   "cell_type": "code",
   "execution_count": 4,
   "id": "89f21766-1ae4-47d0-bdcf-6d3ef9d76089",
   "metadata": {},
   "outputs": [],
   "source": [
    "#object literal \n",
    "L= [1,2,3] "
   ]
  },
  {
   "cell_type": "code",
   "execution_count": 5,
   "id": "613a6291-aa1c-4f3b-a36a-c3044e101e1e",
   "metadata": {},
   "outputs": [
    {
     "data": {
      "text/plain": [
       "[]"
      ]
     },
     "execution_count": 5,
     "metadata": {},
     "output_type": "execute_result"
    }
   ],
   "source": [
    "L = list()\n",
    "L"
   ]
  },
  {
   "cell_type": "code",
   "execution_count": 6,
   "id": "9bdf17a7-a3a6-46bd-a721-bce6e7124259",
   "metadata": {},
   "outputs": [
    {
     "data": {
      "text/plain": [
       "''"
      ]
     },
     "execution_count": 6,
     "metadata": {},
     "output_type": "execute_result"
    }
   ],
   "source": [
    "s = str()\n",
    "s"
   ]
  },
  {
   "cell_type": "code",
   "execution_count": 7,
   "id": "a7efe804-b1bf-4a00-a819-4cedfac4fa3f",
   "metadata": {},
   "outputs": [],
   "source": [
    "# ATM"
   ]
  },
  {
   "cell_type": "code",
   "execution_count": 8,
   "id": "3b011277-8bc8-4c9d-bf97-826168e4cfc2",
   "metadata": {},
   "outputs": [],
   "source": [
    "# classname --> pascal case \n",
    "# HelloWorld "
   ]
  },
  {
   "cell_type": "code",
   "execution_count": 7,
   "id": "865e4c2c-620f-4342-8a37-1f67ed74850d",
   "metadata": {},
   "outputs": [],
   "source": [
    "class Atm:\n",
    "\n",
    "    # Constructor (special function) \n",
    "    def __init__(self):\n",
    "        print(id(self))\n",
    "        self.pin = '' \n",
    "        self.balance = 0\n",
    "       # self.menu()\n",
    "        print('ye to run ho gya bhai')\n",
    "        # Functionality in our ATM\n",
    "\n",
    "    def menu(self):\n",
    "        user_input = input(\"\"\"\n",
    "        Hi how can I help you?\n",
    "            1. Press 1 to create pin\n",
    "            2. Press 2 to change pin\n",
    "            3. Press 3 to check balance\n",
    "            4. Press 4 to withdraw the money\n",
    "            5. Anything else to exit\n",
    "            \"\"\")\n",
    "\n",
    "        if user_input == '1':\n",
    "                self.create_pin()\n",
    "        elif user_input == '2':\n",
    "                #change pin\n",
    "                self.change_pin()\n",
    "        elif user_input =='3':\n",
    "                #check balance\n",
    "                self.check_balance()\n",
    "        elif user_input == '4':\n",
    "                #withdraw\n",
    "                self.withdraw()\n",
    "                pass\n",
    "        else:\n",
    "                exit()\n",
    "\n",
    "    def create_pin(self):\n",
    "        user_pin = input('enter your pin')\n",
    "        self.pin =  user_pin\n",
    "\n",
    "        user_balance = int(input('enter balance'))\n",
    "        self.balance = user_balance\n",
    "\n",
    "        print('pin created successfully')\n",
    "        self.menu()\n",
    "\n",
    "    def change_pin(self):\n",
    "        old_pin = input('Enter your old pin')\n",
    "        if(old_pin == self.pin):\n",
    "            #let him change pin\n",
    "            new_pin = input('enter new pin')\n",
    "            self.pin = new_pin\n",
    "            print('pin changed successfully')\n",
    "            self.menu()\n",
    "        else:\n",
    "            print('nai kar skte bhago yaha se')\n",
    "            self.menu()\n",
    "\n",
    "    def check_balance(self):\n",
    "        balance_pin = input('enter your pin')\n",
    "        if balance_pin == self.pin:\n",
    "            print('your balance is:', self.balance)\n",
    "            self.menu()\n",
    "        else:\n",
    "            print('bhaad me jaa nhi bata rha')\n",
    "            self.menu()\n",
    "\n",
    "\n",
    "    def withdraw(self):\n",
    "        withdraw_input = input('Enter the pin to withdraw')\n",
    "        if withdraw_input == self.pin:\n",
    "            #allow to withdraw\n",
    "            amount = int(input('enter the amount to withdraw'))\n",
    "            if amount <= self.balance:\n",
    "                self.balance  = self.balance - amount \n",
    "                print('withdrawl successfull')\n",
    "                print(\"remaining balance is\", self.balance)\n",
    "            else:\n",
    "                print('abe saale garib')\n",
    "        else:\n",
    "            #saale chor \n",
    "            print('saale chor')\n",
    "        self.menu()"
   ]
  },
  {
   "cell_type": "code",
   "execution_count": 8,
   "id": "fc7ce59c-5d3f-481e-92e6-0897d3256db1",
   "metadata": {},
   "outputs": [
    {
     "name": "stdout",
     "output_type": "stream",
     "text": [
      "1431841818704\n",
      "ye to run ho gya bhai\n"
     ]
    }
   ],
   "source": [
    "obj = Atm()"
   ]
  },
  {
   "cell_type": "code",
   "execution_count": 9,
   "id": "d55f1607-800a-44a4-889b-55044e3e9cd5",
   "metadata": {},
   "outputs": [
    {
     "name": "stdout",
     "output_type": "stream",
     "text": [
      "1431841818704\n"
     ]
    }
   ],
   "source": [
    "print(id(obj))"
   ]
  },
  {
   "cell_type": "code",
   "execution_count": 15,
   "id": "8c8ebf5c-b4de-4f3f-a15a-7a4d5171ea31",
   "metadata": {},
   "outputs": [
    {
     "data": {
      "text/plain": [
       "0"
      ]
     },
     "execution_count": 15,
     "metadata": {},
     "output_type": "execute_result"
    }
   ],
   "source": [
    "obj.balance"
   ]
  },
  {
   "cell_type": "markdown",
   "id": "90d7b7be-5a60-4ea9-9f7b-e8a91aec719c",
   "metadata": {},
   "source": [
    "## Methods vs functions "
   ]
  },
  {
   "cell_type": "code",
   "execution_count": 2,
   "id": "7096293c-d2ed-4479-8cd1-85a548b4f973",
   "metadata": {},
   "outputs": [],
   "source": [
    "L = [1,2,3]\n",
    "len(L) #--> function cause it is outside list class \n",
    "L.append(4) # --> it is a method becuase it is inside the list class "
   ]
  },
  {
   "cell_type": "code",
   "execution_count": 3,
   "id": "256601cf-ec0e-4589-825f-b6d7e2f821e5",
   "metadata": {},
   "outputs": [
    {
     "name": "stdout",
     "output_type": "stream",
     "text": [
      "hello\n"
     ]
    }
   ],
   "source": [
    "class Temp:\n",
    "    def __init__(self):\n",
    "        print('hello')\n",
    "obj = Temp()"
   ]
  },
  {
   "cell_type": "markdown",
   "id": "ffc217b5-0ed1-4a62-bedd-fec3d88c1e05",
   "metadata": {},
   "source": [
    "## self keyword (done)"
   ]
  },
  {
   "cell_type": "code",
   "execution_count": 17,
   "id": "4727b254-6971-45ff-9945-af3656502ae6",
   "metadata": {},
   "outputs": [],
   "source": [
    "# fraction class"
   ]
  },
  {
   "cell_type": "code",
   "execution_count": 7,
   "id": "94779f2c-5701-45f7-bec7-699ba804a241",
   "metadata": {},
   "outputs": [],
   "source": [
    "class Fraction:\n",
    "    # Parameterized constructor\n",
    "    def __init__(self, x, y):\n",
    "        if y == 0:\n",
    "            raise ValueError(\"Denominator cannot be zero.\")\n",
    "        self.num = x\n",
    "        self.den = y\n",
    "\n",
    "    def __str__(self):\n",
    "        return '{}/{}'.format(self.num, self.den)\n",
    "\n",
    "    def __add__(self, other):\n",
    "        new_num = self.num * other.den + other.num * self.den\n",
    "        new_den = self.den * other.den\n",
    "        return Fraction(new_num, new_den)\n",
    "\n",
    "    def __sub__(self, other):\n",
    "        new_num = self.num * other.den - other.num * self.den\n",
    "        new_den = self.den * other.den\n",
    "        return Fraction(new_num, new_den)\n",
    "\n",
    "    def __mul__(self, other):\n",
    "        new_num = self.num * other.num\n",
    "        new_den = self.den * other.den\n",
    "        return Fraction(new_num, new_den)\n",
    "\n",
    "    def __truediv__(self, other):\n",
    "        if other.num == 0:\n",
    "            raise ValueError(\"Cannot divide by zero.\")\n",
    "        new_num = self.num * other.den\n",
    "        new_den = self.den * other.num\n",
    "        return Fraction(new_num, new_den)\n",
    "\n",
    "    def convert_to_decimal(self):\n",
    "        return self.num / self.den"
   ]
  },
  {
   "cell_type": "raw",
   "id": "1d1dd590-9f6c-476e-ba8e-3b1287f85685",
   "metadata": {},
   "source": [
    "fraction1  = Fraction(3, 4)\n",
    "fraction2 = Fraction(1, 2)"
   ]
  },
  {
   "cell_type": "code",
   "execution_count": 13,
   "id": "bc27c8b8-8b31-4de0-bf27-055ad8096200",
   "metadata": {},
   "outputs": [
    {
     "ename": "NameError",
     "evalue": "name 'fraction1' is not defined",
     "output_type": "error",
     "traceback": [
      "\u001b[1;31m---------------------------------------------------------------------------\u001b[0m",
      "\u001b[1;31mNameError\u001b[0m                                 Traceback (most recent call last)",
      "Cell \u001b[1;32mIn[13], line 5\u001b[0m\n\u001b[0;32m      1\u001b[0m \u001b[38;5;66;03m# decimal_value = fr1.convert_to_decimal()\u001b[39;00m\n\u001b[0;32m      2\u001b[0m \u001b[38;5;66;03m# print(\"Decimal representation of Fraction 1 (3/4):\", decimal_value)\u001b[39;00m\n\u001b[1;32m----> 5\u001b[0m \u001b[38;5;28mprint\u001b[39m(\u001b[43mfraction1\u001b[49m \u001b[38;5;241m+\u001b[39m fraction2)\n\u001b[0;32m      6\u001b[0m \u001b[38;5;66;03m# print(fr1 - fr2)\u001b[39;00m\n\u001b[0;32m      7\u001b[0m \u001b[38;5;66;03m# print(fr1 * fr2)\u001b[39;00m\n\u001b[0;32m      8\u001b[0m \u001b[38;5;66;03m# print(fr1 / fr2)\u001b[39;00m\n",
      "\u001b[1;31mNameError\u001b[0m: name 'fraction1' is not defined"
     ]
    }
   ],
   "source": [
    "# decimal_value = fr1.convert_to_decimal()\n",
    "# print(\"Decimal representation of Fraction 1 (3/4):\", decimal_value)\n",
    "\n",
    "\n",
    "print(fraction1 + fraction2)\n",
    "# print(fr1 - fr2)\n",
    "# print(fr1 * fr2)\n",
    "# print(fr1 / fr2)"
   ]
  },
  {
   "cell_type": "code",
   "execution_count": 11,
   "id": "688935fa-b181-4b7d-975c-d3ebf5d06dd7",
   "metadata": {},
   "outputs": [],
   "source": [
    "#fuck i dont know why error "
   ]
  },
  {
   "cell_type": "code",
   "execution_count": null,
   "id": "ed774c0a-df3b-467c-8939-c7db346018e9",
   "metadata": {},
   "outputs": [],
   "source": []
  }
 ],
 "metadata": {
  "kernelspec": {
   "display_name": "Python 3 (ipykernel)",
   "language": "python",
   "name": "python3"
  },
  "language_info": {
   "codemirror_mode": {
    "name": "ipython",
    "version": 3
   },
   "file_extension": ".py",
   "mimetype": "text/x-python",
   "name": "python",
   "nbconvert_exporter": "python",
   "pygments_lexer": "ipython3",
   "version": "3.11.3"
  }
 },
 "nbformat": 4,
 "nbformat_minor": 5
}
