{
 "cells": [
  {
   "cell_type": "code",
   "execution_count": null,
   "id": "f7471fa0",
   "metadata": {},
   "outputs": [],
   "source": [
    "# generators in python "
   ]
  },
  {
   "cell_type": "code",
   "execution_count": 1,
   "id": "01c2b8dc",
   "metadata": {},
   "outputs": [
    {
     "name": "stdout",
     "output_type": "stream",
     "text": [
      "Hello Duniya\n"
     ]
    }
   ],
   "source": [
    "print(\"Hello Duniya\")"
   ]
  },
  {
   "cell_type": "code",
   "execution_count": 11,
   "id": "f24c2051",
   "metadata": {},
   "outputs": [],
   "source": [
    "# simple example\n",
    "\n",
    "def gen_demo():\n",
    "    yield \"first statemenet\"\n",
    "    yield \"second statemenet\"\n",
    "    yield \"third statemenet\"\n",
    "    yield \"fourth statemenet\""
   ]
  },
  {
   "cell_type": "code",
   "execution_count": 12,
   "id": "c85f0ca7",
   "metadata": {},
   "outputs": [
    {
     "name": "stdout",
     "output_type": "stream",
     "text": [
      "<generator object gen_demo at 0x000001B3B6FD9DD0>\n"
     ]
    }
   ],
   "source": [
    "gen = gen_demo()\n",
    "print(gen)"
   ]
  },
  {
   "cell_type": "code",
   "execution_count": 16,
   "id": "615fcd3a",
   "metadata": {},
   "outputs": [
    {
     "name": "stdout",
     "output_type": "stream",
     "text": [
      "first statemenet\n",
      "second statemenet\n",
      "third statemenet\n",
      "fourth statemenet\n"
     ]
    }
   ],
   "source": [
    "gen = gen_demo()\n",
    "for i in gen:\n",
    "    print(i)"
   ]
  },
  {
   "cell_type": "code",
   "execution_count": 17,
   "id": "8250f0de",
   "metadata": {},
   "outputs": [],
   "source": [
    "# Example 2 \n",
    "def square(num):\n",
    "    for i in range(1 ,num+1):\n",
    "        yield i**2\n"
   ]
  },
  {
   "cell_type": "code",
   "execution_count": 22,
   "id": "70038cbe",
   "metadata": {},
   "outputs": [
    {
     "name": "stdout",
     "output_type": "stream",
     "text": [
      "1\n",
      "4\n",
      "9\n",
      "16\n",
      "25\n",
      "36\n",
      "49\n",
      "64\n",
      "81\n",
      "100\n"
     ]
    }
   ],
   "source": [
    "gen = square(10)\n",
    "print(next(gen))\n",
    "print(next(gen))\n",
    "print(next(gen))\n",
    "for i in gen:\n",
    "    print(i)"
   ]
  },
  {
   "cell_type": "code",
   "execution_count": 23,
   "id": "77c9dc95",
   "metadata": {},
   "outputs": [],
   "source": [
    "# Range function using generator "
   ]
  },
  {
   "cell_type": "code",
   "execution_count": null,
   "id": "506a7395",
   "metadata": {},
   "outputs": [],
   "source": [
    "def new_Range(start , end):\n",
    "    for i in range(start , end):\n",
    "        yield i "
   ]
  },
  {
   "cell_type": "code",
   "execution_count": 25,
   "id": "ba74ac93",
   "metadata": {},
   "outputs": [
    {
     "name": "stdout",
     "output_type": "stream",
     "text": [
      "15\n",
      "16\n",
      "17\n",
      "18\n",
      "19\n",
      "20\n",
      "21\n",
      "22\n",
      "23\n",
      "24\n",
      "25\n"
     ]
    }
   ],
   "source": [
    "gen = new_Range(15,26)\n",
    "for i in gen:\n",
    "    print(i)\n"
   ]
  },
  {
   "cell_type": "markdown",
   "id": "a784d35a",
   "metadata": {},
   "source": [
    "#### Generator Expression"
   ]
  },
  {
   "cell_type": "code",
   "execution_count": 2,
   "id": "b6a96f10",
   "metadata": {},
   "outputs": [
    {
     "data": {
      "text/plain": [
       "[1, 4, 9, 16, 25, 36, 49, 64, 81, 100]"
      ]
     },
     "execution_count": 2,
     "metadata": {},
     "output_type": "execute_result"
    }
   ],
   "source": [
    "# list comprehension \n",
    "L = [i**2 for i in range(1,11)]\n",
    "L"
   ]
  },
  {
   "cell_type": "code",
   "execution_count": 3,
   "id": "1d1be8c7",
   "metadata": {},
   "outputs": [
    {
     "name": "stdout",
     "output_type": "stream",
     "text": [
      "1\n",
      "4\n",
      "9\n",
      "16\n",
      "25\n",
      "36\n",
      "49\n",
      "64\n",
      "81\n",
      "100\n"
     ]
    }
   ],
   "source": [
    "gen = (i**2 for i in range(1,11))\n",
    "for i in gen:\n",
    "    print(i)"
   ]
  },
  {
   "cell_type": "code",
   "execution_count": 7,
   "id": "004533dd",
   "metadata": {},
   "outputs": [],
   "source": [
    "# Practical Example \n",
    "\n",
    "import os\n",
    "import cv2 \n",
    "\n",
    "def image_data_reader(folder_path):\n",
    "    for file in os.listdir(folder_path):\n",
    "        f_array =  cv2.imread(os.path.join(folder_path , file))\n",
    "        yield f_array"
   ]
  },
  {
   "cell_type": "code",
   "execution_count": null,
   "id": "c9c4a788",
   "metadata": {},
   "outputs": [],
   "source": []
  }
 ],
 "metadata": {
  "kernelspec": {
   "display_name": "Python 3",
   "language": "python",
   "name": "python3"
  },
  "language_info": {
   "codemirror_mode": {
    "name": "ipython",
    "version": 3
   },
   "file_extension": ".py",
   "mimetype": "text/x-python",
   "name": "python",
   "nbconvert_exporter": "python",
   "pygments_lexer": "ipython3",
   "version": "3.11.3"
  }
 },
 "nbformat": 4,
 "nbformat_minor": 5
}
