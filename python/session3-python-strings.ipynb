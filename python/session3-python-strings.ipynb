{
 "cells": [
  {
   "cell_type": "code",
   "execution_count": 6,
   "id": "10dc509c-b83d-4a88-bbf1-59e8b8e2b768",
   "metadata": {},
   "outputs": [
    {
     "name": "stdout",
     "output_type": "stream",
     "text": [
      "10 10000\n",
      "9 9090.90909090909\n",
      "8 8264.462809917353\n",
      "7 7513.148009015775\n",
      "6 6830.134553650703\n",
      "5 6209.213230591548\n",
      "4 5644.739300537771\n",
      "3 5131.5811823070635\n",
      "2 4665.07380209733\n",
      "1 4240.976183724845\n"
     ]
    }
   ],
   "source": [
    "curr_pop = 10000\n",
    "\n",
    "for i in range(10,0,-1):\n",
    "    print (i, curr_pop)\n",
    "    curr_pop = curr_pop/1.1"
   ]
  },
  {
   "cell_type": "markdown",
   "id": "ef4e28d0-119a-4085-89c6-fa863f9d64a3",
   "metadata": {},
   "source": [
    "# Sequence sum"
   ]
  },
  {
   "cell_type": "markdown",
   "id": "b1a13560-c7db-47ef-852f-d625b5e71c92",
   "metadata": {},
   "source": [
    "## 1/1!+2/2!+3/3!+...."
   ]
  },
  {
   "cell_type": "code",
   "execution_count": 15,
   "id": "43d0fc0a-f185-43c5-873e-d71c39d5562a",
   "metadata": {},
   "outputs": [
    {
     "name": "stdin",
     "output_type": "stream",
     "text": [
      "enter n =  8\n"
     ]
    },
    {
     "name": "stdout",
     "output_type": "stream",
     "text": [
      "2.7182539682539684\n"
     ]
    }
   ],
   "source": [
    "n = int(input('enter n = '))\n",
    "result =0\n",
    "fact =1\n",
    "for i in range(1, n+1):\n",
    "    fact = fact*i\n",
    "    result =result+i/fact\n",
    "print(result)"
   ]
  },
  {
   "cell_type": "markdown",
   "id": "415820e0-45bc-450a-8821-4d34440fcfc8",
   "metadata": {},
   "source": [
    "# Nested Loops"
   ]
  },
  {
   "cell_type": "code",
   "execution_count": 16,
   "id": "fb82e3b4-503c-4876-bb09-cfcc90dffb61",
   "metadata": {},
   "outputs": [
    {
     "name": "stdout",
     "output_type": "stream",
     "text": [
      "1 1\n",
      "2 2\n",
      "3 3\n",
      "4 4\n"
     ]
    }
   ],
   "source": [
    "for i in range (1,5):\n",
    "    for j in range(1,5):\n",
    "        if(i == j):\n",
    "            print(i ,j)"
   ]
  },
  {
   "cell_type": "markdown",
   "id": "5eaa734b-5952-45b9-b1db-9fa5fffde7fc",
   "metadata": {},
   "source": [
    "# Pattern 1"
   ]
  },
  {
   "cell_type": "code",
   "execution_count": 27,
   "id": "74f93398-c0a5-47fb-8a2d-494fb0913e4c",
   "metadata": {},
   "outputs": [
    {
     "name": "stdin",
     "output_type": "stream",
     "text": [
      "enter number of rows :  5\n"
     ]
    },
    {
     "name": "stdout",
     "output_type": "stream",
     "text": [
      "*\n",
      "**\n",
      "***\n",
      "****\n",
      "*****\n"
     ]
    }
   ],
   "source": [
    "num = int(input('enter number of rows : '))\n",
    "\n",
    "for i in range (1 , num+1):\n",
    "    for j in range(1 , i+1):\n",
    "        print('*' ,end='')\n",
    "    print() # for new line after the loop"
   ]
  },
  {
   "cell_type": "code",
   "execution_count": 30,
   "id": "df9d440e-3eb8-4f8e-81ae-ff3872cdc299",
   "metadata": {},
   "outputs": [],
   "source": [
    "#pattern 2\n",
    "# 1\n",
    "# 121\n",
    "# 12321\n",
    "# 1234321"
   ]
  },
  {
   "cell_type": "code",
   "execution_count": 37,
   "id": "17f0b038-8e5c-4949-9478-3bc7e3074de3",
   "metadata": {},
   "outputs": [
    {
     "name": "stdin",
     "output_type": "stream",
     "text": [
      "enter number of rows :  5\n"
     ]
    },
    {
     "name": "stdout",
     "output_type": "stream",
     "text": [
      "1\n",
      "121\n",
      "12321\n",
      "1234321\n",
      "123454321\n"
     ]
    }
   ],
   "source": [
    "rows = int(input('enter number of rows : '))\n",
    "for i in range(1,rows+1):\n",
    "    for j in range(1 , i+1):\n",
    "        print(j , end='')\n",
    "    for k in range(i-1, 0, -1):\n",
    "        print(k , end ='')\n",
    "    print()"
   ]
  },
  {
   "cell_type": "code",
   "execution_count": 1,
   "id": "6900c228-91d7-4f89-bd54-6a2f5697c075",
   "metadata": {},
   "outputs": [],
   "source": [
    "# Loop Control Statement\n",
    "#break\n",
    "#continue\n",
    "#Pass "
   ]
  },
  {
   "cell_type": "code",
   "execution_count": 3,
   "id": "57d84b53-46ee-4560-965f-7305e558e120",
   "metadata": {},
   "outputs": [
    {
     "name": "stdout",
     "output_type": "stream",
     "text": [
      "1\n",
      "2\n",
      "3\n",
      "4\n"
     ]
    }
   ],
   "source": [
    "for i in range (1,10):\n",
    "    if(i==5):\n",
    "        break\n",
    "    print(i)"
   ]
  },
  {
   "cell_type": "code",
   "execution_count": 6,
   "id": "2d2ddfbd-e3ee-4a77-a22a-0e6de430c364",
   "metadata": {},
   "outputs": [
    {
     "name": "stdin",
     "output_type": "stream",
     "text": [
      "enter the lower range 10\n",
      "enter the upper range 100\n"
     ]
    },
    {
     "name": "stdout",
     "output_type": "stream",
     "text": [
      "11\n",
      "13\n",
      "17\n",
      "19\n",
      "23\n",
      "29\n",
      "31\n",
      "37\n",
      "41\n",
      "43\n",
      "47\n",
      "53\n",
      "59\n",
      "61\n",
      "67\n",
      "71\n",
      "73\n",
      "79\n",
      "83\n",
      "89\n",
      "97\n"
     ]
    }
   ],
   "source": [
    "#prime numbers in a range\n",
    "lower = int(input('enter the lower range'))\n",
    "upper = int(input('enter the upper range'))\n",
    "for i in range(lower, upper+1):\n",
    "    for j in range (2,i):\n",
    "        if i%j ==0:\n",
    "            break\n",
    "    else:\n",
    "            print(i)"
   ]
  },
  {
   "cell_type": "code",
   "execution_count": 7,
   "id": "8e5fd3dc-298e-44a4-a6bd-c89b8bb94bdf",
   "metadata": {},
   "outputs": [],
   "source": [
    "#continue stattements"
   ]
  },
  {
   "cell_type": "code",
   "execution_count": 8,
   "id": "19fe6155-f6f2-4ef5-9257-51bb688bd308",
   "metadata": {},
   "outputs": [
    {
     "name": "stdout",
     "output_type": "stream",
     "text": [
      "1\n",
      "2\n",
      "3\n",
      "4\n",
      "6\n",
      "7\n",
      "8\n",
      "9\n"
     ]
    }
   ],
   "source": [
    "for i in range(1,10):\n",
    "    if i ==5 :\n",
    "        continue\n",
    "    print(i)"
   ]
  },
  {
   "cell_type": "code",
   "execution_count": 11,
   "id": "929f0405-0428-463d-a7b4-33de77380037",
   "metadata": {},
   "outputs": [],
   "source": [
    "for i in range (1,10):\n",
    "    pass # if you don't have the code it will help to pass the code and you can write that code later also"
   ]
  },
  {
   "cell_type": "markdown",
   "id": "cfff3f47-2e5a-4321-8d14-8f596752d11a",
   "metadata": {},
   "source": [
    "# Strings"
   ]
  },
  {
   "cell_type": "markdown",
   "id": "9ec9d7ff-b50c-4215-ba74-6d9bd9234540",
   "metadata": {},
   "source": [
    "### Strings are sequence of Characters\n",
    "\n",
    "In Python specifically, strings are a sequence of Unicode Characters\n",
    "\n",
    "Creating Strings\n",
    "Accessing Strings\n",
    "Adding Chars to Strings\n",
    "Editing Strings\n",
    "Deleting Strings\n",
    "Operations on Strings\n",
    "String Functions"
   ]
  },
  {
   "cell_type": "markdown",
   "id": "7c8fb62a-3a92-4dbb-b6ff-c32f4191b7e2",
   "metadata": {},
   "source": [
    "# Creating string"
   ]
  },
  {
   "cell_type": "code",
   "execution_count": 15,
   "id": "13552be9-6018-4893-a512-2711b48c145d",
   "metadata": {},
   "outputs": [
    {
     "name": "stdout",
     "output_type": "stream",
     "text": [
      "hello\n"
     ]
    }
   ],
   "source": [
    "s ='hello' \n",
    "s =\"hello\"\n",
    "s = '''hello''' # for multiline string \n",
    "s = \"\"\"hello \"\"\" # for multiline string \n",
    "s = str('hello')\n",
    "print(s)"
   ]
  },
  {
   "cell_type": "markdown",
   "id": "693264f6-bf04-44e0-b215-770419d8e500",
   "metadata": {},
   "source": [
    "# Accessing Substrings from a string"
   ]
  },
  {
   "cell_type": "code",
   "execution_count": 9,
   "id": "128636bd-fa8a-4de3-bb18-50a9bc9cb3c0",
   "metadata": {},
   "outputs": [
    {
     "name": "stdout",
     "output_type": "stream",
     "text": [
      "w\n",
      "s\n"
     ]
    }
   ],
   "source": [
    "# positive indexing \n",
    "s = 'hello world'\n",
    "print(s[6])\n",
    "#negative indexing \n",
    "s='anurag singh' \n",
    "print(s[-5])"
   ]
  },
  {
   "cell_type": "code",
   "execution_count": 19,
   "id": "7fff781b-dfa9-4f62-bfae-85c48dd80bd9",
   "metadata": {},
   "outputs": [
    {
     "name": "stdout",
     "output_type": "stream",
     "text": [
      "hello\n",
      "l\n",
      "llo world\n",
      "hel\n",
      "hello world\n",
      "hlow\n",
      "w olle\n",
      "wol\n",
      "dlrow olleh\n"
     ]
    }
   ],
   "source": [
    "# slicing of string \n",
    "s='hello world'\n",
    "print(s[0:5])\n",
    "print(s[2:3])\n",
    "print(s[2:])\n",
    "print(s[:3])\n",
    "print(s[:])\n",
    "print(s[0:8:2]) # last number is stepsize #kind of jump\n",
    "print(s[6:0:-1])\n",
    "print(s[6:0:-2])\n",
    "print(s[::-1]) # reverse a string"
   ]
  },
  {
   "cell_type": "code",
   "execution_count": 21,
   "id": "f8148a30-8dff-44f0-ac8b-a8e15abde72b",
   "metadata": {},
   "outputs": [
    {
     "name": "stdout",
     "output_type": "stream",
     "text": [
      "world\n",
      "dlrow\n"
     ]
    }
   ],
   "source": [
    "s= 'hello world'\n",
    "print(s[-5:])\n",
    "print(s[-1:-6:-1])"
   ]
  },
  {
   "cell_type": "markdown",
   "id": "dd5187fa-7dba-4c3a-955a-cc37aae94d0a",
   "metadata": {},
   "source": [
    "# Editing and Deleting a String "
   ]
  },
  {
   "cell_type": "code",
   "execution_count": 23,
   "id": "6f597882-4ee8-4600-8236-66da0bd13525",
   "metadata": {},
   "outputs": [],
   "source": [
    "s ='hello anurag'\n",
    "#s[0] = 'H' # string does not support item assigment hence python strings are immutable"
   ]
  },
  {
   "cell_type": "code",
   "execution_count": 24,
   "id": "4305e56d-3508-4e09-90a6-7edc4af5511b",
   "metadata": {},
   "outputs": [
    {
     "ename": "NameError",
     "evalue": "name 's' is not defined",
     "output_type": "error",
     "traceback": [
      "\u001b[1;31m---------------------------------------------------------------------------\u001b[0m",
      "\u001b[1;31mNameError\u001b[0m                                 Traceback (most recent call last)",
      "Cell \u001b[1;32mIn[24], line 3\u001b[0m\n\u001b[0;32m      1\u001b[0m s \u001b[38;5;241m=\u001b[39m\u001b[38;5;124m'\u001b[39m\u001b[38;5;124mhello duniya\u001b[39m\u001b[38;5;124m'\u001b[39m\n\u001b[0;32m      2\u001b[0m \u001b[38;5;28;01mdel\u001b[39;00m s\n\u001b[1;32m----> 3\u001b[0m \u001b[38;5;28mprint\u001b[39m(\u001b[43ms\u001b[49m)\n",
      "\u001b[1;31mNameError\u001b[0m: name 's' is not defined"
     ]
    }
   ],
   "source": [
    "s ='hello duniya'\n",
    "del s\n",
    "print(s) # error cause s has already been deleted "
   ]
  },
  {
   "cell_type": "code",
   "execution_count": 25,
   "id": "76e83542-d9ae-4caf-94db-599f0d1b8743",
   "metadata": {},
   "outputs": [
    {
     "name": "stdout",
     "output_type": "stream",
     "text": [
      "hello duniya\n"
     ]
    },
    {
     "ename": "TypeError",
     "evalue": "'str' object does not support item deletion",
     "output_type": "error",
     "traceback": [
      "\u001b[1;31m---------------------------------------------------------------------------\u001b[0m",
      "\u001b[1;31mTypeError\u001b[0m                                 Traceback (most recent call last)",
      "Cell \u001b[1;32mIn[25], line 3\u001b[0m\n\u001b[0;32m      1\u001b[0m s \u001b[38;5;241m=\u001b[39m\u001b[38;5;124m'\u001b[39m\u001b[38;5;124mhello duniya\u001b[39m\u001b[38;5;124m'\u001b[39m\n\u001b[0;32m      2\u001b[0m \u001b[38;5;28mprint\u001b[39m(s) \n\u001b[1;32m----> 3\u001b[0m \u001b[38;5;28;01mdel\u001b[39;00m \u001b[43ms\u001b[49m\u001b[43m[\u001b[49m\u001b[38;5;241;43m-\u001b[39;49m\u001b[38;5;241;43m1\u001b[39;49m\u001b[43m \u001b[49m\u001b[43m:\u001b[49m\u001b[38;5;241;43m5\u001b[39;49m\u001b[43m \u001b[49m\u001b[43m:\u001b[49m\u001b[38;5;241;43m2\u001b[39;49m\u001b[43m]\u001b[49m\n\u001b[0;32m      4\u001b[0m \u001b[38;5;28mprint\u001b[39m(s)\n",
      "\u001b[1;31mTypeError\u001b[0m: 'str' object does not support item deletion"
     ]
    }
   ],
   "source": [
    "s ='hello duniya'\n",
    "print(s) \n",
    "del s[-1 :5 :2] #not possible cause strings are immutable \n",
    "print(s)"
   ]
  },
  {
   "cell_type": "markdown",
   "id": "005fffd4-e5bf-4f91-8c2c-517f20b119fb",
   "metadata": {},
   "source": [
    "# Operations on Strings"
   ]
  },
  {
   "cell_type": "code",
   "execution_count": 26,
   "id": "ed8b7269-8389-4e64-b467-b43d4b3e903e",
   "metadata": {},
   "outputs": [],
   "source": [
    "#arithmetic , logical ,relational , loops, membership"
   ]
  },
  {
   "cell_type": "code",
   "execution_count": 27,
   "id": "e8b31d01-630c-4d09-b79e-9248d9d0bcb2",
   "metadata": {},
   "outputs": [
    {
     "name": "stdout",
     "output_type": "stream",
     "text": [
      "dehlimumbai\n"
     ]
    }
   ],
   "source": [
    "print('dehli'+'mumbai')"
   ]
  },
  {
   "cell_type": "code",
   "execution_count": 28,
   "id": "7ab3ab71-ce83-4d2a-b6da-9071beaeeffb",
   "metadata": {},
   "outputs": [
    {
     "name": "stdout",
     "output_type": "stream",
     "text": [
      "dehlidehlidehlidehlidehli\n"
     ]
    }
   ],
   "source": [
    "print('dehli'*5)"
   ]
  },
  {
   "cell_type": "code",
   "execution_count": 1,
   "id": "75274aca-a7ea-4d93-add1-d3955442dc1c",
   "metadata": {},
   "outputs": [
    {
     "data": {
      "text/plain": [
       "False"
      ]
     },
     "execution_count": 1,
     "metadata": {},
     "output_type": "execute_result"
    }
   ],
   "source": [
    "'dehli'=='mumbai'"
   ]
  },
  {
   "cell_type": "code",
   "execution_count": 2,
   "id": "ab74d6cf-fbd0-4ee5-bb71-cf06428c388a",
   "metadata": {},
   "outputs": [
    {
     "data": {
      "text/plain": [
       "True"
      ]
     },
     "execution_count": 2,
     "metadata": {},
     "output_type": "execute_result"
    }
   ],
   "source": [
    "'dehli'!='mumbai'"
   ]
  },
  {
   "cell_type": "code",
   "execution_count": 4,
   "id": "656f75d9-75de-4c75-ad73-7e2af4d6046e",
   "metadata": {},
   "outputs": [
    {
     "data": {
      "text/plain": [
       "False"
      ]
     },
     "execution_count": 4,
     "metadata": {},
     "output_type": "execute_result"
    }
   ],
   "source": [
    "'mumbai'>'pune' #comparing the strings lexicographically"
   ]
  },
  {
   "cell_type": "code",
   "execution_count": 5,
   "id": "eed9f7f8-29cd-4979-9b8c-2b56cc0a1d0f",
   "metadata": {},
   "outputs": [
    {
     "data": {
      "text/plain": [
       "False"
      ]
     },
     "execution_count": 5,
     "metadata": {},
     "output_type": "execute_result"
    }
   ],
   "source": [
    "'Pune'>'pune'"
   ]
  },
  {
   "cell_type": "code",
   "execution_count": 6,
   "id": "758eab51-81c9-490e-bdd5-63190aaa64b4",
   "metadata": {},
   "outputs": [
    {
     "data": {
      "text/plain": [
       "'world'"
      ]
     },
     "execution_count": 6,
     "metadata": {},
     "output_type": "execute_result"
    }
   ],
   "source": [
    "'hello' and 'world'"
   ]
  },
  {
   "cell_type": "code",
   "execution_count": 7,
   "id": "bc86e951-006b-46f2-a2ec-7aea25f77cd2",
   "metadata": {},
   "outputs": [
    {
     "data": {
      "text/plain": [
       "'hello'"
      ]
     },
     "execution_count": 7,
     "metadata": {},
     "output_type": "execute_result"
    }
   ],
   "source": [
    "'hello' or 'world'"
   ]
  },
  {
   "cell_type": "code",
   "execution_count": 8,
   "id": "eaf68adf-1ab8-428d-b5bd-6a53c782e928",
   "metadata": {},
   "outputs": [],
   "source": [
    "#if string has character python puts it as true and empty represrnt false"
   ]
  },
  {
   "cell_type": "code",
   "execution_count": 9,
   "id": "441fd4c7-a9b3-4122-ba14-5461c6aa6d2b",
   "metadata": {},
   "outputs": [
    {
     "data": {
      "text/plain": [
       "''"
      ]
     },
     "execution_count": 9,
     "metadata": {},
     "output_type": "execute_result"
    }
   ],
   "source": [
    "'' and 'world'"
   ]
  },
  {
   "cell_type": "code",
   "execution_count": 10,
   "id": "99a4038c-e672-4ee9-bb80-158fbe184063",
   "metadata": {},
   "outputs": [
    {
     "data": {
      "text/plain": [
       "'world'"
      ]
     },
     "execution_count": 10,
     "metadata": {},
     "output_type": "execute_result"
    }
   ],
   "source": [
    "'' or 'world'"
   ]
  },
  {
   "cell_type": "code",
   "execution_count": 11,
   "id": "75fc5953-1cc6-42e6-927a-9e91444a4ed9",
   "metadata": {},
   "outputs": [
    {
     "data": {
      "text/plain": [
       "'hello'"
      ]
     },
     "execution_count": 11,
     "metadata": {},
     "output_type": "execute_result"
    }
   ],
   "source": [
    "'hello' or 'world' "
   ]
  },
  {
   "cell_type": "code",
   "execution_count": 12,
   "id": "3d082a78-ad45-489d-8c36-263eaf75b209",
   "metadata": {},
   "outputs": [
    {
     "data": {
      "text/plain": [
       "'world'"
      ]
     },
     "execution_count": 12,
     "metadata": {},
     "output_type": "execute_result"
    }
   ],
   "source": [
    "'hello' and 'world'"
   ]
  },
  {
   "cell_type": "code",
   "execution_count": 13,
   "id": "7988b5e4-e929-4131-bb55-deb054f8303f",
   "metadata": {},
   "outputs": [
    {
     "data": {
      "text/plain": [
       "True"
      ]
     },
     "execution_count": 13,
     "metadata": {},
     "output_type": "execute_result"
    }
   ],
   "source": [
    "not '' "
   ]
  },
  {
   "cell_type": "code",
   "execution_count": 14,
   "id": "7e58b2f2-f8c0-44ec-9e03-2a892fff30ff",
   "metadata": {},
   "outputs": [
    {
     "data": {
      "text/plain": [
       "False"
      ]
     },
     "execution_count": 14,
     "metadata": {},
     "output_type": "execute_result"
    }
   ],
   "source": [
    "not 'hello'"
   ]
  },
  {
   "cell_type": "code",
   "execution_count": 15,
   "id": "a7f2da87-4c51-4b3f-b63f-12398400c852",
   "metadata": {},
   "outputs": [
    {
     "name": "stdout",
     "output_type": "stream",
     "text": [
      "h\n",
      "e\n",
      "l\n",
      "l\n",
      "o\n"
     ]
    }
   ],
   "source": [
    "for i in 'hello':\n",
    "    print (i)"
   ]
  },
  {
   "cell_type": "code",
   "execution_count": 16,
   "id": "725fe77b-119a-44d0-9435-096f1b2e1fea",
   "metadata": {},
   "outputs": [
    {
     "name": "stdout",
     "output_type": "stream",
     "text": [
      "pune\n",
      "pune\n",
      "pune\n",
      "pune\n",
      "pune\n"
     ]
    }
   ],
   "source": [
    "for i in 'dehli':\n",
    "    print('pune')"
   ]
  },
  {
   "cell_type": "code",
   "execution_count": 17,
   "id": "644c546f-29c0-4894-9ae1-fc9be2fcdb9f",
   "metadata": {},
   "outputs": [
    {
     "data": {
      "text/plain": [
       "True"
      ]
     },
     "execution_count": 17,
     "metadata": {},
     "output_type": "execute_result"
    }
   ],
   "source": [
    "'D' in 'Dehli'"
   ]
  },
  {
   "cell_type": "code",
   "execution_count": 18,
   "id": "ba0e7973-c55b-4eaa-9a75-1c81bd31db70",
   "metadata": {},
   "outputs": [
    {
     "data": {
      "text/plain": [
       "False"
      ]
     },
     "execution_count": 18,
     "metadata": {},
     "output_type": "execute_result"
    }
   ],
   "source": [
    "'D' not in 'Dehli'"
   ]
  },
  {
   "cell_type": "code",
   "execution_count": 19,
   "id": "a5409aa7-cbaf-4dcb-b07e-03922e0b39eb",
   "metadata": {},
   "outputs": [
    {
     "data": {
      "text/plain": [
       "True"
      ]
     },
     "execution_count": 19,
     "metadata": {},
     "output_type": "execute_result"
    }
   ],
   "source": [
    "'d' not in 'Dehli'"
   ]
  },
  {
   "cell_type": "markdown",
   "id": "2eaa65a8-fce4-40cc-a7b2-95a7984dd677",
   "metadata": {},
   "source": [
    "# Common Functions "
   ]
  },
  {
   "cell_type": "code",
   "execution_count": 20,
   "id": "c8ff0b2e-0a90-407a-b3c7-f98f2da7c91f",
   "metadata": {},
   "outputs": [],
   "source": [
    "#aplicable to all datatypes "
   ]
  },
  {
   "cell_type": "code",
   "execution_count": 21,
   "id": "79ccd0d8-153d-44ed-9065-72742aa668a8",
   "metadata": {},
   "outputs": [
    {
     "data": {
      "text/plain": [
       "11"
      ]
     },
     "execution_count": 21,
     "metadata": {},
     "output_type": "execute_result"
    }
   ],
   "source": [
    "len('hello world')"
   ]
  },
  {
   "cell_type": "code",
   "execution_count": 23,
   "id": "001d7fcd-adbe-45b6-98b2-64aa4b9c95f6",
   "metadata": {},
   "outputs": [
    {
     "data": {
      "text/plain": [
       "'w'"
      ]
     },
     "execution_count": 23,
     "metadata": {},
     "output_type": "execute_result"
    }
   ],
   "source": [
    "max('hello world') #extract the value having max. ascii character"
   ]
  },
  {
   "cell_type": "code",
   "execution_count": 24,
   "id": "130c8117-5c36-476a-9cf3-819dce151022",
   "metadata": {},
   "outputs": [
    {
     "data": {
      "text/plain": [
       "' '"
      ]
     },
     "execution_count": 24,
     "metadata": {},
     "output_type": "execute_result"
    }
   ],
   "source": [
    "min('hello world')"
   ]
  },
  {
   "cell_type": "code",
   "execution_count": 26,
   "id": "a0eed400-e3b9-44b5-911b-d8714c9bc504",
   "metadata": {},
   "outputs": [
    {
     "data": {
      "text/plain": [
       "[' ', 'd', 'e', 'h', 'l', 'l', 'l', 'o', 'o', 'r', 'w']"
      ]
     },
     "execution_count": 26,
     "metadata": {},
     "output_type": "execute_result"
    }
   ],
   "source": [
    "sorted('hello world') #gives sorted list "
   ]
  },
  {
   "cell_type": "code",
   "execution_count": 27,
   "id": "32789aa4-5deb-4ea2-922a-bd8e06ba393b",
   "metadata": {},
   "outputs": [
    {
     "data": {
      "text/plain": [
       "['w', 'r', 'o', 'o', 'l', 'l', 'l', 'h', 'e', 'd', ' ']"
      ]
     },
     "execution_count": 27,
     "metadata": {},
     "output_type": "execute_result"
    }
   ],
   "source": [
    "sorted('hello world' , reverse = True) #gives sorted list "
   ]
  },
  {
   "cell_type": "code",
   "execution_count": 28,
   "id": "c5f5daa8-406e-4a2e-a993-149bab5fffc7",
   "metadata": {},
   "outputs": [],
   "source": [
    "#only applicable to string"
   ]
  },
  {
   "cell_type": "code",
   "execution_count": 30,
   "id": "67329988-dade-4303-9c6e-27fa8fb6a5b9",
   "metadata": {},
   "outputs": [
    {
     "data": {
      "text/plain": [
       "'Hello world'"
      ]
     },
     "execution_count": 30,
     "metadata": {},
     "output_type": "execute_result"
    }
   ],
   "source": [
    "s = 'hello world'\n",
    "s.capitalize() #made first letter capital"
   ]
  },
  {
   "cell_type": "code",
   "execution_count": 31,
   "id": "df4feb85-41c1-414b-a9c1-108735563d58",
   "metadata": {},
   "outputs": [
    {
     "data": {
      "text/plain": [
       "'Hello World'"
      ]
     },
     "execution_count": 31,
     "metadata": {},
     "output_type": "execute_result"
    }
   ],
   "source": [
    "s.title()"
   ]
  },
  {
   "cell_type": "code",
   "execution_count": 33,
   "id": "81876a5e-08ff-479c-a6cf-6a9cf30bbf5a",
   "metadata": {},
   "outputs": [
    {
     "data": {
      "text/plain": [
       "'HELLO WORLD'"
      ]
     },
     "execution_count": 33,
     "metadata": {},
     "output_type": "execute_result"
    }
   ],
   "source": [
    "s.upper() #make all character in uppercase"
   ]
  },
  {
   "cell_type": "raw",
   "id": "06e2ed15-9a24-4a05-8353-19f5801af8f0",
   "metadata": {},
   "source": [
    "'Hello World'.lower()"
   ]
  },
  {
   "cell_type": "code",
   "execution_count": 34,
   "id": "05941ecd-0ba8-41e3-b3ab-2e44de445557",
   "metadata": {},
   "outputs": [
    {
     "name": "stdout",
     "output_type": "stream",
     "text": [
      "anurag\n"
     ]
    }
   ],
   "source": [
    "print('anurag')"
   ]
  },
  {
   "cell_type": "code",
   "execution_count": 36,
   "id": "5171ea93-c8b3-4375-b8f5-c5cddd6edb7c",
   "metadata": {},
   "outputs": [
    {
     "data": {
      "text/plain": [
       "'hEllo wORLD'"
      ]
     },
     "execution_count": 36,
     "metadata": {},
     "output_type": "execute_result"
    }
   ],
   "source": [
    "'HeLLO World'.swapcase() #make lower --> capital and vice versa"
   ]
  },
  {
   "cell_type": "markdown",
   "id": "d720432e-d201-41dc-b41d-3d2e106beebf",
   "metadata": {},
   "source": [
    "# count/find/index"
   ]
  },
  {
   "cell_type": "code",
   "execution_count": 39,
   "id": "d93abf02-aabc-4ce4-a277-ef4233064b97",
   "metadata": {},
   "outputs": [
    {
     "data": {
      "text/plain": [
       "3"
      ]
     },
     "execution_count": 39,
     "metadata": {},
     "output_type": "execute_result"
    }
   ],
   "source": [
    "'i am anurag'.count('a')"
   ]
  },
  {
   "cell_type": "code",
   "execution_count": 40,
   "id": "3533316a-cac1-4ad1-8577-7944c6347255",
   "metadata": {},
   "outputs": [
    {
     "data": {
      "text/plain": [
       "2"
      ]
     },
     "execution_count": 40,
     "metadata": {},
     "output_type": "execute_result"
    }
   ],
   "source": [
    "'i am anurag'.find('am')"
   ]
  },
  {
   "cell_type": "code",
   "execution_count": 41,
   "id": "402c46ee-2ff0-4425-9f25-3bbeba19bbca",
   "metadata": {},
   "outputs": [
    {
     "data": {
      "text/plain": [
       "-1"
      ]
     },
     "execution_count": 41,
     "metadata": {},
     "output_type": "execute_result"
    }
   ],
   "source": [
    "'i am anurag'.find('is')"
   ]
  },
  {
   "cell_type": "code",
   "execution_count": 43,
   "id": "0d5cc1a7-3aed-4170-850c-8fe89050e426",
   "metadata": {},
   "outputs": [
    {
     "data": {
      "text/plain": [
       "2"
      ]
     },
     "execution_count": 43,
     "metadata": {},
     "output_type": "execute_result"
    }
   ],
   "source": [
    "'i am anurag'.index('am')"
   ]
  },
  {
   "cell_type": "code",
   "execution_count": 44,
   "id": "90a40308-323b-481b-b6bd-6f2dd22438de",
   "metadata": {},
   "outputs": [
    {
     "ename": "ValueError",
     "evalue": "substring not found",
     "output_type": "error",
     "traceback": [
      "\u001b[1;31m---------------------------------------------------------------------------\u001b[0m",
      "\u001b[1;31mValueError\u001b[0m                                Traceback (most recent call last)",
      "Cell \u001b[1;32mIn[44], line 1\u001b[0m\n\u001b[1;32m----> 1\u001b[0m \u001b[38;5;124;43m'\u001b[39;49m\u001b[38;5;124;43mi am anurag\u001b[39;49m\u001b[38;5;124;43m'\u001b[39;49m\u001b[38;5;241;43m.\u001b[39;49m\u001b[43mindex\u001b[49m\u001b[43m(\u001b[49m\u001b[38;5;124;43m'\u001b[39;49m\u001b[38;5;124;43mis\u001b[39;49m\u001b[38;5;124;43m'\u001b[39;49m\u001b[43m)\u001b[49m\n",
      "\u001b[1;31mValueError\u001b[0m: substring not found"
     ]
    }
   ],
   "source": [
    "'i am anurag'.index('is')"
   ]
  },
  {
   "cell_type": "markdown",
   "id": "6b9ddffe-19e9-4f89-9f12-846165a9c8b0",
   "metadata": {},
   "source": [
    "# endswith/startswith "
   ]
  },
  {
   "cell_type": "code",
   "execution_count": 45,
   "id": "ae02bf75-a021-4554-b437-b5353dd6e0a7",
   "metadata": {},
   "outputs": [
    {
     "data": {
      "text/plain": [
       "False"
      ]
     },
     "execution_count": 45,
     "metadata": {},
     "output_type": "execute_result"
    }
   ],
   "source": [
    "'i am anurag'.endswith('is')"
   ]
  },
  {
   "cell_type": "code",
   "execution_count": 46,
   "id": "506c2169-416a-49e7-b940-ae8f469b127e",
   "metadata": {},
   "outputs": [
    {
     "data": {
      "text/plain": [
       "True"
      ]
     },
     "execution_count": 46,
     "metadata": {},
     "output_type": "execute_result"
    }
   ],
   "source": [
    "'i am anurag'.startswith('i')"
   ]
  },
  {
   "cell_type": "markdown",
   "id": "a9855656-9492-4a65-b727-5b1441e7e1f8",
   "metadata": {},
   "source": [
    "# format "
   ]
  },
  {
   "cell_type": "code",
   "execution_count": 51,
   "id": "d3776590-0de4-4a23-948b-9ee734ce98c0",
   "metadata": {},
   "outputs": [
    {
     "data": {
      "text/plain": [
       "'Hi my name is anurag and i am a male'"
      ]
     },
     "execution_count": 51,
     "metadata": {},
     "output_type": "execute_result"
    }
   ],
   "source": [
    "name = 'anurag'\n",
    "gender = 'male'\n",
    "\n",
    "'Hi my name is {} and i am a {}'.format(name , gender)  #order matters "
   ]
  },
  {
   "cell_type": "markdown",
   "id": "d1e72bdf-9d55-41a8-a05a-f8666127bd0a",
   "metadata": {},
   "source": [
    "##  isalnum/ isalpha/ isdigit/ isidentifier"
   ]
  },
  {
   "cell_type": "code",
   "execution_count": 52,
   "id": "0198e436-e36b-4966-ae4a-96f4ebd4e950",
   "metadata": {},
   "outputs": [
    {
     "data": {
      "text/plain": [
       "True"
      ]
     },
     "execution_count": 52,
     "metadata": {},
     "output_type": "execute_result"
    }
   ],
   "source": [
    "'anurag1234'.isalnum()"
   ]
  },
  {
   "cell_type": "code",
   "execution_count": 54,
   "id": "9ce2bb5f-fb8b-44c4-8a2e-9b3228f569e4",
   "metadata": {},
   "outputs": [
    {
     "data": {
      "text/plain": [
       "False"
      ]
     },
     "execution_count": 54,
     "metadata": {},
     "output_type": "execute_result"
    }
   ],
   "source": [
    "'anurag1234'.isalpha() #consisits only alphabets"
   ]
  },
  {
   "cell_type": "code",
   "execution_count": 56,
   "id": "8afbe5a3-c2de-4442-b3fc-14873441b68a",
   "metadata": {},
   "outputs": [
    {
     "data": {
      "text/plain": [
       "False"
      ]
     },
     "execution_count": 56,
     "metadata": {},
     "output_type": "execute_result"
    }
   ],
   "source": [
    "'123abc'.isdigit()"
   ]
  },
  {
   "cell_type": "code",
   "execution_count": 58,
   "id": "beb98e9b-04a0-4de6-9a6b-90b3ce09647f",
   "metadata": {},
   "outputs": [
    {
     "data": {
      "text/plain": [
       "True"
      ]
     },
     "execution_count": 58,
     "metadata": {},
     "output_type": "execute_result"
    }
   ],
   "source": [
    "'name1'.isidentifier()"
   ]
  },
  {
   "cell_type": "code",
   "execution_count": 59,
   "id": "f69ea2c5-af13-4a94-b3a4-95da58a2d2d0",
   "metadata": {},
   "outputs": [
    {
     "data": {
      "text/plain": [
       "False"
      ]
     },
     "execution_count": 59,
     "metadata": {},
     "output_type": "execute_result"
    }
   ],
   "source": [
    "'1name'.isidentifier()"
   ]
  },
  {
   "cell_type": "code",
   "execution_count": 60,
   "id": "24d960ad-5f0b-4a43-88c5-6d6c0e971501",
   "metadata": {},
   "outputs": [
    {
     "data": {
      "text/plain": [
       "False"
      ]
     },
     "execution_count": 60,
     "metadata": {},
     "output_type": "execute_result"
    }
   ],
   "source": [
    "'first-name'.isidentifier()"
   ]
  },
  {
   "cell_type": "markdown",
   "id": "e82a514d-50f1-48a3-97e4-71b27d989203",
   "metadata": {},
   "source": [
    "# split/join "
   ]
  },
  {
   "cell_type": "code",
   "execution_count": 64,
   "id": "5344df7d-c216-4dca-94e9-b7394e97a981",
   "metadata": {},
   "outputs": [
    {
     "data": {
      "text/plain": [
       "['hi', 'my', 'name', 'is', 'anurag']"
      ]
     },
     "execution_count": 64,
     "metadata": {},
     "output_type": "execute_result"
    }
   ],
   "source": [
    "'hi my name is anurag'.split() #gives out list"
   ]
  },
  {
   "cell_type": "code",
   "execution_count": 65,
   "id": "0cff9f34-af12-4a7e-9a2f-63bc60c37572",
   "metadata": {},
   "outputs": [
    {
     "data": {
      "text/plain": [
       "['hi my n', 'me is ', 'nur', 'g']"
      ]
     },
     "execution_count": 65,
     "metadata": {},
     "output_type": "execute_result"
    }
   ],
   "source": [
    "'hi my name is anurag'.split('a')"
   ]
  },
  {
   "cell_type": "code",
   "execution_count": 67,
   "id": "f5734760-87ba-420a-81de-b4305891455c",
   "metadata": {},
   "outputs": [
    {
     "data": {
      "text/plain": [
       "'hi my n-me is -nur-g'"
      ]
     },
     "execution_count": 67,
     "metadata": {},
     "output_type": "execute_result"
    }
   ],
   "source": [
    "\"-\".join(['hi my n', 'me is ', 'nur', 'g'])"
   ]
  },
  {
   "cell_type": "markdown",
   "id": "ca8a27a0-23b2-455b-9c69-54372630ca9d",
   "metadata": {},
   "source": [
    "# Replace"
   ]
  },
  {
   "cell_type": "code",
   "execution_count": 68,
   "id": "687aef2f-a94a-4abf-b5b0-11b7315d9b46",
   "metadata": {},
   "outputs": [
    {
     "data": {
      "text/plain": [
       "'hi my name is campusx'"
      ]
     },
     "execution_count": 68,
     "metadata": {},
     "output_type": "execute_result"
    }
   ],
   "source": [
    "'hi my name is nitish'.replace('nitish','campusx')"
   ]
  },
  {
   "cell_type": "code",
   "execution_count": 69,
   "id": "ed192aa7-2836-4cd3-b0a8-0b7cb4f3bf73",
   "metadata": {},
   "outputs": [
    {
     "data": {
      "text/plain": [
       "'hi my name is nitish'"
      ]
     },
     "execution_count": 69,
     "metadata": {},
     "output_type": "execute_result"
    }
   ],
   "source": [
    "'hi my name is nitish'.replace('anurag','campusx')"
   ]
  },
  {
   "cell_type": "markdown",
   "id": "9c5524ec-42c6-41c0-acdc-fdf4d53d15d9",
   "metadata": {},
   "source": [
    "# Strip "
   ]
  },
  {
   "cell_type": "code",
   "execution_count": 70,
   "id": "b1d451c1-f4fa-4e5b-b16e-97673d79625b",
   "metadata": {},
   "outputs": [
    {
     "data": {
      "text/plain": [
       "'nitish'"
      ]
     },
     "execution_count": 70,
     "metadata": {},
     "output_type": "execute_result"
    }
   ],
   "source": [
    "'nitish                                    '.strip()"
   ]
  },
  {
   "cell_type": "code",
   "execution_count": null,
   "id": "073d7795-3e44-4d73-8fb9-2b7d954fcf8d",
   "metadata": {},
   "outputs": [],
   "source": []
  }
 ],
 "metadata": {
  "kernelspec": {
   "display_name": "Python 3 (ipykernel)",
   "language": "python",
   "name": "python3"
  },
  "language_info": {
   "codemirror_mode": {
    "name": "ipython",
    "version": 3
   },
   "file_extension": ".py",
   "mimetype": "text/x-python",
   "name": "python",
   "nbconvert_exporter": "python",
   "pygments_lexer": "ipython3",
   "version": "3.11.3"
  }
 },
 "nbformat": 4,
 "nbformat_minor": 5
}
