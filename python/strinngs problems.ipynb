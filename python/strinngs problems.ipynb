{
 "cells": [
  {
   "cell_type": "code",
   "execution_count": 1,
   "id": "e353ebaa-d06a-420c-a348-7dfee9737331",
   "metadata": {},
   "outputs": [],
   "source": [
    "#find length of a given string without using len() function"
   ]
  },
  {
   "cell_type": "code",
   "execution_count": 5,
   "id": "eab454f2-6709-4832-93ba-87892ba8b9b7",
   "metadata": {},
   "outputs": [
    {
     "name": "stdin",
     "output_type": "stream",
     "text": [
      "enter the string anurag\n"
     ]
    },
    {
     "name": "stdout",
     "output_type": "stream",
     "text": [
      "length of string is: 6\n"
     ]
    }
   ],
   "source": [
    "s = input('enter the string')\n",
    "count =0 \n",
    "for i in s:\n",
    "    count = count+1\n",
    "print('length of string is:' ,count)"
   ]
  },
  {
   "cell_type": "code",
   "execution_count": 10,
   "id": "a890ea67-44f3-461b-a9e9-7d5913965988",
   "metadata": {},
   "outputs": [
    {
     "name": "stdin",
     "output_type": "stream",
     "text": [
      "enter the email anurag@gmail.com\n"
     ]
    },
    {
     "name": "stdout",
     "output_type": "stream",
     "text": [
      "anurag\n"
     ]
    }
   ],
   "source": [
    "#extract username from a given email\n",
    "#part before the @ \n",
    "s = input('enter the email')\n",
    "pos = s.index('@')\n",
    "print(s[0:pos])"
   ]
  },
  {
   "cell_type": "code",
   "execution_count": 15,
   "id": "dc15a73c-a186-410a-86b6-3ec411743c33",
   "metadata": {},
   "outputs": [
    {
     "name": "stdin",
     "output_type": "stream",
     "text": [
      "Enter the string anurag\n",
      "enter the character you want to search a\n"
     ]
    },
    {
     "name": "stdout",
     "output_type": "stream",
     "text": [
      "the frequency is : 2\n"
     ]
    }
   ],
   "source": [
    "#count the frequency of a  particular character in string\n",
    "s = input('Enter the string')\n",
    "term = input('enter the character you want to search')\n",
    "count =0 \n",
    "for i in s:\n",
    "    if i == term:\n",
    "        count = count+1\n",
    "print('the frequency is :' , count)"
   ]
  },
  {
   "cell_type": "code",
   "execution_count": 17,
   "id": "70fa2bfb-0926-4830-9971-523b22487026",
   "metadata": {},
   "outputs": [
    {
     "name": "stdin",
     "output_type": "stream",
     "text": [
      "enter the string anurag\n",
      "what would like to remove : a\n"
     ]
    },
    {
     "name": "stdout",
     "output_type": "stream",
     "text": [
      "nurg\n"
     ]
    }
   ],
   "source": [
    "# program to remove a character from string\n",
    "s = input('enter the string')\n",
    "term = input('what would like to remove :')\n",
    "result = '' \n",
    "for i in s:\n",
    "    if i != term:\n",
    "        result = result+i\n",
    "\n",
    "print(result)"
   ]
  },
  {
   "cell_type": "code",
   "execution_count": 23,
   "id": "d5857220-21b3-44c0-ac6f-47fb42032b1c",
   "metadata": {},
   "outputs": [
    {
     "name": "stdin",
     "output_type": "stream",
     "text": [
      "enter the string malayalam\n"
     ]
    },
    {
     "name": "stdout",
     "output_type": "stream",
     "text": [
      "palindrome\n"
     ]
    }
   ],
   "source": [
    "# check palindrome\n",
    "#abba\n",
    "#malayalam\n",
    "s = input('enter the string')\n",
    "flag = True\n",
    "for i in range(0 , len(s)//2):\n",
    "    if s[i] != s[len(s) -i-1]:\n",
    "        flag = False\n",
    "        print('not a palindrome')\n",
    "        break\n",
    "\n",
    "if flag:\n",
    "    print('palindrome')"
   ]
  },
  {
   "cell_type": "code",
   "execution_count": 30,
   "id": "a470f258-5876-4e19-b547-94827543cf30",
   "metadata": {},
   "outputs": [
    {
     "name": "stdin",
     "output_type": "stream",
     "text": [
      "enter the string hi how are you guys\n"
     ]
    },
    {
     "name": "stdout",
     "output_type": "stream",
     "text": [
      "[' hi', ' how', ' are', ' you', ' guys']\n"
     ]
    }
   ],
   "source": [
    "# write the program to count the number of words in a string\n",
    "s = input('enter the string')\n",
    "l =[]\n",
    "temp = ' '\n",
    "for i in s:\n",
    "    if i != ' ':\n",
    "        temp = temp+i\n",
    "    else:\n",
    "        l.append(temp)\n",
    "        temp =' '\n",
    "l.append(temp)\n",
    "print(l)"
   ]
  },
  {
   "cell_type": "code",
   "execution_count": 36,
   "id": "b2080030-8748-40fd-8757-479630b912f9",
   "metadata": {},
   "outputs": [
    {
     "name": "stdin",
     "output_type": "stream",
     "text": [
      "enter the string hi how are you \n"
     ]
    },
    {
     "name": "stdout",
     "output_type": "stream",
     "text": [
      "Hi How Are You\n"
     ]
    }
   ],
   "source": [
    "# program to convert a string to title case without using title()\n",
    "s = input('enter the string')\n",
    "L = []\n",
    "for i in s.split():\n",
    "    L.append((i[0].upper()+i[1:].lower()))\n",
    "\n",
    "print(\" \" .join(L))"
   ]
  },
  {
   "cell_type": "code",
   "execution_count": 40,
   "id": "bf4c6bf1-33d0-4652-8e55-73bede17d4f5",
   "metadata": {},
   "outputs": [
    {
     "name": "stdin",
     "output_type": "stream",
     "text": [
      "enter the number 758588958\n"
     ]
    },
    {
     "name": "stdout",
     "output_type": "stream",
     "text": [
      "758588958 \n",
      "<class 'str'>\n"
     ]
    }
   ],
   "source": [
    "# program to convert an integer to string\n",
    "number = int(input('enter the number'))\n",
    "digits = '0123456789'\n",
    "result =' '\n",
    "while number !=0:\n",
    "    result = digits[number % 10] + result\n",
    "    number = number//10\n",
    "print(result)\n",
    "print(type(result))\n"
   ]
  },
  {
   "cell_type": "code",
   "execution_count": null,
   "id": "79137638-73a9-4ea7-942f-a67f908c460a",
   "metadata": {},
   "outputs": [],
   "source": []
  }
 ],
 "metadata": {
  "kernelspec": {
   "display_name": "Python 3 (ipykernel)",
   "language": "python",
   "name": "python3"
  },
  "language_info": {
   "codemirror_mode": {
    "name": "ipython",
    "version": 3
   },
   "file_extension": ".py",
   "mimetype": "text/x-python",
   "name": "python",
   "nbconvert_exporter": "python",
   "pygments_lexer": "ipython3",
   "version": "3.11.3"
  }
 },
 "nbformat": 4,
 "nbformat_minor": 5
}
