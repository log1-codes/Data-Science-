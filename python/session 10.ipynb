{
 "cells": [
  {
   "cell_type": "code",
   "execution_count": 2,
   "id": "d481347e-7b30-4a53-869e-2a0bddcc738e",
   "metadata": {},
   "outputs": [
    {
     "data": {
      "text/plain": [
       "19"
      ]
     },
     "execution_count": 2,
     "metadata": {},
     "output_type": "execute_result"
    }
   ],
   "source": [
    "# case 1 --> if the file is not present\n",
    "f = open('new.txt' , 'w') # write mode \n",
    "f.write('hey all good or not')\n",
    "#f.close('Hello') # since file is closed hence this wil not work "
   ]
  },
  {
   "cell_type": "code",
   "execution_count": 3,
   "id": "dff56ff6-e328-4836-8a78-0203208bb0c5",
   "metadata": {},
   "outputs": [],
   "source": [
    "# write multiline strings \n",
    "f = open('sample1.txt' ,'w')\n",
    "f.write('Hello world')\n",
    "f.write('\\n how are you ')\n",
    "f.close()"
   ]
  },
  {
   "cell_type": "code",
   "execution_count": 4,
   "id": "381f23fb-7bb6-4c76-bea4-fa4f84f7a19d",
   "metadata": {},
   "outputs": [],
   "source": [
    "# case2- if the file is  already present \n",
    "f = open('new.txt' ,'w')\n",
    "f.write('anurag singh')\n",
    "f.close()"
   ]
  },
  {
   "cell_type": "code",
   "execution_count": 5,
   "id": "db02b9fc-6e09-4fb5-9a6f-54f9dfa4959c",
   "metadata": {},
   "outputs": [],
   "source": [
    "# how exactly open() works \n",
    "# when we open a file the python took it from the hard disk or hard drive and load into RAM into the buffer memory and in buffer the file is read character by character . After this we perform close it puts back the file in its original location"
   ]
  },
  {
   "cell_type": "code",
   "execution_count": 6,
   "id": "623a1088-57a3-49ee-a7a3-4f4ad78c87ef",
   "metadata": {},
   "outputs": [],
   "source": [
    "# problem with w mode \n",
    "#introducing append mode \n",
    "\n",
    "f = open('sample.txt' ,'a')\n",
    "f.write('i am fine')\n",
    "f.write('\\n its new content added without deleting the previous content')\n",
    "f.close()"
   ]
  },
  {
   "cell_type": "code",
   "execution_count": 7,
   "id": "99c817db-9a2d-48b4-b0b9-501bf76959a8",
   "metadata": {},
   "outputs": [],
   "source": [
    "# write multiple lines at once\n",
    "L =[ 'hello\\n' ,'hi\\n' , 'how are you\\n','i am fine']\n",
    "f = open('sample.txt','w')\n",
    "f.writelines(L)\n",
    "f.close()"
   ]
  },
  {
   "cell_type": "code",
   "execution_count": 8,
   "id": "1a157568-80fb-422d-a7f4-e650a0f2459d",
   "metadata": {},
   "outputs": [],
   "source": [
    "# to create a file at any location just copy the location and put it in the function "
   ]
  },
  {
   "cell_type": "code",
   "execution_count": 9,
   "id": "886423bd-9235-462c-b9b1-1b354712759f",
   "metadata": {},
   "outputs": [],
   "source": [
    "# write multiple lines at once\n",
    "L =[ 'hello\\n' ,'hi\\n' , 'how are you\\n','i am fine']\n",
    "f = open('temp/sample.txt','w')\n",
    "f.writelines(L)\n",
    "f.close()"
   ]
  },
  {
   "cell_type": "code",
   "execution_count": 10,
   "id": "3dc73cfb-26f4-447b-ab16-08c76e28938c",
   "metadata": {},
   "outputs": [
    {
     "name": "stdout",
     "output_type": "stream",
     "text": [
      "hello\n",
      "hi\n",
      "how are you\n",
      "i am fine\n"
     ]
    }
   ],
   "source": [
    "# reading from files \n",
    "# --> using read()\n",
    "f = open('sample.txt' ,'r')\n",
    "s = f.read()\n",
    "print(s)\n",
    "f.close()"
   ]
  },
  {
   "cell_type": "code",
   "execution_count": 11,
   "id": "e0f29ee3-de16-4739-b18c-de2524b378f2",
   "metadata": {},
   "outputs": [
    {
     "name": "stdout",
     "output_type": "stream",
     "text": [
      "hello\n",
      "hi\n",
      "h\n"
     ]
    }
   ],
   "source": [
    "f = open('sample.txt' ,'r')\n",
    "s = f.read(10) #no of characters you want to read\n",
    "print(s)\n",
    "f.close()"
   ]
  },
  {
   "cell_type": "code",
   "execution_count": 12,
   "id": "079ecd5b-9b19-44db-8779-c54f3a2cd484",
   "metadata": {},
   "outputs": [
    {
     "name": "stdout",
     "output_type": "stream",
     "text": [
      "hello\n",
      "hi\n"
     ]
    }
   ],
   "source": [
    "#readline() --> read line by line\n",
    "f = open('sample.txt' ,'r')\n",
    "print(f.readline() , end = '')\n",
    "print(f.readline() , end='')"
   ]
  },
  {
   "cell_type": "code",
   "execution_count": null,
   "id": "ee9eb633",
   "metadata": {},
   "outputs": [],
   "source": []
  }
 ],
 "metadata": {
  "kernelspec": {
   "display_name": "Python 3",
   "language": "python",
   "name": "python3"
  },
  "language_info": {
   "codemirror_mode": {
    "name": "ipython",
    "version": 3
   },
   "file_extension": ".py",
   "mimetype": "text/x-python",
   "name": "python",
   "nbconvert_exporter": "python",
   "pygments_lexer": "ipython3",
   "version": "3.11.3"
  }
 },
 "nbformat": 4,
 "nbformat_minor": 5
}
