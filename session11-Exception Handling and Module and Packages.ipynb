{
 "cells": [
  {
   "cell_type": "code",
   "execution_count": 1,
   "id": "5f3fa530",
   "metadata": {},
   "outputs": [
    {
     "name": "stdout",
     "output_type": "stream",
     "text": [
      "All Good\n"
     ]
    }
   ],
   "source": [
    "print(\"All Good\")"
   ]
  },
  {
   "cell_type": "markdown",
   "id": "f1cc07de",
   "metadata": {},
   "source": [
    "There are 2 stages where error may happen in a program \n",
    "    During compilation --> sytanx error \n",
    "    During Execution --> Exceptions"
   ]
  },
  {
   "cell_type": "markdown",
   "id": "084880a8",
   "metadata": {},
   "source": [
    "Syntax Error \n",
    "        something in program is not written according to program grammer \n",
    "\n",
    "        error is raied by interpreter/compiler\n",
    "        you can solve it by rectifying the program "
   ]
  },
  {
   "cell_type": "code",
   "execution_count": 2,
   "id": "dc7866bf",
   "metadata": {},
   "outputs": [
    {
     "ename": "SyntaxError",
     "evalue": "Missing parentheses in call to 'print'. Did you mean print(...)? (675395131.py, line 2)",
     "output_type": "error",
     "traceback": [
      "\u001b[1;36m  Cell \u001b[1;32mIn[2], line 2\u001b[1;36m\u001b[0m\n\u001b[1;33m    print 'hello world'\u001b[0m\n\u001b[1;37m    ^\u001b[0m\n\u001b[1;31mSyntaxError\u001b[0m\u001b[1;31m:\u001b[0m Missing parentheses in call to 'print'. Did you mean print(...)?\n"
     ]
    }
   ],
   "source": [
    "# example of syntax error\n",
    "print 'hello world'"
   ]
  },
  {
   "cell_type": "code",
   "execution_count": 3,
   "id": "08c23f00",
   "metadata": {},
   "outputs": [],
   "source": [
    "# Other examples of syntax error \n",
    "    # leaving symbols like colon, brackets\n",
    "    # misspelling a keyword  \n",
    "    # incorrect indentation \n",
    "    # empty if/else/loops/class/functions"
   ]
  },
  {
   "cell_type": "code",
   "execution_count": 4,
   "id": "7f8207a6",
   "metadata": {},
   "outputs": [
    {
     "ename": "SyntaxError",
     "evalue": "expected ':' (281337171.py, line 2)",
     "output_type": "error",
     "traceback": [
      "\u001b[1;36m  Cell \u001b[1;32mIn[4], line 2\u001b[1;36m\u001b[0m\n\u001b[1;33m    if a ==5\u001b[0m\n\u001b[1;37m             ^\u001b[0m\n\u001b[1;31mSyntaxError\u001b[0m\u001b[1;31m:\u001b[0m expected ':'\n"
     ]
    }
   ],
   "source": [
    "a = 5 \n",
    "if a ==5 \n",
    "    print('hello')"
   ]
  },
  {
   "cell_type": "code",
   "execution_count": 5,
   "id": "75e83387",
   "metadata": {},
   "outputs": [
    {
     "ename": "SyntaxError",
     "evalue": "invalid syntax (1072510587.py, line 2)",
     "output_type": "error",
     "traceback": [
      "\u001b[1;36m  Cell \u001b[1;32mIn[5], line 2\u001b[1;36m\u001b[0m\n\u001b[1;33m    iff a ==5\u001b[0m\n\u001b[1;37m        ^\u001b[0m\n\u001b[1;31mSyntaxError\u001b[0m\u001b[1;31m:\u001b[0m invalid syntax\n"
     ]
    }
   ],
   "source": [
    "a = 5 \n",
    "iff a ==5 \n",
    "    print('hello')"
   ]
  },
  {
   "cell_type": "code",
   "execution_count": 6,
   "id": "5bbe3a70",
   "metadata": {},
   "outputs": [
    {
     "ename": "IndentationError",
     "evalue": "expected an indented block after 'if' statement on line 2 (3313470681.py, line 3)",
     "output_type": "error",
     "traceback": [
      "\u001b[1;36m  Cell \u001b[1;32mIn[6], line 3\u001b[1;36m\u001b[0m\n\u001b[1;33m    print('hello')\u001b[0m\n\u001b[1;37m    ^\u001b[0m\n\u001b[1;31mIndentationError\u001b[0m\u001b[1;31m:\u001b[0m expected an indented block after 'if' statement on line 2\n"
     ]
    }
   ],
   "source": [
    "a = 5 \n",
    "if a==3:\n",
    "print('hello')"
   ]
  },
  {
   "cell_type": "code",
   "execution_count": 7,
   "id": "0d03d63e",
   "metadata": {},
   "outputs": [
    {
     "ename": "IndexError",
     "evalue": "list index out of range",
     "output_type": "error",
     "traceback": [
      "\u001b[1;31m---------------------------------------------------------------------------\u001b[0m",
      "\u001b[1;31mIndexError\u001b[0m                                Traceback (most recent call last)",
      "Cell \u001b[1;32mIn[7], line 5\u001b[0m\n\u001b[0;32m      1\u001b[0m \u001b[38;5;66;03m# IndexError \u001b[39;00m\n\u001b[0;32m      2\u001b[0m \u001b[38;5;66;03m# This error is trown when trying to access an item at an invalid index\u001b[39;00m\n\u001b[0;32m      4\u001b[0m L \u001b[38;5;241m=\u001b[39m [\u001b[38;5;241m1\u001b[39m,\u001b[38;5;241m2\u001b[39m,\u001b[38;5;241m3\u001b[39m]\n\u001b[1;32m----> 5\u001b[0m \u001b[43mL\u001b[49m\u001b[43m[\u001b[49m\u001b[38;5;241;43m100\u001b[39;49m\u001b[43m]\u001b[49m\n",
      "\u001b[1;31mIndexError\u001b[0m: list index out of range"
     ]
    }
   ],
   "source": [
    "# IndexError \n",
    "# This error is trown when trying to access an item at an invalid index\n",
    "\n",
    "L = [1,2,3]\n",
    "L[100]"
   ]
  },
  {
   "cell_type": "code",
   "execution_count": 8,
   "id": "3188ef4d",
   "metadata": {},
   "outputs": [
    {
     "ename": "ModuleNotFoundError",
     "evalue": "No module named 'mathe'",
     "output_type": "error",
     "traceback": [
      "\u001b[1;31m---------------------------------------------------------------------------\u001b[0m",
      "\u001b[1;31mModuleNotFoundError\u001b[0m                       Traceback (most recent call last)",
      "Cell \u001b[1;32mIn[8], line 4\u001b[0m\n\u001b[0;32m      1\u001b[0m \u001b[38;5;66;03m# ModuleNotFoundError \u001b[39;00m\n\u001b[0;32m      2\u001b[0m \u001b[38;5;66;03m# this error is thrown when a module could not be found\u001b[39;00m\n\u001b[1;32m----> 4\u001b[0m \u001b[38;5;28;01mimport\u001b[39;00m\u001b[38;5;250m \u001b[39m\u001b[38;5;21;01mmathe\u001b[39;00m\n\u001b[0;32m      5\u001b[0m math\u001b[38;5;241m.\u001b[39mfloor(\u001b[38;5;241m5.3\u001b[39m)\n",
      "\u001b[1;31mModuleNotFoundError\u001b[0m: No module named 'mathe'"
     ]
    }
   ],
   "source": [
    "# ModuleNotFoundError \n",
    "# this error is thrown when a module could not be found\n",
    "\n",
    "import mathe\n",
    "math.floor(5.3)"
   ]
  },
  {
   "cell_type": "code",
   "execution_count": 9,
   "id": "2fb8efdd",
   "metadata": {},
   "outputs": [
    {
     "ename": "KeyError",
     "evalue": "'age'",
     "output_type": "error",
     "traceback": [
      "\u001b[1;31m---------------------------------------------------------------------------\u001b[0m",
      "\u001b[1;31mKeyError\u001b[0m                                  Traceback (most recent call last)",
      "Cell \u001b[1;32mIn[9], line 4\u001b[0m\n\u001b[0;32m      1\u001b[0m \u001b[38;5;66;03m# KeyError\u001b[39;00m\n\u001b[0;32m      2\u001b[0m \u001b[38;5;66;03m# this error is thrown when the key is not found \u001b[39;00m\n\u001b[0;32m      3\u001b[0m d \u001b[38;5;241m=\u001b[39m {\u001b[38;5;124m'\u001b[39m\u001b[38;5;124mname\u001b[39m\u001b[38;5;124m'\u001b[39m :\u001b[38;5;124m'\u001b[39m\u001b[38;5;124manurag\u001b[39m\u001b[38;5;124m'\u001b[39m}\n\u001b[1;32m----> 4\u001b[0m \u001b[38;5;28mprint\u001b[39m(\u001b[43md\u001b[49m\u001b[43m[\u001b[49m\u001b[38;5;124;43m'\u001b[39;49m\u001b[38;5;124;43mage\u001b[39;49m\u001b[38;5;124;43m'\u001b[39;49m\u001b[43m]\u001b[49m)\n",
      "\u001b[1;31mKeyError\u001b[0m: 'age'"
     ]
    }
   ],
   "source": [
    "# KeyError\n",
    "# this error is thrown when the key is not found \n",
    "d = {'name' :'anurag'}\n",
    "print(d['age'])"
   ]
  },
  {
   "cell_type": "code",
   "execution_count": 10,
   "id": "431a5fa6",
   "metadata": {},
   "outputs": [
    {
     "ename": "TypeError",
     "evalue": "unsupported operand type(s) for +: 'int' and 'str'",
     "output_type": "error",
     "traceback": [
      "\u001b[1;31m---------------------------------------------------------------------------\u001b[0m",
      "\u001b[1;31mTypeError\u001b[0m                                 Traceback (most recent call last)",
      "Cell \u001b[1;32mIn[10], line 3\u001b[0m\n\u001b[0;32m      1\u001b[0m \u001b[38;5;66;03m# TypeError \u001b[39;00m\n\u001b[0;32m      2\u001b[0m \u001b[38;5;66;03m# The TypeError is thrown when an operation or function is applied to an object of an in appropriate type\u001b[39;00m\n\u001b[1;32m----> 3\u001b[0m \u001b[38;5;241;43m1\u001b[39;49m\u001b[43m \u001b[49m\u001b[38;5;241;43m+\u001b[39;49m\u001b[43m \u001b[49m\u001b[38;5;124;43m'\u001b[39;49m\u001b[38;5;124;43ma\u001b[39;49m\u001b[38;5;124;43m'\u001b[39;49m\n",
      "\u001b[1;31mTypeError\u001b[0m: unsupported operand type(s) for +: 'int' and 'str'"
     ]
    }
   ],
   "source": [
    "# TypeError \n",
    "# The TypeError is thrown when an operation or function is applied to an object of an in appropriate type\n",
    "1 + 'a'"
   ]
  },
  {
   "cell_type": "code",
   "execution_count": 11,
   "id": "7ff721a9",
   "metadata": {},
   "outputs": [
    {
     "ename": "ValueError",
     "evalue": "invalid literal for int() with base 10: 'a'",
     "output_type": "error",
     "traceback": [
      "\u001b[1;31m---------------------------------------------------------------------------\u001b[0m",
      "\u001b[1;31mValueError\u001b[0m                                Traceback (most recent call last)",
      "Cell \u001b[1;32mIn[11], line 3\u001b[0m\n\u001b[0;32m      1\u001b[0m \u001b[38;5;66;03m# value error\u001b[39;00m\n\u001b[0;32m      2\u001b[0m \u001b[38;5;66;03m# it is thrown when a function's argument is of an inappropriate type\u001b[39;00m\n\u001b[1;32m----> 3\u001b[0m \u001b[38;5;28;43mint\u001b[39;49m\u001b[43m(\u001b[49m\u001b[38;5;124;43m'\u001b[39;49m\u001b[38;5;124;43ma\u001b[39;49m\u001b[38;5;124;43m'\u001b[39;49m\u001b[43m)\u001b[49m\n",
      "\u001b[1;31mValueError\u001b[0m: invalid literal for int() with base 10: 'a'"
     ]
    }
   ],
   "source": [
    "# value error\n",
    "# it is thrown when a function's argument is of an inappropriate type\n",
    "int('a')\n"
   ]
  },
  {
   "cell_type": "code",
   "execution_count": 12,
   "id": "a30b62e1",
   "metadata": {},
   "outputs": [
    {
     "ename": "NameError",
     "evalue": "name 'k' is not defined",
     "output_type": "error",
     "traceback": [
      "\u001b[1;31m---------------------------------------------------------------------------\u001b[0m",
      "\u001b[1;31mNameError\u001b[0m                                 Traceback (most recent call last)",
      "Cell \u001b[1;32mIn[12], line 3\u001b[0m\n\u001b[0;32m      1\u001b[0m \u001b[38;5;66;03m# NameError \u001b[39;00m\n\u001b[0;32m      2\u001b[0m \u001b[38;5;66;03m# this error is thrown when an object could not be found \u001b[39;00m\n\u001b[1;32m----> 3\u001b[0m \u001b[38;5;28mprint\u001b[39m(\u001b[43mk\u001b[49m)\n",
      "\u001b[1;31mNameError\u001b[0m: name 'k' is not defined"
     ]
    }
   ],
   "source": [
    "# NameError \n",
    "# this error is thrown when an object could not be found \n",
    "print(k)"
   ]
  },
  {
   "cell_type": "code",
   "execution_count": 13,
   "id": "a2e58ec1",
   "metadata": {},
   "outputs": [
    {
     "ename": "AttributeError",
     "evalue": "'list' object has no attribute 'upper'",
     "output_type": "error",
     "traceback": [
      "\u001b[1;31m---------------------------------------------------------------------------\u001b[0m",
      "\u001b[1;31mAttributeError\u001b[0m                            Traceback (most recent call last)",
      "Cell \u001b[1;32mIn[13], line 4\u001b[0m\n\u001b[0;32m      1\u001b[0m \u001b[38;5;66;03m# attribute error \u001b[39;00m\n\u001b[0;32m      3\u001b[0m L \u001b[38;5;241m=\u001b[39m [\u001b[38;5;241m1\u001b[39m,\u001b[38;5;241m2\u001b[39m,\u001b[38;5;241m3\u001b[39m,\u001b[38;5;241m4\u001b[39m]\n\u001b[1;32m----> 4\u001b[0m \u001b[43mL\u001b[49m\u001b[38;5;241;43m.\u001b[39;49m\u001b[43mupper\u001b[49m()\n\u001b[0;32m      6\u001b[0m \u001b[38;5;66;03m# stacktrace --> error message (darwana bala)\u001b[39;00m\n",
      "\u001b[1;31mAttributeError\u001b[0m: 'list' object has no attribute 'upper'"
     ]
    }
   ],
   "source": [
    "# attribute error \n",
    "\n",
    "L = [1,2,3,4]\n",
    "L.upper()\n",
    "\n",
    "# stacktrace --> error message (darwana bala)"
   ]
  },
  {
   "cell_type": "markdown",
   "id": "f6d1c10d",
   "metadata": {},
   "source": [
    "Exceptions  "
   ]
  },
  {
   "cell_type": "markdown",
   "id": "1d007cc3",
   "metadata": {},
   "source": [
    "if things go wrong during the execution of the program(runtime) . it generally happnes when something unforeseen has happened  "
   ]
  },
  {
   "cell_type": "markdown",
   "id": "a5c934da",
   "metadata": {},
   "source": [
    "exceptions are raised by python runtime  \n",
    "you have to takle is on the fly "
   ]
  },
  {
   "cell_type": "markdown",
   "id": "99f5d323",
   "metadata": {},
   "source": [
    "Examples \n",
    "    memory overflow ,\n",
    "    devide by 0 --> logical error ,\n",
    "    Database error "
   ]
  },
  {
   "cell_type": "code",
   "execution_count": 14,
   "id": "4e9c9a32",
   "metadata": {},
   "outputs": [],
   "source": [
    "# why is it important to handle exceptions \n",
    "# how to handle exceptions\n",
    "# --> try except block"
   ]
  },
  {
   "cell_type": "code",
   "execution_count": 15,
   "id": "abbc7111",
   "metadata": {},
   "outputs": [],
   "source": [
    "# let's create a file \n",
    "with open('session11.txt' , 'w') as f:\n",
    "    f.write(\"Hello world\")"
   ]
  },
  {
   "cell_type": "code",
   "execution_count": 16,
   "id": "da5e5117",
   "metadata": {},
   "outputs": [
    {
     "name": "stdout",
     "output_type": "stream",
     "text": [
      "Hello world\n"
     ]
    }
   ],
   "source": [
    "# try catch demo \n",
    "with open('session11.txt' , 'r') as f:\n",
    "    print(f.read())"
   ]
  },
  {
   "cell_type": "code",
   "execution_count": 17,
   "id": "d5ded1d8",
   "metadata": {},
   "outputs": [
    {
     "name": "stdout",
     "output_type": "stream",
     "text": [
      "Hello world\n"
     ]
    }
   ],
   "source": [
    "try :\n",
    "    with open('session11.txt' ,'r') as f:\n",
    "        print(f.read())\n",
    "except:\n",
    "    print('sorry the file was not found')"
   ]
  },
  {
   "cell_type": "code",
   "execution_count": 18,
   "id": "6b4b6e4d",
   "metadata": {},
   "outputs": [
    {
     "name": "stdout",
     "output_type": "stream",
     "text": [
      "some error occured\n"
     ]
    }
   ],
   "source": [
    "# catching specific exception \n",
    "try:\n",
    "    f = open('session12.txt' ,'r') \n",
    "    print(f.read())\n",
    "    print(n)\n",
    "except:\n",
    "    print('some error occured')"
   ]
  },
  {
   "cell_type": "code",
   "execution_count": 19,
   "id": "372ea687",
   "metadata": {},
   "outputs": [
    {
     "name": "stdout",
     "output_type": "stream",
     "text": [
      "Hello world\n",
      "some error occured\n"
     ]
    }
   ],
   "source": [
    "# catching specific exception \n",
    "try:\n",
    "    f = open('session11.txt' ,'r') \n",
    "    print(f.read())\n",
    "    print(n)\n",
    "except:\n",
    "    print('some error occured')"
   ]
  },
  {
   "cell_type": "code",
   "execution_count": 20,
   "id": "64baee30",
   "metadata": {},
   "outputs": [
    {
     "name": "stdout",
     "output_type": "stream",
     "text": [
      "Hello world\n",
      "5\n",
      "2.5\n",
      "list index out of range\n"
     ]
    }
   ],
   "source": [
    "# catching specific exception \n",
    "try:\n",
    "    m =5 \n",
    "    f = open('session11.txt' ,'r') \n",
    "    print(f.read())\n",
    "    print(m)\n",
    "    print(5/2)\n",
    "    L = [1,2,3,4]\n",
    "    L[100]\n",
    "except FileNotFoundError :\n",
    "    print('File not found')\n",
    "except NameError:\n",
    "    print('variable not found')\n",
    "except ZeroDivisionError:\n",
    "    print(\"can't devide by 0\")\n",
    "\n",
    "except Exception as e :\n",
    "    print(e)"
   ]
  },
  {
   "cell_type": "code",
   "execution_count": 21,
   "id": "0ee882f4",
   "metadata": {},
   "outputs": [
    {
     "name": "stdout",
     "output_type": "stream",
     "text": [
      "Hello world\n"
     ]
    }
   ],
   "source": [
    "# else\n",
    "# except blocks get the control over code if something goes wrong \n",
    "# in try block but if try goes success then control transfers to the else block\n",
    " \n",
    "try:\n",
    "    f  = open(\"session11.txt\" , 'r')\n",
    "except FileNotFoundError:\n",
    "    print(\"file not found\")\n",
    "except Exception as e:\n",
    "    print(\"something goes wrong\")\n",
    "else:\n",
    "    print(f.read())\n"
   ]
  },
  {
   "cell_type": "code",
   "execution_count": 27,
   "id": "5b232bc2",
   "metadata": {},
   "outputs": [
    {
     "name": "stdout",
     "output_type": "stream",
     "text": [
      "Hello world\n",
      "it will always run\n"
     ]
    }
   ],
   "source": [
    "# finally (it will always run)\n",
    "try:\n",
    "    f  = open(\"session11.txt\" , 'r')\n",
    "except FileNotFoundError:\n",
    "    print(\"file not found\")\n",
    "except Exception as e:\n",
    "    print(\"something goes wrong\")\n",
    "else:\n",
    "    print(f.read())\n",
    "finally:\n",
    "    print(\"it will always run\")\n"
   ]
  },
  {
   "cell_type": "code",
   "execution_count": 28,
   "id": "87555fff",
   "metadata": {},
   "outputs": [],
   "source": [
    "# raise exception\n",
    "# In python programming , exception are raised when errors occur at runtime\n",
    "# we can also manually raise exceptions using \"raise\" keyword\n",
    "\n",
    "# we can optionally pass values to the exception to clarify why that exception was raised"
   ]
  },
  {
   "cell_type": "code",
   "execution_count": 29,
   "id": "a747b13f",
   "metadata": {},
   "outputs": [
    {
     "ename": "NameError",
     "evalue": "trying to raise error",
     "output_type": "error",
     "traceback": [
      "\u001b[1;31m---------------------------------------------------------------------------\u001b[0m",
      "\u001b[1;31mNameError\u001b[0m                                 Traceback (most recent call last)",
      "Cell \u001b[1;32mIn[29], line 1\u001b[0m\n\u001b[1;32m----> 1\u001b[0m \u001b[38;5;28;01mraise\u001b[39;00m \u001b[38;5;167;01mNameError\u001b[39;00m(\u001b[38;5;124m\"\u001b[39m\u001b[38;5;124mtrying to raise error\u001b[39m\u001b[38;5;124m\"\u001b[39m)\n",
      "\u001b[1;31mNameError\u001b[0m: trying to raise error"
     ]
    }
   ],
   "source": [
    "raise NameError(\"trying to raise error\")"
   ]
  },
  {
   "cell_type": "code",
   "execution_count": 30,
   "id": "39e049d1",
   "metadata": {},
   "outputs": [
    {
     "ename": "FileNotFoundError",
     "evalue": "file not found",
     "output_type": "error",
     "traceback": [
      "\u001b[1;31m---------------------------------------------------------------------------\u001b[0m",
      "\u001b[1;31mFileNotFoundError\u001b[0m                         Traceback (most recent call last)",
      "Cell \u001b[1;32mIn[30], line 1\u001b[0m\n\u001b[1;32m----> 1\u001b[0m \u001b[38;5;28;01mraise\u001b[39;00m \u001b[38;5;167;01mFileNotFoundError\u001b[39;00m(\u001b[38;5;124m\"\u001b[39m\u001b[38;5;124mfile not found\u001b[39m\u001b[38;5;124m\"\u001b[39m)\n",
      "\u001b[1;31mFileNotFoundError\u001b[0m: file not found"
     ]
    }
   ],
   "source": [
    "raise FileNotFoundError(\"file not found\")"
   ]
  },
  {
   "cell_type": "code",
   "execution_count": 31,
   "id": "48aef2c4",
   "metadata": {},
   "outputs": [],
   "source": [
    "# except --> catch\n",
    "# raise --> throw"
   ]
  },
  {
   "cell_type": "code",
   "execution_count": 38,
   "id": "dfeef963",
   "metadata": {},
   "outputs": [
    {
     "name": "stdout",
     "output_type": "stream",
     "text": [
      "Not enough Balance\n"
     ]
    }
   ],
   "source": [
    "class Bank:\n",
    "\n",
    "    def __init__(self , balance):\n",
    "        self.balance = balance\n",
    "\n",
    "    def withDraw(self, amount):\n",
    "        if(amount <0):\n",
    "            raise Exception(\"Amount Can't be Negative\")\n",
    "        if(self.balance < amount):\n",
    "            raise Exception(\"Not enough Balance\")\n",
    "        self.balance = self.balance - amount\n",
    "    \n",
    "obj = Bank(10000)\n",
    "try:\n",
    "    obj.withDraw(15000)\n",
    "except Exception as e:\n",
    "    print(e)\n",
    "else:\n",
    "    print(\"remaining balance : \",obj.balance)\n"
   ]
  },
  {
   "cell_type": "code",
   "execution_count": 44,
   "id": "2c250098",
   "metadata": {},
   "outputs": [
    {
     "name": "stdout",
     "output_type": "stream",
     "text": [
      "remaining balance :  9900\n"
     ]
    }
   ],
   "source": [
    "# while creating own exception class it is must to inherit this \"Exception\" class else the raise will not work \n",
    "\n",
    "class MyException(Exception): \n",
    "    def __init__(self , message):\n",
    "        print(message)\n",
    "\n",
    "class Bank:\n",
    "\n",
    "    def __init__(self , balance):\n",
    "        self.balance = balance\n",
    "\n",
    "    def withDraw(self, amount):\n",
    "        if(amount <0):\n",
    "            raise MyException(\"Amount Can't be Negative\")\n",
    "        if(self.balance < amount):\n",
    "            raise MyException(\"Not enough Balance\")\n",
    "        self.balance = self.balance - amount\n",
    "    \n",
    "obj = Bank(10000)\n",
    "try:\n",
    "    obj.withDraw(100)\n",
    "except MyException as e:\n",
    "    pass\n",
    "else:\n",
    "    print(\"remaining balance : \",obj.balance)\n"
   ]
  },
  {
   "cell_type": "code",
   "execution_count": 39,
   "id": "7a9008e5",
   "metadata": {},
   "outputs": [],
   "source": [
    "#creating custom exceptions "
   ]
  },
  {
   "cell_type": "code",
   "execution_count": 47,
   "id": "72c174f1",
   "metadata": {},
   "outputs": [
    {
     "name": "stdout",
     "output_type": "stream",
     "text": [
      "lawde lag gaye bhai\n",
      "logout from all devices\n",
      "database connection closed\n"
     ]
    }
   ],
   "source": [
    "class SecurityError(Exception):\n",
    "    def __init__(self , message):\n",
    "        print(message)\n",
    "    def logout(self):\n",
    "        print(\"logout from all devices\")\n",
    "\n",
    "\n",
    "class Google:\n",
    "\n",
    "    def __init__(self , name , email , password , device):\n",
    "        self.name = name \n",
    "        self.email = email\n",
    "        self.password = password \n",
    "        self.device = device\n",
    "    def login(self , email , password , device):\n",
    "        if device != self.device:\n",
    "            raise SecurityError(\"lawde lag gaye bhai\")\n",
    "        if email == self.email and self.password == password:\n",
    "            print('welcome user')\n",
    "        else:\n",
    "            print('login error')\n",
    "\n",
    "obj = Google('anurag','anurag@gmail.com' , '1234' , 'android')\n",
    "try:\n",
    "    obj.login('anurag@gmail.com' ,'1234' , 'apple')\n",
    "except SecurityError as e:\n",
    "    e.logout()\n",
    "else:\n",
    "    print(obj.name)\n",
    "finally:\n",
    "    print(\"database connection closed\")\n"
   ]
  },
  {
   "cell_type": "code",
   "execution_count": null,
   "id": "b8e31a61",
   "metadata": {},
   "outputs": [],
   "source": []
  }
 ],
 "metadata": {
  "kernelspec": {
   "display_name": "Python 3",
   "language": "python",
   "name": "python3"
  },
  "language_info": {
   "codemirror_mode": {
    "name": "ipython",
    "version": 3
   },
   "file_extension": ".py",
   "mimetype": "text/x-python",
   "name": "python",
   "nbconvert_exporter": "python",
   "pygments_lexer": "ipython3",
   "version": "3.11.3"
  }
 },
 "nbformat": 4,
 "nbformat_minor": 5
}
